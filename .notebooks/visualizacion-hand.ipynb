{
 "cells": [
  {
   "cell_type": "markdown",
   "metadata": {},
   "source": [
    "# Importo librerias y df"
   ]
  },
  {
   "cell_type": "code",
   "execution_count": 808,
   "metadata": {},
   "outputs": [
    {
     "name": "stdout",
     "output_type": "stream",
     "text": [
      "Requirement already satisfied: statsmodels in c:\\users\\emita\\.conda\\envs\\data_analisis_env\\lib\\site-packages (0.14.4)\n",
      "Requirement already satisfied: numpy<3,>=1.22.3 in c:\\users\\emita\\.conda\\envs\\data_analisis_env\\lib\\site-packages (from statsmodels) (2.1.2)\n",
      "Requirement already satisfied: scipy!=1.9.2,>=1.8 in c:\\users\\emita\\.conda\\envs\\data_analisis_env\\lib\\site-packages (from statsmodels) (1.14.1)\n",
      "Requirement already satisfied: pandas!=2.1.0,>=1.4 in c:\\users\\emita\\.conda\\envs\\data_analisis_env\\lib\\site-packages (from statsmodels) (2.2.3)\n",
      "Requirement already satisfied: patsy>=0.5.6 in c:\\users\\emita\\.conda\\envs\\data_analisis_env\\lib\\site-packages (from statsmodels) (0.5.6)\n",
      "Requirement already satisfied: packaging>=21.3 in c:\\users\\emita\\.conda\\envs\\data_analisis_env\\lib\\site-packages (from statsmodels) (24.1)\n",
      "Requirement already satisfied: python-dateutil>=2.8.2 in c:\\users\\emita\\.conda\\envs\\data_analisis_env\\lib\\site-packages (from pandas!=2.1.0,>=1.4->statsmodels) (2.9.0.post0)\n",
      "Requirement already satisfied: pytz>=2020.1 in c:\\users\\emita\\.conda\\envs\\data_analisis_env\\lib\\site-packages (from pandas!=2.1.0,>=1.4->statsmodels) (2024.2)\n",
      "Requirement already satisfied: tzdata>=2022.7 in c:\\users\\emita\\.conda\\envs\\data_analisis_env\\lib\\site-packages (from pandas!=2.1.0,>=1.4->statsmodels) (2024.2)\n",
      "Requirement already satisfied: six in c:\\users\\emita\\.conda\\envs\\data_analisis_env\\lib\\site-packages (from patsy>=0.5.6->statsmodels) (1.16.0)\n"
     ]
    }
   ],
   "source": [
    "import pandas as pd \n",
    "import matplotlib.pyplot as plt\n",
    "import numpy as np\n",
    "import plotly.graph_objs as go\n",
    "import plotly.express as px\n",
    "from plotly.subplots import make_subplots\n",
    "import seaborn as sns\n",
    "!pip install statsmodels\n",
    "from PIL import Image\n",
    "import plotly.io as pio\n",
    "from matplotlib.colors import ListedColormap"
   ]
  },
  {
   "cell_type": "code",
   "execution_count": 809,
   "metadata": {},
   "outputs": [],
   "source": [
    "%matplotlib inline"
   ]
  },
  {
   "cell_type": "code",
   "execution_count": null,
   "metadata": {},
   "outputs": [],
   "source": [
    "# Becas por mes\n",
    "becas_por_mes_h = pd.read_pickle(r'C:\\Users\\emita\\Bootcamp\\EDA\\EDA_Club_RN\\PICKLES\\becas_por_mes_h.pkl')\n",
    "becas_por_mes_v = pd.read_pickle(r'C:\\Users\\emita\\Bootcamp\\EDA\\EDA_Club_RN\\PICKLES\\becas_por_mes_v.pkl')\n",
    "# Becas\n",
    "becas = pd.read_pickle(r'C:\\Users\\emita\\Bootcamp\\EDA\\EDA_Club_RN\\PICKLES\\becas.pkl')\n",
    "\n",
    "becados_hand = pd.read_pickle(r'C:\\Users\\emita\\Bootcamp\\EDA\\EDA_Club_RN\\PICKLES\\becados_hand.pkl') \n",
    "becados_voley = pd.read_pickle(r'C:\\Users\\emita\\Bootcamp\\EDA\\EDA_Club_RN\\PICKLES\\becados_voley.pkl')\n",
    "costo_total_becas = pd.read_pickle(r\"C:\\Users\\emita\\Bootcamp\\EDA\\EDA_Club_RN\\PICKLES\\costo_total_becas.pkl\")"
   ]
  },
  {
   "cell_type": "code",
   "execution_count": null,
   "metadata": {},
   "outputs": [],
   "source": [
    "# Ingresos y egresos de dinero\n",
    "# Handball\n",
    "egresos_reales = pd.read_pickle(r'C:\\Users\\emita\\Bootcamp\\EDA\\EDA_Club_RN\\PICKLES\\egresos_h.pkl')\n",
    "ingresos_reales = pd.read_pickle(r\"C:\\Users\\emita\\Bootcamp\\EDA\\EDA_Club_RN\\PICKLES\\ingresos_reales.pkl\")\n",
    "# Voley\n",
    "egresos_v = pd.read_pickle(r'C:\\Users\\emita\\Bootcamp\\EDA\\EDA_Club_RN\\PICKLES\\egresos_v.pkl')\n",
    "ingresos_voley = pd.read_pickle(r'C:\\Users\\emita\\Bootcamp\\EDA\\EDA_Club_RN\\PICKLES\\ingresos_v.pkl')"
   ]
  },
  {
   "cell_type": "code",
   "execution_count": null,
   "metadata": {},
   "outputs": [],
   "source": [
    "ingresos_egresos_h = pd.read_pickle(r'C:\\Users\\emita\\Bootcamp\\EDA\\EDA_Club_RN\\PICKLES\\ingresos_egresos_h.pkl')\n",
    "ingresos_egresos_v = pd.read_pickle(r'C:\\Users\\emita\\Bootcamp\\EDA\\EDA_Club_RN\\PICKLES\\ingresos_egresos_v.pkl')"
   ]
  },
  {
   "cell_type": "code",
   "execution_count": null,
   "metadata": {},
   "outputs": [],
   "source": [
    "# Pago de cuotas por categoria\n",
    "pagos_hand_limpio = pd.read_pickle(r'C:\\Users\\emita\\Bootcamp\\EDA\\EDA_Club_RN\\PICKLES\\pagos_hand_limpio.pkl')\n",
    "pagos_voley_limpio = pd.read_pickle(r'C:\\Users\\emita\\Bootcamp\\EDA\\EDA_Club_RN\\PICKLES\\pagos_voley_limpio.pkl')"
   ]
  },
  {
   "cell_type": "code",
   "execution_count": null,
   "metadata": {},
   "outputs": [],
   "source": [
    "# Resultados de ingresos, egresos, permanencias, totales de alumnos y porcentajes\n",
    "resultados_h = pd.read_pickle(r'C:\\Users\\emita\\Bootcamp\\EDA\\EDA_Club_RN\\PICKLES\\resultados_h.pkl')\n",
    "resultados_v = pd.read_pickle(r'C:\\Users\\emita\\Bootcamp\\EDA\\EDA_Club_RN\\PICKLES\\resultados_v.pkl')"
   ]
  },
  {
   "cell_type": "code",
   "execution_count": null,
   "metadata": {},
   "outputs": [],
   "source": [
    "# Listado de socios\n",
    "socios_2024 = pd.read_pickle(r'C:\\Users\\emita\\Bootcamp\\EDA\\EDA_Club_RN\\PICKLES\\socios_2024.pkl')"
   ]
  },
  {
   "cell_type": "code",
   "execution_count": null,
   "metadata": {},
   "outputs": [],
   "source": [
    "# DF de socios por mes\n",
    "socios_por_mes_tot = pd.read_pickle(r'C:\\Users\\emita\\Bootcamp\\EDA\\EDA_Club_RN\\PICKLES\\socios_por_mes_tot.pkl') \n",
    "\n",
    "# Divido el df socios_por_mes_tot en dos para que sea mas manejable \n",
    "socios_hand_por_mes = socios_por_mes_tot.iloc[:, :2]\n",
    "socios_vol_por_mes = socios_por_mes_tot.drop(columns='SOCIOS_HAND')"
   ]
  },
  {
   "cell_type": "markdown",
   "metadata": {},
   "source": [
    "# 1. Análisis de la Sostenibilidad Financiera"
   ]
  },
  {
   "cell_type": "markdown",
   "metadata": {},
   "source": [
    "#### Como primera medida comenzamos con un pantallazo de ingresos y egresos mensuales del año. \n",
    "Aqui vemos como los ingresos en casi todos los meses son mayores, aunque no por mucho. "
   ]
  },
  {
   "cell_type": "code",
   "execution_count": 817,
   "metadata": {},
   "outputs": [
    {
     "data": {
      "application/vnd.plotly.v1+json": {
       "config": {
        "plotlyServerURL": "https://plot.ly"
       },
       "data": [
        {
         "marker": {
          "color": "#900C3F"
         },
         "name": "Ingresos",
         "type": "bar",
         "x": [
          "FEB",
          "MAR",
          "ABR",
          "MAY",
          "JUN",
          "JUL",
          "AGO",
          "SEPT",
          "OCT"
         ],
         "y": [
          583660,
          749510,
          824019.98,
          970029,
          1113898,
          1087640,
          1178750,
          1393384.99,
          1442885.02
         ]
        },
        {
         "marker": {
          "color": "#FF5733"
         },
         "name": "Egresos",
         "type": "bar",
         "x": [
          "FEB",
          "MAR",
          "ABR",
          "MAY",
          "JUN",
          "JUL",
          "AGO",
          "SEPT",
          "OCT"
         ],
         "y": [
          595937,
          654554,
          671780,
          921975.48,
          1168196,
          1025506.99,
          1147687,
          1100452,
          1153801.64
         ]
        }
       ],
       "layout": {
        "barmode": "group",
        "hovermode": "x unified",
        "margin": {
         "b": 100,
         "l": 50,
         "r": 50,
         "t": 50
        },
        "paper_bgcolor": "#f4f4f4",
        "plot_bgcolor": "white",
        "template": {
         "data": {
          "bar": [
           {
            "error_x": {
             "color": "#2a3f5f"
            },
            "error_y": {
             "color": "#2a3f5f"
            },
            "marker": {
             "line": {
              "color": "#E5ECF6",
              "width": 0.5
             },
             "pattern": {
              "fillmode": "overlay",
              "size": 10,
              "solidity": 0.2
             }
            },
            "type": "bar"
           }
          ],
          "barpolar": [
           {
            "marker": {
             "line": {
              "color": "#E5ECF6",
              "width": 0.5
             },
             "pattern": {
              "fillmode": "overlay",
              "size": 10,
              "solidity": 0.2
             }
            },
            "type": "barpolar"
           }
          ],
          "carpet": [
           {
            "aaxis": {
             "endlinecolor": "#2a3f5f",
             "gridcolor": "white",
             "linecolor": "white",
             "minorgridcolor": "white",
             "startlinecolor": "#2a3f5f"
            },
            "baxis": {
             "endlinecolor": "#2a3f5f",
             "gridcolor": "white",
             "linecolor": "white",
             "minorgridcolor": "white",
             "startlinecolor": "#2a3f5f"
            },
            "type": "carpet"
           }
          ],
          "choropleth": [
           {
            "colorbar": {
             "outlinewidth": 0,
             "ticks": ""
            },
            "type": "choropleth"
           }
          ],
          "contour": [
           {
            "colorbar": {
             "outlinewidth": 0,
             "ticks": ""
            },
            "colorscale": [
             [
              0,
              "#0d0887"
             ],
             [
              0.1111111111111111,
              "#46039f"
             ],
             [
              0.2222222222222222,
              "#7201a8"
             ],
             [
              0.3333333333333333,
              "#9c179e"
             ],
             [
              0.4444444444444444,
              "#bd3786"
             ],
             [
              0.5555555555555556,
              "#d8576b"
             ],
             [
              0.6666666666666666,
              "#ed7953"
             ],
             [
              0.7777777777777778,
              "#fb9f3a"
             ],
             [
              0.8888888888888888,
              "#fdca26"
             ],
             [
              1,
              "#f0f921"
             ]
            ],
            "type": "contour"
           }
          ],
          "contourcarpet": [
           {
            "colorbar": {
             "outlinewidth": 0,
             "ticks": ""
            },
            "type": "contourcarpet"
           }
          ],
          "heatmap": [
           {
            "colorbar": {
             "outlinewidth": 0,
             "ticks": ""
            },
            "colorscale": [
             [
              0,
              "#0d0887"
             ],
             [
              0.1111111111111111,
              "#46039f"
             ],
             [
              0.2222222222222222,
              "#7201a8"
             ],
             [
              0.3333333333333333,
              "#9c179e"
             ],
             [
              0.4444444444444444,
              "#bd3786"
             ],
             [
              0.5555555555555556,
              "#d8576b"
             ],
             [
              0.6666666666666666,
              "#ed7953"
             ],
             [
              0.7777777777777778,
              "#fb9f3a"
             ],
             [
              0.8888888888888888,
              "#fdca26"
             ],
             [
              1,
              "#f0f921"
             ]
            ],
            "type": "heatmap"
           }
          ],
          "heatmapgl": [
           {
            "colorbar": {
             "outlinewidth": 0,
             "ticks": ""
            },
            "colorscale": [
             [
              0,
              "#0d0887"
             ],
             [
              0.1111111111111111,
              "#46039f"
             ],
             [
              0.2222222222222222,
              "#7201a8"
             ],
             [
              0.3333333333333333,
              "#9c179e"
             ],
             [
              0.4444444444444444,
              "#bd3786"
             ],
             [
              0.5555555555555556,
              "#d8576b"
             ],
             [
              0.6666666666666666,
              "#ed7953"
             ],
             [
              0.7777777777777778,
              "#fb9f3a"
             ],
             [
              0.8888888888888888,
              "#fdca26"
             ],
             [
              1,
              "#f0f921"
             ]
            ],
            "type": "heatmapgl"
           }
          ],
          "histogram": [
           {
            "marker": {
             "pattern": {
              "fillmode": "overlay",
              "size": 10,
              "solidity": 0.2
             }
            },
            "type": "histogram"
           }
          ],
          "histogram2d": [
           {
            "colorbar": {
             "outlinewidth": 0,
             "ticks": ""
            },
            "colorscale": [
             [
              0,
              "#0d0887"
             ],
             [
              0.1111111111111111,
              "#46039f"
             ],
             [
              0.2222222222222222,
              "#7201a8"
             ],
             [
              0.3333333333333333,
              "#9c179e"
             ],
             [
              0.4444444444444444,
              "#bd3786"
             ],
             [
              0.5555555555555556,
              "#d8576b"
             ],
             [
              0.6666666666666666,
              "#ed7953"
             ],
             [
              0.7777777777777778,
              "#fb9f3a"
             ],
             [
              0.8888888888888888,
              "#fdca26"
             ],
             [
              1,
              "#f0f921"
             ]
            ],
            "type": "histogram2d"
           }
          ],
          "histogram2dcontour": [
           {
            "colorbar": {
             "outlinewidth": 0,
             "ticks": ""
            },
            "colorscale": [
             [
              0,
              "#0d0887"
             ],
             [
              0.1111111111111111,
              "#46039f"
             ],
             [
              0.2222222222222222,
              "#7201a8"
             ],
             [
              0.3333333333333333,
              "#9c179e"
             ],
             [
              0.4444444444444444,
              "#bd3786"
             ],
             [
              0.5555555555555556,
              "#d8576b"
             ],
             [
              0.6666666666666666,
              "#ed7953"
             ],
             [
              0.7777777777777778,
              "#fb9f3a"
             ],
             [
              0.8888888888888888,
              "#fdca26"
             ],
             [
              1,
              "#f0f921"
             ]
            ],
            "type": "histogram2dcontour"
           }
          ],
          "mesh3d": [
           {
            "colorbar": {
             "outlinewidth": 0,
             "ticks": ""
            },
            "type": "mesh3d"
           }
          ],
          "parcoords": [
           {
            "line": {
             "colorbar": {
              "outlinewidth": 0,
              "ticks": ""
             }
            },
            "type": "parcoords"
           }
          ],
          "pie": [
           {
            "automargin": true,
            "type": "pie"
           }
          ],
          "scatter": [
           {
            "fillpattern": {
             "fillmode": "overlay",
             "size": 10,
             "solidity": 0.2
            },
            "type": "scatter"
           }
          ],
          "scatter3d": [
           {
            "line": {
             "colorbar": {
              "outlinewidth": 0,
              "ticks": ""
             }
            },
            "marker": {
             "colorbar": {
              "outlinewidth": 0,
              "ticks": ""
             }
            },
            "type": "scatter3d"
           }
          ],
          "scattercarpet": [
           {
            "marker": {
             "colorbar": {
              "outlinewidth": 0,
              "ticks": ""
             }
            },
            "type": "scattercarpet"
           }
          ],
          "scattergeo": [
           {
            "marker": {
             "colorbar": {
              "outlinewidth": 0,
              "ticks": ""
             }
            },
            "type": "scattergeo"
           }
          ],
          "scattergl": [
           {
            "marker": {
             "colorbar": {
              "outlinewidth": 0,
              "ticks": ""
             }
            },
            "type": "scattergl"
           }
          ],
          "scattermapbox": [
           {
            "marker": {
             "colorbar": {
              "outlinewidth": 0,
              "ticks": ""
             }
            },
            "type": "scattermapbox"
           }
          ],
          "scatterpolar": [
           {
            "marker": {
             "colorbar": {
              "outlinewidth": 0,
              "ticks": ""
             }
            },
            "type": "scatterpolar"
           }
          ],
          "scatterpolargl": [
           {
            "marker": {
             "colorbar": {
              "outlinewidth": 0,
              "ticks": ""
             }
            },
            "type": "scatterpolargl"
           }
          ],
          "scatterternary": [
           {
            "marker": {
             "colorbar": {
              "outlinewidth": 0,
              "ticks": ""
             }
            },
            "type": "scatterternary"
           }
          ],
          "surface": [
           {
            "colorbar": {
             "outlinewidth": 0,
             "ticks": ""
            },
            "colorscale": [
             [
              0,
              "#0d0887"
             ],
             [
              0.1111111111111111,
              "#46039f"
             ],
             [
              0.2222222222222222,
              "#7201a8"
             ],
             [
              0.3333333333333333,
              "#9c179e"
             ],
             [
              0.4444444444444444,
              "#bd3786"
             ],
             [
              0.5555555555555556,
              "#d8576b"
             ],
             [
              0.6666666666666666,
              "#ed7953"
             ],
             [
              0.7777777777777778,
              "#fb9f3a"
             ],
             [
              0.8888888888888888,
              "#fdca26"
             ],
             [
              1,
              "#f0f921"
             ]
            ],
            "type": "surface"
           }
          ],
          "table": [
           {
            "cells": {
             "fill": {
              "color": "#EBF0F8"
             },
             "line": {
              "color": "white"
             }
            },
            "header": {
             "fill": {
              "color": "#C8D4E3"
             },
             "line": {
              "color": "white"
             }
            },
            "type": "table"
           }
          ]
         },
         "layout": {
          "annotationdefaults": {
           "arrowcolor": "#2a3f5f",
           "arrowhead": 0,
           "arrowwidth": 1
          },
          "autotypenumbers": "strict",
          "coloraxis": {
           "colorbar": {
            "outlinewidth": 0,
            "ticks": ""
           }
          },
          "colorscale": {
           "diverging": [
            [
             0,
             "#8e0152"
            ],
            [
             0.1,
             "#c51b7d"
            ],
            [
             0.2,
             "#de77ae"
            ],
            [
             0.3,
             "#f1b6da"
            ],
            [
             0.4,
             "#fde0ef"
            ],
            [
             0.5,
             "#f7f7f7"
            ],
            [
             0.6,
             "#e6f5d0"
            ],
            [
             0.7,
             "#b8e186"
            ],
            [
             0.8,
             "#7fbc41"
            ],
            [
             0.9,
             "#4d9221"
            ],
            [
             1,
             "#276419"
            ]
           ],
           "sequential": [
            [
             0,
             "#0d0887"
            ],
            [
             0.1111111111111111,
             "#46039f"
            ],
            [
             0.2222222222222222,
             "#7201a8"
            ],
            [
             0.3333333333333333,
             "#9c179e"
            ],
            [
             0.4444444444444444,
             "#bd3786"
            ],
            [
             0.5555555555555556,
             "#d8576b"
            ],
            [
             0.6666666666666666,
             "#ed7953"
            ],
            [
             0.7777777777777778,
             "#fb9f3a"
            ],
            [
             0.8888888888888888,
             "#fdca26"
            ],
            [
             1,
             "#f0f921"
            ]
           ],
           "sequentialminus": [
            [
             0,
             "#0d0887"
            ],
            [
             0.1111111111111111,
             "#46039f"
            ],
            [
             0.2222222222222222,
             "#7201a8"
            ],
            [
             0.3333333333333333,
             "#9c179e"
            ],
            [
             0.4444444444444444,
             "#bd3786"
            ],
            [
             0.5555555555555556,
             "#d8576b"
            ],
            [
             0.6666666666666666,
             "#ed7953"
            ],
            [
             0.7777777777777778,
             "#fb9f3a"
            ],
            [
             0.8888888888888888,
             "#fdca26"
            ],
            [
             1,
             "#f0f921"
            ]
           ]
          },
          "colorway": [
           "#636efa",
           "#EF553B",
           "#00cc96",
           "#ab63fa",
           "#FFA15A",
           "#19d3f3",
           "#FF6692",
           "#B6E880",
           "#FF97FF",
           "#FECB52"
          ],
          "font": {
           "color": "#2a3f5f"
          },
          "geo": {
           "bgcolor": "white",
           "lakecolor": "white",
           "landcolor": "#E5ECF6",
           "showlakes": true,
           "showland": true,
           "subunitcolor": "white"
          },
          "hoverlabel": {
           "align": "left"
          },
          "hovermode": "closest",
          "mapbox": {
           "style": "light"
          },
          "paper_bgcolor": "white",
          "plot_bgcolor": "#E5ECF6",
          "polar": {
           "angularaxis": {
            "gridcolor": "white",
            "linecolor": "white",
            "ticks": ""
           },
           "bgcolor": "#E5ECF6",
           "radialaxis": {
            "gridcolor": "white",
            "linecolor": "white",
            "ticks": ""
           }
          },
          "scene": {
           "xaxis": {
            "backgroundcolor": "#E5ECF6",
            "gridcolor": "white",
            "gridwidth": 2,
            "linecolor": "white",
            "showbackground": true,
            "ticks": "",
            "zerolinecolor": "white"
           },
           "yaxis": {
            "backgroundcolor": "#E5ECF6",
            "gridcolor": "white",
            "gridwidth": 2,
            "linecolor": "white",
            "showbackground": true,
            "ticks": "",
            "zerolinecolor": "white"
           },
           "zaxis": {
            "backgroundcolor": "#E5ECF6",
            "gridcolor": "white",
            "gridwidth": 2,
            "linecolor": "white",
            "showbackground": true,
            "ticks": "",
            "zerolinecolor": "white"
           }
          },
          "shapedefaults": {
           "line": {
            "color": "#2a3f5f"
           }
          },
          "ternary": {
           "aaxis": {
            "gridcolor": "white",
            "linecolor": "white",
            "ticks": ""
           },
           "baxis": {
            "gridcolor": "white",
            "linecolor": "white",
            "ticks": ""
           },
           "bgcolor": "#E5ECF6",
           "caxis": {
            "gridcolor": "white",
            "linecolor": "white",
            "ticks": ""
           }
          },
          "title": {
           "x": 0.05
          },
          "xaxis": {
           "automargin": true,
           "gridcolor": "white",
           "linecolor": "white",
           "ticks": "",
           "title": {
            "standoff": 15
           },
           "zerolinecolor": "white",
           "zerolinewidth": 2
          },
          "yaxis": {
           "automargin": true,
           "gridcolor": "white",
           "linecolor": "white",
           "ticks": "",
           "title": {
            "standoff": 15
           },
           "zerolinecolor": "white",
           "zerolinewidth": 2
          }
         }
        },
        "title": {
         "text": "Ingresos y Egresos Mensuales 2024"
        },
        "xaxis": {
         "tickangle": 45,
         "tickmode": "array",
         "title": {
          "text": "Fecha"
         }
        },
        "yaxis": {
         "gridcolor": "lightgrey",
         "showgrid": true,
         "tickprefix": "$",
         "title": {
          "text": "Monto Total"
         }
        }
       }
      }
     },
     "metadata": {},
     "output_type": "display_data"
    }
   ],
   "source": [
    "# Crear el DataFrame 'totales_por_mes' con las columnas correspondientes\n",
    "x = ingresos_egresos_h\n",
    "\n",
    "# Definir las trazas (traces) para los ingresos y egresos\n",
    "trace1 = {\n",
    "    'x': x['FECHA'],  # Usamos la columna 'FECHA' para el eje X\n",
    "    'y': ingresos_egresos_h['INGRESOS'],\n",
    "    'name': 'Ingresos',\n",
    "    'type': 'bar',\n",
    "    'marker': {'color': '#900C3F'}  # Color para los ingresos\n",
    "}\n",
    "\n",
    "trace2 = {\n",
    "    'x': x['FECHA'],  # Usamos la columna 'FECHA' para el eje X\n",
    "    'y': ingresos_egresos_h['EGRESOS'],\n",
    "    'name': 'Egresos',\n",
    "    'type': 'bar',\n",
    "    'marker': {'color': '#FF5733'}  # Color para los egresos\n",
    "}\n",
    "\n",
    "# Lista de trazas\n",
    "data = [trace1, trace2]\n",
    "\n",
    "# Layout del gráfico\n",
    "layout = {\n",
    "    'xaxis': {\n",
    "        'title': 'Fecha',  # Título para el eje X\n",
    "        'tickangle': 45,  # Rotar las etiquetas del eje X para una mejor visualización\n",
    "        'tickmode': 'array',  # Asegura que las fechas se muestren de manera ordenada\n",
    "    },\n",
    "    'yaxis': {\n",
    "        'title': 'Monto Total',  # Título para el eje Y\n",
    "        'tickprefix': '$',  # Añadir el símbolo de moneda\n",
    "        'showgrid': True,  # Mostrar las líneas de la rejilla en el fondo\n",
    "        'gridcolor': 'lightgrey'  # Color de las líneas de la rejilla\n",
    "    },\n",
    "    'barmode': 'group',  # Agrupar las barras para cada mes\n",
    "    'title': 'Ingresos y Egresos Mensuales 2024',  # Título principal del gráfico\n",
    "    'plot_bgcolor': 'white',  # Color de fondo del gráfico\n",
    "    'paper_bgcolor': '#f4f4f4',  # Color de fondo exterior del gráfico\n",
    "    'margin': {'l': 50, 'r': 50, 't': 50, 'b': 100},  # Ajuste de márgenes\n",
    "    'hovermode': 'x unified',  # Mostrar la información en el hover de manera unificada\n",
    "}\n",
    "\n",
    "# Crear la figura\n",
    "fig = go.Figure(data=data, layout=layout)\n",
    "\n",
    "# Mostrar el gráfico\n",
    "fig.show()\n",
    "# pio.write_html(fig, 'Ingresos_y_Egresos.html', auto_open=True)"
   ]
  },
  {
   "cell_type": "markdown",
   "metadata": {},
   "source": [
    "- En el mes de febrero hubieron ligeramente mas egresos que ingresos. Al igual que en Junio. \n",
    "- En la grafica siguiente, ademas de los ingresos y agresos he agregado el saldo: el resultante de egresos - ingresos acumulado mes a mes, y vemos que solo estamos en negativo en el mes de Febrero, el resto de los meses hemos superado ese umbral negativo, que ayuda a salvar los meses en que los egresos puedan superar los ingresos."
   ]
  },
  {
   "cell_type": "markdown",
   "metadata": {},
   "source": [
    "- A diferencia de lo que sucede con handball, en Voley los inresos superan los egresos cada mes. A veces incluso con ampliasuperioridad, como por ejemplo el mes de julio. \n",
    "- En esta grafica, ademas de los ingresos y agresos he agregado el saldo: el resultante de egresos - ingresos acumulado mes a mes, y vemos que solo estamos en negativo en el mes de Febrero, el resto de los meses hemos superado ese umbral negativo, que ayuda a salvar los meses en que los egresos puedan superar los ingresos."
   ]
  },
  {
   "cell_type": "markdown",
   "metadata": {},
   "source": [
    "Analisis de los ingresos, egresos y saldo con valores reales"
   ]
  },
  {
   "cell_type": "code",
   "execution_count": 818,
   "metadata": {},
   "outputs": [],
   "source": [
    "ingresos_egresos_h\n",
    "# Crear la columna 'Saldo Acumulado' sumando los valores mes a mes en la columna 'SALDO'\n",
    "ingresos_egresos_h['Acumulado'] = ingresos_egresos_h['SALDO'].cumsum()"
   ]
  },
  {
   "cell_type": "code",
   "execution_count": 819,
   "metadata": {},
   "outputs": [
    {
     "data": {
      "application/vnd.plotly.v1+json": {
       "config": {
        "plotlyServerURL": "https://plot.ly"
       },
       "data": [
        {
         "line": {
          "color": "#900C3F",
          "width": 2
         },
         "marker": {
          "color": "#900C3F",
          "size": 8,
          "symbol": "circle"
         },
         "mode": "lines+markers",
         "name": "Ingresos",
         "type": "scatter",
         "x": [
          "FEB",
          "MAR",
          "ABR",
          "MAY",
          "JUN",
          "JUL",
          "AGO",
          "SEPT",
          "OCT"
         ],
         "y": [
          583660,
          749510,
          824019.98,
          970029,
          1113898,
          1087640,
          1178750,
          1393384.99,
          1442885.02
         ]
        },
        {
         "line": {
          "color": "#FF5733",
          "width": 2
         },
         "marker": {
          "color": "#FF5733",
          "size": 8,
          "symbol": "circle"
         },
         "mode": "lines+markers",
         "name": "Egresos",
         "type": "scatter",
         "x": [
          "FEB",
          "MAR",
          "ABR",
          "MAY",
          "JUN",
          "JUL",
          "AGO",
          "SEPT",
          "OCT"
         ],
         "y": [
          595937,
          654554,
          671780,
          921975.48,
          1168196,
          1025506.99,
          1147687,
          1100452,
          1153801.64
         ]
        },
        {
         "line": {
          "color": "#FFC300",
          "width": 2
         },
         "marker": {
          "color": "#FFC300",
          "size": 8,
          "symbol": "circle"
         },
         "mode": "lines+markers",
         "name": "Saldo",
         "type": "scatter",
         "x": [
          "FEB",
          "MAR",
          "ABR",
          "MAY",
          "JUN",
          "JUL",
          "AGO",
          "SEPT",
          "OCT"
         ],
         "y": [
          -12277,
          82679,
          234918.97999999998,
          282972.5,
          228674.5,
          290807.51,
          321870.51,
          614803.5,
          903886.8800000001
         ]
        }
       ],
       "layout": {
        "hovermode": "x unified",
        "legend": {
         "orientation": "h",
         "title": {
          "text": "Categoría"
         },
         "x": 0.5,
         "xanchor": "center",
         "y": 1.1
        },
        "plot_bgcolor": "white",
        "shapes": [
         {
          "line": {
           "color": "grey",
           "dash": "dash",
           "width": 0.5
          },
          "type": "line",
          "x0": "FEB",
          "x1": "OCT",
          "y0": 0,
          "y1": 0
         }
        ],
        "template": {
         "data": {
          "bar": [
           {
            "error_x": {
             "color": "#2a3f5f"
            },
            "error_y": {
             "color": "#2a3f5f"
            },
            "marker": {
             "line": {
              "color": "#E5ECF6",
              "width": 0.5
             },
             "pattern": {
              "fillmode": "overlay",
              "size": 10,
              "solidity": 0.2
             }
            },
            "type": "bar"
           }
          ],
          "barpolar": [
           {
            "marker": {
             "line": {
              "color": "#E5ECF6",
              "width": 0.5
             },
             "pattern": {
              "fillmode": "overlay",
              "size": 10,
              "solidity": 0.2
             }
            },
            "type": "barpolar"
           }
          ],
          "carpet": [
           {
            "aaxis": {
             "endlinecolor": "#2a3f5f",
             "gridcolor": "white",
             "linecolor": "white",
             "minorgridcolor": "white",
             "startlinecolor": "#2a3f5f"
            },
            "baxis": {
             "endlinecolor": "#2a3f5f",
             "gridcolor": "white",
             "linecolor": "white",
             "minorgridcolor": "white",
             "startlinecolor": "#2a3f5f"
            },
            "type": "carpet"
           }
          ],
          "choropleth": [
           {
            "colorbar": {
             "outlinewidth": 0,
             "ticks": ""
            },
            "type": "choropleth"
           }
          ],
          "contour": [
           {
            "colorbar": {
             "outlinewidth": 0,
             "ticks": ""
            },
            "colorscale": [
             [
              0,
              "#0d0887"
             ],
             [
              0.1111111111111111,
              "#46039f"
             ],
             [
              0.2222222222222222,
              "#7201a8"
             ],
             [
              0.3333333333333333,
              "#9c179e"
             ],
             [
              0.4444444444444444,
              "#bd3786"
             ],
             [
              0.5555555555555556,
              "#d8576b"
             ],
             [
              0.6666666666666666,
              "#ed7953"
             ],
             [
              0.7777777777777778,
              "#fb9f3a"
             ],
             [
              0.8888888888888888,
              "#fdca26"
             ],
             [
              1,
              "#f0f921"
             ]
            ],
            "type": "contour"
           }
          ],
          "contourcarpet": [
           {
            "colorbar": {
             "outlinewidth": 0,
             "ticks": ""
            },
            "type": "contourcarpet"
           }
          ],
          "heatmap": [
           {
            "colorbar": {
             "outlinewidth": 0,
             "ticks": ""
            },
            "colorscale": [
             [
              0,
              "#0d0887"
             ],
             [
              0.1111111111111111,
              "#46039f"
             ],
             [
              0.2222222222222222,
              "#7201a8"
             ],
             [
              0.3333333333333333,
              "#9c179e"
             ],
             [
              0.4444444444444444,
              "#bd3786"
             ],
             [
              0.5555555555555556,
              "#d8576b"
             ],
             [
              0.6666666666666666,
              "#ed7953"
             ],
             [
              0.7777777777777778,
              "#fb9f3a"
             ],
             [
              0.8888888888888888,
              "#fdca26"
             ],
             [
              1,
              "#f0f921"
             ]
            ],
            "type": "heatmap"
           }
          ],
          "heatmapgl": [
           {
            "colorbar": {
             "outlinewidth": 0,
             "ticks": ""
            },
            "colorscale": [
             [
              0,
              "#0d0887"
             ],
             [
              0.1111111111111111,
              "#46039f"
             ],
             [
              0.2222222222222222,
              "#7201a8"
             ],
             [
              0.3333333333333333,
              "#9c179e"
             ],
             [
              0.4444444444444444,
              "#bd3786"
             ],
             [
              0.5555555555555556,
              "#d8576b"
             ],
             [
              0.6666666666666666,
              "#ed7953"
             ],
             [
              0.7777777777777778,
              "#fb9f3a"
             ],
             [
              0.8888888888888888,
              "#fdca26"
             ],
             [
              1,
              "#f0f921"
             ]
            ],
            "type": "heatmapgl"
           }
          ],
          "histogram": [
           {
            "marker": {
             "pattern": {
              "fillmode": "overlay",
              "size": 10,
              "solidity": 0.2
             }
            },
            "type": "histogram"
           }
          ],
          "histogram2d": [
           {
            "colorbar": {
             "outlinewidth": 0,
             "ticks": ""
            },
            "colorscale": [
             [
              0,
              "#0d0887"
             ],
             [
              0.1111111111111111,
              "#46039f"
             ],
             [
              0.2222222222222222,
              "#7201a8"
             ],
             [
              0.3333333333333333,
              "#9c179e"
             ],
             [
              0.4444444444444444,
              "#bd3786"
             ],
             [
              0.5555555555555556,
              "#d8576b"
             ],
             [
              0.6666666666666666,
              "#ed7953"
             ],
             [
              0.7777777777777778,
              "#fb9f3a"
             ],
             [
              0.8888888888888888,
              "#fdca26"
             ],
             [
              1,
              "#f0f921"
             ]
            ],
            "type": "histogram2d"
           }
          ],
          "histogram2dcontour": [
           {
            "colorbar": {
             "outlinewidth": 0,
             "ticks": ""
            },
            "colorscale": [
             [
              0,
              "#0d0887"
             ],
             [
              0.1111111111111111,
              "#46039f"
             ],
             [
              0.2222222222222222,
              "#7201a8"
             ],
             [
              0.3333333333333333,
              "#9c179e"
             ],
             [
              0.4444444444444444,
              "#bd3786"
             ],
             [
              0.5555555555555556,
              "#d8576b"
             ],
             [
              0.6666666666666666,
              "#ed7953"
             ],
             [
              0.7777777777777778,
              "#fb9f3a"
             ],
             [
              0.8888888888888888,
              "#fdca26"
             ],
             [
              1,
              "#f0f921"
             ]
            ],
            "type": "histogram2dcontour"
           }
          ],
          "mesh3d": [
           {
            "colorbar": {
             "outlinewidth": 0,
             "ticks": ""
            },
            "type": "mesh3d"
           }
          ],
          "parcoords": [
           {
            "line": {
             "colorbar": {
              "outlinewidth": 0,
              "ticks": ""
             }
            },
            "type": "parcoords"
           }
          ],
          "pie": [
           {
            "automargin": true,
            "type": "pie"
           }
          ],
          "scatter": [
           {
            "fillpattern": {
             "fillmode": "overlay",
             "size": 10,
             "solidity": 0.2
            },
            "type": "scatter"
           }
          ],
          "scatter3d": [
           {
            "line": {
             "colorbar": {
              "outlinewidth": 0,
              "ticks": ""
             }
            },
            "marker": {
             "colorbar": {
              "outlinewidth": 0,
              "ticks": ""
             }
            },
            "type": "scatter3d"
           }
          ],
          "scattercarpet": [
           {
            "marker": {
             "colorbar": {
              "outlinewidth": 0,
              "ticks": ""
             }
            },
            "type": "scattercarpet"
           }
          ],
          "scattergeo": [
           {
            "marker": {
             "colorbar": {
              "outlinewidth": 0,
              "ticks": ""
             }
            },
            "type": "scattergeo"
           }
          ],
          "scattergl": [
           {
            "marker": {
             "colorbar": {
              "outlinewidth": 0,
              "ticks": ""
             }
            },
            "type": "scattergl"
           }
          ],
          "scattermapbox": [
           {
            "marker": {
             "colorbar": {
              "outlinewidth": 0,
              "ticks": ""
             }
            },
            "type": "scattermapbox"
           }
          ],
          "scatterpolar": [
           {
            "marker": {
             "colorbar": {
              "outlinewidth": 0,
              "ticks": ""
             }
            },
            "type": "scatterpolar"
           }
          ],
          "scatterpolargl": [
           {
            "marker": {
             "colorbar": {
              "outlinewidth": 0,
              "ticks": ""
             }
            },
            "type": "scatterpolargl"
           }
          ],
          "scatterternary": [
           {
            "marker": {
             "colorbar": {
              "outlinewidth": 0,
              "ticks": ""
             }
            },
            "type": "scatterternary"
           }
          ],
          "surface": [
           {
            "colorbar": {
             "outlinewidth": 0,
             "ticks": ""
            },
            "colorscale": [
             [
              0,
              "#0d0887"
             ],
             [
              0.1111111111111111,
              "#46039f"
             ],
             [
              0.2222222222222222,
              "#7201a8"
             ],
             [
              0.3333333333333333,
              "#9c179e"
             ],
             [
              0.4444444444444444,
              "#bd3786"
             ],
             [
              0.5555555555555556,
              "#d8576b"
             ],
             [
              0.6666666666666666,
              "#ed7953"
             ],
             [
              0.7777777777777778,
              "#fb9f3a"
             ],
             [
              0.8888888888888888,
              "#fdca26"
             ],
             [
              1,
              "#f0f921"
             ]
            ],
            "type": "surface"
           }
          ],
          "table": [
           {
            "cells": {
             "fill": {
              "color": "#EBF0F8"
             },
             "line": {
              "color": "white"
             }
            },
            "header": {
             "fill": {
              "color": "#C8D4E3"
             },
             "line": {
              "color": "white"
             }
            },
            "type": "table"
           }
          ]
         },
         "layout": {
          "annotationdefaults": {
           "arrowcolor": "#2a3f5f",
           "arrowhead": 0,
           "arrowwidth": 1
          },
          "autotypenumbers": "strict",
          "coloraxis": {
           "colorbar": {
            "outlinewidth": 0,
            "ticks": ""
           }
          },
          "colorscale": {
           "diverging": [
            [
             0,
             "#8e0152"
            ],
            [
             0.1,
             "#c51b7d"
            ],
            [
             0.2,
             "#de77ae"
            ],
            [
             0.3,
             "#f1b6da"
            ],
            [
             0.4,
             "#fde0ef"
            ],
            [
             0.5,
             "#f7f7f7"
            ],
            [
             0.6,
             "#e6f5d0"
            ],
            [
             0.7,
             "#b8e186"
            ],
            [
             0.8,
             "#7fbc41"
            ],
            [
             0.9,
             "#4d9221"
            ],
            [
             1,
             "#276419"
            ]
           ],
           "sequential": [
            [
             0,
             "#0d0887"
            ],
            [
             0.1111111111111111,
             "#46039f"
            ],
            [
             0.2222222222222222,
             "#7201a8"
            ],
            [
             0.3333333333333333,
             "#9c179e"
            ],
            [
             0.4444444444444444,
             "#bd3786"
            ],
            [
             0.5555555555555556,
             "#d8576b"
            ],
            [
             0.6666666666666666,
             "#ed7953"
            ],
            [
             0.7777777777777778,
             "#fb9f3a"
            ],
            [
             0.8888888888888888,
             "#fdca26"
            ],
            [
             1,
             "#f0f921"
            ]
           ],
           "sequentialminus": [
            [
             0,
             "#0d0887"
            ],
            [
             0.1111111111111111,
             "#46039f"
            ],
            [
             0.2222222222222222,
             "#7201a8"
            ],
            [
             0.3333333333333333,
             "#9c179e"
            ],
            [
             0.4444444444444444,
             "#bd3786"
            ],
            [
             0.5555555555555556,
             "#d8576b"
            ],
            [
             0.6666666666666666,
             "#ed7953"
            ],
            [
             0.7777777777777778,
             "#fb9f3a"
            ],
            [
             0.8888888888888888,
             "#fdca26"
            ],
            [
             1,
             "#f0f921"
            ]
           ]
          },
          "colorway": [
           "#636efa",
           "#EF553B",
           "#00cc96",
           "#ab63fa",
           "#FFA15A",
           "#19d3f3",
           "#FF6692",
           "#B6E880",
           "#FF97FF",
           "#FECB52"
          ],
          "font": {
           "color": "#2a3f5f"
          },
          "geo": {
           "bgcolor": "white",
           "lakecolor": "white",
           "landcolor": "#E5ECF6",
           "showlakes": true,
           "showland": true,
           "subunitcolor": "white"
          },
          "hoverlabel": {
           "align": "left"
          },
          "hovermode": "closest",
          "mapbox": {
           "style": "light"
          },
          "paper_bgcolor": "white",
          "plot_bgcolor": "#E5ECF6",
          "polar": {
           "angularaxis": {
            "gridcolor": "white",
            "linecolor": "white",
            "ticks": ""
           },
           "bgcolor": "#E5ECF6",
           "radialaxis": {
            "gridcolor": "white",
            "linecolor": "white",
            "ticks": ""
           }
          },
          "scene": {
           "xaxis": {
            "backgroundcolor": "#E5ECF6",
            "gridcolor": "white",
            "gridwidth": 2,
            "linecolor": "white",
            "showbackground": true,
            "ticks": "",
            "zerolinecolor": "white"
           },
           "yaxis": {
            "backgroundcolor": "#E5ECF6",
            "gridcolor": "white",
            "gridwidth": 2,
            "linecolor": "white",
            "showbackground": true,
            "ticks": "",
            "zerolinecolor": "white"
           },
           "zaxis": {
            "backgroundcolor": "#E5ECF6",
            "gridcolor": "white",
            "gridwidth": 2,
            "linecolor": "white",
            "showbackground": true,
            "ticks": "",
            "zerolinecolor": "white"
           }
          },
          "shapedefaults": {
           "line": {
            "color": "#2a3f5f"
           }
          },
          "ternary": {
           "aaxis": {
            "gridcolor": "white",
            "linecolor": "white",
            "ticks": ""
           },
           "baxis": {
            "gridcolor": "white",
            "linecolor": "white",
            "ticks": ""
           },
           "bgcolor": "#E5ECF6",
           "caxis": {
            "gridcolor": "white",
            "linecolor": "white",
            "ticks": ""
           }
          },
          "title": {
           "x": 0.05
          },
          "xaxis": {
           "automargin": true,
           "gridcolor": "white",
           "linecolor": "white",
           "ticks": "",
           "title": {
            "standoff": 15
           },
           "zerolinecolor": "white",
           "zerolinewidth": 2
          },
          "yaxis": {
           "automargin": true,
           "gridcolor": "white",
           "linecolor": "white",
           "ticks": "",
           "title": {
            "standoff": 15
           },
           "zerolinecolor": "white",
           "zerolinewidth": 2
          }
         }
        },
        "title": {
         "text": "Balance Anual: Ingresos, Egresos y Saldo"
        },
        "xaxis": {
         "gridcolor": "lightgrey",
         "showgrid": true,
         "tickformat": "%b %Y",
         "title": {
          "text": "Fecha"
         }
        },
        "yaxis": {
         "gridcolor": "lightgrey",
         "showgrid": true,
         "title": {
          "text": "Monto ($)"
         }
        }
       }
      }
     },
     "metadata": {},
     "output_type": "display_data"
    }
   ],
   "source": [
    "# Crear la figura con las tres series de tiempo en el mismo gráfico\n",
    "fig = go.Figure()\n",
    "\n",
    "# Ingresos\n",
    "fig.add_trace(go.Scatter(\n",
    "    x=ingresos_egresos_h['FECHA'], \n",
    "    y=ingresos_egresos_h['INGRESOS'], \n",
    "    mode='lines+markers',\n",
    "    line=dict(color='#900C3F', width=2), \n",
    "    marker=dict(size=8, color='#900C3F', symbol='circle'),\n",
    "    name='Ingresos'\n",
    "))\n",
    "\n",
    "# Egresos\n",
    "fig.add_trace(go.Scatter(\n",
    "    x=ingresos_egresos_h['FECHA'], \n",
    "    y=ingresos_egresos_h['EGRESOS'], \n",
    "    mode='lines+markers',\n",
    "    line=dict(color='#FF5733', width=2), \n",
    "    marker=dict(size=8, color='#FF5733', symbol='circle'),\n",
    "    name='Egresos'\n",
    "))\n",
    "\n",
    "# Egresos\n",
    "fig.add_trace(go.Scatter(\n",
    "    x=ingresos_egresos_h['FECHA'], \n",
    "    y=ingresos_egresos_h['Acumulado'], \n",
    "    mode='lines+markers',\n",
    "    line=dict(color='#FFC300', width=2), \n",
    "    marker=dict(size=8, color='#FFC300', symbol='circle'),\n",
    "    name='Saldo'\n",
    "))\n",
    "\n",
    "# Línea punteada en Y = 0 (ahora usando el rango extendido del eje X)\n",
    "fig.add_shape(\n",
    "    type=\"line\",\n",
    "    x0=\"FEB\", x1=\"OCT\",  # Ajustar manualmente para que cubra todo el rango\n",
    "    y0=0, y1=0,\n",
    "    line=dict(color=\"grey\", width=0.5, dash=\"dash\"),\n",
    ")\n",
    "\n",
    "# Configuración del diseño\n",
    "fig.update_layout(\n",
    "    title='Balance Anual: Ingresos, Egresos y Saldo',\n",
    "    xaxis_title='Fecha',\n",
    "    yaxis_title='Monto ($)',\n",
    "    plot_bgcolor='white',\n",
    "    hovermode='x unified',\n",
    "    legend=dict(title='Categoría', orientation='h', x=0.5, xanchor='center', y=1.1)\n",
    ")\n",
    "\n",
    "# Configurar los ejes\n",
    "fig.update_xaxes(showgrid=True, gridcolor='lightgrey', tickformat='%b %Y')\n",
    "fig.update_yaxes(showgrid=True, gridcolor='lightgrey')\n",
    "\n",
    "# Mostrar el gráfico\n",
    "fig.show()\n",
    "# pio.write_html(fig, 'Balance Anual.html', auto_open=True)"
   ]
  },
  {
   "cell_type": "markdown",
   "metadata": {},
   "source": [
    "Ajusto ingresos y egresos con inflacion"
   ]
  },
  {
   "cell_type": "code",
   "execution_count": 820,
   "metadata": {},
   "outputs": [
    {
     "name": "stdout",
     "output_type": "stream",
     "text": [
      "Primer aumento:  20.83\n",
      "Segundo aumento:  32.18\n"
     ]
    }
   ],
   "source": [
    "# Calculo el porcentaje de aumento de las cuotas, para tenerlo en cuenta luego: \n",
    "valor_1 = 7200 # de febrero a abril\n",
    "valor_2 = 8700 # de mayo a agosto\n",
    "valor_3 = 11500 # de septiembre en adelante \n",
    "primer_aumento = round(((valor_2 - valor_1)/valor_1) * 100,2)\n",
    "print(\"Primer aumento: \", primer_aumento)\n",
    "\n",
    "segundo_aumento = round(((valor_3 - valor_2)/valor_2) * 100,2)\n",
    "print(\"Segundo aumento: \", segundo_aumento)"
   ]
  },
  {
   "cell_type": "markdown",
   "metadata": {},
   "source": [
    "Creo una funcion para aplicar los coeficientes de inflacion a mis columnas"
   ]
  },
  {
   "cell_type": "code",
   "execution_count": 821,
   "metadata": {},
   "outputs": [],
   "source": [
    "def ajustar_valores(df, meses1, ajuste1, meses2, ajuste2):\n",
    "     # Recorrer cada fila del DataFrame\n",
    "    for index, row in df.iterrows():\n",
    "        # Si la fecha del mes es uno de los meses indicados\n",
    "        if row['FECHA'] in meses1:\n",
    "            # Asignar el nuevo valor de INGRESOS-INFLACION a la nueva columna\n",
    "            df.at[index, 'INGRESOS-INFLACION'] = round(row['INGRESOS'] - (row['INGRESOS'] * ajuste1), 2) \n",
    "            df.at[index, 'EGRESOS-INFLACION'] = round(row['EGRESOS'] - (row['EGRESOS'] * ajuste1), 2) \n",
    "        elif row['FECHA'] in meses2:\n",
    "            # Asignar el nuevo valor de INGRESOS-INFLACION a la nueva columna\n",
    "            df.at[index, 'INGRESOS-INFLACION'] = round(row['INGRESOS'] - (row['INGRESOS'] * ajuste2), 2)\n",
    "            df.at[index, 'EGRESOS-INFLACION'] = round(row['EGRESOS'] - (row['EGRESOS'] * ajuste2), 2) \n",
    "        else:\n",
    "            df.at[index, 'INGRESOS-INFLACION'] = row['INGRESOS']\n",
    "            df.at[index, 'EGRESOS-INFLACION'] = row['EGRESOS']\n",
    "    return df"
   ]
  },
  {
   "cell_type": "markdown",
   "metadata": {},
   "source": [
    "Agrego columnas con ingresos egresos y saldo sin ceoeficiente de inflacion"
   ]
  },
  {
   "cell_type": "code",
   "execution_count": 822,
   "metadata": {},
   "outputs": [
    {
     "data": {
      "text/html": [
       "<div>\n",
       "<style scoped>\n",
       "    .dataframe tbody tr th:only-of-type {\n",
       "        vertical-align: middle;\n",
       "    }\n",
       "\n",
       "    .dataframe tbody tr th {\n",
       "        vertical-align: top;\n",
       "    }\n",
       "\n",
       "    .dataframe thead th {\n",
       "        text-align: right;\n",
       "    }\n",
       "</style>\n",
       "<table border=\"1\" class=\"dataframe\">\n",
       "  <thead>\n",
       "    <tr style=\"text-align: right;\">\n",
       "      <th></th>\n",
       "      <th>FECHA</th>\n",
       "      <th>INGRESOS</th>\n",
       "      <th>EGRESOS</th>\n",
       "      <th>SALDO</th>\n",
       "      <th>INGRESOS POR SOCIO</th>\n",
       "      <th>EGRESOS POR SOCIO</th>\n",
       "      <th>SALDO POR SOCIO</th>\n",
       "      <th>Acumulado</th>\n",
       "      <th>SALDO ACUMULADO</th>\n",
       "    </tr>\n",
       "  </thead>\n",
       "  <tbody>\n",
       "    <tr>\n",
       "      <th>0</th>\n",
       "      <td>FEB</td>\n",
       "      <td>583660.00</td>\n",
       "      <td>595937.00</td>\n",
       "      <td>-12277.00</td>\n",
       "      <td>7580.00</td>\n",
       "      <td>7739.44</td>\n",
       "      <td>-159.44</td>\n",
       "      <td>-12277.00</td>\n",
       "      <td>-12277.00</td>\n",
       "    </tr>\n",
       "    <tr>\n",
       "      <th>1</th>\n",
       "      <td>MAR</td>\n",
       "      <td>749510.00</td>\n",
       "      <td>654554.00</td>\n",
       "      <td>94956.00</td>\n",
       "      <td>6143.52</td>\n",
       "      <td>5365.20</td>\n",
       "      <td>778.33</td>\n",
       "      <td>82679.00</td>\n",
       "      <td>82679.00</td>\n",
       "    </tr>\n",
       "    <tr>\n",
       "      <th>2</th>\n",
       "      <td>ABR</td>\n",
       "      <td>824019.98</td>\n",
       "      <td>671780.00</td>\n",
       "      <td>152239.98</td>\n",
       "      <td>6103.85</td>\n",
       "      <td>4976.15</td>\n",
       "      <td>1127.70</td>\n",
       "      <td>234918.98</td>\n",
       "      <td>234918.98</td>\n",
       "    </tr>\n",
       "    <tr>\n",
       "      <th>3</th>\n",
       "      <td>MAY</td>\n",
       "      <td>970029.00</td>\n",
       "      <td>921975.48</td>\n",
       "      <td>48053.52</td>\n",
       "      <td>7029.20</td>\n",
       "      <td>6680.98</td>\n",
       "      <td>348.21</td>\n",
       "      <td>282972.50</td>\n",
       "      <td>282972.50</td>\n",
       "    </tr>\n",
       "    <tr>\n",
       "      <th>4</th>\n",
       "      <td>JUN</td>\n",
       "      <td>1113898.00</td>\n",
       "      <td>1168196.00</td>\n",
       "      <td>-54298.00</td>\n",
       "      <td>7682.06</td>\n",
       "      <td>8056.52</td>\n",
       "      <td>-374.47</td>\n",
       "      <td>228674.50</td>\n",
       "      <td>228674.50</td>\n",
       "    </tr>\n",
       "    <tr>\n",
       "      <th>5</th>\n",
       "      <td>JUL</td>\n",
       "      <td>1087640.00</td>\n",
       "      <td>1025506.99</td>\n",
       "      <td>62133.01</td>\n",
       "      <td>8302.60</td>\n",
       "      <td>7828.30</td>\n",
       "      <td>474.30</td>\n",
       "      <td>290807.51</td>\n",
       "      <td>290807.51</td>\n",
       "    </tr>\n",
       "    <tr>\n",
       "      <th>6</th>\n",
       "      <td>AGO</td>\n",
       "      <td>1178750.00</td>\n",
       "      <td>1147687.00</td>\n",
       "      <td>31063.00</td>\n",
       "      <td>7964.53</td>\n",
       "      <td>7754.64</td>\n",
       "      <td>209.89</td>\n",
       "      <td>321870.51</td>\n",
       "      <td>321870.51</td>\n",
       "    </tr>\n",
       "    <tr>\n",
       "      <th>7</th>\n",
       "      <td>SEPT</td>\n",
       "      <td>1393384.99</td>\n",
       "      <td>1100452.00</td>\n",
       "      <td>292932.99</td>\n",
       "      <td>9227.72</td>\n",
       "      <td>7287.76</td>\n",
       "      <td>1939.95</td>\n",
       "      <td>614803.50</td>\n",
       "      <td>614803.50</td>\n",
       "    </tr>\n",
       "    <tr>\n",
       "      <th>8</th>\n",
       "      <td>OCT</td>\n",
       "      <td>1442885.02</td>\n",
       "      <td>1153801.64</td>\n",
       "      <td>289083.38</td>\n",
       "      <td>9308.94</td>\n",
       "      <td>7443.88</td>\n",
       "      <td>1865.05</td>\n",
       "      <td>903886.88</td>\n",
       "      <td>903886.88</td>\n",
       "    </tr>\n",
       "  </tbody>\n",
       "</table>\n",
       "</div>"
      ],
      "text/plain": [
       "  FECHA    INGRESOS     EGRESOS      SALDO  INGRESOS POR SOCIO  \\\n",
       "0   FEB   583660.00   595937.00  -12277.00             7580.00   \n",
       "1   MAR   749510.00   654554.00   94956.00             6143.52   \n",
       "2   ABR   824019.98   671780.00  152239.98             6103.85   \n",
       "3   MAY   970029.00   921975.48   48053.52             7029.20   \n",
       "4   JUN  1113898.00  1168196.00  -54298.00             7682.06   \n",
       "5   JUL  1087640.00  1025506.99   62133.01             8302.60   \n",
       "6   AGO  1178750.00  1147687.00   31063.00             7964.53   \n",
       "7  SEPT  1393384.99  1100452.00  292932.99             9227.72   \n",
       "8   OCT  1442885.02  1153801.64  289083.38             9308.94   \n",
       "\n",
       "   EGRESOS POR SOCIO  SALDO POR SOCIO  Acumulado  SALDO ACUMULADO  \n",
       "0            7739.44          -159.44  -12277.00        -12277.00  \n",
       "1            5365.20           778.33   82679.00         82679.00  \n",
       "2            4976.15          1127.70  234918.98        234918.98  \n",
       "3            6680.98           348.21  282972.50        282972.50  \n",
       "4            8056.52          -374.47  228674.50        228674.50  \n",
       "5            7828.30           474.30  290807.51        290807.51  \n",
       "6            7754.64           209.89  321870.51        321870.51  \n",
       "7            7287.76          1939.95  614803.50        614803.50  \n",
       "8            7443.88          1865.05  903886.88        903886.88  "
      ]
     },
     "execution_count": 822,
     "metadata": {},
     "output_type": "execute_result"
    }
   ],
   "source": [
    "# Crear la columna 'Saldo Acumulado' sumando los valores mes a mes en la columna 'SALDO'\n",
    "ingresos_egresos_h['SALDO ACUMULADO'] = ingresos_egresos_h['SALDO'].cumsum()\n",
    "ingresos_egresos_h"
   ]
  },
  {
   "cell_type": "code",
   "execution_count": 823,
   "metadata": {},
   "outputs": [
    {
     "data": {
      "text/html": [
       "<div>\n",
       "<style scoped>\n",
       "    .dataframe tbody tr th:only-of-type {\n",
       "        vertical-align: middle;\n",
       "    }\n",
       "\n",
       "    .dataframe tbody tr th {\n",
       "        vertical-align: top;\n",
       "    }\n",
       "\n",
       "    .dataframe thead th {\n",
       "        text-align: right;\n",
       "    }\n",
       "</style>\n",
       "<table border=\"1\" class=\"dataframe\">\n",
       "  <thead>\n",
       "    <tr style=\"text-align: right;\">\n",
       "      <th></th>\n",
       "      <th>FECHA</th>\n",
       "      <th>INGRESOS</th>\n",
       "      <th>EGRESOS</th>\n",
       "      <th>SALDO</th>\n",
       "      <th>INGRESOS POR SOCIO</th>\n",
       "      <th>EGRESOS POR SOCIO</th>\n",
       "      <th>SALDO POR SOCIO</th>\n",
       "      <th>Acumulado</th>\n",
       "      <th>SALDO ACUMULADO</th>\n",
       "      <th>INGRESOS-INFLACION</th>\n",
       "      <th>EGRESOS-INFLACION</th>\n",
       "      <th>SALDO-INFLACION</th>\n",
       "      <th>Acumulado sin inflacion</th>\n",
       "    </tr>\n",
       "  </thead>\n",
       "  <tbody>\n",
       "    <tr>\n",
       "      <th>0</th>\n",
       "      <td>FEB</td>\n",
       "      <td>583660.00</td>\n",
       "      <td>595937.00</td>\n",
       "      <td>-12277.00</td>\n",
       "      <td>7580.00</td>\n",
       "      <td>7739.44</td>\n",
       "      <td>-159.44</td>\n",
       "      <td>-12277.00</td>\n",
       "      <td>-12277.00</td>\n",
       "      <td>583660.00</td>\n",
       "      <td>595937.00</td>\n",
       "      <td>-12277.00</td>\n",
       "      <td>-12277.00</td>\n",
       "    </tr>\n",
       "    <tr>\n",
       "      <th>1</th>\n",
       "      <td>MAR</td>\n",
       "      <td>749510.00</td>\n",
       "      <td>654554.00</td>\n",
       "      <td>94956.00</td>\n",
       "      <td>6143.52</td>\n",
       "      <td>5365.20</td>\n",
       "      <td>778.32</td>\n",
       "      <td>82679.00</td>\n",
       "      <td>82679.00</td>\n",
       "      <td>749510.00</td>\n",
       "      <td>654554.00</td>\n",
       "      <td>94956.00</td>\n",
       "      <td>82679.00</td>\n",
       "    </tr>\n",
       "    <tr>\n",
       "      <th>2</th>\n",
       "      <td>ABR</td>\n",
       "      <td>824019.98</td>\n",
       "      <td>671780.00</td>\n",
       "      <td>152239.98</td>\n",
       "      <td>6103.85</td>\n",
       "      <td>4976.15</td>\n",
       "      <td>1127.70</td>\n",
       "      <td>234918.98</td>\n",
       "      <td>234918.98</td>\n",
       "      <td>824019.98</td>\n",
       "      <td>671780.00</td>\n",
       "      <td>152239.98</td>\n",
       "      <td>234918.98</td>\n",
       "    </tr>\n",
       "    <tr>\n",
       "      <th>3</th>\n",
       "      <td>MAY</td>\n",
       "      <td>970029.00</td>\n",
       "      <td>921975.48</td>\n",
       "      <td>48053.52</td>\n",
       "      <td>5565.01</td>\n",
       "      <td>5289.33</td>\n",
       "      <td>275.68</td>\n",
       "      <td>282972.50</td>\n",
       "      <td>282972.50</td>\n",
       "      <td>767971.96</td>\n",
       "      <td>729927.99</td>\n",
       "      <td>38043.97</td>\n",
       "      <td>272962.95</td>\n",
       "    </tr>\n",
       "    <tr>\n",
       "      <th>4</th>\n",
       "      <td>JUN</td>\n",
       "      <td>1113898.00</td>\n",
       "      <td>1168196.00</td>\n",
       "      <td>-54298.00</td>\n",
       "      <td>6081.88</td>\n",
       "      <td>6378.35</td>\n",
       "      <td>-296.47</td>\n",
       "      <td>228674.50</td>\n",
       "      <td>228674.50</td>\n",
       "      <td>881873.05</td>\n",
       "      <td>924860.77</td>\n",
       "      <td>-42987.72</td>\n",
       "      <td>229975.23</td>\n",
       "    </tr>\n",
       "    <tr>\n",
       "      <th>5</th>\n",
       "      <td>JUL</td>\n",
       "      <td>1087640.00</td>\n",
       "      <td>1025506.99</td>\n",
       "      <td>62133.01</td>\n",
       "      <td>6573.16</td>\n",
       "      <td>6197.66</td>\n",
       "      <td>375.50</td>\n",
       "      <td>290807.51</td>\n",
       "      <td>290807.51</td>\n",
       "      <td>861084.59</td>\n",
       "      <td>811893.88</td>\n",
       "      <td>49190.71</td>\n",
       "      <td>279165.94</td>\n",
       "    </tr>\n",
       "    <tr>\n",
       "      <th>6</th>\n",
       "      <td>AGO</td>\n",
       "      <td>1178750.00</td>\n",
       "      <td>1147687.00</td>\n",
       "      <td>31063.00</td>\n",
       "      <td>6305.52</td>\n",
       "      <td>6139.35</td>\n",
       "      <td>166.17</td>\n",
       "      <td>321870.51</td>\n",
       "      <td>321870.51</td>\n",
       "      <td>933216.38</td>\n",
       "      <td>908623.80</td>\n",
       "      <td>24592.58</td>\n",
       "      <td>303758.52</td>\n",
       "    </tr>\n",
       "    <tr>\n",
       "      <th>7</th>\n",
       "      <td>SEPT</td>\n",
       "      <td>1393384.99</td>\n",
       "      <td>1100452.00</td>\n",
       "      <td>292932.99</td>\n",
       "      <td>6258.24</td>\n",
       "      <td>4942.56</td>\n",
       "      <td>1315.68</td>\n",
       "      <td>614803.50</td>\n",
       "      <td>614803.50</td>\n",
       "      <td>944993.70</td>\n",
       "      <td>746326.55</td>\n",
       "      <td>198667.15</td>\n",
       "      <td>502425.67</td>\n",
       "    </tr>\n",
       "    <tr>\n",
       "      <th>8</th>\n",
       "      <td>OCT</td>\n",
       "      <td>1442885.02</td>\n",
       "      <td>1153801.64</td>\n",
       "      <td>289083.38</td>\n",
       "      <td>6313.32</td>\n",
       "      <td>5048.44</td>\n",
       "      <td>1264.88</td>\n",
       "      <td>903886.88</td>\n",
       "      <td>903886.88</td>\n",
       "      <td>978564.62</td>\n",
       "      <td>782508.27</td>\n",
       "      <td>196056.35</td>\n",
       "      <td>698482.02</td>\n",
       "    </tr>\n",
       "  </tbody>\n",
       "</table>\n",
       "</div>"
      ],
      "text/plain": [
       "  FECHA    INGRESOS     EGRESOS      SALDO  INGRESOS POR SOCIO  \\\n",
       "0   FEB   583660.00   595937.00  -12277.00             7580.00   \n",
       "1   MAR   749510.00   654554.00   94956.00             6143.52   \n",
       "2   ABR   824019.98   671780.00  152239.98             6103.85   \n",
       "3   MAY   970029.00   921975.48   48053.52             5565.01   \n",
       "4   JUN  1113898.00  1168196.00  -54298.00             6081.88   \n",
       "5   JUL  1087640.00  1025506.99   62133.01             6573.16   \n",
       "6   AGO  1178750.00  1147687.00   31063.00             6305.52   \n",
       "7  SEPT  1393384.99  1100452.00  292932.99             6258.24   \n",
       "8   OCT  1442885.02  1153801.64  289083.38             6313.32   \n",
       "\n",
       "   EGRESOS POR SOCIO  SALDO POR SOCIO  Acumulado  SALDO ACUMULADO  \\\n",
       "0            7739.44          -159.44  -12277.00        -12277.00   \n",
       "1            5365.20           778.32   82679.00         82679.00   \n",
       "2            4976.15          1127.70  234918.98        234918.98   \n",
       "3            5289.33           275.68  282972.50        282972.50   \n",
       "4            6378.35          -296.47  228674.50        228674.50   \n",
       "5            6197.66           375.50  290807.51        290807.51   \n",
       "6            6139.35           166.17  321870.51        321870.51   \n",
       "7            4942.56          1315.68  614803.50        614803.50   \n",
       "8            5048.44          1264.88  903886.88        903886.88   \n",
       "\n",
       "   INGRESOS-INFLACION  EGRESOS-INFLACION  SALDO-INFLACION  \\\n",
       "0           583660.00          595937.00        -12277.00   \n",
       "1           749510.00          654554.00         94956.00   \n",
       "2           824019.98          671780.00        152239.98   \n",
       "3           767971.96          729927.99         38043.97   \n",
       "4           881873.05          924860.77        -42987.72   \n",
       "5           861084.59          811893.88         49190.71   \n",
       "6           933216.38          908623.80         24592.58   \n",
       "7           944993.70          746326.55        198667.15   \n",
       "8           978564.62          782508.27        196056.35   \n",
       "\n",
       "   Acumulado sin inflacion  \n",
       "0                -12277.00  \n",
       "1                 82679.00  \n",
       "2                234918.98  \n",
       "3                272962.95  \n",
       "4                229975.23  \n",
       "5                279165.94  \n",
       "6                303758.52  \n",
       "7                502425.67  \n",
       "8                698482.02  "
      ]
     },
     "execution_count": 823,
     "metadata": {},
     "output_type": "execute_result"
    }
   ],
   "source": [
    "meses1 = ['MAY', 'JUN', 'JUL', 'AGO']\n",
    "meses2 = ['SEPT', 'OCT']\n",
    "ajuste1 = 0.2083\n",
    "ajuste2 = 0.3218\n",
    "\n",
    "# Llamar a la función para ajustar los ingresos\n",
    "ingresos_egresos_h = ajustar_valores(ingresos_egresos_h, meses1, ajuste1, meses2, ajuste2)\n",
    "\n",
    "ingreso_por_socio = round(ingresos_egresos_h['INGRESOS-INFLACION']/socios_por_mes_tot['SOCIOS_HAND'],2)\n",
    "ingresos_egresos_h['INGRESOS POR SOCIO'] = ingreso_por_socio\n",
    "\n",
    "egreso_por_socio = round(ingresos_egresos_h['EGRESOS-INFLACION']/socios_por_mes_tot['SOCIOS_HAND'],2)\n",
    "ingresos_egresos_h['EGRESOS POR SOCIO'] = egreso_por_socio\n",
    "\n",
    "ingresos_egresos_h['SALDO POR SOCIO'] = ingresos_egresos_h['INGRESOS POR SOCIO'] - ingresos_egresos_h['EGRESOS POR SOCIO']\n",
    "\n",
    "ingresos_egresos_h['SALDO-INFLACION'] = ingresos_egresos_h['INGRESOS-INFLACION'] - ingresos_egresos_h['EGRESOS-INFLACION']\n",
    "\n",
    "# Crear la columna 'Saldo Acumulado' sumando los valores mes a mes en la columna 'SALDO'\n",
    "ingresos_egresos_h['Acumulado sin inflacion'] = ingresos_egresos_h['SALDO-INFLACION'].cumsum()\n",
    "ingresos_egresos_h"
   ]
  },
  {
   "cell_type": "markdown",
   "metadata": {},
   "source": [
    "Grafico ingresos y egresos con y sin inflacion para comparar"
   ]
  },
  {
   "cell_type": "code",
   "execution_count": 824,
   "metadata": {},
   "outputs": [
    {
     "data": {
      "application/vnd.plotly.v1+json": {
       "config": {
        "plotlyServerURL": "https://plot.ly"
       },
       "data": [
        {
         "line": {
          "color": "#900C3F",
          "width": 2
         },
         "marker": {
          "color": "#900C3F",
          "size": 8,
          "symbol": "circle"
         },
         "mode": "lines+markers",
         "name": "Ingresos",
         "type": "scatter",
         "x": [
          "FEB",
          "MAR",
          "ABR",
          "MAY",
          "JUN",
          "JUL",
          "AGO",
          "SEPT",
          "OCT"
         ],
         "y": [
          583660,
          749510,
          824019.98,
          970029,
          1113898,
          1087640,
          1178750,
          1393384.99,
          1442885.02
         ]
        },
        {
         "line": {
          "color": "#FF5733",
          "width": 2
         },
         "marker": {
          "color": "#FF5733",
          "size": 8,
          "symbol": "circle"
         },
         "mode": "lines+markers",
         "name": "Egresos",
         "type": "scatter",
         "x": [
          "FEB",
          "MAR",
          "ABR",
          "MAY",
          "JUN",
          "JUL",
          "AGO",
          "SEPT",
          "OCT"
         ],
         "y": [
          595937,
          654554,
          671780,
          921975.48,
          1168196,
          1025506.99,
          1147687,
          1100452,
          1153801.64
         ]
        },
        {
         "line": {
          "color": "#C70039",
          "width": 2
         },
         "marker": {
          "color": "#C70039",
          "size": 8,
          "symbol": "circle"
         },
         "mode": "lines+markers",
         "name": "INGRESOS-INFLACION",
         "type": "scatter",
         "x": [
          "FEB",
          "MAR",
          "ABR",
          "MAY",
          "JUN",
          "JUL",
          "AGO",
          "SEPT",
          "OCT"
         ],
         "y": [
          583660,
          749510,
          824019.98,
          767971.96,
          881873.05,
          861084.59,
          933216.38,
          944993.7,
          978564.62
         ]
        },
        {
         "line": {
          "color": "#FF9F00",
          "width": 2
         },
         "marker": {
          "color": "#FF9F00",
          "size": 8,
          "symbol": "circle"
         },
         "mode": "lines+markers",
         "name": "EGRESOS-INFLACION",
         "type": "scatter",
         "x": [
          "FEB",
          "MAR",
          "ABR",
          "MAY",
          "JUN",
          "JUL",
          "AGO",
          "SEPT",
          "OCT"
         ],
         "y": [
          595937,
          654554,
          671780,
          729927.99,
          924860.77,
          811893.88,
          908623.8,
          746326.55,
          782508.27
         ]
        }
       ],
       "layout": {
        "hovermode": "x unified",
        "legend": {
         "orientation": "h",
         "title": {
          "text": "Categoría"
         },
         "x": 0.5,
         "xanchor": "center",
         "y": 1.5
        },
        "plot_bgcolor": "white",
        "shapes": [
         {
          "line": {
           "color": "grey",
           "dash": "dash",
           "width": 0.5
          },
          "type": "line",
          "x0": "FEB",
          "x1": "OCT",
          "y0": 0,
          "y1": 0
         }
        ],
        "template": {
         "data": {
          "bar": [
           {
            "error_x": {
             "color": "#2a3f5f"
            },
            "error_y": {
             "color": "#2a3f5f"
            },
            "marker": {
             "line": {
              "color": "#E5ECF6",
              "width": 0.5
             },
             "pattern": {
              "fillmode": "overlay",
              "size": 10,
              "solidity": 0.2
             }
            },
            "type": "bar"
           }
          ],
          "barpolar": [
           {
            "marker": {
             "line": {
              "color": "#E5ECF6",
              "width": 0.5
             },
             "pattern": {
              "fillmode": "overlay",
              "size": 10,
              "solidity": 0.2
             }
            },
            "type": "barpolar"
           }
          ],
          "carpet": [
           {
            "aaxis": {
             "endlinecolor": "#2a3f5f",
             "gridcolor": "white",
             "linecolor": "white",
             "minorgridcolor": "white",
             "startlinecolor": "#2a3f5f"
            },
            "baxis": {
             "endlinecolor": "#2a3f5f",
             "gridcolor": "white",
             "linecolor": "white",
             "minorgridcolor": "white",
             "startlinecolor": "#2a3f5f"
            },
            "type": "carpet"
           }
          ],
          "choropleth": [
           {
            "colorbar": {
             "outlinewidth": 0,
             "ticks": ""
            },
            "type": "choropleth"
           }
          ],
          "contour": [
           {
            "colorbar": {
             "outlinewidth": 0,
             "ticks": ""
            },
            "colorscale": [
             [
              0,
              "#0d0887"
             ],
             [
              0.1111111111111111,
              "#46039f"
             ],
             [
              0.2222222222222222,
              "#7201a8"
             ],
             [
              0.3333333333333333,
              "#9c179e"
             ],
             [
              0.4444444444444444,
              "#bd3786"
             ],
             [
              0.5555555555555556,
              "#d8576b"
             ],
             [
              0.6666666666666666,
              "#ed7953"
             ],
             [
              0.7777777777777778,
              "#fb9f3a"
             ],
             [
              0.8888888888888888,
              "#fdca26"
             ],
             [
              1,
              "#f0f921"
             ]
            ],
            "type": "contour"
           }
          ],
          "contourcarpet": [
           {
            "colorbar": {
             "outlinewidth": 0,
             "ticks": ""
            },
            "type": "contourcarpet"
           }
          ],
          "heatmap": [
           {
            "colorbar": {
             "outlinewidth": 0,
             "ticks": ""
            },
            "colorscale": [
             [
              0,
              "#0d0887"
             ],
             [
              0.1111111111111111,
              "#46039f"
             ],
             [
              0.2222222222222222,
              "#7201a8"
             ],
             [
              0.3333333333333333,
              "#9c179e"
             ],
             [
              0.4444444444444444,
              "#bd3786"
             ],
             [
              0.5555555555555556,
              "#d8576b"
             ],
             [
              0.6666666666666666,
              "#ed7953"
             ],
             [
              0.7777777777777778,
              "#fb9f3a"
             ],
             [
              0.8888888888888888,
              "#fdca26"
             ],
             [
              1,
              "#f0f921"
             ]
            ],
            "type": "heatmap"
           }
          ],
          "heatmapgl": [
           {
            "colorbar": {
             "outlinewidth": 0,
             "ticks": ""
            },
            "colorscale": [
             [
              0,
              "#0d0887"
             ],
             [
              0.1111111111111111,
              "#46039f"
             ],
             [
              0.2222222222222222,
              "#7201a8"
             ],
             [
              0.3333333333333333,
              "#9c179e"
             ],
             [
              0.4444444444444444,
              "#bd3786"
             ],
             [
              0.5555555555555556,
              "#d8576b"
             ],
             [
              0.6666666666666666,
              "#ed7953"
             ],
             [
              0.7777777777777778,
              "#fb9f3a"
             ],
             [
              0.8888888888888888,
              "#fdca26"
             ],
             [
              1,
              "#f0f921"
             ]
            ],
            "type": "heatmapgl"
           }
          ],
          "histogram": [
           {
            "marker": {
             "pattern": {
              "fillmode": "overlay",
              "size": 10,
              "solidity": 0.2
             }
            },
            "type": "histogram"
           }
          ],
          "histogram2d": [
           {
            "colorbar": {
             "outlinewidth": 0,
             "ticks": ""
            },
            "colorscale": [
             [
              0,
              "#0d0887"
             ],
             [
              0.1111111111111111,
              "#46039f"
             ],
             [
              0.2222222222222222,
              "#7201a8"
             ],
             [
              0.3333333333333333,
              "#9c179e"
             ],
             [
              0.4444444444444444,
              "#bd3786"
             ],
             [
              0.5555555555555556,
              "#d8576b"
             ],
             [
              0.6666666666666666,
              "#ed7953"
             ],
             [
              0.7777777777777778,
              "#fb9f3a"
             ],
             [
              0.8888888888888888,
              "#fdca26"
             ],
             [
              1,
              "#f0f921"
             ]
            ],
            "type": "histogram2d"
           }
          ],
          "histogram2dcontour": [
           {
            "colorbar": {
             "outlinewidth": 0,
             "ticks": ""
            },
            "colorscale": [
             [
              0,
              "#0d0887"
             ],
             [
              0.1111111111111111,
              "#46039f"
             ],
             [
              0.2222222222222222,
              "#7201a8"
             ],
             [
              0.3333333333333333,
              "#9c179e"
             ],
             [
              0.4444444444444444,
              "#bd3786"
             ],
             [
              0.5555555555555556,
              "#d8576b"
             ],
             [
              0.6666666666666666,
              "#ed7953"
             ],
             [
              0.7777777777777778,
              "#fb9f3a"
             ],
             [
              0.8888888888888888,
              "#fdca26"
             ],
             [
              1,
              "#f0f921"
             ]
            ],
            "type": "histogram2dcontour"
           }
          ],
          "mesh3d": [
           {
            "colorbar": {
             "outlinewidth": 0,
             "ticks": ""
            },
            "type": "mesh3d"
           }
          ],
          "parcoords": [
           {
            "line": {
             "colorbar": {
              "outlinewidth": 0,
              "ticks": ""
             }
            },
            "type": "parcoords"
           }
          ],
          "pie": [
           {
            "automargin": true,
            "type": "pie"
           }
          ],
          "scatter": [
           {
            "fillpattern": {
             "fillmode": "overlay",
             "size": 10,
             "solidity": 0.2
            },
            "type": "scatter"
           }
          ],
          "scatter3d": [
           {
            "line": {
             "colorbar": {
              "outlinewidth": 0,
              "ticks": ""
             }
            },
            "marker": {
             "colorbar": {
              "outlinewidth": 0,
              "ticks": ""
             }
            },
            "type": "scatter3d"
           }
          ],
          "scattercarpet": [
           {
            "marker": {
             "colorbar": {
              "outlinewidth": 0,
              "ticks": ""
             }
            },
            "type": "scattercarpet"
           }
          ],
          "scattergeo": [
           {
            "marker": {
             "colorbar": {
              "outlinewidth": 0,
              "ticks": ""
             }
            },
            "type": "scattergeo"
           }
          ],
          "scattergl": [
           {
            "marker": {
             "colorbar": {
              "outlinewidth": 0,
              "ticks": ""
             }
            },
            "type": "scattergl"
           }
          ],
          "scattermapbox": [
           {
            "marker": {
             "colorbar": {
              "outlinewidth": 0,
              "ticks": ""
             }
            },
            "type": "scattermapbox"
           }
          ],
          "scatterpolar": [
           {
            "marker": {
             "colorbar": {
              "outlinewidth": 0,
              "ticks": ""
             }
            },
            "type": "scatterpolar"
           }
          ],
          "scatterpolargl": [
           {
            "marker": {
             "colorbar": {
              "outlinewidth": 0,
              "ticks": ""
             }
            },
            "type": "scatterpolargl"
           }
          ],
          "scatterternary": [
           {
            "marker": {
             "colorbar": {
              "outlinewidth": 0,
              "ticks": ""
             }
            },
            "type": "scatterternary"
           }
          ],
          "surface": [
           {
            "colorbar": {
             "outlinewidth": 0,
             "ticks": ""
            },
            "colorscale": [
             [
              0,
              "#0d0887"
             ],
             [
              0.1111111111111111,
              "#46039f"
             ],
             [
              0.2222222222222222,
              "#7201a8"
             ],
             [
              0.3333333333333333,
              "#9c179e"
             ],
             [
              0.4444444444444444,
              "#bd3786"
             ],
             [
              0.5555555555555556,
              "#d8576b"
             ],
             [
              0.6666666666666666,
              "#ed7953"
             ],
             [
              0.7777777777777778,
              "#fb9f3a"
             ],
             [
              0.8888888888888888,
              "#fdca26"
             ],
             [
              1,
              "#f0f921"
             ]
            ],
            "type": "surface"
           }
          ],
          "table": [
           {
            "cells": {
             "fill": {
              "color": "#EBF0F8"
             },
             "line": {
              "color": "white"
             }
            },
            "header": {
             "fill": {
              "color": "#C8D4E3"
             },
             "line": {
              "color": "white"
             }
            },
            "type": "table"
           }
          ]
         },
         "layout": {
          "annotationdefaults": {
           "arrowcolor": "#2a3f5f",
           "arrowhead": 0,
           "arrowwidth": 1
          },
          "autotypenumbers": "strict",
          "coloraxis": {
           "colorbar": {
            "outlinewidth": 0,
            "ticks": ""
           }
          },
          "colorscale": {
           "diverging": [
            [
             0,
             "#8e0152"
            ],
            [
             0.1,
             "#c51b7d"
            ],
            [
             0.2,
             "#de77ae"
            ],
            [
             0.3,
             "#f1b6da"
            ],
            [
             0.4,
             "#fde0ef"
            ],
            [
             0.5,
             "#f7f7f7"
            ],
            [
             0.6,
             "#e6f5d0"
            ],
            [
             0.7,
             "#b8e186"
            ],
            [
             0.8,
             "#7fbc41"
            ],
            [
             0.9,
             "#4d9221"
            ],
            [
             1,
             "#276419"
            ]
           ],
           "sequential": [
            [
             0,
             "#0d0887"
            ],
            [
             0.1111111111111111,
             "#46039f"
            ],
            [
             0.2222222222222222,
             "#7201a8"
            ],
            [
             0.3333333333333333,
             "#9c179e"
            ],
            [
             0.4444444444444444,
             "#bd3786"
            ],
            [
             0.5555555555555556,
             "#d8576b"
            ],
            [
             0.6666666666666666,
             "#ed7953"
            ],
            [
             0.7777777777777778,
             "#fb9f3a"
            ],
            [
             0.8888888888888888,
             "#fdca26"
            ],
            [
             1,
             "#f0f921"
            ]
           ],
           "sequentialminus": [
            [
             0,
             "#0d0887"
            ],
            [
             0.1111111111111111,
             "#46039f"
            ],
            [
             0.2222222222222222,
             "#7201a8"
            ],
            [
             0.3333333333333333,
             "#9c179e"
            ],
            [
             0.4444444444444444,
             "#bd3786"
            ],
            [
             0.5555555555555556,
             "#d8576b"
            ],
            [
             0.6666666666666666,
             "#ed7953"
            ],
            [
             0.7777777777777778,
             "#fb9f3a"
            ],
            [
             0.8888888888888888,
             "#fdca26"
            ],
            [
             1,
             "#f0f921"
            ]
           ]
          },
          "colorway": [
           "#636efa",
           "#EF553B",
           "#00cc96",
           "#ab63fa",
           "#FFA15A",
           "#19d3f3",
           "#FF6692",
           "#B6E880",
           "#FF97FF",
           "#FECB52"
          ],
          "font": {
           "color": "#2a3f5f"
          },
          "geo": {
           "bgcolor": "white",
           "lakecolor": "white",
           "landcolor": "#E5ECF6",
           "showlakes": true,
           "showland": true,
           "subunitcolor": "white"
          },
          "hoverlabel": {
           "align": "left"
          },
          "hovermode": "closest",
          "mapbox": {
           "style": "light"
          },
          "paper_bgcolor": "white",
          "plot_bgcolor": "#E5ECF6",
          "polar": {
           "angularaxis": {
            "gridcolor": "white",
            "linecolor": "white",
            "ticks": ""
           },
           "bgcolor": "#E5ECF6",
           "radialaxis": {
            "gridcolor": "white",
            "linecolor": "white",
            "ticks": ""
           }
          },
          "scene": {
           "xaxis": {
            "backgroundcolor": "#E5ECF6",
            "gridcolor": "white",
            "gridwidth": 2,
            "linecolor": "white",
            "showbackground": true,
            "ticks": "",
            "zerolinecolor": "white"
           },
           "yaxis": {
            "backgroundcolor": "#E5ECF6",
            "gridcolor": "white",
            "gridwidth": 2,
            "linecolor": "white",
            "showbackground": true,
            "ticks": "",
            "zerolinecolor": "white"
           },
           "zaxis": {
            "backgroundcolor": "#E5ECF6",
            "gridcolor": "white",
            "gridwidth": 2,
            "linecolor": "white",
            "showbackground": true,
            "ticks": "",
            "zerolinecolor": "white"
           }
          },
          "shapedefaults": {
           "line": {
            "color": "#2a3f5f"
           }
          },
          "ternary": {
           "aaxis": {
            "gridcolor": "white",
            "linecolor": "white",
            "ticks": ""
           },
           "baxis": {
            "gridcolor": "white",
            "linecolor": "white",
            "ticks": ""
           },
           "bgcolor": "#E5ECF6",
           "caxis": {
            "gridcolor": "white",
            "linecolor": "white",
            "ticks": ""
           }
          },
          "title": {
           "x": 0.05
          },
          "xaxis": {
           "automargin": true,
           "gridcolor": "white",
           "linecolor": "white",
           "ticks": "",
           "title": {
            "standoff": 15
           },
           "zerolinecolor": "white",
           "zerolinewidth": 2
          },
          "yaxis": {
           "automargin": true,
           "gridcolor": "white",
           "linecolor": "white",
           "ticks": "",
           "title": {
            "standoff": 15
           },
           "zerolinecolor": "white",
           "zerolinewidth": 2
          }
         }
        },
        "title": {
         "text": "Balance Anual: Ingresos, Egresos brutos y netos"
        },
        "xaxis": {
         "gridcolor": "lightgrey",
         "showgrid": true,
         "tickformat": "%b %Y",
         "title": {
          "text": "Fecha"
         }
        },
        "yaxis": {
         "gridcolor": "lightgrey",
         "showgrid": true,
         "title": {
          "text": "Monto ($)"
         }
        }
       }
      }
     },
     "metadata": {},
     "output_type": "display_data"
    }
   ],
   "source": [
    "# Crear la figura con ingresos y egresos y sus correspondientes valores conforme la inflacion.  \n",
    "fig = go.Figure()\n",
    "\n",
    "# Ingresos\n",
    "fig.add_trace(go.Scatter(\n",
    "    x=ingresos_egresos_h['FECHA'], \n",
    "    y=ingresos_egresos_h['INGRESOS'], \n",
    "    mode='lines+markers',\n",
    "    line=dict(color='#900C3F', width=2), \n",
    "    marker=dict(size=8, color='#900C3F', symbol='circle'),\n",
    "    name='Ingresos'\n",
    "))\n",
    "\n",
    "# Egresos\n",
    "fig.add_trace(go.Scatter(\n",
    "    x=ingresos_egresos_h['FECHA'], \n",
    "    y=ingresos_egresos_h['EGRESOS'], \n",
    "    mode='lines+markers',\n",
    "    line=dict(color='#FF5733', width=2), \n",
    "    marker=dict(size=8, color='#FF5733', symbol='circle'),\n",
    "    name='Egresos'\n",
    "))\n",
    "# Ingresos - INFLACION\n",
    "fig.add_trace(go.Scatter(\n",
    "    x=ingresos_egresos_h['FECHA'], \n",
    "    y=ingresos_egresos_h['INGRESOS-INFLACION'], \n",
    "    mode='lines+markers',\n",
    "    line=dict(color='#C70039', width=2), \n",
    "    marker=dict(size=8, color='#C70039', symbol='circle'),\n",
    "    name='INGRESOS-INFLACION'\n",
    "))\n",
    "\n",
    "# Egresos - INFLACION\n",
    "fig.add_trace(go.Scatter(\n",
    "    x=ingresos_egresos_h['FECHA'], \n",
    "    y=ingresos_egresos_h['EGRESOS-INFLACION'], \n",
    "    mode='lines+markers',\n",
    "    line=dict(color='#FF9F00', width=2), \n",
    "    marker=dict(size=8, color='#FF9F00', symbol='circle'),\n",
    "    name='EGRESOS-INFLACION'\n",
    "))\n",
    "\n",
    "# Línea punteada en Y = 0 (ahora usando el rango extendido del eje X)\n",
    "fig.add_shape(\n",
    "    type=\"line\",\n",
    "    x0=\"FEB\", x1=\"OCT\",  # Ajustar manualmente para que cubra todo el rango\n",
    "    y0=0, y1=0,\n",
    "    line=dict(color=\"grey\", width=0.5, dash=\"dash\"),\n",
    ")\n",
    "\n",
    "# Configuración del diseño\n",
    "fig.update_layout(\n",
    "    title='Balance Anual: Ingresos, Egresos brutos y netos',\n",
    "    xaxis_title='Fecha',\n",
    "    yaxis_title='Monto ($)',\n",
    "    plot_bgcolor='white',\n",
    "    hovermode='x unified',\n",
    "    legend=dict(title='Categoría', orientation='h', x=0.5, xanchor='center', y=1.5)\n",
    ")\n",
    "\n",
    "# Configurar los ejes\n",
    "fig.update_xaxes(showgrid=True, gridcolor='lightgrey', tickformat='%b %Y')\n",
    "fig.update_yaxes(showgrid=True, gridcolor='lightgrey')\n",
    "\n",
    "# Mostrar el gráfico\n",
    "fig.show()\n",
    "# pio.write_html(fig, 'Ingresos_y_egresos_inflacion.html', auto_open=True)"
   ]
  },
  {
   "cell_type": "code",
   "execution_count": 825,
   "metadata": {},
   "outputs": [
    {
     "data": {
      "text/html": [
       "<div>\n",
       "<style scoped>\n",
       "    .dataframe tbody tr th:only-of-type {\n",
       "        vertical-align: middle;\n",
       "    }\n",
       "\n",
       "    .dataframe tbody tr th {\n",
       "        vertical-align: top;\n",
       "    }\n",
       "\n",
       "    .dataframe thead th {\n",
       "        text-align: right;\n",
       "    }\n",
       "</style>\n",
       "<table border=\"1\" class=\"dataframe\">\n",
       "  <thead>\n",
       "    <tr style=\"text-align: right;\">\n",
       "      <th></th>\n",
       "      <th>FECHA</th>\n",
       "      <th>DESCRIPCION</th>\n",
       "      <th>MONTO TOTAL</th>\n",
       "    </tr>\n",
       "  </thead>\n",
       "  <tbody>\n",
       "    <tr>\n",
       "      <th>0</th>\n",
       "      <td>2024-02-01</td>\n",
       "      <td>Gastos Locacion</td>\n",
       "      <td>62000.00</td>\n",
       "    </tr>\n",
       "    <tr>\n",
       "      <th>1</th>\n",
       "      <td>2024-02-01</td>\n",
       "      <td>Materiales</td>\n",
       "      <td>223437.00</td>\n",
       "    </tr>\n",
       "    <tr>\n",
       "      <th>2</th>\n",
       "      <td>2024-02-01</td>\n",
       "      <td>Salarios</td>\n",
       "      <td>300500.00</td>\n",
       "    </tr>\n",
       "    <tr>\n",
       "      <th>3</th>\n",
       "      <td>2024-02-01</td>\n",
       "      <td>Seguro</td>\n",
       "      <td>10000.00</td>\n",
       "    </tr>\n",
       "    <tr>\n",
       "      <th>4</th>\n",
       "      <td>2024-03-01</td>\n",
       "      <td>Gastos Locacion</td>\n",
       "      <td>42054.00</td>\n",
       "    </tr>\n",
       "    <tr>\n",
       "      <th>5</th>\n",
       "      <td>2024-03-01</td>\n",
       "      <td>Salarios</td>\n",
       "      <td>612500.00</td>\n",
       "    </tr>\n",
       "    <tr>\n",
       "      <th>6</th>\n",
       "      <td>2024-04-01</td>\n",
       "      <td>Gastos Locacion</td>\n",
       "      <td>3500.00</td>\n",
       "    </tr>\n",
       "    <tr>\n",
       "      <th>7</th>\n",
       "      <td>2024-04-01</td>\n",
       "      <td>Salarios</td>\n",
       "      <td>476500.00</td>\n",
       "    </tr>\n",
       "    <tr>\n",
       "      <th>8</th>\n",
       "      <td>2024-04-01</td>\n",
       "      <td>Seguro</td>\n",
       "      <td>191780.00</td>\n",
       "    </tr>\n",
       "    <tr>\n",
       "      <th>9</th>\n",
       "      <td>2024-05-01</td>\n",
       "      <td>Salarios</td>\n",
       "      <td>774645.48</td>\n",
       "    </tr>\n",
       "    <tr>\n",
       "      <th>10</th>\n",
       "      <td>2024-05-01</td>\n",
       "      <td>Seguro</td>\n",
       "      <td>147330.00</td>\n",
       "    </tr>\n",
       "    <tr>\n",
       "      <th>11</th>\n",
       "      <td>2024-06-01</td>\n",
       "      <td>Materiales</td>\n",
       "      <td>343156.00</td>\n",
       "    </tr>\n",
       "    <tr>\n",
       "      <th>12</th>\n",
       "      <td>2024-06-01</td>\n",
       "      <td>Salarios</td>\n",
       "      <td>697000.00</td>\n",
       "    </tr>\n",
       "    <tr>\n",
       "      <th>13</th>\n",
       "      <td>2024-06-01</td>\n",
       "      <td>Seguro</td>\n",
       "      <td>128040.00</td>\n",
       "    </tr>\n",
       "    <tr>\n",
       "      <th>14</th>\n",
       "      <td>2024-07-01</td>\n",
       "      <td>Gastos Locacion</td>\n",
       "      <td>33000.00</td>\n",
       "    </tr>\n",
       "    <tr>\n",
       "      <th>15</th>\n",
       "      <td>2024-07-01</td>\n",
       "      <td>Materiales</td>\n",
       "      <td>30819.99</td>\n",
       "    </tr>\n",
       "    <tr>\n",
       "      <th>16</th>\n",
       "      <td>2024-07-01</td>\n",
       "      <td>Salarios</td>\n",
       "      <td>825000.00</td>\n",
       "    </tr>\n",
       "    <tr>\n",
       "      <th>17</th>\n",
       "      <td>2024-07-01</td>\n",
       "      <td>Seguro</td>\n",
       "      <td>136687.00</td>\n",
       "    </tr>\n",
       "    <tr>\n",
       "      <th>18</th>\n",
       "      <td>2024-08-01</td>\n",
       "      <td>Gastos Locacion</td>\n",
       "      <td>4500.00</td>\n",
       "    </tr>\n",
       "    <tr>\n",
       "      <th>19</th>\n",
       "      <td>2024-08-01</td>\n",
       "      <td>Materiales</td>\n",
       "      <td>59000.00</td>\n",
       "    </tr>\n",
       "    <tr>\n",
       "      <th>20</th>\n",
       "      <td>2024-08-01</td>\n",
       "      <td>Salarios</td>\n",
       "      <td>946000.00</td>\n",
       "    </tr>\n",
       "    <tr>\n",
       "      <th>21</th>\n",
       "      <td>2024-08-01</td>\n",
       "      <td>Seguro</td>\n",
       "      <td>138187.00</td>\n",
       "    </tr>\n",
       "    <tr>\n",
       "      <th>22</th>\n",
       "      <td>2024-09-01</td>\n",
       "      <td>Gastos Locacion</td>\n",
       "      <td>43600.00</td>\n",
       "    </tr>\n",
       "    <tr>\n",
       "      <th>23</th>\n",
       "      <td>2024-09-01</td>\n",
       "      <td>Materiales</td>\n",
       "      <td>32900.00</td>\n",
       "    </tr>\n",
       "    <tr>\n",
       "      <th>24</th>\n",
       "      <td>2024-09-01</td>\n",
       "      <td>Salarios</td>\n",
       "      <td>885000.00</td>\n",
       "    </tr>\n",
       "    <tr>\n",
       "      <th>25</th>\n",
       "      <td>2024-09-01</td>\n",
       "      <td>Seguro</td>\n",
       "      <td>138952.00</td>\n",
       "    </tr>\n",
       "    <tr>\n",
       "      <th>26</th>\n",
       "      <td>2024-10-01</td>\n",
       "      <td>Gastos Locacion</td>\n",
       "      <td>7500.00</td>\n",
       "    </tr>\n",
       "    <tr>\n",
       "      <th>27</th>\n",
       "      <td>2024-10-01</td>\n",
       "      <td>Materiales</td>\n",
       "      <td>61301.64</td>\n",
       "    </tr>\n",
       "    <tr>\n",
       "      <th>28</th>\n",
       "      <td>2024-10-01</td>\n",
       "      <td>Salarios</td>\n",
       "      <td>1085000.00</td>\n",
       "    </tr>\n",
       "  </tbody>\n",
       "</table>\n",
       "</div>"
      ],
      "text/plain": [
       "        FECHA      DESCRIPCION  MONTO TOTAL\n",
       "0  2024-02-01  Gastos Locacion     62000.00\n",
       "1  2024-02-01       Materiales    223437.00\n",
       "2  2024-02-01         Salarios    300500.00\n",
       "3  2024-02-01           Seguro     10000.00\n",
       "4  2024-03-01  Gastos Locacion     42054.00\n",
       "5  2024-03-01         Salarios    612500.00\n",
       "6  2024-04-01  Gastos Locacion      3500.00\n",
       "7  2024-04-01         Salarios    476500.00\n",
       "8  2024-04-01           Seguro    191780.00\n",
       "9  2024-05-01         Salarios    774645.48\n",
       "10 2024-05-01           Seguro    147330.00\n",
       "11 2024-06-01       Materiales    343156.00\n",
       "12 2024-06-01         Salarios    697000.00\n",
       "13 2024-06-01           Seguro    128040.00\n",
       "14 2024-07-01  Gastos Locacion     33000.00\n",
       "15 2024-07-01       Materiales     30819.99\n",
       "16 2024-07-01         Salarios    825000.00\n",
       "17 2024-07-01           Seguro    136687.00\n",
       "18 2024-08-01  Gastos Locacion      4500.00\n",
       "19 2024-08-01       Materiales     59000.00\n",
       "20 2024-08-01         Salarios    946000.00\n",
       "21 2024-08-01           Seguro    138187.00\n",
       "22 2024-09-01  Gastos Locacion     43600.00\n",
       "23 2024-09-01       Materiales     32900.00\n",
       "24 2024-09-01         Salarios    885000.00\n",
       "25 2024-09-01           Seguro    138952.00\n",
       "26 2024-10-01  Gastos Locacion      7500.00\n",
       "27 2024-10-01       Materiales     61301.64\n",
       "28 2024-10-01         Salarios   1085000.00"
      ]
     },
     "execution_count": 825,
     "metadata": {},
     "output_type": "execute_result"
    }
   ],
   "source": [
    "# Agrupar por año y mes, y por categoría, y sumar los montos\n",
    "eg_totales_por_mes_categoria = egresos_reales.groupby([egresos_reales['FECHA'].dt.to_period('M'), 'DESCRIPCION'])[['MONTO']].sum().reset_index()\n",
    "\n",
    "# Cambiar el formato del periodo a un tipo de fecha\n",
    "eg_totales_por_mes_categoria['FECHA'] = eg_totales_por_mes_categoria['FECHA'].dt.to_timestamp()\n",
    "\n",
    "# Renombrar la columna de montos\n",
    "eg_totales_por_mes_categoria.rename(columns={'MONTO': 'MONTO TOTAL'}, inplace=True)\n",
    "eg_totales_por_mes_categoria"
   ]
  },
  {
   "cell_type": "code",
   "execution_count": 826,
   "metadata": {},
   "outputs": [],
   "source": [
    "ingresos_totales_por_mes = ingresos_reales.groupby(ingresos_reales['FECHA'].dt.to_period('M'))[['MONTO']].sum().reset_index()"
   ]
  },
  {
   "cell_type": "code",
   "execution_count": 827,
   "metadata": {},
   "outputs": [
    {
     "data": {
      "text/html": [
       "<div>\n",
       "<style scoped>\n",
       "    .dataframe tbody tr th:only-of-type {\n",
       "        vertical-align: middle;\n",
       "    }\n",
       "\n",
       "    .dataframe tbody tr th {\n",
       "        vertical-align: top;\n",
       "    }\n",
       "\n",
       "    .dataframe thead th {\n",
       "        text-align: right;\n",
       "    }\n",
       "</style>\n",
       "<table border=\"1\" class=\"dataframe\">\n",
       "  <thead>\n",
       "    <tr style=\"text-align: right;\">\n",
       "      <th></th>\n",
       "      <th>FECHA</th>\n",
       "      <th>CATEGORIA</th>\n",
       "      <th>MONTO TOTAL</th>\n",
       "    </tr>\n",
       "  </thead>\n",
       "  <tbody>\n",
       "    <tr>\n",
       "      <th>0</th>\n",
       "      <td>2024-02-01</td>\n",
       "      <td>Cadetes</td>\n",
       "      <td>103320.00</td>\n",
       "    </tr>\n",
       "    <tr>\n",
       "      <th>1</th>\n",
       "      <td>2024-02-01</td>\n",
       "      <td>Infantiles</td>\n",
       "      <td>54450.00</td>\n",
       "    </tr>\n",
       "    <tr>\n",
       "      <th>2</th>\n",
       "      <td>2024-02-01</td>\n",
       "      <td>Juveniles</td>\n",
       "      <td>54620.00</td>\n",
       "    </tr>\n",
       "    <tr>\n",
       "      <th>3</th>\n",
       "      <td>2024-02-01</td>\n",
       "      <td>Mayores</td>\n",
       "      <td>121860.00</td>\n",
       "    </tr>\n",
       "    <tr>\n",
       "      <th>4</th>\n",
       "      <td>2024-02-01</td>\n",
       "      <td>Menores</td>\n",
       "      <td>94400.00</td>\n",
       "    </tr>\n",
       "    <tr>\n",
       "      <th>5</th>\n",
       "      <td>2024-02-01</td>\n",
       "      <td>Mini</td>\n",
       "      <td>35010.00</td>\n",
       "    </tr>\n",
       "    <tr>\n",
       "      <th>6</th>\n",
       "      <td>2024-02-01</td>\n",
       "      <td>No procede</td>\n",
       "      <td>120000.00</td>\n",
       "    </tr>\n",
       "    <tr>\n",
       "      <th>7</th>\n",
       "      <td>2024-03-01</td>\n",
       "      <td>Cadetes</td>\n",
       "      <td>109160.00</td>\n",
       "    </tr>\n",
       "    <tr>\n",
       "      <th>8</th>\n",
       "      <td>2024-03-01</td>\n",
       "      <td>Infantiles</td>\n",
       "      <td>83190.00</td>\n",
       "    </tr>\n",
       "    <tr>\n",
       "      <th>9</th>\n",
       "      <td>2024-03-01</td>\n",
       "      <td>Juveniles</td>\n",
       "      <td>52920.00</td>\n",
       "    </tr>\n",
       "    <tr>\n",
       "      <th>10</th>\n",
       "      <td>2024-03-01</td>\n",
       "      <td>Mayores</td>\n",
       "      <td>253480.00</td>\n",
       "    </tr>\n",
       "    <tr>\n",
       "      <th>11</th>\n",
       "      <td>2024-03-01</td>\n",
       "      <td>Menores</td>\n",
       "      <td>170570.00</td>\n",
       "    </tr>\n",
       "    <tr>\n",
       "      <th>12</th>\n",
       "      <td>2024-03-01</td>\n",
       "      <td>Mini</td>\n",
       "      <td>80190.00</td>\n",
       "    </tr>\n",
       "    <tr>\n",
       "      <th>13</th>\n",
       "      <td>2024-04-01</td>\n",
       "      <td>Cadetes</td>\n",
       "      <td>128170.00</td>\n",
       "    </tr>\n",
       "    <tr>\n",
       "      <th>14</th>\n",
       "      <td>2024-04-01</td>\n",
       "      <td>Infantiles</td>\n",
       "      <td>96466.66</td>\n",
       "    </tr>\n",
       "    <tr>\n",
       "      <th>15</th>\n",
       "      <td>2024-04-01</td>\n",
       "      <td>Juveniles</td>\n",
       "      <td>79220.00</td>\n",
       "    </tr>\n",
       "    <tr>\n",
       "      <th>16</th>\n",
       "      <td>2024-04-01</td>\n",
       "      <td>Mayores</td>\n",
       "      <td>236800.00</td>\n",
       "    </tr>\n",
       "    <tr>\n",
       "      <th>17</th>\n",
       "      <td>2024-04-01</td>\n",
       "      <td>Menores</td>\n",
       "      <td>157826.66</td>\n",
       "    </tr>\n",
       "    <tr>\n",
       "      <th>18</th>\n",
       "      <td>2024-04-01</td>\n",
       "      <td>Mini</td>\n",
       "      <td>95536.66</td>\n",
       "    </tr>\n",
       "    <tr>\n",
       "      <th>19</th>\n",
       "      <td>2024-04-01</td>\n",
       "      <td>No procede</td>\n",
       "      <td>30000.00</td>\n",
       "    </tr>\n",
       "    <tr>\n",
       "      <th>20</th>\n",
       "      <td>2024-05-01</td>\n",
       "      <td>Cadetes</td>\n",
       "      <td>142645.00</td>\n",
       "    </tr>\n",
       "    <tr>\n",
       "      <th>21</th>\n",
       "      <td>2024-05-01</td>\n",
       "      <td>Infantiles</td>\n",
       "      <td>159050.00</td>\n",
       "    </tr>\n",
       "    <tr>\n",
       "      <th>22</th>\n",
       "      <td>2024-05-01</td>\n",
       "      <td>Juveniles</td>\n",
       "      <td>75645.00</td>\n",
       "    </tr>\n",
       "    <tr>\n",
       "      <th>23</th>\n",
       "      <td>2024-05-01</td>\n",
       "      <td>Mayores</td>\n",
       "      <td>238480.00</td>\n",
       "    </tr>\n",
       "    <tr>\n",
       "      <th>24</th>\n",
       "      <td>2024-05-01</td>\n",
       "      <td>Menores</td>\n",
       "      <td>212379.50</td>\n",
       "    </tr>\n",
       "    <tr>\n",
       "      <th>25</th>\n",
       "      <td>2024-05-01</td>\n",
       "      <td>Mini</td>\n",
       "      <td>141829.50</td>\n",
       "    </tr>\n",
       "    <tr>\n",
       "      <th>26</th>\n",
       "      <td>2024-06-01</td>\n",
       "      <td>Cadetes</td>\n",
       "      <td>136754.00</td>\n",
       "    </tr>\n",
       "    <tr>\n",
       "      <th>27</th>\n",
       "      <td>2024-06-01</td>\n",
       "      <td>Infantiles</td>\n",
       "      <td>107259.00</td>\n",
       "    </tr>\n",
       "    <tr>\n",
       "      <th>28</th>\n",
       "      <td>2024-06-01</td>\n",
       "      <td>Juveniles</td>\n",
       "      <td>116595.00</td>\n",
       "    </tr>\n",
       "    <tr>\n",
       "      <th>29</th>\n",
       "      <td>2024-06-01</td>\n",
       "      <td>Mayores</td>\n",
       "      <td>406530.00</td>\n",
       "    </tr>\n",
       "    <tr>\n",
       "      <th>30</th>\n",
       "      <td>2024-06-01</td>\n",
       "      <td>Menores</td>\n",
       "      <td>188405.00</td>\n",
       "    </tr>\n",
       "    <tr>\n",
       "      <th>31</th>\n",
       "      <td>2024-06-01</td>\n",
       "      <td>Mini</td>\n",
       "      <td>158355.00</td>\n",
       "    </tr>\n",
       "    <tr>\n",
       "      <th>32</th>\n",
       "      <td>2024-07-01</td>\n",
       "      <td>Cadetes</td>\n",
       "      <td>154435.00</td>\n",
       "    </tr>\n",
       "    <tr>\n",
       "      <th>33</th>\n",
       "      <td>2024-07-01</td>\n",
       "      <td>Infantiles</td>\n",
       "      <td>97950.00</td>\n",
       "    </tr>\n",
       "    <tr>\n",
       "      <th>34</th>\n",
       "      <td>2024-07-01</td>\n",
       "      <td>Juveniles</td>\n",
       "      <td>119485.00</td>\n",
       "    </tr>\n",
       "    <tr>\n",
       "      <th>35</th>\n",
       "      <td>2024-07-01</td>\n",
       "      <td>Mayores</td>\n",
       "      <td>294630.00</td>\n",
       "    </tr>\n",
       "    <tr>\n",
       "      <th>36</th>\n",
       "      <td>2024-07-01</td>\n",
       "      <td>Menores</td>\n",
       "      <td>263675.00</td>\n",
       "    </tr>\n",
       "    <tr>\n",
       "      <th>37</th>\n",
       "      <td>2024-07-01</td>\n",
       "      <td>Mini</td>\n",
       "      <td>127465.00</td>\n",
       "    </tr>\n",
       "    <tr>\n",
       "      <th>38</th>\n",
       "      <td>2024-07-01</td>\n",
       "      <td>No procede</td>\n",
       "      <td>30000.00</td>\n",
       "    </tr>\n",
       "    <tr>\n",
       "      <th>39</th>\n",
       "      <td>2024-08-01</td>\n",
       "      <td>Cadetes</td>\n",
       "      <td>149775.00</td>\n",
       "    </tr>\n",
       "    <tr>\n",
       "      <th>40</th>\n",
       "      <td>2024-08-01</td>\n",
       "      <td>Infantiles</td>\n",
       "      <td>176850.00</td>\n",
       "    </tr>\n",
       "    <tr>\n",
       "      <th>41</th>\n",
       "      <td>2024-08-01</td>\n",
       "      <td>Juveniles</td>\n",
       "      <td>97625.00</td>\n",
       "    </tr>\n",
       "    <tr>\n",
       "      <th>42</th>\n",
       "      <td>2024-08-01</td>\n",
       "      <td>Mayores</td>\n",
       "      <td>337300.00</td>\n",
       "    </tr>\n",
       "    <tr>\n",
       "      <th>43</th>\n",
       "      <td>2024-08-01</td>\n",
       "      <td>Menores</td>\n",
       "      <td>258405.00</td>\n",
       "    </tr>\n",
       "    <tr>\n",
       "      <th>44</th>\n",
       "      <td>2024-08-01</td>\n",
       "      <td>Mini</td>\n",
       "      <td>158795.00</td>\n",
       "    </tr>\n",
       "    <tr>\n",
       "      <th>45</th>\n",
       "      <td>2024-09-01</td>\n",
       "      <td>Cadetes</td>\n",
       "      <td>197205.00</td>\n",
       "    </tr>\n",
       "    <tr>\n",
       "      <th>46</th>\n",
       "      <td>2024-09-01</td>\n",
       "      <td>Infantiles</td>\n",
       "      <td>161358.33</td>\n",
       "    </tr>\n",
       "    <tr>\n",
       "      <th>47</th>\n",
       "      <td>2024-09-01</td>\n",
       "      <td>Juveniles</td>\n",
       "      <td>111750.00</td>\n",
       "    </tr>\n",
       "    <tr>\n",
       "      <th>48</th>\n",
       "      <td>2024-09-01</td>\n",
       "      <td>Mayores</td>\n",
       "      <td>293050.00</td>\n",
       "    </tr>\n",
       "    <tr>\n",
       "      <th>49</th>\n",
       "      <td>2024-09-01</td>\n",
       "      <td>Menores</td>\n",
       "      <td>381333.33</td>\n",
       "    </tr>\n",
       "    <tr>\n",
       "      <th>50</th>\n",
       "      <td>2024-09-01</td>\n",
       "      <td>Mini</td>\n",
       "      <td>248688.33</td>\n",
       "    </tr>\n",
       "    <tr>\n",
       "      <th>51</th>\n",
       "      <td>2024-10-01</td>\n",
       "      <td>Cadetes</td>\n",
       "      <td>206201.67</td>\n",
       "    </tr>\n",
       "    <tr>\n",
       "      <th>52</th>\n",
       "      <td>2024-10-01</td>\n",
       "      <td>Infantiles</td>\n",
       "      <td>180553.34</td>\n",
       "    </tr>\n",
       "    <tr>\n",
       "      <th>53</th>\n",
       "      <td>2024-10-01</td>\n",
       "      <td>Juveniles</td>\n",
       "      <td>94300.00</td>\n",
       "    </tr>\n",
       "    <tr>\n",
       "      <th>54</th>\n",
       "      <td>2024-10-01</td>\n",
       "      <td>Mayores</td>\n",
       "      <td>210750.00</td>\n",
       "    </tr>\n",
       "    <tr>\n",
       "      <th>55</th>\n",
       "      <td>2024-10-01</td>\n",
       "      <td>Menores</td>\n",
       "      <td>314603.34</td>\n",
       "    </tr>\n",
       "    <tr>\n",
       "      <th>56</th>\n",
       "      <td>2024-10-01</td>\n",
       "      <td>Mini</td>\n",
       "      <td>226976.67</td>\n",
       "    </tr>\n",
       "    <tr>\n",
       "      <th>57</th>\n",
       "      <td>2024-10-01</td>\n",
       "      <td>No procede</td>\n",
       "      <td>209500.00</td>\n",
       "    </tr>\n",
       "  </tbody>\n",
       "</table>\n",
       "</div>"
      ],
      "text/plain": [
       "        FECHA   CATEGORIA  MONTO TOTAL\n",
       "0  2024-02-01     Cadetes    103320.00\n",
       "1  2024-02-01  Infantiles     54450.00\n",
       "2  2024-02-01   Juveniles     54620.00\n",
       "3  2024-02-01     Mayores    121860.00\n",
       "4  2024-02-01     Menores     94400.00\n",
       "5  2024-02-01        Mini     35010.00\n",
       "6  2024-02-01  No procede    120000.00\n",
       "7  2024-03-01     Cadetes    109160.00\n",
       "8  2024-03-01  Infantiles     83190.00\n",
       "9  2024-03-01   Juveniles     52920.00\n",
       "10 2024-03-01     Mayores    253480.00\n",
       "11 2024-03-01     Menores    170570.00\n",
       "12 2024-03-01        Mini     80190.00\n",
       "13 2024-04-01     Cadetes    128170.00\n",
       "14 2024-04-01  Infantiles     96466.66\n",
       "15 2024-04-01   Juveniles     79220.00\n",
       "16 2024-04-01     Mayores    236800.00\n",
       "17 2024-04-01     Menores    157826.66\n",
       "18 2024-04-01        Mini     95536.66\n",
       "19 2024-04-01  No procede     30000.00\n",
       "20 2024-05-01     Cadetes    142645.00\n",
       "21 2024-05-01  Infantiles    159050.00\n",
       "22 2024-05-01   Juveniles     75645.00\n",
       "23 2024-05-01     Mayores    238480.00\n",
       "24 2024-05-01     Menores    212379.50\n",
       "25 2024-05-01        Mini    141829.50\n",
       "26 2024-06-01     Cadetes    136754.00\n",
       "27 2024-06-01  Infantiles    107259.00\n",
       "28 2024-06-01   Juveniles    116595.00\n",
       "29 2024-06-01     Mayores    406530.00\n",
       "30 2024-06-01     Menores    188405.00\n",
       "31 2024-06-01        Mini    158355.00\n",
       "32 2024-07-01     Cadetes    154435.00\n",
       "33 2024-07-01  Infantiles     97950.00\n",
       "34 2024-07-01   Juveniles    119485.00\n",
       "35 2024-07-01     Mayores    294630.00\n",
       "36 2024-07-01     Menores    263675.00\n",
       "37 2024-07-01        Mini    127465.00\n",
       "38 2024-07-01  No procede     30000.00\n",
       "39 2024-08-01     Cadetes    149775.00\n",
       "40 2024-08-01  Infantiles    176850.00\n",
       "41 2024-08-01   Juveniles     97625.00\n",
       "42 2024-08-01     Mayores    337300.00\n",
       "43 2024-08-01     Menores    258405.00\n",
       "44 2024-08-01        Mini    158795.00\n",
       "45 2024-09-01     Cadetes    197205.00\n",
       "46 2024-09-01  Infantiles    161358.33\n",
       "47 2024-09-01   Juveniles    111750.00\n",
       "48 2024-09-01     Mayores    293050.00\n",
       "49 2024-09-01     Menores    381333.33\n",
       "50 2024-09-01        Mini    248688.33\n",
       "51 2024-10-01     Cadetes    206201.67\n",
       "52 2024-10-01  Infantiles    180553.34\n",
       "53 2024-10-01   Juveniles     94300.00\n",
       "54 2024-10-01     Mayores    210750.00\n",
       "55 2024-10-01     Menores    314603.34\n",
       "56 2024-10-01        Mini    226976.67\n",
       "57 2024-10-01  No procede    209500.00"
      ]
     },
     "execution_count": 827,
     "metadata": {},
     "output_type": "execute_result"
    }
   ],
   "source": [
    "# Agrupar por año y mes, y por categoría, y sumar los montos\n",
    "ing_totales_por_mes_categoria = ingresos_reales.groupby([ingresos_reales['FECHA'].dt.to_period('M'), 'CATEGORIA'])[['MONTO']].sum().reset_index()\n",
    "\n",
    "# Cambiar el formato del periodo a un tipo de fecha\n",
    "ing_totales_por_mes_categoria['FECHA'] = ing_totales_por_mes_categoria['FECHA'].dt.to_timestamp()\n",
    "\n",
    "# Renombrar la columna de montos\n",
    "ing_totales_por_mes_categoria.rename(columns={'MONTO': 'MONTO TOTAL'}, inplace=True)\n",
    "ing_totales_por_mes_categoria"
   ]
  },
  {
   "cell_type": "code",
   "execution_count": 828,
   "metadata": {},
   "outputs": [
    {
     "data": {
      "text/html": [
       "<div>\n",
       "<style scoped>\n",
       "    .dataframe tbody tr th:only-of-type {\n",
       "        vertical-align: middle;\n",
       "    }\n",
       "\n",
       "    .dataframe tbody tr th {\n",
       "        vertical-align: top;\n",
       "    }\n",
       "\n",
       "    .dataframe thead th {\n",
       "        text-align: right;\n",
       "    }\n",
       "</style>\n",
       "<table border=\"1\" class=\"dataframe\">\n",
       "  <thead>\n",
       "    <tr style=\"text-align: right;\">\n",
       "      <th></th>\n",
       "      <th>FECHA</th>\n",
       "      <th>DESCRIPCION</th>\n",
       "      <th>MONTO TOTAL</th>\n",
       "      <th>EGRESOS-INFLACION</th>\n",
       "    </tr>\n",
       "  </thead>\n",
       "  <tbody>\n",
       "    <tr>\n",
       "      <th>0</th>\n",
       "      <td>2024-02</td>\n",
       "      <td>Gastos Locacion</td>\n",
       "      <td>62000.00</td>\n",
       "      <td>62000.00</td>\n",
       "    </tr>\n",
       "    <tr>\n",
       "      <th>1</th>\n",
       "      <td>2024-02</td>\n",
       "      <td>Materiales</td>\n",
       "      <td>223437.00</td>\n",
       "      <td>223437.00</td>\n",
       "    </tr>\n",
       "    <tr>\n",
       "      <th>2</th>\n",
       "      <td>2024-02</td>\n",
       "      <td>Salarios</td>\n",
       "      <td>300500.00</td>\n",
       "      <td>300500.00</td>\n",
       "    </tr>\n",
       "    <tr>\n",
       "      <th>3</th>\n",
       "      <td>2024-02</td>\n",
       "      <td>Seguro</td>\n",
       "      <td>10000.00</td>\n",
       "      <td>10000.00</td>\n",
       "    </tr>\n",
       "    <tr>\n",
       "      <th>4</th>\n",
       "      <td>2024-03</td>\n",
       "      <td>Gastos Locacion</td>\n",
       "      <td>42054.00</td>\n",
       "      <td>42054.00</td>\n",
       "    </tr>\n",
       "    <tr>\n",
       "      <th>5</th>\n",
       "      <td>2024-03</td>\n",
       "      <td>Salarios</td>\n",
       "      <td>612500.00</td>\n",
       "      <td>612500.00</td>\n",
       "    </tr>\n",
       "    <tr>\n",
       "      <th>6</th>\n",
       "      <td>2024-04</td>\n",
       "      <td>Gastos Locacion</td>\n",
       "      <td>3500.00</td>\n",
       "      <td>3500.00</td>\n",
       "    </tr>\n",
       "    <tr>\n",
       "      <th>7</th>\n",
       "      <td>2024-04</td>\n",
       "      <td>Salarios</td>\n",
       "      <td>476500.00</td>\n",
       "      <td>476500.00</td>\n",
       "    </tr>\n",
       "    <tr>\n",
       "      <th>8</th>\n",
       "      <td>2024-04</td>\n",
       "      <td>Seguro</td>\n",
       "      <td>191780.00</td>\n",
       "      <td>191780.00</td>\n",
       "    </tr>\n",
       "    <tr>\n",
       "      <th>9</th>\n",
       "      <td>2024-05</td>\n",
       "      <td>Salarios</td>\n",
       "      <td>774645.48</td>\n",
       "      <td>613286.83</td>\n",
       "    </tr>\n",
       "    <tr>\n",
       "      <th>10</th>\n",
       "      <td>2024-05</td>\n",
       "      <td>Seguro</td>\n",
       "      <td>147330.00</td>\n",
       "      <td>116641.16</td>\n",
       "    </tr>\n",
       "    <tr>\n",
       "      <th>11</th>\n",
       "      <td>2024-06</td>\n",
       "      <td>Materiales</td>\n",
       "      <td>343156.00</td>\n",
       "      <td>271676.61</td>\n",
       "    </tr>\n",
       "    <tr>\n",
       "      <th>12</th>\n",
       "      <td>2024-06</td>\n",
       "      <td>Salarios</td>\n",
       "      <td>697000.00</td>\n",
       "      <td>551814.90</td>\n",
       "    </tr>\n",
       "    <tr>\n",
       "      <th>13</th>\n",
       "      <td>2024-06</td>\n",
       "      <td>Seguro</td>\n",
       "      <td>128040.00</td>\n",
       "      <td>101369.27</td>\n",
       "    </tr>\n",
       "    <tr>\n",
       "      <th>14</th>\n",
       "      <td>2024-07</td>\n",
       "      <td>Gastos Locacion</td>\n",
       "      <td>33000.00</td>\n",
       "      <td>26126.10</td>\n",
       "    </tr>\n",
       "    <tr>\n",
       "      <th>15</th>\n",
       "      <td>2024-07</td>\n",
       "      <td>Materiales</td>\n",
       "      <td>30819.99</td>\n",
       "      <td>24400.19</td>\n",
       "    </tr>\n",
       "    <tr>\n",
       "      <th>16</th>\n",
       "      <td>2024-07</td>\n",
       "      <td>Salarios</td>\n",
       "      <td>825000.00</td>\n",
       "      <td>653152.50</td>\n",
       "    </tr>\n",
       "    <tr>\n",
       "      <th>17</th>\n",
       "      <td>2024-07</td>\n",
       "      <td>Seguro</td>\n",
       "      <td>136687.00</td>\n",
       "      <td>108215.10</td>\n",
       "    </tr>\n",
       "    <tr>\n",
       "      <th>18</th>\n",
       "      <td>2024-08</td>\n",
       "      <td>Gastos Locacion</td>\n",
       "      <td>4500.00</td>\n",
       "      <td>3562.65</td>\n",
       "    </tr>\n",
       "    <tr>\n",
       "      <th>19</th>\n",
       "      <td>2024-08</td>\n",
       "      <td>Materiales</td>\n",
       "      <td>59000.00</td>\n",
       "      <td>46710.30</td>\n",
       "    </tr>\n",
       "    <tr>\n",
       "      <th>20</th>\n",
       "      <td>2024-08</td>\n",
       "      <td>Salarios</td>\n",
       "      <td>946000.00</td>\n",
       "      <td>748948.20</td>\n",
       "    </tr>\n",
       "    <tr>\n",
       "      <th>21</th>\n",
       "      <td>2024-08</td>\n",
       "      <td>Seguro</td>\n",
       "      <td>138187.00</td>\n",
       "      <td>109402.65</td>\n",
       "    </tr>\n",
       "    <tr>\n",
       "      <th>22</th>\n",
       "      <td>2024-09</td>\n",
       "      <td>Gastos Locacion</td>\n",
       "      <td>43600.00</td>\n",
       "      <td>29569.52</td>\n",
       "    </tr>\n",
       "    <tr>\n",
       "      <th>23</th>\n",
       "      <td>2024-09</td>\n",
       "      <td>Materiales</td>\n",
       "      <td>32900.00</td>\n",
       "      <td>22312.78</td>\n",
       "    </tr>\n",
       "    <tr>\n",
       "      <th>24</th>\n",
       "      <td>2024-09</td>\n",
       "      <td>Salarios</td>\n",
       "      <td>885000.00</td>\n",
       "      <td>600207.00</td>\n",
       "    </tr>\n",
       "    <tr>\n",
       "      <th>25</th>\n",
       "      <td>2024-09</td>\n",
       "      <td>Seguro</td>\n",
       "      <td>138952.00</td>\n",
       "      <td>94237.25</td>\n",
       "    </tr>\n",
       "    <tr>\n",
       "      <th>26</th>\n",
       "      <td>2024-10</td>\n",
       "      <td>Gastos Locacion</td>\n",
       "      <td>7500.00</td>\n",
       "      <td>5086.50</td>\n",
       "    </tr>\n",
       "    <tr>\n",
       "      <th>27</th>\n",
       "      <td>2024-10</td>\n",
       "      <td>Materiales</td>\n",
       "      <td>61301.64</td>\n",
       "      <td>41574.77</td>\n",
       "    </tr>\n",
       "    <tr>\n",
       "      <th>28</th>\n",
       "      <td>2024-10</td>\n",
       "      <td>Salarios</td>\n",
       "      <td>1085000.00</td>\n",
       "      <td>735847.00</td>\n",
       "    </tr>\n",
       "  </tbody>\n",
       "</table>\n",
       "</div>"
      ],
      "text/plain": [
       "      FECHA      DESCRIPCION  MONTO TOTAL  EGRESOS-INFLACION\n",
       "0   2024-02  Gastos Locacion     62000.00           62000.00\n",
       "1   2024-02       Materiales    223437.00          223437.00\n",
       "2   2024-02         Salarios    300500.00          300500.00\n",
       "3   2024-02           Seguro     10000.00           10000.00\n",
       "4   2024-03  Gastos Locacion     42054.00           42054.00\n",
       "5   2024-03         Salarios    612500.00          612500.00\n",
       "6   2024-04  Gastos Locacion      3500.00            3500.00\n",
       "7   2024-04         Salarios    476500.00          476500.00\n",
       "8   2024-04           Seguro    191780.00          191780.00\n",
       "9   2024-05         Salarios    774645.48          613286.83\n",
       "10  2024-05           Seguro    147330.00          116641.16\n",
       "11  2024-06       Materiales    343156.00          271676.61\n",
       "12  2024-06         Salarios    697000.00          551814.90\n",
       "13  2024-06           Seguro    128040.00          101369.27\n",
       "14  2024-07  Gastos Locacion     33000.00           26126.10\n",
       "15  2024-07       Materiales     30819.99           24400.19\n",
       "16  2024-07         Salarios    825000.00          653152.50\n",
       "17  2024-07           Seguro    136687.00          108215.10\n",
       "18  2024-08  Gastos Locacion      4500.00            3562.65\n",
       "19  2024-08       Materiales     59000.00           46710.30\n",
       "20  2024-08         Salarios    946000.00          748948.20\n",
       "21  2024-08           Seguro    138187.00          109402.65\n",
       "22  2024-09  Gastos Locacion     43600.00           29569.52\n",
       "23  2024-09       Materiales     32900.00           22312.78\n",
       "24  2024-09         Salarios    885000.00          600207.00\n",
       "25  2024-09           Seguro    138952.00           94237.25\n",
       "26  2024-10  Gastos Locacion      7500.00            5086.50\n",
       "27  2024-10       Materiales     61301.64           41574.77\n",
       "28  2024-10         Salarios   1085000.00          735847.00"
      ]
     },
     "execution_count": 828,
     "metadata": {},
     "output_type": "execute_result"
    }
   ],
   "source": [
    "def ajustar_montos(df, meses1, ajuste1, meses2, ajuste2):\n",
    "    # Asegurarse de que la columna 'FECHA' esté en formato datetime y luego convertir a Period[M]\n",
    "    df['FECHA'] = pd.to_datetime(df['FECHA'], errors='coerce').dt.to_period('M')  # Convertir a Period[M]\n",
    "    \n",
    "    # Convertir meses1 y meses2 a Period[M] sin acceder a .dt\n",
    "    meses1 = pd.to_datetime(meses1).to_period('M')  # Convertir a Period[M]\n",
    "    meses2 = pd.to_datetime(meses2).to_period('M')  # Convertir a Period[M]\n",
    "    \n",
    "    # Recorrer cada fila del DataFrame\n",
    "    for index, row in df.iterrows():\n",
    "        # Si la fecha del mes es uno de los meses indicados en meses1\n",
    "        if row['FECHA'] in meses1:\n",
    "            # Restar el ajuste1 (ajuste de 20.83%) y asignar el resultado a 'EGRESOS-INFLACION'\n",
    "            df.at[index, 'EGRESOS-INFLACION'] = round(row['MONTO TOTAL'] - (row['MONTO TOTAL'] * ajuste1), 2)\n",
    "        # Si la fecha del mes es uno de los meses indicados en meses2\n",
    "        elif row['FECHA'] in meses2:\n",
    "            df.at[index, 'EGRESOS-INFLACION'] = round(row['MONTO TOTAL'] - (row['MONTO TOTAL'] * ajuste2), 2)\n",
    "        else:\n",
    "            # Si no es ninguno de esos meses, copiar el valor original a 'EGRESOS-INFLACION'\n",
    "            df.at[index, 'EGRESOS-INFLACION'] = row['MONTO TOTAL']\n",
    "    \n",
    "    return df\n",
    "\n",
    "# Definir los meses y ajustes\n",
    "meses1 = ['2024-05-01', '2024-06-01', '2024-07-01', '2024-08-01']\n",
    "meses2 = ['2024-09-01', '2024-10-01']\n",
    "ajuste1 = 0.2083  # 20.83% de ajuste\n",
    "ajuste2 = 0.3218  # 32.18% de ajuste\n",
    "\n",
    "# Llamar a la función para ajustar los egresos\n",
    "eg_totales_por_mes_categoria = ajustar_montos(eg_totales_por_mes_categoria, meses1, ajuste1, meses2, ajuste2)\n",
    "\n",
    "# Verificar el DataFrame ajustado\n",
    "eg_totales_por_mes_categoria.to_pickle('eg_totales_por_mes_categoria.pkl')\n",
    "eg_totales_por_mes_categoria"
   ]
  },
  {
   "cell_type": "code",
   "execution_count": 829,
   "metadata": {},
   "outputs": [
    {
     "data": {
      "text/html": [
       "<div>\n",
       "<style scoped>\n",
       "    .dataframe tbody tr th:only-of-type {\n",
       "        vertical-align: middle;\n",
       "    }\n",
       "\n",
       "    .dataframe tbody tr th {\n",
       "        vertical-align: top;\n",
       "    }\n",
       "\n",
       "    .dataframe thead th {\n",
       "        text-align: right;\n",
       "    }\n",
       "</style>\n",
       "<table border=\"1\" class=\"dataframe\">\n",
       "  <thead>\n",
       "    <tr style=\"text-align: right;\">\n",
       "      <th></th>\n",
       "      <th>FECHA</th>\n",
       "      <th>CATEGORIA</th>\n",
       "      <th>MONTO TOTAL</th>\n",
       "      <th>EGRESOS-INFLACION</th>\n",
       "    </tr>\n",
       "  </thead>\n",
       "  <tbody>\n",
       "    <tr>\n",
       "      <th>0</th>\n",
       "      <td>2024-02</td>\n",
       "      <td>Cadetes</td>\n",
       "      <td>103320.00</td>\n",
       "      <td>103320.00</td>\n",
       "    </tr>\n",
       "    <tr>\n",
       "      <th>1</th>\n",
       "      <td>2024-02</td>\n",
       "      <td>Infantiles</td>\n",
       "      <td>54450.00</td>\n",
       "      <td>54450.00</td>\n",
       "    </tr>\n",
       "    <tr>\n",
       "      <th>2</th>\n",
       "      <td>2024-02</td>\n",
       "      <td>Juveniles</td>\n",
       "      <td>54620.00</td>\n",
       "      <td>54620.00</td>\n",
       "    </tr>\n",
       "    <tr>\n",
       "      <th>3</th>\n",
       "      <td>2024-02</td>\n",
       "      <td>Mayores</td>\n",
       "      <td>121860.00</td>\n",
       "      <td>121860.00</td>\n",
       "    </tr>\n",
       "    <tr>\n",
       "      <th>4</th>\n",
       "      <td>2024-02</td>\n",
       "      <td>Menores</td>\n",
       "      <td>94400.00</td>\n",
       "      <td>94400.00</td>\n",
       "    </tr>\n",
       "    <tr>\n",
       "      <th>5</th>\n",
       "      <td>2024-02</td>\n",
       "      <td>Mini</td>\n",
       "      <td>35010.00</td>\n",
       "      <td>35010.00</td>\n",
       "    </tr>\n",
       "    <tr>\n",
       "      <th>6</th>\n",
       "      <td>2024-02</td>\n",
       "      <td>No procede</td>\n",
       "      <td>120000.00</td>\n",
       "      <td>120000.00</td>\n",
       "    </tr>\n",
       "    <tr>\n",
       "      <th>7</th>\n",
       "      <td>2024-03</td>\n",
       "      <td>Cadetes</td>\n",
       "      <td>109160.00</td>\n",
       "      <td>109160.00</td>\n",
       "    </tr>\n",
       "    <tr>\n",
       "      <th>8</th>\n",
       "      <td>2024-03</td>\n",
       "      <td>Infantiles</td>\n",
       "      <td>83190.00</td>\n",
       "      <td>83190.00</td>\n",
       "    </tr>\n",
       "    <tr>\n",
       "      <th>9</th>\n",
       "      <td>2024-03</td>\n",
       "      <td>Juveniles</td>\n",
       "      <td>52920.00</td>\n",
       "      <td>52920.00</td>\n",
       "    </tr>\n",
       "    <tr>\n",
       "      <th>10</th>\n",
       "      <td>2024-03</td>\n",
       "      <td>Mayores</td>\n",
       "      <td>253480.00</td>\n",
       "      <td>253480.00</td>\n",
       "    </tr>\n",
       "    <tr>\n",
       "      <th>11</th>\n",
       "      <td>2024-03</td>\n",
       "      <td>Menores</td>\n",
       "      <td>170570.00</td>\n",
       "      <td>170570.00</td>\n",
       "    </tr>\n",
       "    <tr>\n",
       "      <th>12</th>\n",
       "      <td>2024-03</td>\n",
       "      <td>Mini</td>\n",
       "      <td>80190.00</td>\n",
       "      <td>80190.00</td>\n",
       "    </tr>\n",
       "    <tr>\n",
       "      <th>13</th>\n",
       "      <td>2024-04</td>\n",
       "      <td>Cadetes</td>\n",
       "      <td>128170.00</td>\n",
       "      <td>128170.00</td>\n",
       "    </tr>\n",
       "    <tr>\n",
       "      <th>14</th>\n",
       "      <td>2024-04</td>\n",
       "      <td>Infantiles</td>\n",
       "      <td>96466.66</td>\n",
       "      <td>96466.66</td>\n",
       "    </tr>\n",
       "    <tr>\n",
       "      <th>15</th>\n",
       "      <td>2024-04</td>\n",
       "      <td>Juveniles</td>\n",
       "      <td>79220.00</td>\n",
       "      <td>79220.00</td>\n",
       "    </tr>\n",
       "    <tr>\n",
       "      <th>16</th>\n",
       "      <td>2024-04</td>\n",
       "      <td>Mayores</td>\n",
       "      <td>236800.00</td>\n",
       "      <td>236800.00</td>\n",
       "    </tr>\n",
       "    <tr>\n",
       "      <th>17</th>\n",
       "      <td>2024-04</td>\n",
       "      <td>Menores</td>\n",
       "      <td>157826.66</td>\n",
       "      <td>157826.66</td>\n",
       "    </tr>\n",
       "    <tr>\n",
       "      <th>18</th>\n",
       "      <td>2024-04</td>\n",
       "      <td>Mini</td>\n",
       "      <td>95536.66</td>\n",
       "      <td>95536.66</td>\n",
       "    </tr>\n",
       "    <tr>\n",
       "      <th>19</th>\n",
       "      <td>2024-04</td>\n",
       "      <td>No procede</td>\n",
       "      <td>30000.00</td>\n",
       "      <td>30000.00</td>\n",
       "    </tr>\n",
       "    <tr>\n",
       "      <th>20</th>\n",
       "      <td>2024-05</td>\n",
       "      <td>Cadetes</td>\n",
       "      <td>142645.00</td>\n",
       "      <td>112932.05</td>\n",
       "    </tr>\n",
       "    <tr>\n",
       "      <th>21</th>\n",
       "      <td>2024-05</td>\n",
       "      <td>Infantiles</td>\n",
       "      <td>159050.00</td>\n",
       "      <td>125919.88</td>\n",
       "    </tr>\n",
       "    <tr>\n",
       "      <th>22</th>\n",
       "      <td>2024-05</td>\n",
       "      <td>Juveniles</td>\n",
       "      <td>75645.00</td>\n",
       "      <td>59888.15</td>\n",
       "    </tr>\n",
       "    <tr>\n",
       "      <th>23</th>\n",
       "      <td>2024-05</td>\n",
       "      <td>Mayores</td>\n",
       "      <td>238480.00</td>\n",
       "      <td>188804.62</td>\n",
       "    </tr>\n",
       "    <tr>\n",
       "      <th>24</th>\n",
       "      <td>2024-05</td>\n",
       "      <td>Menores</td>\n",
       "      <td>212379.50</td>\n",
       "      <td>168140.85</td>\n",
       "    </tr>\n",
       "    <tr>\n",
       "      <th>25</th>\n",
       "      <td>2024-05</td>\n",
       "      <td>Mini</td>\n",
       "      <td>141829.50</td>\n",
       "      <td>112286.42</td>\n",
       "    </tr>\n",
       "    <tr>\n",
       "      <th>26</th>\n",
       "      <td>2024-06</td>\n",
       "      <td>Cadetes</td>\n",
       "      <td>136754.00</td>\n",
       "      <td>108268.14</td>\n",
       "    </tr>\n",
       "    <tr>\n",
       "      <th>27</th>\n",
       "      <td>2024-06</td>\n",
       "      <td>Infantiles</td>\n",
       "      <td>107259.00</td>\n",
       "      <td>84916.95</td>\n",
       "    </tr>\n",
       "    <tr>\n",
       "      <th>28</th>\n",
       "      <td>2024-06</td>\n",
       "      <td>Juveniles</td>\n",
       "      <td>116595.00</td>\n",
       "      <td>92308.26</td>\n",
       "    </tr>\n",
       "    <tr>\n",
       "      <th>29</th>\n",
       "      <td>2024-06</td>\n",
       "      <td>Mayores</td>\n",
       "      <td>406530.00</td>\n",
       "      <td>321849.80</td>\n",
       "    </tr>\n",
       "    <tr>\n",
       "      <th>30</th>\n",
       "      <td>2024-06</td>\n",
       "      <td>Menores</td>\n",
       "      <td>188405.00</td>\n",
       "      <td>149160.24</td>\n",
       "    </tr>\n",
       "    <tr>\n",
       "      <th>31</th>\n",
       "      <td>2024-06</td>\n",
       "      <td>Mini</td>\n",
       "      <td>158355.00</td>\n",
       "      <td>125369.65</td>\n",
       "    </tr>\n",
       "    <tr>\n",
       "      <th>32</th>\n",
       "      <td>2024-07</td>\n",
       "      <td>Cadetes</td>\n",
       "      <td>154435.00</td>\n",
       "      <td>122266.19</td>\n",
       "    </tr>\n",
       "    <tr>\n",
       "      <th>33</th>\n",
       "      <td>2024-07</td>\n",
       "      <td>Infantiles</td>\n",
       "      <td>97950.00</td>\n",
       "      <td>77547.01</td>\n",
       "    </tr>\n",
       "    <tr>\n",
       "      <th>34</th>\n",
       "      <td>2024-07</td>\n",
       "      <td>Juveniles</td>\n",
       "      <td>119485.00</td>\n",
       "      <td>94596.27</td>\n",
       "    </tr>\n",
       "    <tr>\n",
       "      <th>35</th>\n",
       "      <td>2024-07</td>\n",
       "      <td>Mayores</td>\n",
       "      <td>294630.00</td>\n",
       "      <td>233258.57</td>\n",
       "    </tr>\n",
       "    <tr>\n",
       "      <th>36</th>\n",
       "      <td>2024-07</td>\n",
       "      <td>Menores</td>\n",
       "      <td>263675.00</td>\n",
       "      <td>208751.50</td>\n",
       "    </tr>\n",
       "    <tr>\n",
       "      <th>37</th>\n",
       "      <td>2024-07</td>\n",
       "      <td>Mini</td>\n",
       "      <td>127465.00</td>\n",
       "      <td>100914.04</td>\n",
       "    </tr>\n",
       "    <tr>\n",
       "      <th>38</th>\n",
       "      <td>2024-07</td>\n",
       "      <td>No procede</td>\n",
       "      <td>30000.00</td>\n",
       "      <td>23751.00</td>\n",
       "    </tr>\n",
       "    <tr>\n",
       "      <th>39</th>\n",
       "      <td>2024-08</td>\n",
       "      <td>Cadetes</td>\n",
       "      <td>149775.00</td>\n",
       "      <td>118576.87</td>\n",
       "    </tr>\n",
       "    <tr>\n",
       "      <th>40</th>\n",
       "      <td>2024-08</td>\n",
       "      <td>Infantiles</td>\n",
       "      <td>176850.00</td>\n",
       "      <td>140012.14</td>\n",
       "    </tr>\n",
       "    <tr>\n",
       "      <th>41</th>\n",
       "      <td>2024-08</td>\n",
       "      <td>Juveniles</td>\n",
       "      <td>97625.00</td>\n",
       "      <td>77289.71</td>\n",
       "    </tr>\n",
       "    <tr>\n",
       "      <th>42</th>\n",
       "      <td>2024-08</td>\n",
       "      <td>Mayores</td>\n",
       "      <td>337300.00</td>\n",
       "      <td>267040.41</td>\n",
       "    </tr>\n",
       "    <tr>\n",
       "      <th>43</th>\n",
       "      <td>2024-08</td>\n",
       "      <td>Menores</td>\n",
       "      <td>258405.00</td>\n",
       "      <td>204579.24</td>\n",
       "    </tr>\n",
       "    <tr>\n",
       "      <th>44</th>\n",
       "      <td>2024-08</td>\n",
       "      <td>Mini</td>\n",
       "      <td>158795.00</td>\n",
       "      <td>125718.00</td>\n",
       "    </tr>\n",
       "    <tr>\n",
       "      <th>45</th>\n",
       "      <td>2024-09</td>\n",
       "      <td>Cadetes</td>\n",
       "      <td>197205.00</td>\n",
       "      <td>133744.43</td>\n",
       "    </tr>\n",
       "    <tr>\n",
       "      <th>46</th>\n",
       "      <td>2024-09</td>\n",
       "      <td>Infantiles</td>\n",
       "      <td>161358.33</td>\n",
       "      <td>109433.22</td>\n",
       "    </tr>\n",
       "    <tr>\n",
       "      <th>47</th>\n",
       "      <td>2024-09</td>\n",
       "      <td>Juveniles</td>\n",
       "      <td>111750.00</td>\n",
       "      <td>75788.85</td>\n",
       "    </tr>\n",
       "    <tr>\n",
       "      <th>48</th>\n",
       "      <td>2024-09</td>\n",
       "      <td>Mayores</td>\n",
       "      <td>293050.00</td>\n",
       "      <td>198746.51</td>\n",
       "    </tr>\n",
       "    <tr>\n",
       "      <th>49</th>\n",
       "      <td>2024-09</td>\n",
       "      <td>Menores</td>\n",
       "      <td>381333.33</td>\n",
       "      <td>258620.26</td>\n",
       "    </tr>\n",
       "    <tr>\n",
       "      <th>50</th>\n",
       "      <td>2024-09</td>\n",
       "      <td>Mini</td>\n",
       "      <td>248688.33</td>\n",
       "      <td>168660.43</td>\n",
       "    </tr>\n",
       "    <tr>\n",
       "      <th>51</th>\n",
       "      <td>2024-10</td>\n",
       "      <td>Cadetes</td>\n",
       "      <td>206201.67</td>\n",
       "      <td>139845.97</td>\n",
       "    </tr>\n",
       "    <tr>\n",
       "      <th>52</th>\n",
       "      <td>2024-10</td>\n",
       "      <td>Infantiles</td>\n",
       "      <td>180553.34</td>\n",
       "      <td>122451.28</td>\n",
       "    </tr>\n",
       "    <tr>\n",
       "      <th>53</th>\n",
       "      <td>2024-10</td>\n",
       "      <td>Juveniles</td>\n",
       "      <td>94300.00</td>\n",
       "      <td>63954.26</td>\n",
       "    </tr>\n",
       "    <tr>\n",
       "      <th>54</th>\n",
       "      <td>2024-10</td>\n",
       "      <td>Mayores</td>\n",
       "      <td>210750.00</td>\n",
       "      <td>142930.65</td>\n",
       "    </tr>\n",
       "    <tr>\n",
       "      <th>55</th>\n",
       "      <td>2024-10</td>\n",
       "      <td>Menores</td>\n",
       "      <td>314603.34</td>\n",
       "      <td>213363.99</td>\n",
       "    </tr>\n",
       "    <tr>\n",
       "      <th>56</th>\n",
       "      <td>2024-10</td>\n",
       "      <td>Mini</td>\n",
       "      <td>226976.67</td>\n",
       "      <td>153935.58</td>\n",
       "    </tr>\n",
       "    <tr>\n",
       "      <th>57</th>\n",
       "      <td>2024-10</td>\n",
       "      <td>No procede</td>\n",
       "      <td>209500.00</td>\n",
       "      <td>142082.90</td>\n",
       "    </tr>\n",
       "  </tbody>\n",
       "</table>\n",
       "</div>"
      ],
      "text/plain": [
       "      FECHA   CATEGORIA  MONTO TOTAL  EGRESOS-INFLACION\n",
       "0   2024-02     Cadetes    103320.00          103320.00\n",
       "1   2024-02  Infantiles     54450.00           54450.00\n",
       "2   2024-02   Juveniles     54620.00           54620.00\n",
       "3   2024-02     Mayores    121860.00          121860.00\n",
       "4   2024-02     Menores     94400.00           94400.00\n",
       "5   2024-02        Mini     35010.00           35010.00\n",
       "6   2024-02  No procede    120000.00          120000.00\n",
       "7   2024-03     Cadetes    109160.00          109160.00\n",
       "8   2024-03  Infantiles     83190.00           83190.00\n",
       "9   2024-03   Juveniles     52920.00           52920.00\n",
       "10  2024-03     Mayores    253480.00          253480.00\n",
       "11  2024-03     Menores    170570.00          170570.00\n",
       "12  2024-03        Mini     80190.00           80190.00\n",
       "13  2024-04     Cadetes    128170.00          128170.00\n",
       "14  2024-04  Infantiles     96466.66           96466.66\n",
       "15  2024-04   Juveniles     79220.00           79220.00\n",
       "16  2024-04     Mayores    236800.00          236800.00\n",
       "17  2024-04     Menores    157826.66          157826.66\n",
       "18  2024-04        Mini     95536.66           95536.66\n",
       "19  2024-04  No procede     30000.00           30000.00\n",
       "20  2024-05     Cadetes    142645.00          112932.05\n",
       "21  2024-05  Infantiles    159050.00          125919.88\n",
       "22  2024-05   Juveniles     75645.00           59888.15\n",
       "23  2024-05     Mayores    238480.00          188804.62\n",
       "24  2024-05     Menores    212379.50          168140.85\n",
       "25  2024-05        Mini    141829.50          112286.42\n",
       "26  2024-06     Cadetes    136754.00          108268.14\n",
       "27  2024-06  Infantiles    107259.00           84916.95\n",
       "28  2024-06   Juveniles    116595.00           92308.26\n",
       "29  2024-06     Mayores    406530.00          321849.80\n",
       "30  2024-06     Menores    188405.00          149160.24\n",
       "31  2024-06        Mini    158355.00          125369.65\n",
       "32  2024-07     Cadetes    154435.00          122266.19\n",
       "33  2024-07  Infantiles     97950.00           77547.01\n",
       "34  2024-07   Juveniles    119485.00           94596.27\n",
       "35  2024-07     Mayores    294630.00          233258.57\n",
       "36  2024-07     Menores    263675.00          208751.50\n",
       "37  2024-07        Mini    127465.00          100914.04\n",
       "38  2024-07  No procede     30000.00           23751.00\n",
       "39  2024-08     Cadetes    149775.00          118576.87\n",
       "40  2024-08  Infantiles    176850.00          140012.14\n",
       "41  2024-08   Juveniles     97625.00           77289.71\n",
       "42  2024-08     Mayores    337300.00          267040.41\n",
       "43  2024-08     Menores    258405.00          204579.24\n",
       "44  2024-08        Mini    158795.00          125718.00\n",
       "45  2024-09     Cadetes    197205.00          133744.43\n",
       "46  2024-09  Infantiles    161358.33          109433.22\n",
       "47  2024-09   Juveniles    111750.00           75788.85\n",
       "48  2024-09     Mayores    293050.00          198746.51\n",
       "49  2024-09     Menores    381333.33          258620.26\n",
       "50  2024-09        Mini    248688.33          168660.43\n",
       "51  2024-10     Cadetes    206201.67          139845.97\n",
       "52  2024-10  Infantiles    180553.34          122451.28\n",
       "53  2024-10   Juveniles     94300.00           63954.26\n",
       "54  2024-10     Mayores    210750.00          142930.65\n",
       "55  2024-10     Menores    314603.34          213363.99\n",
       "56  2024-10        Mini    226976.67          153935.58\n",
       "57  2024-10  No procede    209500.00          142082.90"
      ]
     },
     "execution_count": 829,
     "metadata": {},
     "output_type": "execute_result"
    }
   ],
   "source": [
    "# Llamar a la función para ajustar los INGRESOS\n",
    "ing_totales_por_mes_categoria = ajustar_montos(ing_totales_por_mes_categoria, meses1, ajuste1, meses2, ajuste2)\n",
    "# Verificar el DataFrame ajustado\n",
    "ing_totales_por_mes_categoria.to_pickle('ing_totales_por_mes_categoria.pkl')\n",
    "ing_totales_por_mes_categoria"
   ]
  },
  {
   "cell_type": "code",
   "execution_count": 830,
   "metadata": {},
   "outputs": [],
   "source": [
    "eg_totales_por_mes_categoria['DESCRIPCION'] = eg_totales_por_mes_categoria['DESCRIPCION'].replace({'AMPAT': 'Seguros', 'Seguro AP': 'Seguros',  'Seguro RC': 'Seguros'})"
   ]
  },
  {
   "cell_type": "markdown",
   "metadata": {},
   "source": [
    "- Este heatmap tiene los egresos por categoria en su eje X, y los meses evaluados, para poder ver rapidamente los gastos mas importantes mes a mes.\n",
    "\n",
    "- con este heatmap vemos que hubieron gastos extraordinarios de materiales: siendo inicio de año, tiene sentido que este mes se haya gastado mucho dinero en materiales. Se gasto casi lo mismo en materiales que en salarios, que es el gasto mayor que hay por mes. El resto de los meses casi no hubieron gastos significativos en este rubro, excepto en junio que se volvio a hacer una gran compra.\n",
    "- justamente en estos dos meses vemos que se ha hecho un gasto extraordinario en materiales, y son los dos meses en que hemos tenido mas egresos que ingresos. Sin embrago, ya para el mes de junio vemos que ya el club tenia un cierto saldo acumulado, por lo este gasto extraordinario encuentra a las finanzas del club mejor paradas. \n",
    "- el resto de los meses, los ingresos han superado a los egresos, lo que permitio al club que a lo largo del anio el saldo acumulado vaya creciendo.  "
   ]
  },
  {
   "cell_type": "code",
   "execution_count": 831,
   "metadata": {},
   "outputs": [],
   "source": [
    "egresos_inflacion = eg_totales_por_mes_categoria.groupby(eg_totales_por_mes_categoria['FECHA'])[['EGRESOS-INFLACION']].sum().reset_index()"
   ]
  },
  {
   "cell_type": "markdown",
   "metadata": {},
   "source": [
    "Egresos mensuales con inflacion"
   ]
  },
  {
   "cell_type": "code",
   "execution_count": 832,
   "metadata": {},
   "outputs": [
    {
     "data": {
      "text/plain": [
       "array([Period('2024-02', 'M'), Period('2024-03', 'M'),\n",
       "       Period('2024-04', 'M'), Period('2024-05', 'M'),\n",
       "       Period('2024-06', 'M'), Period('2024-07', 'M'),\n",
       "       Period('2024-08', 'M'), Period('2024-09', 'M'),\n",
       "       Period('2024-10', 'M')], dtype=object)"
      ]
     },
     "execution_count": 832,
     "metadata": {},
     "output_type": "execute_result"
    }
   ],
   "source": [
    "egresos_inflacion['FECHA'].values"
   ]
  },
  {
   "cell_type": "code",
   "execution_count": 833,
   "metadata": {},
   "outputs": [
    {
     "data": {
      "application/vnd.plotly.v1+json": {
       "config": {
        "plotlyServerURL": "https://plot.ly"
       },
       "data": [
        {
         "marker": {
          "color": "#900C3F"
         },
         "name": "Egresos por mes",
         "type": "bar",
         "x": [
          "2024-02",
          "2024-03",
          "2024-04",
          "2024-05",
          "2024-06",
          "2024-07",
          "2024-08",
          "2024-09",
          "2024-10"
         ],
         "y": [
          595937,
          654554,
          671780,
          729927.99,
          924860.78,
          811893.89,
          908623.7999999999,
          746326.55,
          782508.27
         ]
        }
       ],
       "layout": {
        "barmode": "group",
        "hovermode": "x unified",
        "margin": {
         "b": 100,
         "l": 50,
         "r": 50,
         "t": 50
        },
        "paper_bgcolor": "#f4f4f4",
        "plot_bgcolor": "white",
        "template": {
         "data": {
          "bar": [
           {
            "error_x": {
             "color": "#2a3f5f"
            },
            "error_y": {
             "color": "#2a3f5f"
            },
            "marker": {
             "line": {
              "color": "#E5ECF6",
              "width": 0.5
             },
             "pattern": {
              "fillmode": "overlay",
              "size": 10,
              "solidity": 0.2
             }
            },
            "type": "bar"
           }
          ],
          "barpolar": [
           {
            "marker": {
             "line": {
              "color": "#E5ECF6",
              "width": 0.5
             },
             "pattern": {
              "fillmode": "overlay",
              "size": 10,
              "solidity": 0.2
             }
            },
            "type": "barpolar"
           }
          ],
          "carpet": [
           {
            "aaxis": {
             "endlinecolor": "#2a3f5f",
             "gridcolor": "white",
             "linecolor": "white",
             "minorgridcolor": "white",
             "startlinecolor": "#2a3f5f"
            },
            "baxis": {
             "endlinecolor": "#2a3f5f",
             "gridcolor": "white",
             "linecolor": "white",
             "minorgridcolor": "white",
             "startlinecolor": "#2a3f5f"
            },
            "type": "carpet"
           }
          ],
          "choropleth": [
           {
            "colorbar": {
             "outlinewidth": 0,
             "ticks": ""
            },
            "type": "choropleth"
           }
          ],
          "contour": [
           {
            "colorbar": {
             "outlinewidth": 0,
             "ticks": ""
            },
            "colorscale": [
             [
              0,
              "#0d0887"
             ],
             [
              0.1111111111111111,
              "#46039f"
             ],
             [
              0.2222222222222222,
              "#7201a8"
             ],
             [
              0.3333333333333333,
              "#9c179e"
             ],
             [
              0.4444444444444444,
              "#bd3786"
             ],
             [
              0.5555555555555556,
              "#d8576b"
             ],
             [
              0.6666666666666666,
              "#ed7953"
             ],
             [
              0.7777777777777778,
              "#fb9f3a"
             ],
             [
              0.8888888888888888,
              "#fdca26"
             ],
             [
              1,
              "#f0f921"
             ]
            ],
            "type": "contour"
           }
          ],
          "contourcarpet": [
           {
            "colorbar": {
             "outlinewidth": 0,
             "ticks": ""
            },
            "type": "contourcarpet"
           }
          ],
          "heatmap": [
           {
            "colorbar": {
             "outlinewidth": 0,
             "ticks": ""
            },
            "colorscale": [
             [
              0,
              "#0d0887"
             ],
             [
              0.1111111111111111,
              "#46039f"
             ],
             [
              0.2222222222222222,
              "#7201a8"
             ],
             [
              0.3333333333333333,
              "#9c179e"
             ],
             [
              0.4444444444444444,
              "#bd3786"
             ],
             [
              0.5555555555555556,
              "#d8576b"
             ],
             [
              0.6666666666666666,
              "#ed7953"
             ],
             [
              0.7777777777777778,
              "#fb9f3a"
             ],
             [
              0.8888888888888888,
              "#fdca26"
             ],
             [
              1,
              "#f0f921"
             ]
            ],
            "type": "heatmap"
           }
          ],
          "heatmapgl": [
           {
            "colorbar": {
             "outlinewidth": 0,
             "ticks": ""
            },
            "colorscale": [
             [
              0,
              "#0d0887"
             ],
             [
              0.1111111111111111,
              "#46039f"
             ],
             [
              0.2222222222222222,
              "#7201a8"
             ],
             [
              0.3333333333333333,
              "#9c179e"
             ],
             [
              0.4444444444444444,
              "#bd3786"
             ],
             [
              0.5555555555555556,
              "#d8576b"
             ],
             [
              0.6666666666666666,
              "#ed7953"
             ],
             [
              0.7777777777777778,
              "#fb9f3a"
             ],
             [
              0.8888888888888888,
              "#fdca26"
             ],
             [
              1,
              "#f0f921"
             ]
            ],
            "type": "heatmapgl"
           }
          ],
          "histogram": [
           {
            "marker": {
             "pattern": {
              "fillmode": "overlay",
              "size": 10,
              "solidity": 0.2
             }
            },
            "type": "histogram"
           }
          ],
          "histogram2d": [
           {
            "colorbar": {
             "outlinewidth": 0,
             "ticks": ""
            },
            "colorscale": [
             [
              0,
              "#0d0887"
             ],
             [
              0.1111111111111111,
              "#46039f"
             ],
             [
              0.2222222222222222,
              "#7201a8"
             ],
             [
              0.3333333333333333,
              "#9c179e"
             ],
             [
              0.4444444444444444,
              "#bd3786"
             ],
             [
              0.5555555555555556,
              "#d8576b"
             ],
             [
              0.6666666666666666,
              "#ed7953"
             ],
             [
              0.7777777777777778,
              "#fb9f3a"
             ],
             [
              0.8888888888888888,
              "#fdca26"
             ],
             [
              1,
              "#f0f921"
             ]
            ],
            "type": "histogram2d"
           }
          ],
          "histogram2dcontour": [
           {
            "colorbar": {
             "outlinewidth": 0,
             "ticks": ""
            },
            "colorscale": [
             [
              0,
              "#0d0887"
             ],
             [
              0.1111111111111111,
              "#46039f"
             ],
             [
              0.2222222222222222,
              "#7201a8"
             ],
             [
              0.3333333333333333,
              "#9c179e"
             ],
             [
              0.4444444444444444,
              "#bd3786"
             ],
             [
              0.5555555555555556,
              "#d8576b"
             ],
             [
              0.6666666666666666,
              "#ed7953"
             ],
             [
              0.7777777777777778,
              "#fb9f3a"
             ],
             [
              0.8888888888888888,
              "#fdca26"
             ],
             [
              1,
              "#f0f921"
             ]
            ],
            "type": "histogram2dcontour"
           }
          ],
          "mesh3d": [
           {
            "colorbar": {
             "outlinewidth": 0,
             "ticks": ""
            },
            "type": "mesh3d"
           }
          ],
          "parcoords": [
           {
            "line": {
             "colorbar": {
              "outlinewidth": 0,
              "ticks": ""
             }
            },
            "type": "parcoords"
           }
          ],
          "pie": [
           {
            "automargin": true,
            "type": "pie"
           }
          ],
          "scatter": [
           {
            "fillpattern": {
             "fillmode": "overlay",
             "size": 10,
             "solidity": 0.2
            },
            "type": "scatter"
           }
          ],
          "scatter3d": [
           {
            "line": {
             "colorbar": {
              "outlinewidth": 0,
              "ticks": ""
             }
            },
            "marker": {
             "colorbar": {
              "outlinewidth": 0,
              "ticks": ""
             }
            },
            "type": "scatter3d"
           }
          ],
          "scattercarpet": [
           {
            "marker": {
             "colorbar": {
              "outlinewidth": 0,
              "ticks": ""
             }
            },
            "type": "scattercarpet"
           }
          ],
          "scattergeo": [
           {
            "marker": {
             "colorbar": {
              "outlinewidth": 0,
              "ticks": ""
             }
            },
            "type": "scattergeo"
           }
          ],
          "scattergl": [
           {
            "marker": {
             "colorbar": {
              "outlinewidth": 0,
              "ticks": ""
             }
            },
            "type": "scattergl"
           }
          ],
          "scattermapbox": [
           {
            "marker": {
             "colorbar": {
              "outlinewidth": 0,
              "ticks": ""
             }
            },
            "type": "scattermapbox"
           }
          ],
          "scatterpolar": [
           {
            "marker": {
             "colorbar": {
              "outlinewidth": 0,
              "ticks": ""
             }
            },
            "type": "scatterpolar"
           }
          ],
          "scatterpolargl": [
           {
            "marker": {
             "colorbar": {
              "outlinewidth": 0,
              "ticks": ""
             }
            },
            "type": "scatterpolargl"
           }
          ],
          "scatterternary": [
           {
            "marker": {
             "colorbar": {
              "outlinewidth": 0,
              "ticks": ""
             }
            },
            "type": "scatterternary"
           }
          ],
          "surface": [
           {
            "colorbar": {
             "outlinewidth": 0,
             "ticks": ""
            },
            "colorscale": [
             [
              0,
              "#0d0887"
             ],
             [
              0.1111111111111111,
              "#46039f"
             ],
             [
              0.2222222222222222,
              "#7201a8"
             ],
             [
              0.3333333333333333,
              "#9c179e"
             ],
             [
              0.4444444444444444,
              "#bd3786"
             ],
             [
              0.5555555555555556,
              "#d8576b"
             ],
             [
              0.6666666666666666,
              "#ed7953"
             ],
             [
              0.7777777777777778,
              "#fb9f3a"
             ],
             [
              0.8888888888888888,
              "#fdca26"
             ],
             [
              1,
              "#f0f921"
             ]
            ],
            "type": "surface"
           }
          ],
          "table": [
           {
            "cells": {
             "fill": {
              "color": "#EBF0F8"
             },
             "line": {
              "color": "white"
             }
            },
            "header": {
             "fill": {
              "color": "#C8D4E3"
             },
             "line": {
              "color": "white"
             }
            },
            "type": "table"
           }
          ]
         },
         "layout": {
          "annotationdefaults": {
           "arrowcolor": "#2a3f5f",
           "arrowhead": 0,
           "arrowwidth": 1
          },
          "autotypenumbers": "strict",
          "coloraxis": {
           "colorbar": {
            "outlinewidth": 0,
            "ticks": ""
           }
          },
          "colorscale": {
           "diverging": [
            [
             0,
             "#8e0152"
            ],
            [
             0.1,
             "#c51b7d"
            ],
            [
             0.2,
             "#de77ae"
            ],
            [
             0.3,
             "#f1b6da"
            ],
            [
             0.4,
             "#fde0ef"
            ],
            [
             0.5,
             "#f7f7f7"
            ],
            [
             0.6,
             "#e6f5d0"
            ],
            [
             0.7,
             "#b8e186"
            ],
            [
             0.8,
             "#7fbc41"
            ],
            [
             0.9,
             "#4d9221"
            ],
            [
             1,
             "#276419"
            ]
           ],
           "sequential": [
            [
             0,
             "#0d0887"
            ],
            [
             0.1111111111111111,
             "#46039f"
            ],
            [
             0.2222222222222222,
             "#7201a8"
            ],
            [
             0.3333333333333333,
             "#9c179e"
            ],
            [
             0.4444444444444444,
             "#bd3786"
            ],
            [
             0.5555555555555556,
             "#d8576b"
            ],
            [
             0.6666666666666666,
             "#ed7953"
            ],
            [
             0.7777777777777778,
             "#fb9f3a"
            ],
            [
             0.8888888888888888,
             "#fdca26"
            ],
            [
             1,
             "#f0f921"
            ]
           ],
           "sequentialminus": [
            [
             0,
             "#0d0887"
            ],
            [
             0.1111111111111111,
             "#46039f"
            ],
            [
             0.2222222222222222,
             "#7201a8"
            ],
            [
             0.3333333333333333,
             "#9c179e"
            ],
            [
             0.4444444444444444,
             "#bd3786"
            ],
            [
             0.5555555555555556,
             "#d8576b"
            ],
            [
             0.6666666666666666,
             "#ed7953"
            ],
            [
             0.7777777777777778,
             "#fb9f3a"
            ],
            [
             0.8888888888888888,
             "#fdca26"
            ],
            [
             1,
             "#f0f921"
            ]
           ]
          },
          "colorway": [
           "#636efa",
           "#EF553B",
           "#00cc96",
           "#ab63fa",
           "#FFA15A",
           "#19d3f3",
           "#FF6692",
           "#B6E880",
           "#FF97FF",
           "#FECB52"
          ],
          "font": {
           "color": "#2a3f5f"
          },
          "geo": {
           "bgcolor": "white",
           "lakecolor": "white",
           "landcolor": "#E5ECF6",
           "showlakes": true,
           "showland": true,
           "subunitcolor": "white"
          },
          "hoverlabel": {
           "align": "left"
          },
          "hovermode": "closest",
          "mapbox": {
           "style": "light"
          },
          "paper_bgcolor": "white",
          "plot_bgcolor": "#E5ECF6",
          "polar": {
           "angularaxis": {
            "gridcolor": "white",
            "linecolor": "white",
            "ticks": ""
           },
           "bgcolor": "#E5ECF6",
           "radialaxis": {
            "gridcolor": "white",
            "linecolor": "white",
            "ticks": ""
           }
          },
          "scene": {
           "xaxis": {
            "backgroundcolor": "#E5ECF6",
            "gridcolor": "white",
            "gridwidth": 2,
            "linecolor": "white",
            "showbackground": true,
            "ticks": "",
            "zerolinecolor": "white"
           },
           "yaxis": {
            "backgroundcolor": "#E5ECF6",
            "gridcolor": "white",
            "gridwidth": 2,
            "linecolor": "white",
            "showbackground": true,
            "ticks": "",
            "zerolinecolor": "white"
           },
           "zaxis": {
            "backgroundcolor": "#E5ECF6",
            "gridcolor": "white",
            "gridwidth": 2,
            "linecolor": "white",
            "showbackground": true,
            "ticks": "",
            "zerolinecolor": "white"
           }
          },
          "shapedefaults": {
           "line": {
            "color": "#2a3f5f"
           }
          },
          "ternary": {
           "aaxis": {
            "gridcolor": "white",
            "linecolor": "white",
            "ticks": ""
           },
           "baxis": {
            "gridcolor": "white",
            "linecolor": "white",
            "ticks": ""
           },
           "bgcolor": "#E5ECF6",
           "caxis": {
            "gridcolor": "white",
            "linecolor": "white",
            "ticks": ""
           }
          },
          "title": {
           "x": 0.05
          },
          "xaxis": {
           "automargin": true,
           "gridcolor": "white",
           "linecolor": "white",
           "ticks": "",
           "title": {
            "standoff": 15
           },
           "zerolinecolor": "white",
           "zerolinewidth": 2
          },
          "yaxis": {
           "automargin": true,
           "gridcolor": "white",
           "linecolor": "white",
           "ticks": "",
           "title": {
            "standoff": 15
           },
           "zerolinecolor": "white",
           "zerolinewidth": 2
          }
         }
        },
        "title": {
         "text": "Egresos Mensuales 2024"
        },
        "xaxis": {
         "tickangle": 45,
         "tickformat": "%Y-%m",
         "tickmode": "array",
         "title": {
          "text": "Fecha"
         }
        },
        "yaxis": {
         "gridcolor": "lightgrey",
         "showgrid": true,
         "tickprefix": "$",
         "title": {
          "text": "Monto Total"
         }
        }
       }
      }
     },
     "metadata": {},
     "output_type": "display_data"
    }
   ],
   "source": [
    "# Asignar 'FECHA' al eje X y 'EGRESOS-INFLACION' al eje Y\n",
    "x = ['2024-02', '2024-03', '2024-04', '2024-05', '2024-06', '2024-07', '2024-08', '2024-09', '2024-10']\n",
    "y = egresos_inflacion['EGRESOS-INFLACION']\n",
    "\n",
    "# Definir la traza para los egresos\n",
    "trace1 = go.Bar(\n",
    "    x=x,  # Fecha en el eje X\n",
    "    y=y,  # Total de egresos en el eje Y\n",
    "    name='Egresos por mes',\n",
    "    marker={'color': '#900C3F'}\n",
    ")\n",
    "\n",
    "# Lista de trazas\n",
    "data = [trace1]\n",
    "\n",
    "# Layout del gráfico\n",
    "layout = go.Layout(\n",
    "    xaxis={\n",
    "        'title': 'Fecha',\n",
    "        'tickangle': 45,\n",
    "        'tickmode': 'array',\n",
    "        'tickformat': '%Y-%m',  # Formato de fecha para mostrar año y mes\n",
    "    },\n",
    "    yaxis={\n",
    "        'title': 'Monto Total',\n",
    "        'tickprefix': '$',\n",
    "        'showgrid': True,\n",
    "        'gridcolor': 'lightgrey'\n",
    "    },\n",
    "    barmode='group',\n",
    "    title='Egresos Mensuales 2024',\n",
    "    plot_bgcolor='white',\n",
    "    paper_bgcolor='#f4f4f4',\n",
    "    margin={'l': 50, 'r': 50, 't': 50, 'b': 100},\n",
    "    hovermode='x unified'\n",
    ")\n",
    "\n",
    "# Crear la figura\n",
    "fig = go.Figure(data=data, layout=layout)\n",
    "\n",
    "# Mostrar el gráfico\n",
    "fig.show()\n",
    "\n",
    "# Exportar a HTML si deseas\n",
    "pio.write_html(fig, 'Egresos_inflacion.html', auto_open=True)\n"
   ]
  },
  {
   "cell_type": "markdown",
   "metadata": {},
   "source": [
    "Handball"
   ]
  },
  {
   "cell_type": "code",
   "execution_count": 834,
   "metadata": {},
   "outputs": [
    {
     "data": {
      "text/html": [
       "<div>\n",
       "<style scoped>\n",
       "    .dataframe tbody tr th:only-of-type {\n",
       "        vertical-align: middle;\n",
       "    }\n",
       "\n",
       "    .dataframe tbody tr th {\n",
       "        vertical-align: top;\n",
       "    }\n",
       "\n",
       "    .dataframe thead th {\n",
       "        text-align: right;\n",
       "    }\n",
       "</style>\n",
       "<table border=\"1\" class=\"dataframe\">\n",
       "  <thead>\n",
       "    <tr style=\"text-align: right;\">\n",
       "      <th></th>\n",
       "      <th>FECHA</th>\n",
       "      <th>CATEGORIA</th>\n",
       "      <th>MONTO TOTAL</th>\n",
       "      <th>INGRESOS-INFLACION</th>\n",
       "    </tr>\n",
       "  </thead>\n",
       "  <tbody>\n",
       "    <tr>\n",
       "      <th>0</th>\n",
       "      <td>2024-02</td>\n",
       "      <td>Cadetes</td>\n",
       "      <td>103320.00</td>\n",
       "      <td>103320.00</td>\n",
       "    </tr>\n",
       "    <tr>\n",
       "      <th>1</th>\n",
       "      <td>2024-02</td>\n",
       "      <td>Infantiles</td>\n",
       "      <td>54450.00</td>\n",
       "      <td>54450.00</td>\n",
       "    </tr>\n",
       "    <tr>\n",
       "      <th>2</th>\n",
       "      <td>2024-02</td>\n",
       "      <td>Juveniles</td>\n",
       "      <td>54620.00</td>\n",
       "      <td>54620.00</td>\n",
       "    </tr>\n",
       "    <tr>\n",
       "      <th>3</th>\n",
       "      <td>2024-02</td>\n",
       "      <td>Mayores</td>\n",
       "      <td>121860.00</td>\n",
       "      <td>121860.00</td>\n",
       "    </tr>\n",
       "    <tr>\n",
       "      <th>4</th>\n",
       "      <td>2024-02</td>\n",
       "      <td>Menores</td>\n",
       "      <td>94400.00</td>\n",
       "      <td>94400.00</td>\n",
       "    </tr>\n",
       "    <tr>\n",
       "      <th>5</th>\n",
       "      <td>2024-02</td>\n",
       "      <td>Mini</td>\n",
       "      <td>35010.00</td>\n",
       "      <td>35010.00</td>\n",
       "    </tr>\n",
       "    <tr>\n",
       "      <th>6</th>\n",
       "      <td>2024-02</td>\n",
       "      <td>No procede</td>\n",
       "      <td>120000.00</td>\n",
       "      <td>120000.00</td>\n",
       "    </tr>\n",
       "    <tr>\n",
       "      <th>7</th>\n",
       "      <td>2024-03</td>\n",
       "      <td>Cadetes</td>\n",
       "      <td>109160.00</td>\n",
       "      <td>109160.00</td>\n",
       "    </tr>\n",
       "    <tr>\n",
       "      <th>8</th>\n",
       "      <td>2024-03</td>\n",
       "      <td>Infantiles</td>\n",
       "      <td>83190.00</td>\n",
       "      <td>83190.00</td>\n",
       "    </tr>\n",
       "    <tr>\n",
       "      <th>9</th>\n",
       "      <td>2024-03</td>\n",
       "      <td>Juveniles</td>\n",
       "      <td>52920.00</td>\n",
       "      <td>52920.00</td>\n",
       "    </tr>\n",
       "    <tr>\n",
       "      <th>10</th>\n",
       "      <td>2024-03</td>\n",
       "      <td>Mayores</td>\n",
       "      <td>253480.00</td>\n",
       "      <td>253480.00</td>\n",
       "    </tr>\n",
       "    <tr>\n",
       "      <th>11</th>\n",
       "      <td>2024-03</td>\n",
       "      <td>Menores</td>\n",
       "      <td>170570.00</td>\n",
       "      <td>170570.00</td>\n",
       "    </tr>\n",
       "    <tr>\n",
       "      <th>12</th>\n",
       "      <td>2024-03</td>\n",
       "      <td>Mini</td>\n",
       "      <td>80190.00</td>\n",
       "      <td>80190.00</td>\n",
       "    </tr>\n",
       "    <tr>\n",
       "      <th>13</th>\n",
       "      <td>2024-04</td>\n",
       "      <td>Cadetes</td>\n",
       "      <td>128170.00</td>\n",
       "      <td>128170.00</td>\n",
       "    </tr>\n",
       "    <tr>\n",
       "      <th>14</th>\n",
       "      <td>2024-04</td>\n",
       "      <td>Infantiles</td>\n",
       "      <td>96466.66</td>\n",
       "      <td>96466.66</td>\n",
       "    </tr>\n",
       "    <tr>\n",
       "      <th>15</th>\n",
       "      <td>2024-04</td>\n",
       "      <td>Juveniles</td>\n",
       "      <td>79220.00</td>\n",
       "      <td>79220.00</td>\n",
       "    </tr>\n",
       "    <tr>\n",
       "      <th>16</th>\n",
       "      <td>2024-04</td>\n",
       "      <td>Mayores</td>\n",
       "      <td>236800.00</td>\n",
       "      <td>236800.00</td>\n",
       "    </tr>\n",
       "    <tr>\n",
       "      <th>17</th>\n",
       "      <td>2024-04</td>\n",
       "      <td>Menores</td>\n",
       "      <td>157826.66</td>\n",
       "      <td>157826.66</td>\n",
       "    </tr>\n",
       "    <tr>\n",
       "      <th>18</th>\n",
       "      <td>2024-04</td>\n",
       "      <td>Mini</td>\n",
       "      <td>95536.66</td>\n",
       "      <td>95536.66</td>\n",
       "    </tr>\n",
       "    <tr>\n",
       "      <th>19</th>\n",
       "      <td>2024-04</td>\n",
       "      <td>No procede</td>\n",
       "      <td>30000.00</td>\n",
       "      <td>30000.00</td>\n",
       "    </tr>\n",
       "    <tr>\n",
       "      <th>20</th>\n",
       "      <td>2024-05</td>\n",
       "      <td>Cadetes</td>\n",
       "      <td>142645.00</td>\n",
       "      <td>112932.05</td>\n",
       "    </tr>\n",
       "    <tr>\n",
       "      <th>21</th>\n",
       "      <td>2024-05</td>\n",
       "      <td>Infantiles</td>\n",
       "      <td>159050.00</td>\n",
       "      <td>125919.88</td>\n",
       "    </tr>\n",
       "    <tr>\n",
       "      <th>22</th>\n",
       "      <td>2024-05</td>\n",
       "      <td>Juveniles</td>\n",
       "      <td>75645.00</td>\n",
       "      <td>59888.15</td>\n",
       "    </tr>\n",
       "    <tr>\n",
       "      <th>23</th>\n",
       "      <td>2024-05</td>\n",
       "      <td>Mayores</td>\n",
       "      <td>238480.00</td>\n",
       "      <td>188804.62</td>\n",
       "    </tr>\n",
       "    <tr>\n",
       "      <th>24</th>\n",
       "      <td>2024-05</td>\n",
       "      <td>Menores</td>\n",
       "      <td>212379.50</td>\n",
       "      <td>168140.85</td>\n",
       "    </tr>\n",
       "    <tr>\n",
       "      <th>25</th>\n",
       "      <td>2024-05</td>\n",
       "      <td>Mini</td>\n",
       "      <td>141829.50</td>\n",
       "      <td>112286.42</td>\n",
       "    </tr>\n",
       "    <tr>\n",
       "      <th>26</th>\n",
       "      <td>2024-06</td>\n",
       "      <td>Cadetes</td>\n",
       "      <td>136754.00</td>\n",
       "      <td>108268.14</td>\n",
       "    </tr>\n",
       "    <tr>\n",
       "      <th>27</th>\n",
       "      <td>2024-06</td>\n",
       "      <td>Infantiles</td>\n",
       "      <td>107259.00</td>\n",
       "      <td>84916.95</td>\n",
       "    </tr>\n",
       "    <tr>\n",
       "      <th>28</th>\n",
       "      <td>2024-06</td>\n",
       "      <td>Juveniles</td>\n",
       "      <td>116595.00</td>\n",
       "      <td>92308.26</td>\n",
       "    </tr>\n",
       "    <tr>\n",
       "      <th>29</th>\n",
       "      <td>2024-06</td>\n",
       "      <td>Mayores</td>\n",
       "      <td>406530.00</td>\n",
       "      <td>321849.80</td>\n",
       "    </tr>\n",
       "    <tr>\n",
       "      <th>30</th>\n",
       "      <td>2024-06</td>\n",
       "      <td>Menores</td>\n",
       "      <td>188405.00</td>\n",
       "      <td>149160.24</td>\n",
       "    </tr>\n",
       "    <tr>\n",
       "      <th>31</th>\n",
       "      <td>2024-06</td>\n",
       "      <td>Mini</td>\n",
       "      <td>158355.00</td>\n",
       "      <td>125369.65</td>\n",
       "    </tr>\n",
       "    <tr>\n",
       "      <th>32</th>\n",
       "      <td>2024-07</td>\n",
       "      <td>Cadetes</td>\n",
       "      <td>154435.00</td>\n",
       "      <td>122266.19</td>\n",
       "    </tr>\n",
       "    <tr>\n",
       "      <th>33</th>\n",
       "      <td>2024-07</td>\n",
       "      <td>Infantiles</td>\n",
       "      <td>97950.00</td>\n",
       "      <td>77547.01</td>\n",
       "    </tr>\n",
       "    <tr>\n",
       "      <th>34</th>\n",
       "      <td>2024-07</td>\n",
       "      <td>Juveniles</td>\n",
       "      <td>119485.00</td>\n",
       "      <td>94596.27</td>\n",
       "    </tr>\n",
       "    <tr>\n",
       "      <th>35</th>\n",
       "      <td>2024-07</td>\n",
       "      <td>Mayores</td>\n",
       "      <td>294630.00</td>\n",
       "      <td>233258.57</td>\n",
       "    </tr>\n",
       "    <tr>\n",
       "      <th>36</th>\n",
       "      <td>2024-07</td>\n",
       "      <td>Menores</td>\n",
       "      <td>263675.00</td>\n",
       "      <td>208751.50</td>\n",
       "    </tr>\n",
       "    <tr>\n",
       "      <th>37</th>\n",
       "      <td>2024-07</td>\n",
       "      <td>Mini</td>\n",
       "      <td>127465.00</td>\n",
       "      <td>100914.04</td>\n",
       "    </tr>\n",
       "    <tr>\n",
       "      <th>38</th>\n",
       "      <td>2024-07</td>\n",
       "      <td>No procede</td>\n",
       "      <td>30000.00</td>\n",
       "      <td>23751.00</td>\n",
       "    </tr>\n",
       "    <tr>\n",
       "      <th>39</th>\n",
       "      <td>2024-08</td>\n",
       "      <td>Cadetes</td>\n",
       "      <td>149775.00</td>\n",
       "      <td>118576.87</td>\n",
       "    </tr>\n",
       "    <tr>\n",
       "      <th>40</th>\n",
       "      <td>2024-08</td>\n",
       "      <td>Infantiles</td>\n",
       "      <td>176850.00</td>\n",
       "      <td>140012.14</td>\n",
       "    </tr>\n",
       "    <tr>\n",
       "      <th>41</th>\n",
       "      <td>2024-08</td>\n",
       "      <td>Juveniles</td>\n",
       "      <td>97625.00</td>\n",
       "      <td>77289.71</td>\n",
       "    </tr>\n",
       "    <tr>\n",
       "      <th>42</th>\n",
       "      <td>2024-08</td>\n",
       "      <td>Mayores</td>\n",
       "      <td>337300.00</td>\n",
       "      <td>267040.41</td>\n",
       "    </tr>\n",
       "    <tr>\n",
       "      <th>43</th>\n",
       "      <td>2024-08</td>\n",
       "      <td>Menores</td>\n",
       "      <td>258405.00</td>\n",
       "      <td>204579.24</td>\n",
       "    </tr>\n",
       "    <tr>\n",
       "      <th>44</th>\n",
       "      <td>2024-08</td>\n",
       "      <td>Mini</td>\n",
       "      <td>158795.00</td>\n",
       "      <td>125718.00</td>\n",
       "    </tr>\n",
       "    <tr>\n",
       "      <th>45</th>\n",
       "      <td>2024-09</td>\n",
       "      <td>Cadetes</td>\n",
       "      <td>197205.00</td>\n",
       "      <td>133744.43</td>\n",
       "    </tr>\n",
       "    <tr>\n",
       "      <th>46</th>\n",
       "      <td>2024-09</td>\n",
       "      <td>Infantiles</td>\n",
       "      <td>161358.33</td>\n",
       "      <td>109433.22</td>\n",
       "    </tr>\n",
       "    <tr>\n",
       "      <th>47</th>\n",
       "      <td>2024-09</td>\n",
       "      <td>Juveniles</td>\n",
       "      <td>111750.00</td>\n",
       "      <td>75788.85</td>\n",
       "    </tr>\n",
       "    <tr>\n",
       "      <th>48</th>\n",
       "      <td>2024-09</td>\n",
       "      <td>Mayores</td>\n",
       "      <td>293050.00</td>\n",
       "      <td>198746.51</td>\n",
       "    </tr>\n",
       "    <tr>\n",
       "      <th>49</th>\n",
       "      <td>2024-09</td>\n",
       "      <td>Menores</td>\n",
       "      <td>381333.33</td>\n",
       "      <td>258620.26</td>\n",
       "    </tr>\n",
       "    <tr>\n",
       "      <th>50</th>\n",
       "      <td>2024-09</td>\n",
       "      <td>Mini</td>\n",
       "      <td>248688.33</td>\n",
       "      <td>168660.43</td>\n",
       "    </tr>\n",
       "    <tr>\n",
       "      <th>51</th>\n",
       "      <td>2024-10</td>\n",
       "      <td>Cadetes</td>\n",
       "      <td>206201.67</td>\n",
       "      <td>139845.97</td>\n",
       "    </tr>\n",
       "    <tr>\n",
       "      <th>52</th>\n",
       "      <td>2024-10</td>\n",
       "      <td>Infantiles</td>\n",
       "      <td>180553.34</td>\n",
       "      <td>122451.28</td>\n",
       "    </tr>\n",
       "    <tr>\n",
       "      <th>53</th>\n",
       "      <td>2024-10</td>\n",
       "      <td>Juveniles</td>\n",
       "      <td>94300.00</td>\n",
       "      <td>63954.26</td>\n",
       "    </tr>\n",
       "    <tr>\n",
       "      <th>54</th>\n",
       "      <td>2024-10</td>\n",
       "      <td>Mayores</td>\n",
       "      <td>210750.00</td>\n",
       "      <td>142930.65</td>\n",
       "    </tr>\n",
       "    <tr>\n",
       "      <th>55</th>\n",
       "      <td>2024-10</td>\n",
       "      <td>Menores</td>\n",
       "      <td>314603.34</td>\n",
       "      <td>213363.99</td>\n",
       "    </tr>\n",
       "    <tr>\n",
       "      <th>56</th>\n",
       "      <td>2024-10</td>\n",
       "      <td>Mini</td>\n",
       "      <td>226976.67</td>\n",
       "      <td>153935.58</td>\n",
       "    </tr>\n",
       "    <tr>\n",
       "      <th>57</th>\n",
       "      <td>2024-10</td>\n",
       "      <td>No procede</td>\n",
       "      <td>209500.00</td>\n",
       "      <td>142082.90</td>\n",
       "    </tr>\n",
       "  </tbody>\n",
       "</table>\n",
       "</div>"
      ],
      "text/plain": [
       "      FECHA   CATEGORIA  MONTO TOTAL  INGRESOS-INFLACION\n",
       "0   2024-02     Cadetes    103320.00           103320.00\n",
       "1   2024-02  Infantiles     54450.00            54450.00\n",
       "2   2024-02   Juveniles     54620.00            54620.00\n",
       "3   2024-02     Mayores    121860.00           121860.00\n",
       "4   2024-02     Menores     94400.00            94400.00\n",
       "5   2024-02        Mini     35010.00            35010.00\n",
       "6   2024-02  No procede    120000.00           120000.00\n",
       "7   2024-03     Cadetes    109160.00           109160.00\n",
       "8   2024-03  Infantiles     83190.00            83190.00\n",
       "9   2024-03   Juveniles     52920.00            52920.00\n",
       "10  2024-03     Mayores    253480.00           253480.00\n",
       "11  2024-03     Menores    170570.00           170570.00\n",
       "12  2024-03        Mini     80190.00            80190.00\n",
       "13  2024-04     Cadetes    128170.00           128170.00\n",
       "14  2024-04  Infantiles     96466.66            96466.66\n",
       "15  2024-04   Juveniles     79220.00            79220.00\n",
       "16  2024-04     Mayores    236800.00           236800.00\n",
       "17  2024-04     Menores    157826.66           157826.66\n",
       "18  2024-04        Mini     95536.66            95536.66\n",
       "19  2024-04  No procede     30000.00            30000.00\n",
       "20  2024-05     Cadetes    142645.00           112932.05\n",
       "21  2024-05  Infantiles    159050.00           125919.88\n",
       "22  2024-05   Juveniles     75645.00            59888.15\n",
       "23  2024-05     Mayores    238480.00           188804.62\n",
       "24  2024-05     Menores    212379.50           168140.85\n",
       "25  2024-05        Mini    141829.50           112286.42\n",
       "26  2024-06     Cadetes    136754.00           108268.14\n",
       "27  2024-06  Infantiles    107259.00            84916.95\n",
       "28  2024-06   Juveniles    116595.00            92308.26\n",
       "29  2024-06     Mayores    406530.00           321849.80\n",
       "30  2024-06     Menores    188405.00           149160.24\n",
       "31  2024-06        Mini    158355.00           125369.65\n",
       "32  2024-07     Cadetes    154435.00           122266.19\n",
       "33  2024-07  Infantiles     97950.00            77547.01\n",
       "34  2024-07   Juveniles    119485.00            94596.27\n",
       "35  2024-07     Mayores    294630.00           233258.57\n",
       "36  2024-07     Menores    263675.00           208751.50\n",
       "37  2024-07        Mini    127465.00           100914.04\n",
       "38  2024-07  No procede     30000.00            23751.00\n",
       "39  2024-08     Cadetes    149775.00           118576.87\n",
       "40  2024-08  Infantiles    176850.00           140012.14\n",
       "41  2024-08   Juveniles     97625.00            77289.71\n",
       "42  2024-08     Mayores    337300.00           267040.41\n",
       "43  2024-08     Menores    258405.00           204579.24\n",
       "44  2024-08        Mini    158795.00           125718.00\n",
       "45  2024-09     Cadetes    197205.00           133744.43\n",
       "46  2024-09  Infantiles    161358.33           109433.22\n",
       "47  2024-09   Juveniles    111750.00            75788.85\n",
       "48  2024-09     Mayores    293050.00           198746.51\n",
       "49  2024-09     Menores    381333.33           258620.26\n",
       "50  2024-09        Mini    248688.33           168660.43\n",
       "51  2024-10     Cadetes    206201.67           139845.97\n",
       "52  2024-10  Infantiles    180553.34           122451.28\n",
       "53  2024-10   Juveniles     94300.00            63954.26\n",
       "54  2024-10     Mayores    210750.00           142930.65\n",
       "55  2024-10     Menores    314603.34           213363.99\n",
       "56  2024-10        Mini    226976.67           153935.58\n",
       "57  2024-10  No procede    209500.00           142082.90"
      ]
     },
     "execution_count": 834,
     "metadata": {},
     "output_type": "execute_result"
    }
   ],
   "source": [
    "ing_totales_por_mes_categoria.columns=['FECHA', 'CATEGORIA', 'MONTO TOTAL', 'INGRESOS-INFLACION']\n",
    "ing_totales_por_mes_categoria"
   ]
  },
  {
   "cell_type": "code",
   "execution_count": 835,
   "metadata": {},
   "outputs": [
    {
     "data": {
      "image/png": "[encoded data removed]",
      "text/plain": [
       "<Figure size 1000x600 with 2 Axes>"
      ]
     },
     "metadata": {},
     "output_type": "display_data"
    }
   ],
   "source": [
    "# Convertir la columna FECHA al primer día del mes\n",
    "ing_totales_por_mes_categoria['FECHA'] = ing_totales_por_mes_categoria['FECHA']\n",
    "\n",
    "# Calcular el total de gastos por mes y por categoría\n",
    "ingresos_mensuales = ing_totales_por_mes_categoria.groupby(['FECHA', 'CATEGORIA'])[['INGRESOS-INFLACION']].sum().unstack(fill_value=0)\n",
    "\n",
    "# Definir la paleta de colores personalizada\n",
    "colores_personalizados = ['#FFCC80', '#FFC300', '#FF9F00', '#FF5733', '#E0453C', '#C70039', '#A83249', '#900C3F', '#731E4E', '#581845']\n",
    "\n",
    "# Crear el heatmap con la paleta de colores personalizada\n",
    "plt.figure(figsize=(10, 6))\n",
    "ax = sns.heatmap(\n",
    "    ingresos_mensuales,\n",
    "    annot=True,\n",
    "    fmt=\".0f\",\n",
    "    cmap=sns.color_palette(colores_personalizados, as_cmap=True)\n",
    ")\n",
    "\n",
    "# Configurar el título y etiquetas del gráfico\n",
    "plt.title(\"Mapa de calor de ingresos mensuales por categoría\")\n",
    "plt.xlabel(\"Categoría\")\n",
    "plt.ylabel(\"Mes\")\n",
    "\n",
    "nuevas_etiquetas = ['Cadetes', 'Infantiles', 'Juveniles', 'Mayores', 'Menores', 'Mini', 'Otros']\n",
    "ax.set_xticklabels(nuevas_etiquetas, rotation=45, ha=\"right\") \n",
    "\n",
    "plt.show()"
   ]
  },
  {
   "cell_type": "markdown",
   "metadata": {},
   "source": [
    "### Socios\n",
    "Evaluamos los socios segun la categoria "
   ]
  },
  {
   "cell_type": "markdown",
   "metadata": {},
   "source": [
    "Handball"
   ]
  },
  {
   "cell_type": "code",
   "execution_count": 836,
   "metadata": {},
   "outputs": [],
   "source": [
    "media_socios_por_mes = resultados_h.groupby('CATEGORIA')[['SOCIOS']].mean().reset_index()"
   ]
  },
  {
   "cell_type": "code",
   "execution_count": 837,
   "metadata": {},
   "outputs": [
    {
     "data": {
      "application/vnd.plotly.v1+json": {
       "config": {
        "plotlyServerURL": "https://plot.ly"
       },
       "data": [
        {
         "domain": {
          "x": [
           0,
           0
          ]
         },
         "hole": 0.4,
         "hoverinfo": "label+percent+name",
         "labels": [
          "Cadetes",
          "Infantil",
          "Juveniles",
          "Menores",
          "Mini",
          "Primera"
         ],
         "marker": {
          "colors": [
           "#FF5733",
           "#C70039",
           "#900C3F",
           "#581845",
           "#FF9F00",
           "#FFCC80",
           "#FFC300"
          ]
         },
         "name": "Jugadores por categoría",
         "type": "pie",
         "values": [
          19.77777777777778,
          14.88888888888889,
          12.333333333333334,
          27.333333333333332,
          16.555555555555557,
          42.22222222222222
         ]
        }
       ],
       "layout": {
        "annotations": [
         {
          "font": {
           "size": 20
          },
          "showarrow": false,
          "text": "",
          "x": 0,
          "y": 1
         }
        ],
        "height": 400,
        "legend": {
         "orientation": "v",
         "x": 0.8,
         "y": 1.28
        },
        "margin": {
         "b": 30,
         "l": 50,
         "r": 50,
         "t": 50
        },
        "template": {
         "data": {
          "bar": [
           {
            "error_x": {
             "color": "#2a3f5f"
            },
            "error_y": {
             "color": "#2a3f5f"
            },
            "marker": {
             "line": {
              "color": "#E5ECF6",
              "width": 0.5
             },
             "pattern": {
              "fillmode": "overlay",
              "size": 10,
              "solidity": 0.2
             }
            },
            "type": "bar"
           }
          ],
          "barpolar": [
           {
            "marker": {
             "line": {
              "color": "#E5ECF6",
              "width": 0.5
             },
             "pattern": {
              "fillmode": "overlay",
              "size": 10,
              "solidity": 0.2
             }
            },
            "type": "barpolar"
           }
          ],
          "carpet": [
           {
            "aaxis": {
             "endlinecolor": "#2a3f5f",
             "gridcolor": "white",
             "linecolor": "white",
             "minorgridcolor": "white",
             "startlinecolor": "#2a3f5f"
            },
            "baxis": {
             "endlinecolor": "#2a3f5f",
             "gridcolor": "white",
             "linecolor": "white",
             "minorgridcolor": "white",
             "startlinecolor": "#2a3f5f"
            },
            "type": "carpet"
           }
          ],
          "choropleth": [
           {
            "colorbar": {
             "outlinewidth": 0,
             "ticks": ""
            },
            "type": "choropleth"
           }
          ],
          "contour": [
           {
            "colorbar": {
             "outlinewidth": 0,
             "ticks": ""
            },
            "colorscale": [
             [
              0,
              "#0d0887"
             ],
             [
              0.1111111111111111,
              "#46039f"
             ],
             [
              0.2222222222222222,
              "#7201a8"
             ],
             [
              0.3333333333333333,
              "#9c179e"
             ],
             [
              0.4444444444444444,
              "#bd3786"
             ],
             [
              0.5555555555555556,
              "#d8576b"
             ],
             [
              0.6666666666666666,
              "#ed7953"
             ],
             [
              0.7777777777777778,
              "#fb9f3a"
             ],
             [
              0.8888888888888888,
              "#fdca26"
             ],
             [
              1,
              "#f0f921"
             ]
            ],
            "type": "contour"
           }
          ],
          "contourcarpet": [
           {
            "colorbar": {
             "outlinewidth": 0,
             "ticks": ""
            },
            "type": "contourcarpet"
           }
          ],
          "heatmap": [
           {
            "colorbar": {
             "outlinewidth": 0,
             "ticks": ""
            },
            "colorscale": [
             [
              0,
              "#0d0887"
             ],
             [
              0.1111111111111111,
              "#46039f"
             ],
             [
              0.2222222222222222,
              "#7201a8"
             ],
             [
              0.3333333333333333,
              "#9c179e"
             ],
             [
              0.4444444444444444,
              "#bd3786"
             ],
             [
              0.5555555555555556,
              "#d8576b"
             ],
             [
              0.6666666666666666,
              "#ed7953"
             ],
             [
              0.7777777777777778,
              "#fb9f3a"
             ],
             [
              0.8888888888888888,
              "#fdca26"
             ],
             [
              1,
              "#f0f921"
             ]
            ],
            "type": "heatmap"
           }
          ],
          "heatmapgl": [
           {
            "colorbar": {
             "outlinewidth": 0,
             "ticks": ""
            },
            "colorscale": [
             [
              0,
              "#0d0887"
             ],
             [
              0.1111111111111111,
              "#46039f"
             ],
             [
              0.2222222222222222,
              "#7201a8"
             ],
             [
              0.3333333333333333,
              "#9c179e"
             ],
             [
              0.4444444444444444,
              "#bd3786"
             ],
             [
              0.5555555555555556,
              "#d8576b"
             ],
             [
              0.6666666666666666,
              "#ed7953"
             ],
             [
              0.7777777777777778,
              "#fb9f3a"
             ],
             [
              0.8888888888888888,
              "#fdca26"
             ],
             [
              1,
              "#f0f921"
             ]
            ],
            "type": "heatmapgl"
           }
          ],
          "histogram": [
           {
            "marker": {
             "pattern": {
              "fillmode": "overlay",
              "size": 10,
              "solidity": 0.2
             }
            },
            "type": "histogram"
           }
          ],
          "histogram2d": [
           {
            "colorbar": {
             "outlinewidth": 0,
             "ticks": ""
            },
            "colorscale": [
             [
              0,
              "#0d0887"
             ],
             [
              0.1111111111111111,
              "#46039f"
             ],
             [
              0.2222222222222222,
              "#7201a8"
             ],
             [
              0.3333333333333333,
              "#9c179e"
             ],
             [
              0.4444444444444444,
              "#bd3786"
             ],
             [
              0.5555555555555556,
              "#d8576b"
             ],
             [
              0.6666666666666666,
              "#ed7953"
             ],
             [
              0.7777777777777778,
              "#fb9f3a"
             ],
             [
              0.8888888888888888,
              "#fdca26"
             ],
             [
              1,
              "#f0f921"
             ]
            ],
            "type": "histogram2d"
           }
          ],
          "histogram2dcontour": [
           {
            "colorbar": {
             "outlinewidth": 0,
             "ticks": ""
            },
            "colorscale": [
             [
              0,
              "#0d0887"
             ],
             [
              0.1111111111111111,
              "#46039f"
             ],
             [
              0.2222222222222222,
              "#7201a8"
             ],
             [
              0.3333333333333333,
              "#9c179e"
             ],
             [
              0.4444444444444444,
              "#bd3786"
             ],
             [
              0.5555555555555556,
              "#d8576b"
             ],
             [
              0.6666666666666666,
              "#ed7953"
             ],
             [
              0.7777777777777778,
              "#fb9f3a"
             ],
             [
              0.8888888888888888,
              "#fdca26"
             ],
             [
              1,
              "#f0f921"
             ]
            ],
            "type": "histogram2dcontour"
           }
          ],
          "mesh3d": [
           {
            "colorbar": {
             "outlinewidth": 0,
             "ticks": ""
            },
            "type": "mesh3d"
           }
          ],
          "parcoords": [
           {
            "line": {
             "colorbar": {
              "outlinewidth": 0,
              "ticks": ""
             }
            },
            "type": "parcoords"
           }
          ],
          "pie": [
           {
            "automargin": true,
            "type": "pie"
           }
          ],
          "scatter": [
           {
            "fillpattern": {
             "fillmode": "overlay",
             "size": 10,
             "solidity": 0.2
            },
            "type": "scatter"
           }
          ],
          "scatter3d": [
           {
            "line": {
             "colorbar": {
              "outlinewidth": 0,
              "ticks": ""
             }
            },
            "marker": {
             "colorbar": {
              "outlinewidth": 0,
              "ticks": ""
             }
            },
            "type": "scatter3d"
           }
          ],
          "scattercarpet": [
           {
            "marker": {
             "colorbar": {
              "outlinewidth": 0,
              "ticks": ""
             }
            },
            "type": "scattercarpet"
           }
          ],
          "scattergeo": [
           {
            "marker": {
             "colorbar": {
              "outlinewidth": 0,
              "ticks": ""
             }
            },
            "type": "scattergeo"
           }
          ],
          "scattergl": [
           {
            "marker": {
             "colorbar": {
              "outlinewidth": 0,
              "ticks": ""
             }
            },
            "type": "scattergl"
           }
          ],
          "scattermapbox": [
           {
            "marker": {
             "colorbar": {
              "outlinewidth": 0,
              "ticks": ""
             }
            },
            "type": "scattermapbox"
           }
          ],
          "scatterpolar": [
           {
            "marker": {
             "colorbar": {
              "outlinewidth": 0,
              "ticks": ""
             }
            },
            "type": "scatterpolar"
           }
          ],
          "scatterpolargl": [
           {
            "marker": {
             "colorbar": {
              "outlinewidth": 0,
              "ticks": ""
             }
            },
            "type": "scatterpolargl"
           }
          ],
          "scatterternary": [
           {
            "marker": {
             "colorbar": {
              "outlinewidth": 0,
              "ticks": ""
             }
            },
            "type": "scatterternary"
           }
          ],
          "surface": [
           {
            "colorbar": {
             "outlinewidth": 0,
             "ticks": ""
            },
            "colorscale": [
             [
              0,
              "#0d0887"
             ],
             [
              0.1111111111111111,
              "#46039f"
             ],
             [
              0.2222222222222222,
              "#7201a8"
             ],
             [
              0.3333333333333333,
              "#9c179e"
             ],
             [
              0.4444444444444444,
              "#bd3786"
             ],
             [
              0.5555555555555556,
              "#d8576b"
             ],
             [
              0.6666666666666666,
              "#ed7953"
             ],
             [
              0.7777777777777778,
              "#fb9f3a"
             ],
             [
              0.8888888888888888,
              "#fdca26"
             ],
             [
              1,
              "#f0f921"
             ]
            ],
            "type": "surface"
           }
          ],
          "table": [
           {
            "cells": {
             "fill": {
              "color": "#EBF0F8"
             },
             "line": {
              "color": "white"
             }
            },
            "header": {
             "fill": {
              "color": "#C8D4E3"
             },
             "line": {
              "color": "white"
             }
            },
            "type": "table"
           }
          ]
         },
         "layout": {
          "annotationdefaults": {
           "arrowcolor": "#2a3f5f",
           "arrowhead": 0,
           "arrowwidth": 1
          },
          "autotypenumbers": "strict",
          "coloraxis": {
           "colorbar": {
            "outlinewidth": 0,
            "ticks": ""
           }
          },
          "colorscale": {
           "diverging": [
            [
             0,
             "#8e0152"
            ],
            [
             0.1,
             "#c51b7d"
            ],
            [
             0.2,
             "#de77ae"
            ],
            [
             0.3,
             "#f1b6da"
            ],
            [
             0.4,
             "#fde0ef"
            ],
            [
             0.5,
             "#f7f7f7"
            ],
            [
             0.6,
             "#e6f5d0"
            ],
            [
             0.7,
             "#b8e186"
            ],
            [
             0.8,
             "#7fbc41"
            ],
            [
             0.9,
             "#4d9221"
            ],
            [
             1,
             "#276419"
            ]
           ],
           "sequential": [
            [
             0,
             "#0d0887"
            ],
            [
             0.1111111111111111,
             "#46039f"
            ],
            [
             0.2222222222222222,
             "#7201a8"
            ],
            [
             0.3333333333333333,
             "#9c179e"
            ],
            [
             0.4444444444444444,
             "#bd3786"
            ],
            [
             0.5555555555555556,
             "#d8576b"
            ],
            [
             0.6666666666666666,
             "#ed7953"
            ],
            [
             0.7777777777777778,
             "#fb9f3a"
            ],
            [
             0.8888888888888888,
             "#fdca26"
            ],
            [
             1,
             "#f0f921"
            ]
           ],
           "sequentialminus": [
            [
             0,
             "#0d0887"
            ],
            [
             0.1111111111111111,
             "#46039f"
            ],
            [
             0.2222222222222222,
             "#7201a8"
            ],
            [
             0.3333333333333333,
             "#9c179e"
            ],
            [
             0.4444444444444444,
             "#bd3786"
            ],
            [
             0.5555555555555556,
             "#d8576b"
            ],
            [
             0.6666666666666666,
             "#ed7953"
            ],
            [
             0.7777777777777778,
             "#fb9f3a"
            ],
            [
             0.8888888888888888,
             "#fdca26"
            ],
            [
             1,
             "#f0f921"
            ]
           ]
          },
          "colorway": [
           "#636efa",
           "#EF553B",
           "#00cc96",
           "#ab63fa",
           "#FFA15A",
           "#19d3f3",
           "#FF6692",
           "#B6E880",
           "#FF97FF",
           "#FECB52"
          ],
          "font": {
           "color": "#2a3f5f"
          },
          "geo": {
           "bgcolor": "white",
           "lakecolor": "white",
           "landcolor": "#E5ECF6",
           "showlakes": true,
           "showland": true,
           "subunitcolor": "white"
          },
          "hoverlabel": {
           "align": "left"
          },
          "hovermode": "closest",
          "mapbox": {
           "style": "light"
          },
          "paper_bgcolor": "white",
          "plot_bgcolor": "#E5ECF6",
          "polar": {
           "angularaxis": {
            "gridcolor": "white",
            "linecolor": "white",
            "ticks": ""
           },
           "bgcolor": "#E5ECF6",
           "radialaxis": {
            "gridcolor": "white",
            "linecolor": "white",
            "ticks": ""
           }
          },
          "scene": {
           "xaxis": {
            "backgroundcolor": "#E5ECF6",
            "gridcolor": "white",
            "gridwidth": 2,
            "linecolor": "white",
            "showbackground": true,
            "ticks": "",
            "zerolinecolor": "white"
           },
           "yaxis": {
            "backgroundcolor": "#E5ECF6",
            "gridcolor": "white",
            "gridwidth": 2,
            "linecolor": "white",
            "showbackground": true,
            "ticks": "",
            "zerolinecolor": "white"
           },
           "zaxis": {
            "backgroundcolor": "#E5ECF6",
            "gridcolor": "white",
            "gridwidth": 2,
            "linecolor": "white",
            "showbackground": true,
            "ticks": "",
            "zerolinecolor": "white"
           }
          },
          "shapedefaults": {
           "line": {
            "color": "#2a3f5f"
           }
          },
          "ternary": {
           "aaxis": {
            "gridcolor": "white",
            "linecolor": "white",
            "ticks": ""
           },
           "baxis": {
            "gridcolor": "white",
            "linecolor": "white",
            "ticks": ""
           },
           "bgcolor": "#E5ECF6",
           "caxis": {
            "gridcolor": "white",
            "linecolor": "white",
            "ticks": ""
           }
          },
          "title": {
           "x": 0.05
          },
          "xaxis": {
           "automargin": true,
           "gridcolor": "white",
           "linecolor": "white",
           "ticks": "",
           "title": {
            "standoff": 15
           },
           "zerolinecolor": "white",
           "zerolinewidth": 2
          },
          "yaxis": {
           "automargin": true,
           "gridcolor": "white",
           "linecolor": "white",
           "ticks": "",
           "title": {
            "standoff": 15
           },
           "zerolinecolor": "white",
           "zerolinewidth": 2
          }
         }
        },
        "title": {
         "text": "Jugadores por categoría"
        },
        "width": 500
       }
      }
     },
     "metadata": {},
     "output_type": "display_data"
    }
   ],
   "source": [
    "# Datos para el gráfico\n",
    "pie1_list = media_socios_por_mes.SOCIOS\n",
    "labels = media_socios_por_mes.CATEGORIA\n",
    "\n",
    "# Definir la paleta de colores\n",
    "colors = [\n",
    "    '#FF5733',  # color-3\n",
    "    '#C70039',  # color-4\n",
    "    '#900C3F',  # color-5\n",
    "    '#581845',  # color-6\n",
    "    '#FF9F00',   # color-7 (naranja claro)\n",
    "    '#FFCC80',  # color-1\n",
    "    '#FFC300'  # color-2\n",
    "]\n",
    "\n",
    "# Crear la figura de gráfico circular (Pie)\n",
    "fig = go.Figure(\n",
    "    data=[\n",
    "        go.Pie(\n",
    "            values=pie1_list,\n",
    "            labels=labels,\n",
    "            domain={\"x\": [0, 0]},\n",
    "            name=\"Jugadores por categoría\",\n",
    "            hoverinfo=\"label+percent+name\",\n",
    "            hole=0.4,  # Hacer un gráfico de dona (agregar un hueco en el centro)\n",
    "            marker={'colors': colors}  # Aplicar la paleta de colores\n",
    "        )\n",
    "    ],\n",
    "    layout={\n",
    "        \"title\": \"Jugadores por categoría\",\n",
    "        \"annotations\": [\n",
    "            {\n",
    "                \"font\": {\"size\": 20},\n",
    "                \"showarrow\": False,\n",
    "                \"text\": \"\",\n",
    "                \"x\": 0.0,\n",
    "                \"y\": 1.0\n",
    "            },\n",
    "        ],\n",
    "        # Ajustar el tamaño del gráfico\n",
    "        \"width\": 500,  # Ajusta el ancho\n",
    "        \"height\": 400,  # Ajusta la altura\n",
    "        # Modificar márgenes para reducir el espacio blanco\n",
    "        \"margin\": {\"l\": 50, \"r\": 50, \"t\": 50, \"b\": 30},\n",
    "        # Ajustar la leyenda para que esté más cerca del gráfico\n",
    "        \"legend\": {\n",
    "            \"x\": 0.8,  # Posición X de la leyenda\n",
    "            \"y\": 1.28,    # Posición Y de la leyenda\n",
    "            \"orientation\": \"v\"  # Poner la leyenda en vertical\n",
    "        }\n",
    "    }\n",
    ")\n",
    "# Mostrar el gráfico\n",
    "fig.show()\n",
    "pio.write_html(fig, 'Media_juadores_h.html', auto_open=True)"
   ]
  },
  {
   "cell_type": "markdown",
   "metadata": {},
   "source": [
    "Vamos a ir un pasito mas alla, y evaluar la cantidad de socios por mes. Para ver si ese es el motivo por el cual hubieron menos ingresos. "
   ]
  },
  {
   "cell_type": "markdown",
   "metadata": {},
   "source": [
    "Handball"
   ]
  },
  {
   "cell_type": "code",
   "execution_count": 838,
   "metadata": {},
   "outputs": [
    {
     "data": {
      "application/vnd.plotly.v1+json": {
       "config": {
        "plotlyServerURL": "https://plot.ly"
       },
       "data": [
        {
         "alignmentgroup": "True",
         "hovertemplate": "MES=%{x}<br>Socios=%{y}<extra></extra>",
         "legendgroup": "",
         "marker": {
          "color": "#C70039",
          "pattern": {
           "shape": ""
          }
         },
         "name": "",
         "offsetgroup": "",
         "orientation": "v",
         "showlegend": false,
         "textposition": "auto",
         "type": "bar",
         "x": [
          "FEB",
          "MAR",
          "ABR",
          "MAY",
          "JUN",
          "JUL",
          "AGO",
          "SEPT",
          "OCT"
         ],
         "xaxis": "x",
         "y": [
          77,
          122,
          135,
          138,
          145,
          131,
          148,
          151,
          155
         ],
         "yaxis": "y"
        }
       ],
       "layout": {
        "barmode": "group",
        "hovermode": "x unified",
        "legend": {
         "tracegroupgap": 0
        },
        "plot_bgcolor": "white",
        "template": {
         "data": {
          "bar": [
           {
            "error_x": {
             "color": "#2a3f5f"
            },
            "error_y": {
             "color": "#2a3f5f"
            },
            "marker": {
             "line": {
              "color": "#E5ECF6",
              "width": 0.5
             },
             "pattern": {
              "fillmode": "overlay",
              "size": 10,
              "solidity": 0.2
             }
            },
            "type": "bar"
           }
          ],
          "barpolar": [
           {
            "marker": {
             "line": {
              "color": "#E5ECF6",
              "width": 0.5
             },
             "pattern": {
              "fillmode": "overlay",
              "size": 10,
              "solidity": 0.2
             }
            },
            "type": "barpolar"
           }
          ],
          "carpet": [
           {
            "aaxis": {
             "endlinecolor": "#2a3f5f",
             "gridcolor": "white",
             "linecolor": "white",
             "minorgridcolor": "white",
             "startlinecolor": "#2a3f5f"
            },
            "baxis": {
             "endlinecolor": "#2a3f5f",
             "gridcolor": "white",
             "linecolor": "white",
             "minorgridcolor": "white",
             "startlinecolor": "#2a3f5f"
            },
            "type": "carpet"
           }
          ],
          "choropleth": [
           {
            "colorbar": {
             "outlinewidth": 0,
             "ticks": ""
            },
            "type": "choropleth"
           }
          ],
          "contour": [
           {
            "colorbar": {
             "outlinewidth": 0,
             "ticks": ""
            },
            "colorscale": [
             [
              0,
              "#0d0887"
             ],
             [
              0.1111111111111111,
              "#46039f"
             ],
             [
              0.2222222222222222,
              "#7201a8"
             ],
             [
              0.3333333333333333,
              "#9c179e"
             ],
             [
              0.4444444444444444,
              "#bd3786"
             ],
             [
              0.5555555555555556,
              "#d8576b"
             ],
             [
              0.6666666666666666,
              "#ed7953"
             ],
             [
              0.7777777777777778,
              "#fb9f3a"
             ],
             [
              0.8888888888888888,
              "#fdca26"
             ],
             [
              1,
              "#f0f921"
             ]
            ],
            "type": "contour"
           }
          ],
          "contourcarpet": [
           {
            "colorbar": {
             "outlinewidth": 0,
             "ticks": ""
            },
            "type": "contourcarpet"
           }
          ],
          "heatmap": [
           {
            "colorbar": {
             "outlinewidth": 0,
             "ticks": ""
            },
            "colorscale": [
             [
              0,
              "#0d0887"
             ],
             [
              0.1111111111111111,
              "#46039f"
             ],
             [
              0.2222222222222222,
              "#7201a8"
             ],
             [
              0.3333333333333333,
              "#9c179e"
             ],
             [
              0.4444444444444444,
              "#bd3786"
             ],
             [
              0.5555555555555556,
              "#d8576b"
             ],
             [
              0.6666666666666666,
              "#ed7953"
             ],
             [
              0.7777777777777778,
              "#fb9f3a"
             ],
             [
              0.8888888888888888,
              "#fdca26"
             ],
             [
              1,
              "#f0f921"
             ]
            ],
            "type": "heatmap"
           }
          ],
          "heatmapgl": [
           {
            "colorbar": {
             "outlinewidth": 0,
             "ticks": ""
            },
            "colorscale": [
             [
              0,
              "#0d0887"
             ],
             [
              0.1111111111111111,
              "#46039f"
             ],
             [
              0.2222222222222222,
              "#7201a8"
             ],
             [
              0.3333333333333333,
              "#9c179e"
             ],
             [
              0.4444444444444444,
              "#bd3786"
             ],
             [
              0.5555555555555556,
              "#d8576b"
             ],
             [
              0.6666666666666666,
              "#ed7953"
             ],
             [
              0.7777777777777778,
              "#fb9f3a"
             ],
             [
              0.8888888888888888,
              "#fdca26"
             ],
             [
              1,
              "#f0f921"
             ]
            ],
            "type": "heatmapgl"
           }
          ],
          "histogram": [
           {
            "marker": {
             "pattern": {
              "fillmode": "overlay",
              "size": 10,
              "solidity": 0.2
             }
            },
            "type": "histogram"
           }
          ],
          "histogram2d": [
           {
            "colorbar": {
             "outlinewidth": 0,
             "ticks": ""
            },
            "colorscale": [
             [
              0,
              "#0d0887"
             ],
             [
              0.1111111111111111,
              "#46039f"
             ],
             [
              0.2222222222222222,
              "#7201a8"
             ],
             [
              0.3333333333333333,
              "#9c179e"
             ],
             [
              0.4444444444444444,
              "#bd3786"
             ],
             [
              0.5555555555555556,
              "#d8576b"
             ],
             [
              0.6666666666666666,
              "#ed7953"
             ],
             [
              0.7777777777777778,
              "#fb9f3a"
             ],
             [
              0.8888888888888888,
              "#fdca26"
             ],
             [
              1,
              "#f0f921"
             ]
            ],
            "type": "histogram2d"
           }
          ],
          "histogram2dcontour": [
           {
            "colorbar": {
             "outlinewidth": 0,
             "ticks": ""
            },
            "colorscale": [
             [
              0,
              "#0d0887"
             ],
             [
              0.1111111111111111,
              "#46039f"
             ],
             [
              0.2222222222222222,
              "#7201a8"
             ],
             [
              0.3333333333333333,
              "#9c179e"
             ],
             [
              0.4444444444444444,
              "#bd3786"
             ],
             [
              0.5555555555555556,
              "#d8576b"
             ],
             [
              0.6666666666666666,
              "#ed7953"
             ],
             [
              0.7777777777777778,
              "#fb9f3a"
             ],
             [
              0.8888888888888888,
              "#fdca26"
             ],
             [
              1,
              "#f0f921"
             ]
            ],
            "type": "histogram2dcontour"
           }
          ],
          "mesh3d": [
           {
            "colorbar": {
             "outlinewidth": 0,
             "ticks": ""
            },
            "type": "mesh3d"
           }
          ],
          "parcoords": [
           {
            "line": {
             "colorbar": {
              "outlinewidth": 0,
              "ticks": ""
             }
            },
            "type": "parcoords"
           }
          ],
          "pie": [
           {
            "automargin": true,
            "type": "pie"
           }
          ],
          "scatter": [
           {
            "fillpattern": {
             "fillmode": "overlay",
             "size": 10,
             "solidity": 0.2
            },
            "type": "scatter"
           }
          ],
          "scatter3d": [
           {
            "line": {
             "colorbar": {
              "outlinewidth": 0,
              "ticks": ""
             }
            },
            "marker": {
             "colorbar": {
              "outlinewidth": 0,
              "ticks": ""
             }
            },
            "type": "scatter3d"
           }
          ],
          "scattercarpet": [
           {
            "marker": {
             "colorbar": {
              "outlinewidth": 0,
              "ticks": ""
             }
            },
            "type": "scattercarpet"
           }
          ],
          "scattergeo": [
           {
            "marker": {
             "colorbar": {
              "outlinewidth": 0,
              "ticks": ""
             }
            },
            "type": "scattergeo"
           }
          ],
          "scattergl": [
           {
            "marker": {
             "colorbar": {
              "outlinewidth": 0,
              "ticks": ""
             }
            },
            "type": "scattergl"
           }
          ],
          "scattermapbox": [
           {
            "marker": {
             "colorbar": {
              "outlinewidth": 0,
              "ticks": ""
             }
            },
            "type": "scattermapbox"
           }
          ],
          "scatterpolar": [
           {
            "marker": {
             "colorbar": {
              "outlinewidth": 0,
              "ticks": ""
             }
            },
            "type": "scatterpolar"
           }
          ],
          "scatterpolargl": [
           {
            "marker": {
             "colorbar": {
              "outlinewidth": 0,
              "ticks": ""
             }
            },
            "type": "scatterpolargl"
           }
          ],
          "scatterternary": [
           {
            "marker": {
             "colorbar": {
              "outlinewidth": 0,
              "ticks": ""
             }
            },
            "type": "scatterternary"
           }
          ],
          "surface": [
           {
            "colorbar": {
             "outlinewidth": 0,
             "ticks": ""
            },
            "colorscale": [
             [
              0,
              "#0d0887"
             ],
             [
              0.1111111111111111,
              "#46039f"
             ],
             [
              0.2222222222222222,
              "#7201a8"
             ],
             [
              0.3333333333333333,
              "#9c179e"
             ],
             [
              0.4444444444444444,
              "#bd3786"
             ],
             [
              0.5555555555555556,
              "#d8576b"
             ],
             [
              0.6666666666666666,
              "#ed7953"
             ],
             [
              0.7777777777777778,
              "#fb9f3a"
             ],
             [
              0.8888888888888888,
              "#fdca26"
             ],
             [
              1,
              "#f0f921"
             ]
            ],
            "type": "surface"
           }
          ],
          "table": [
           {
            "cells": {
             "fill": {
              "color": "#EBF0F8"
             },
             "line": {
              "color": "white"
             }
            },
            "header": {
             "fill": {
              "color": "#C8D4E3"
             },
             "line": {
              "color": "white"
             }
            },
            "type": "table"
           }
          ]
         },
         "layout": {
          "annotationdefaults": {
           "arrowcolor": "#2a3f5f",
           "arrowhead": 0,
           "arrowwidth": 1
          },
          "autotypenumbers": "strict",
          "coloraxis": {
           "colorbar": {
            "outlinewidth": 0,
            "ticks": ""
           }
          },
          "colorscale": {
           "diverging": [
            [
             0,
             "#8e0152"
            ],
            [
             0.1,
             "#c51b7d"
            ],
            [
             0.2,
             "#de77ae"
            ],
            [
             0.3,
             "#f1b6da"
            ],
            [
             0.4,
             "#fde0ef"
            ],
            [
             0.5,
             "#f7f7f7"
            ],
            [
             0.6,
             "#e6f5d0"
            ],
            [
             0.7,
             "#b8e186"
            ],
            [
             0.8,
             "#7fbc41"
            ],
            [
             0.9,
             "#4d9221"
            ],
            [
             1,
             "#276419"
            ]
           ],
           "sequential": [
            [
             0,
             "#0d0887"
            ],
            [
             0.1111111111111111,
             "#46039f"
            ],
            [
             0.2222222222222222,
             "#7201a8"
            ],
            [
             0.3333333333333333,
             "#9c179e"
            ],
            [
             0.4444444444444444,
             "#bd3786"
            ],
            [
             0.5555555555555556,
             "#d8576b"
            ],
            [
             0.6666666666666666,
             "#ed7953"
            ],
            [
             0.7777777777777778,
             "#fb9f3a"
            ],
            [
             0.8888888888888888,
             "#fdca26"
            ],
            [
             1,
             "#f0f921"
            ]
           ],
           "sequentialminus": [
            [
             0,
             "#0d0887"
            ],
            [
             0.1111111111111111,
             "#46039f"
            ],
            [
             0.2222222222222222,
             "#7201a8"
            ],
            [
             0.3333333333333333,
             "#9c179e"
            ],
            [
             0.4444444444444444,
             "#bd3786"
            ],
            [
             0.5555555555555556,
             "#d8576b"
            ],
            [
             0.6666666666666666,
             "#ed7953"
            ],
            [
             0.7777777777777778,
             "#fb9f3a"
            ],
            [
             0.8888888888888888,
             "#fdca26"
            ],
            [
             1,
             "#f0f921"
            ]
           ]
          },
          "colorway": [
           "#636efa",
           "#EF553B",
           "#00cc96",
           "#ab63fa",
           "#FFA15A",
           "#19d3f3",
           "#FF6692",
           "#B6E880",
           "#FF97FF",
           "#FECB52"
          ],
          "font": {
           "color": "#2a3f5f"
          },
          "geo": {
           "bgcolor": "white",
           "lakecolor": "white",
           "landcolor": "#E5ECF6",
           "showlakes": true,
           "showland": true,
           "subunitcolor": "white"
          },
          "hoverlabel": {
           "align": "left"
          },
          "hovermode": "closest",
          "mapbox": {
           "style": "light"
          },
          "paper_bgcolor": "white",
          "plot_bgcolor": "#E5ECF6",
          "polar": {
           "angularaxis": {
            "gridcolor": "white",
            "linecolor": "white",
            "ticks": ""
           },
           "bgcolor": "#E5ECF6",
           "radialaxis": {
            "gridcolor": "white",
            "linecolor": "white",
            "ticks": ""
           }
          },
          "scene": {
           "xaxis": {
            "backgroundcolor": "#E5ECF6",
            "gridcolor": "white",
            "gridwidth": 2,
            "linecolor": "white",
            "showbackground": true,
            "ticks": "",
            "zerolinecolor": "white"
           },
           "yaxis": {
            "backgroundcolor": "#E5ECF6",
            "gridcolor": "white",
            "gridwidth": 2,
            "linecolor": "white",
            "showbackground": true,
            "ticks": "",
            "zerolinecolor": "white"
           },
           "zaxis": {
            "backgroundcolor": "#E5ECF6",
            "gridcolor": "white",
            "gridwidth": 2,
            "linecolor": "white",
            "showbackground": true,
            "ticks": "",
            "zerolinecolor": "white"
           }
          },
          "shapedefaults": {
           "line": {
            "color": "#2a3f5f"
           }
          },
          "ternary": {
           "aaxis": {
            "gridcolor": "white",
            "linecolor": "white",
            "ticks": ""
           },
           "baxis": {
            "gridcolor": "white",
            "linecolor": "white",
            "ticks": ""
           },
           "bgcolor": "#E5ECF6",
           "caxis": {
            "gridcolor": "white",
            "linecolor": "white",
            "ticks": ""
           }
          },
          "title": {
           "x": 0.05
          },
          "xaxis": {
           "automargin": true,
           "gridcolor": "white",
           "linecolor": "white",
           "ticks": "",
           "title": {
            "standoff": 15
           },
           "zerolinecolor": "white",
           "zerolinewidth": 2
          },
          "yaxis": {
           "automargin": true,
           "gridcolor": "white",
           "linecolor": "white",
           "ticks": "",
           "title": {
            "standoff": 15
           },
           "zerolinecolor": "white",
           "zerolinewidth": 2
          }
         }
        },
        "title": {
         "text": "Comparativa Mensual de Socios"
        },
        "xaxis": {
         "anchor": "y",
         "domain": [
          0,
          1
         ],
         "title": {
          "text": "Fecha"
         }
        },
        "yaxis": {
         "anchor": "x",
         "domain": [
          0,
          1
         ],
         "title": {
          "text": "Total socios"
         }
        }
       }
      }
     },
     "metadata": {},
     "output_type": "display_data"
    }
   ],
   "source": [
    "fig = px.bar(socios_hand_por_mes, x='MES', y='SOCIOS_HAND', \n",
    "             barmode='group',\n",
    "             title='Comparativa Mensual de Socios',\n",
    "             labels={'SOCIOS_HAND': 'Socios', 'FECHA': 'Fecha'})\n",
    "\n",
    "fig.update_layout(\n",
    "    xaxis_title=\"Fecha\",\n",
    "    yaxis_title=\"Total socios\",\n",
    "    plot_bgcolor='white',\n",
    "    hovermode='x unified'\n",
    ")\n",
    "\n",
    "# Cambiar el color de las barras\n",
    "fig.update_traces(marker_color='#C70039')  # Establecer el color de las barras\n",
    "\n",
    "fig.show()\n",
    "pio.write_html(fig, 'Socios_Por_mes.html', auto_open=True)"
   ]
  },
  {
   "cell_type": "markdown",
   "metadata": {},
   "source": [
    "Vemos que en el mes de febrero los socios fueron pocos comparado con el resto de los meses, lo cual es de esperar, ya que es el comienzo del año. \n",
    "- Hubo un primer gran salto en el numero de socios de febrero a marzo, y siguio aumentando paulativamente hasta julio, que los socios bajaron (14 jugadores menos). \n",
    "- sin embargo, esta baja de socios no impacto significativamente en la relacion ingresos-egresos, ya que pudimos mantenernos por encima del umbral. "
   ]
  },
  {
   "cell_type": "markdown",
   "metadata": {},
   "source": [
    "Todo esto puede verse mas claro cuando evaluamos los ingresos y egresos por socio, para calcular cuanto influye en las arcas del club, que un socio abandone la institucion. "
   ]
  },
  {
   "cell_type": "code",
   "execution_count": 839,
   "metadata": {},
   "outputs": [
    {
     "name": "stdout",
     "output_type": "stream",
     "text": [
      "6324.94\n",
      "5786.28\n",
      "538.67\n"
     ]
    }
   ],
   "source": [
    "media_ingr_por_soc = round(ingresos_egresos_h['INGRESOS POR SOCIO'].mean(),2)\n",
    "media_egre_por_soc = round(ingresos_egresos_h['EGRESOS POR SOCIO'].mean(),2)\n",
    "media_saldo_por_soc = round(ingresos_egresos_h['SALDO POR SOCIO'].mean(),2)\n",
    "print(media_ingr_por_soc)\n",
    "print(media_egre_por_soc)\n",
    "print(media_saldo_por_soc)"
   ]
  },
  {
   "cell_type": "code",
   "execution_count": 840,
   "metadata": {},
   "outputs": [
    {
     "data": {
      "application/vnd.plotly.v1+json": {
       "config": {
        "plotlyServerURL": "https://plot.ly"
       },
       "data": [
        {
         "line": {
          "color": "#900C3F",
          "width": 2
         },
         "marker": {
          "color": "#900C3F",
          "size": 8,
          "symbol": "circle"
         },
         "mode": "lines+markers",
         "name": "Ingresos por socio",
         "type": "scatter",
         "x": [
          "FEB",
          "MAR",
          "ABR",
          "MAY",
          "JUN",
          "JUL",
          "AGO",
          "SEPT",
          "OCT"
         ],
         "y": [
          7580,
          6143.52,
          6103.85,
          5565.01,
          6081.88,
          6573.16,
          6305.52,
          6258.24,
          6313.32
         ]
        },
        {
         "line": {
          "color": "#FF5733",
          "width": 2
         },
         "marker": {
          "color": "#FF5733",
          "size": 8,
          "symbol": "circle"
         },
         "mode": "lines+markers",
         "name": "Egresos por socio",
         "type": "scatter",
         "x": [
          "FEB",
          "MAR",
          "ABR",
          "MAY",
          "JUN",
          "JUL",
          "AGO",
          "SEPT",
          "OCT"
         ],
         "y": [
          7739.44,
          5365.2,
          4976.15,
          5289.33,
          6378.35,
          6197.66,
          6139.35,
          4942.56,
          5048.44
         ]
        },
        {
         "line": {
          "color": "#FFC300",
          "width": 2
         },
         "marker": {
          "color": "#FFC300",
          "size": 8,
          "symbol": "circle"
         },
         "mode": "lines+markers",
         "name": "Saldo por socio",
         "type": "scatter",
         "x": [
          "FEB",
          "MAR",
          "ABR",
          "MAY",
          "JUN",
          "JUL",
          "AGO",
          "SEPT",
          "OCT"
         ],
         "y": [
          -159.4399999999996,
          778.3200000000006,
          1127.7000000000007,
          275.6800000000003,
          -296.47000000000025,
          375.5,
          166.17000000000007,
          1315.6799999999994,
          1264.88
         ]
        }
       ],
       "layout": {
        "hovermode": "x unified",
        "legend": {
         "orientation": "h",
         "title": {
          "text": "Categoría"
         },
         "x": 0.5,
         "xanchor": "center",
         "y": 1.1
        },
        "plot_bgcolor": "white",
        "shapes": [
         {
          "line": {
           "color": "grey",
           "dash": "dash",
           "width": 0.5
          },
          "type": "line",
          "x0": "FEB",
          "x1": "OCT",
          "y0": 0,
          "y1": 0
         }
        ],
        "template": {
         "data": {
          "bar": [
           {
            "error_x": {
             "color": "#2a3f5f"
            },
            "error_y": {
             "color": "#2a3f5f"
            },
            "marker": {
             "line": {
              "color": "#E5ECF6",
              "width": 0.5
             },
             "pattern": {
              "fillmode": "overlay",
              "size": 10,
              "solidity": 0.2
             }
            },
            "type": "bar"
           }
          ],
          "barpolar": [
           {
            "marker": {
             "line": {
              "color": "#E5ECF6",
              "width": 0.5
             },
             "pattern": {
              "fillmode": "overlay",
              "size": 10,
              "solidity": 0.2
             }
            },
            "type": "barpolar"
           }
          ],
          "carpet": [
           {
            "aaxis": {
             "endlinecolor": "#2a3f5f",
             "gridcolor": "white",
             "linecolor": "white",
             "minorgridcolor": "white",
             "startlinecolor": "#2a3f5f"
            },
            "baxis": {
             "endlinecolor": "#2a3f5f",
             "gridcolor": "white",
             "linecolor": "white",
             "minorgridcolor": "white",
             "startlinecolor": "#2a3f5f"
            },
            "type": "carpet"
           }
          ],
          "choropleth": [
           {
            "colorbar": {
             "outlinewidth": 0,
             "ticks": ""
            },
            "type": "choropleth"
           }
          ],
          "contour": [
           {
            "colorbar": {
             "outlinewidth": 0,
             "ticks": ""
            },
            "colorscale": [
             [
              0,
              "#0d0887"
             ],
             [
              0.1111111111111111,
              "#46039f"
             ],
             [
              0.2222222222222222,
              "#7201a8"
             ],
             [
              0.3333333333333333,
              "#9c179e"
             ],
             [
              0.4444444444444444,
              "#bd3786"
             ],
             [
              0.5555555555555556,
              "#d8576b"
             ],
             [
              0.6666666666666666,
              "#ed7953"
             ],
             [
              0.7777777777777778,
              "#fb9f3a"
             ],
             [
              0.8888888888888888,
              "#fdca26"
             ],
             [
              1,
              "#f0f921"
             ]
            ],
            "type": "contour"
           }
          ],
          "contourcarpet": [
           {
            "colorbar": {
             "outlinewidth": 0,
             "ticks": ""
            },
            "type": "contourcarpet"
           }
          ],
          "heatmap": [
           {
            "colorbar": {
             "outlinewidth": 0,
             "ticks": ""
            },
            "colorscale": [
             [
              0,
              "#0d0887"
             ],
             [
              0.1111111111111111,
              "#46039f"
             ],
             [
              0.2222222222222222,
              "#7201a8"
             ],
             [
              0.3333333333333333,
              "#9c179e"
             ],
             [
              0.4444444444444444,
              "#bd3786"
             ],
             [
              0.5555555555555556,
              "#d8576b"
             ],
             [
              0.6666666666666666,
              "#ed7953"
             ],
             [
              0.7777777777777778,
              "#fb9f3a"
             ],
             [
              0.8888888888888888,
              "#fdca26"
             ],
             [
              1,
              "#f0f921"
             ]
            ],
            "type": "heatmap"
           }
          ],
          "heatmapgl": [
           {
            "colorbar": {
             "outlinewidth": 0,
             "ticks": ""
            },
            "colorscale": [
             [
              0,
              "#0d0887"
             ],
             [
              0.1111111111111111,
              "#46039f"
             ],
             [
              0.2222222222222222,
              "#7201a8"
             ],
             [
              0.3333333333333333,
              "#9c179e"
             ],
             [
              0.4444444444444444,
              "#bd3786"
             ],
             [
              0.5555555555555556,
              "#d8576b"
             ],
             [
              0.6666666666666666,
              "#ed7953"
             ],
             [
              0.7777777777777778,
              "#fb9f3a"
             ],
             [
              0.8888888888888888,
              "#fdca26"
             ],
             [
              1,
              "#f0f921"
             ]
            ],
            "type": "heatmapgl"
           }
          ],
          "histogram": [
           {
            "marker": {
             "pattern": {
              "fillmode": "overlay",
              "size": 10,
              "solidity": 0.2
             }
            },
            "type": "histogram"
           }
          ],
          "histogram2d": [
           {
            "colorbar": {
             "outlinewidth": 0,
             "ticks": ""
            },
            "colorscale": [
             [
              0,
              "#0d0887"
             ],
             [
              0.1111111111111111,
              "#46039f"
             ],
             [
              0.2222222222222222,
              "#7201a8"
             ],
             [
              0.3333333333333333,
              "#9c179e"
             ],
             [
              0.4444444444444444,
              "#bd3786"
             ],
             [
              0.5555555555555556,
              "#d8576b"
             ],
             [
              0.6666666666666666,
              "#ed7953"
             ],
             [
              0.7777777777777778,
              "#fb9f3a"
             ],
             [
              0.8888888888888888,
              "#fdca26"
             ],
             [
              1,
              "#f0f921"
             ]
            ],
            "type": "histogram2d"
           }
          ],
          "histogram2dcontour": [
           {
            "colorbar": {
             "outlinewidth": 0,
             "ticks": ""
            },
            "colorscale": [
             [
              0,
              "#0d0887"
             ],
             [
              0.1111111111111111,
              "#46039f"
             ],
             [
              0.2222222222222222,
              "#7201a8"
             ],
             [
              0.3333333333333333,
              "#9c179e"
             ],
             [
              0.4444444444444444,
              "#bd3786"
             ],
             [
              0.5555555555555556,
              "#d8576b"
             ],
             [
              0.6666666666666666,
              "#ed7953"
             ],
             [
              0.7777777777777778,
              "#fb9f3a"
             ],
             [
              0.8888888888888888,
              "#fdca26"
             ],
             [
              1,
              "#f0f921"
             ]
            ],
            "type": "histogram2dcontour"
           }
          ],
          "mesh3d": [
           {
            "colorbar": {
             "outlinewidth": 0,
             "ticks": ""
            },
            "type": "mesh3d"
           }
          ],
          "parcoords": [
           {
            "line": {
             "colorbar": {
              "outlinewidth": 0,
              "ticks": ""
             }
            },
            "type": "parcoords"
           }
          ],
          "pie": [
           {
            "automargin": true,
            "type": "pie"
           }
          ],
          "scatter": [
           {
            "fillpattern": {
             "fillmode": "overlay",
             "size": 10,
             "solidity": 0.2
            },
            "type": "scatter"
           }
          ],
          "scatter3d": [
           {
            "line": {
             "colorbar": {
              "outlinewidth": 0,
              "ticks": ""
             }
            },
            "marker": {
             "colorbar": {
              "outlinewidth": 0,
              "ticks": ""
             }
            },
            "type": "scatter3d"
           }
          ],
          "scattercarpet": [
           {
            "marker": {
             "colorbar": {
              "outlinewidth": 0,
              "ticks": ""
             }
            },
            "type": "scattercarpet"
           }
          ],
          "scattergeo": [
           {
            "marker": {
             "colorbar": {
              "outlinewidth": 0,
              "ticks": ""
             }
            },
            "type": "scattergeo"
           }
          ],
          "scattergl": [
           {
            "marker": {
             "colorbar": {
              "outlinewidth": 0,
              "ticks": ""
             }
            },
            "type": "scattergl"
           }
          ],
          "scattermapbox": [
           {
            "marker": {
             "colorbar": {
              "outlinewidth": 0,
              "ticks": ""
             }
            },
            "type": "scattermapbox"
           }
          ],
          "scatterpolar": [
           {
            "marker": {
             "colorbar": {
              "outlinewidth": 0,
              "ticks": ""
             }
            },
            "type": "scatterpolar"
           }
          ],
          "scatterpolargl": [
           {
            "marker": {
             "colorbar": {
              "outlinewidth": 0,
              "ticks": ""
             }
            },
            "type": "scatterpolargl"
           }
          ],
          "scatterternary": [
           {
            "marker": {
             "colorbar": {
              "outlinewidth": 0,
              "ticks": ""
             }
            },
            "type": "scatterternary"
           }
          ],
          "surface": [
           {
            "colorbar": {
             "outlinewidth": 0,
             "ticks": ""
            },
            "colorscale": [
             [
              0,
              "#0d0887"
             ],
             [
              0.1111111111111111,
              "#46039f"
             ],
             [
              0.2222222222222222,
              "#7201a8"
             ],
             [
              0.3333333333333333,
              "#9c179e"
             ],
             [
              0.4444444444444444,
              "#bd3786"
             ],
             [
              0.5555555555555556,
              "#d8576b"
             ],
             [
              0.6666666666666666,
              "#ed7953"
             ],
             [
              0.7777777777777778,
              "#fb9f3a"
             ],
             [
              0.8888888888888888,
              "#fdca26"
             ],
             [
              1,
              "#f0f921"
             ]
            ],
            "type": "surface"
           }
          ],
          "table": [
           {
            "cells": {
             "fill": {
              "color": "#EBF0F8"
             },
             "line": {
              "color": "white"
             }
            },
            "header": {
             "fill": {
              "color": "#C8D4E3"
             },
             "line": {
              "color": "white"
             }
            },
            "type": "table"
           }
          ]
         },
         "layout": {
          "annotationdefaults": {
           "arrowcolor": "#2a3f5f",
           "arrowhead": 0,
           "arrowwidth": 1
          },
          "autotypenumbers": "strict",
          "coloraxis": {
           "colorbar": {
            "outlinewidth": 0,
            "ticks": ""
           }
          },
          "colorscale": {
           "diverging": [
            [
             0,
             "#8e0152"
            ],
            [
             0.1,
             "#c51b7d"
            ],
            [
             0.2,
             "#de77ae"
            ],
            [
             0.3,
             "#f1b6da"
            ],
            [
             0.4,
             "#fde0ef"
            ],
            [
             0.5,
             "#f7f7f7"
            ],
            [
             0.6,
             "#e6f5d0"
            ],
            [
             0.7,
             "#b8e186"
            ],
            [
             0.8,
             "#7fbc41"
            ],
            [
             0.9,
             "#4d9221"
            ],
            [
             1,
             "#276419"
            ]
           ],
           "sequential": [
            [
             0,
             "#0d0887"
            ],
            [
             0.1111111111111111,
             "#46039f"
            ],
            [
             0.2222222222222222,
             "#7201a8"
            ],
            [
             0.3333333333333333,
             "#9c179e"
            ],
            [
             0.4444444444444444,
             "#bd3786"
            ],
            [
             0.5555555555555556,
             "#d8576b"
            ],
            [
             0.6666666666666666,
             "#ed7953"
            ],
            [
             0.7777777777777778,
             "#fb9f3a"
            ],
            [
             0.8888888888888888,
             "#fdca26"
            ],
            [
             1,
             "#f0f921"
            ]
           ],
           "sequentialminus": [
            [
             0,
             "#0d0887"
            ],
            [
             0.1111111111111111,
             "#46039f"
            ],
            [
             0.2222222222222222,
             "#7201a8"
            ],
            [
             0.3333333333333333,
             "#9c179e"
            ],
            [
             0.4444444444444444,
             "#bd3786"
            ],
            [
             0.5555555555555556,
             "#d8576b"
            ],
            [
             0.6666666666666666,
             "#ed7953"
            ],
            [
             0.7777777777777778,
             "#fb9f3a"
            ],
            [
             0.8888888888888888,
             "#fdca26"
            ],
            [
             1,
             "#f0f921"
            ]
           ]
          },
          "colorway": [
           "#636efa",
           "#EF553B",
           "#00cc96",
           "#ab63fa",
           "#FFA15A",
           "#19d3f3",
           "#FF6692",
           "#B6E880",
           "#FF97FF",
           "#FECB52"
          ],
          "font": {
           "color": "#2a3f5f"
          },
          "geo": {
           "bgcolor": "white",
           "lakecolor": "white",
           "landcolor": "#E5ECF6",
           "showlakes": true,
           "showland": true,
           "subunitcolor": "white"
          },
          "hoverlabel": {
           "align": "left"
          },
          "hovermode": "closest",
          "mapbox": {
           "style": "light"
          },
          "paper_bgcolor": "white",
          "plot_bgcolor": "#E5ECF6",
          "polar": {
           "angularaxis": {
            "gridcolor": "white",
            "linecolor": "white",
            "ticks": ""
           },
           "bgcolor": "#E5ECF6",
           "radialaxis": {
            "gridcolor": "white",
            "linecolor": "white",
            "ticks": ""
           }
          },
          "scene": {
           "xaxis": {
            "backgroundcolor": "#E5ECF6",
            "gridcolor": "white",
            "gridwidth": 2,
            "linecolor": "white",
            "showbackground": true,
            "ticks": "",
            "zerolinecolor": "white"
           },
           "yaxis": {
            "backgroundcolor": "#E5ECF6",
            "gridcolor": "white",
            "gridwidth": 2,
            "linecolor": "white",
            "showbackground": true,
            "ticks": "",
            "zerolinecolor": "white"
           },
           "zaxis": {
            "backgroundcolor": "#E5ECF6",
            "gridcolor": "white",
            "gridwidth": 2,
            "linecolor": "white",
            "showbackground": true,
            "ticks": "",
            "zerolinecolor": "white"
           }
          },
          "shapedefaults": {
           "line": {
            "color": "#2a3f5f"
           }
          },
          "ternary": {
           "aaxis": {
            "gridcolor": "white",
            "linecolor": "white",
            "ticks": ""
           },
           "baxis": {
            "gridcolor": "white",
            "linecolor": "white",
            "ticks": ""
           },
           "bgcolor": "#E5ECF6",
           "caxis": {
            "gridcolor": "white",
            "linecolor": "white",
            "ticks": ""
           }
          },
          "title": {
           "x": 0.05
          },
          "xaxis": {
           "automargin": true,
           "gridcolor": "white",
           "linecolor": "white",
           "ticks": "",
           "title": {
            "standoff": 15
           },
           "zerolinecolor": "white",
           "zerolinewidth": 2
          },
          "yaxis": {
           "automargin": true,
           "gridcolor": "white",
           "linecolor": "white",
           "ticks": "",
           "title": {
            "standoff": 15
           },
           "zerolinecolor": "white",
           "zerolinewidth": 2
          }
         }
        },
        "title": {
         "text": "Balance por socio: Ingresos, Egresos y Saldo"
        },
        "xaxis": {
         "gridcolor": "lightgrey",
         "showgrid": true,
         "tickformat": "%b %Y",
         "title": {
          "text": "Fecha"
         }
        },
        "yaxis": {
         "gridcolor": "lightgrey",
         "showgrid": true,
         "title": {
          "text": "Monto ($)"
         }
        }
       }
      }
     },
     "metadata": {},
     "output_type": "display_data"
    }
   ],
   "source": [
    "# Crear la figura con las tres series de tiempo en el mismo gráfico\n",
    "fig = go.Figure()\n",
    "\n",
    "# Ingresos\n",
    "fig.add_trace(go.Scatter(\n",
    "    x=ingresos_egresos_h['FECHA'], \n",
    "    y=ingresos_egresos_h['INGRESOS POR SOCIO'], \n",
    "    mode='lines+markers',\n",
    "    line=dict(color='#900C3F', width=2), \n",
    "    marker=dict(size=8, color='#900C3F', symbol='circle'),\n",
    "    name='Ingresos por socio'\n",
    "))\n",
    "\n",
    "# Egresos\n",
    "fig.add_trace(go.Scatter(\n",
    "    x=ingresos_egresos_h['FECHA'], \n",
    "    y=ingresos_egresos_h['EGRESOS POR SOCIO'], \n",
    "    mode='lines+markers',\n",
    "    line=dict(color='#FF5733', width=2), \n",
    "    marker=dict(size=8, color='#FF5733', symbol='circle'),\n",
    "    name='Egresos por socio'\n",
    "))\n",
    "\n",
    "# Saldo Acumulado\n",
    "fig.add_trace(go.Scatter(\n",
    "    x=ingresos_egresos_h['FECHA'], \n",
    "    y=ingresos_egresos_h['SALDO POR SOCIO'], \n",
    "    mode='lines+markers',\n",
    "    line=dict(color='#FFC300', width=2),  \n",
    "    marker=dict(size=8, color='#FFC300', symbol='circle'),\n",
    "    name='Saldo por socio'\n",
    "))\n",
    "\n",
    "# Línea punteada en Y = 0 (ahora usando el rango extendido del eje X)\n",
    "fig.add_shape(\n",
    "    type=\"line\",\n",
    "    x0=\"FEB\", x1=\"OCT\",  # Ajustar manualmente para que cubra todo el rango\n",
    "    y0=0, y1=0,\n",
    "    line=dict(color=\"grey\", width=0.5, dash=\"dash\"),\n",
    ")\n",
    "\n",
    "# Configuración del diseño\n",
    "fig.update_layout(\n",
    "    title='Balance por socio: Ingresos, Egresos y Saldo',\n",
    "    xaxis_title='Fecha',\n",
    "    yaxis_title='Monto ($)',\n",
    "    plot_bgcolor='white',\n",
    "    hovermode='x unified',\n",
    "    legend=dict(title='Categoría', orientation='h', x=0.5, xanchor='center', y=1.1)\n",
    ")\n",
    "\n",
    "# Configurar los ejes\n",
    "fig.update_xaxes(showgrid=True, gridcolor='lightgrey', tickformat='%b %Y')\n",
    "fig.update_yaxes(showgrid=True, gridcolor='lightgrey')\n",
    "\n",
    "# Mostrar el gráfico\n",
    "fig.show()\n",
    "pio.write_html(fig, 'Balance_por_socio.html', auto_open=True)"
   ]
  },
  {
   "cell_type": "code",
   "execution_count": 841,
   "metadata": {},
   "outputs": [
    {
     "data": {
      "text/html": [
       "<div>\n",
       "<style scoped>\n",
       "    .dataframe tbody tr th:only-of-type {\n",
       "        vertical-align: middle;\n",
       "    }\n",
       "\n",
       "    .dataframe tbody tr th {\n",
       "        vertical-align: top;\n",
       "    }\n",
       "\n",
       "    .dataframe thead th {\n",
       "        text-align: right;\n",
       "    }\n",
       "</style>\n",
       "<table border=\"1\" class=\"dataframe\">\n",
       "  <thead>\n",
       "    <tr style=\"text-align: right;\">\n",
       "      <th></th>\n",
       "      <th>FECHA</th>\n",
       "      <th>MONTO</th>\n",
       "      <th>SOCIOS</th>\n",
       "    </tr>\n",
       "  </thead>\n",
       "  <tbody>\n",
       "    <tr>\n",
       "      <th>0</th>\n",
       "      <td>2024-02</td>\n",
       "      <td>583660.00</td>\n",
       "      <td>77</td>\n",
       "    </tr>\n",
       "    <tr>\n",
       "      <th>1</th>\n",
       "      <td>2024-03</td>\n",
       "      <td>749510.00</td>\n",
       "      <td>122</td>\n",
       "    </tr>\n",
       "    <tr>\n",
       "      <th>2</th>\n",
       "      <td>2024-04</td>\n",
       "      <td>824019.98</td>\n",
       "      <td>135</td>\n",
       "    </tr>\n",
       "    <tr>\n",
       "      <th>3</th>\n",
       "      <td>2024-05</td>\n",
       "      <td>970029.00</td>\n",
       "      <td>138</td>\n",
       "    </tr>\n",
       "    <tr>\n",
       "      <th>4</th>\n",
       "      <td>2024-06</td>\n",
       "      <td>1113898.00</td>\n",
       "      <td>145</td>\n",
       "    </tr>\n",
       "    <tr>\n",
       "      <th>5</th>\n",
       "      <td>2024-07</td>\n",
       "      <td>1087640.00</td>\n",
       "      <td>131</td>\n",
       "    </tr>\n",
       "    <tr>\n",
       "      <th>6</th>\n",
       "      <td>2024-08</td>\n",
       "      <td>1178750.00</td>\n",
       "      <td>148</td>\n",
       "    </tr>\n",
       "    <tr>\n",
       "      <th>7</th>\n",
       "      <td>2024-09</td>\n",
       "      <td>1393384.99</td>\n",
       "      <td>151</td>\n",
       "    </tr>\n",
       "    <tr>\n",
       "      <th>8</th>\n",
       "      <td>2024-10</td>\n",
       "      <td>1442885.02</td>\n",
       "      <td>155</td>\n",
       "    </tr>\n",
       "  </tbody>\n",
       "</table>\n",
       "</div>"
      ],
      "text/plain": [
       "     FECHA       MONTO  SOCIOS\n",
       "0  2024-02   583660.00      77\n",
       "1  2024-03   749510.00     122\n",
       "2  2024-04   824019.98     135\n",
       "3  2024-05   970029.00     138\n",
       "4  2024-06  1113898.00     145\n",
       "5  2024-07  1087640.00     131\n",
       "6  2024-08  1178750.00     148\n",
       "7  2024-09  1393384.99     151\n",
       "8  2024-10  1442885.02     155"
      ]
     },
     "execution_count": 841,
     "metadata": {},
     "output_type": "execute_result"
    }
   ],
   "source": [
    "ingresos_totales_por_mes = ingresos_reales.groupby(ingresos_reales['FECHA'].dt.to_period('M'))[['MONTO']].sum().reset_index()\n",
    "ingresos_totales_por_mes['SOCIOS']=[ 77, 122, 135, 138, 145, 131, 148, 151, 155]\n",
    "ingresos_y_socios=ingresos_totales_por_mes\n",
    "ingresos_y_socios['MONTO']/ingresos_y_socios['SOCIOS']\n",
    "ingresos_totales_por_mes"
   ]
  },
  {
   "cell_type": "code",
   "execution_count": 842,
   "metadata": {},
   "outputs": [],
   "source": [
    "solo_cuotas = ['Cuota', 'Cuota adeudada', 'Cuota medio mes']\n",
    "cuotas = ingresos_reales[ingresos_reales['DESCRIPCION'].isin(solo_cuotas)]\n",
    "cuotas=cuotas.reset_index(drop=True)"
   ]
  },
  {
   "cell_type": "markdown",
   "metadata": {},
   "source": [
    "Con esta grafica podemos concluir que la fluctuacion de socios no es directamente determinante de la cantidad de ingresos/egresos/saldo acumulado por socio, ya que vamos que en mayo y julio hubieron menos socios (encontrandose el mes de junio con mas socios que los meses mencionados), y sin embargo la grafica de dinero nos muestra que desde abril hasta junio inclusive fue en descenso, con un gran salto en julio donde los ingresos fueron considerablemente mayores que los egresos, y volviendo a bajar muy poquito y de forma paulatina hacia finde anio.\n",
    "\n",
    "Esto nos deja el interrogante de: que es lo que hace que los ingresos de socios suban, pero los ingresos de dinero bajen, y visceversa, sin ninguna correlacion. \n",
    "\n",
    "Lo veremos luego con mas detalle cuando analicemos el porcentaje de compromiso financiero"
   ]
  },
  {
   "cell_type": "markdown",
   "metadata": {},
   "source": [
    "### Evaluamos ingresos por cat"
   ]
  },
  {
   "cell_type": "markdown",
   "metadata": {},
   "source": [
    "Handball"
   ]
  },
  {
   "cell_type": "code",
   "execution_count": 843,
   "metadata": {},
   "outputs": [
    {
     "data": {
      "application/vnd.plotly.v1+json": {
       "config": {
        "plotlyServerURL": "https://plot.ly"
       },
       "data": [
        {
         "domain": {
          "x": [
           0,
           0
          ]
         },
         "hole": 0.4,
         "hoverinfo": "label+percent+name",
         "labels": [
          "Cadetes",
          "Infantiles",
          "Juveniles",
          "Mayores",
          "Menores",
          "Mini",
          "No procede"
         ],
         "marker": {
          "colors": [
           "#FF5733",
           "#C70039",
           "#900C3F",
           "#581845",
           "#FF9F00",
           "#FFCC80",
           "#FFC300"
          ]
         },
         "name": "Ingresos totales",
         "type": "pie",
         "values": [
          1327665.67,
          1117127.33,
          802160,
          2392880,
          2041597.83,
          1272846.16,
          389500
         ]
        }
       ],
       "layout": {
        "annotations": [
         {
          "font": {
           "size": 20
          },
          "showarrow": false,
          "text": "Monto",
          "x": 0,
          "y": 1
         }
        ],
        "height": 400,
        "legend": {
         "orientation": "v",
         "x": 0.8,
         "y": 1.28
        },
        "margin": {
         "b": 30,
         "l": 50,
         "r": 50,
         "t": 50
        },
        "template": {
         "data": {
          "bar": [
           {
            "error_x": {
             "color": "#2a3f5f"
            },
            "error_y": {
             "color": "#2a3f5f"
            },
            "marker": {
             "line": {
              "color": "#E5ECF6",
              "width": 0.5
             },
             "pattern": {
              "fillmode": "overlay",
              "size": 10,
              "solidity": 0.2
             }
            },
            "type": "bar"
           }
          ],
          "barpolar": [
           {
            "marker": {
             "line": {
              "color": "#E5ECF6",
              "width": 0.5
             },
             "pattern": {
              "fillmode": "overlay",
              "size": 10,
              "solidity": 0.2
             }
            },
            "type": "barpolar"
           }
          ],
          "carpet": [
           {
            "aaxis": {
             "endlinecolor": "#2a3f5f",
             "gridcolor": "white",
             "linecolor": "white",
             "minorgridcolor": "white",
             "startlinecolor": "#2a3f5f"
            },
            "baxis": {
             "endlinecolor": "#2a3f5f",
             "gridcolor": "white",
             "linecolor": "white",
             "minorgridcolor": "white",
             "startlinecolor": "#2a3f5f"
            },
            "type": "carpet"
           }
          ],
          "choropleth": [
           {
            "colorbar": {
             "outlinewidth": 0,
             "ticks": ""
            },
            "type": "choropleth"
           }
          ],
          "contour": [
           {
            "colorbar": {
             "outlinewidth": 0,
             "ticks": ""
            },
            "colorscale": [
             [
              0,
              "#0d0887"
             ],
             [
              0.1111111111111111,
              "#46039f"
             ],
             [
              0.2222222222222222,
              "#7201a8"
             ],
             [
              0.3333333333333333,
              "#9c179e"
             ],
             [
              0.4444444444444444,
              "#bd3786"
             ],
             [
              0.5555555555555556,
              "#d8576b"
             ],
             [
              0.6666666666666666,
              "#ed7953"
             ],
             [
              0.7777777777777778,
              "#fb9f3a"
             ],
             [
              0.8888888888888888,
              "#fdca26"
             ],
             [
              1,
              "#f0f921"
             ]
            ],
            "type": "contour"
           }
          ],
          "contourcarpet": [
           {
            "colorbar": {
             "outlinewidth": 0,
             "ticks": ""
            },
            "type": "contourcarpet"
           }
          ],
          "heatmap": [
           {
            "colorbar": {
             "outlinewidth": 0,
             "ticks": ""
            },
            "colorscale": [
             [
              0,
              "#0d0887"
             ],
             [
              0.1111111111111111,
              "#46039f"
             ],
             [
              0.2222222222222222,
              "#7201a8"
             ],
             [
              0.3333333333333333,
              "#9c179e"
             ],
             [
              0.4444444444444444,
              "#bd3786"
             ],
             [
              0.5555555555555556,
              "#d8576b"
             ],
             [
              0.6666666666666666,
              "#ed7953"
             ],
             [
              0.7777777777777778,
              "#fb9f3a"
             ],
             [
              0.8888888888888888,
              "#fdca26"
             ],
             [
              1,
              "#f0f921"
             ]
            ],
            "type": "heatmap"
           }
          ],
          "heatmapgl": [
           {
            "colorbar": {
             "outlinewidth": 0,
             "ticks": ""
            },
            "colorscale": [
             [
              0,
              "#0d0887"
             ],
             [
              0.1111111111111111,
              "#46039f"
             ],
             [
              0.2222222222222222,
              "#7201a8"
             ],
             [
              0.3333333333333333,
              "#9c179e"
             ],
             [
              0.4444444444444444,
              "#bd3786"
             ],
             [
              0.5555555555555556,
              "#d8576b"
             ],
             [
              0.6666666666666666,
              "#ed7953"
             ],
             [
              0.7777777777777778,
              "#fb9f3a"
             ],
             [
              0.8888888888888888,
              "#fdca26"
             ],
             [
              1,
              "#f0f921"
             ]
            ],
            "type": "heatmapgl"
           }
          ],
          "histogram": [
           {
            "marker": {
             "pattern": {
              "fillmode": "overlay",
              "size": 10,
              "solidity": 0.2
             }
            },
            "type": "histogram"
           }
          ],
          "histogram2d": [
           {
            "colorbar": {
             "outlinewidth": 0,
             "ticks": ""
            },
            "colorscale": [
             [
              0,
              "#0d0887"
             ],
             [
              0.1111111111111111,
              "#46039f"
             ],
             [
              0.2222222222222222,
              "#7201a8"
             ],
             [
              0.3333333333333333,
              "#9c179e"
             ],
             [
              0.4444444444444444,
              "#bd3786"
             ],
             [
              0.5555555555555556,
              "#d8576b"
             ],
             [
              0.6666666666666666,
              "#ed7953"
             ],
             [
              0.7777777777777778,
              "#fb9f3a"
             ],
             [
              0.8888888888888888,
              "#fdca26"
             ],
             [
              1,
              "#f0f921"
             ]
            ],
            "type": "histogram2d"
           }
          ],
          "histogram2dcontour": [
           {
            "colorbar": {
             "outlinewidth": 0,
             "ticks": ""
            },
            "colorscale": [
             [
              0,
              "#0d0887"
             ],
             [
              0.1111111111111111,
              "#46039f"
             ],
             [
              0.2222222222222222,
              "#7201a8"
             ],
             [
              0.3333333333333333,
              "#9c179e"
             ],
             [
              0.4444444444444444,
              "#bd3786"
             ],
             [
              0.5555555555555556,
              "#d8576b"
             ],
             [
              0.6666666666666666,
              "#ed7953"
             ],
             [
              0.7777777777777778,
              "#fb9f3a"
             ],
             [
              0.8888888888888888,
              "#fdca26"
             ],
             [
              1,
              "#f0f921"
             ]
            ],
            "type": "histogram2dcontour"
           }
          ],
          "mesh3d": [
           {
            "colorbar": {
             "outlinewidth": 0,
             "ticks": ""
            },
            "type": "mesh3d"
           }
          ],
          "parcoords": [
           {
            "line": {
             "colorbar": {
              "outlinewidth": 0,
              "ticks": ""
             }
            },
            "type": "parcoords"
           }
          ],
          "pie": [
           {
            "automargin": true,
            "type": "pie"
           }
          ],
          "scatter": [
           {
            "fillpattern": {
             "fillmode": "overlay",
             "size": 10,
             "solidity": 0.2
            },
            "type": "scatter"
           }
          ],
          "scatter3d": [
           {
            "line": {
             "colorbar": {
              "outlinewidth": 0,
              "ticks": ""
             }
            },
            "marker": {
             "colorbar": {
              "outlinewidth": 0,
              "ticks": ""
             }
            },
            "type": "scatter3d"
           }
          ],
          "scattercarpet": [
           {
            "marker": {
             "colorbar": {
              "outlinewidth": 0,
              "ticks": ""
             }
            },
            "type": "scattercarpet"
           }
          ],
          "scattergeo": [
           {
            "marker": {
             "colorbar": {
              "outlinewidth": 0,
              "ticks": ""
             }
            },
            "type": "scattergeo"
           }
          ],
          "scattergl": [
           {
            "marker": {
             "colorbar": {
              "outlinewidth": 0,
              "ticks": ""
             }
            },
            "type": "scattergl"
           }
          ],
          "scattermapbox": [
           {
            "marker": {
             "colorbar": {
              "outlinewidth": 0,
              "ticks": ""
             }
            },
            "type": "scattermapbox"
           }
          ],
          "scatterpolar": [
           {
            "marker": {
             "colorbar": {
              "outlinewidth": 0,
              "ticks": ""
             }
            },
            "type": "scatterpolar"
           }
          ],
          "scatterpolargl": [
           {
            "marker": {
             "colorbar": {
              "outlinewidth": 0,
              "ticks": ""
             }
            },
            "type": "scatterpolargl"
           }
          ],
          "scatterternary": [
           {
            "marker": {
             "colorbar": {
              "outlinewidth": 0,
              "ticks": ""
             }
            },
            "type": "scatterternary"
           }
          ],
          "surface": [
           {
            "colorbar": {
             "outlinewidth": 0,
             "ticks": ""
            },
            "colorscale": [
             [
              0,
              "#0d0887"
             ],
             [
              0.1111111111111111,
              "#46039f"
             ],
             [
              0.2222222222222222,
              "#7201a8"
             ],
             [
              0.3333333333333333,
              "#9c179e"
             ],
             [
              0.4444444444444444,
              "#bd3786"
             ],
             [
              0.5555555555555556,
              "#d8576b"
             ],
             [
              0.6666666666666666,
              "#ed7953"
             ],
             [
              0.7777777777777778,
              "#fb9f3a"
             ],
             [
              0.8888888888888888,
              "#fdca26"
             ],
             [
              1,
              "#f0f921"
             ]
            ],
            "type": "surface"
           }
          ],
          "table": [
           {
            "cells": {
             "fill": {
              "color": "#EBF0F8"
             },
             "line": {
              "color": "white"
             }
            },
            "header": {
             "fill": {
              "color": "#C8D4E3"
             },
             "line": {
              "color": "white"
             }
            },
            "type": "table"
           }
          ]
         },
         "layout": {
          "annotationdefaults": {
           "arrowcolor": "#2a3f5f",
           "arrowhead": 0,
           "arrowwidth": 1
          },
          "autotypenumbers": "strict",
          "coloraxis": {
           "colorbar": {
            "outlinewidth": 0,
            "ticks": ""
           }
          },
          "colorscale": {
           "diverging": [
            [
             0,
             "#8e0152"
            ],
            [
             0.1,
             "#c51b7d"
            ],
            [
             0.2,
             "#de77ae"
            ],
            [
             0.3,
             "#f1b6da"
            ],
            [
             0.4,
             "#fde0ef"
            ],
            [
             0.5,
             "#f7f7f7"
            ],
            [
             0.6,
             "#e6f5d0"
            ],
            [
             0.7,
             "#b8e186"
            ],
            [
             0.8,
             "#7fbc41"
            ],
            [
             0.9,
             "#4d9221"
            ],
            [
             1,
             "#276419"
            ]
           ],
           "sequential": [
            [
             0,
             "#0d0887"
            ],
            [
             0.1111111111111111,
             "#46039f"
            ],
            [
             0.2222222222222222,
             "#7201a8"
            ],
            [
             0.3333333333333333,
             "#9c179e"
            ],
            [
             0.4444444444444444,
             "#bd3786"
            ],
            [
             0.5555555555555556,
             "#d8576b"
            ],
            [
             0.6666666666666666,
             "#ed7953"
            ],
            [
             0.7777777777777778,
             "#fb9f3a"
            ],
            [
             0.8888888888888888,
             "#fdca26"
            ],
            [
             1,
             "#f0f921"
            ]
           ],
           "sequentialminus": [
            [
             0,
             "#0d0887"
            ],
            [
             0.1111111111111111,
             "#46039f"
            ],
            [
             0.2222222222222222,
             "#7201a8"
            ],
            [
             0.3333333333333333,
             "#9c179e"
            ],
            [
             0.4444444444444444,
             "#bd3786"
            ],
            [
             0.5555555555555556,
             "#d8576b"
            ],
            [
             0.6666666666666666,
             "#ed7953"
            ],
            [
             0.7777777777777778,
             "#fb9f3a"
            ],
            [
             0.8888888888888888,
             "#fdca26"
            ],
            [
             1,
             "#f0f921"
            ]
           ]
          },
          "colorway": [
           "#636efa",
           "#EF553B",
           "#00cc96",
           "#ab63fa",
           "#FFA15A",
           "#19d3f3",
           "#FF6692",
           "#B6E880",
           "#FF97FF",
           "#FECB52"
          ],
          "font": {
           "color": "#2a3f5f"
          },
          "geo": {
           "bgcolor": "white",
           "lakecolor": "white",
           "landcolor": "#E5ECF6",
           "showlakes": true,
           "showland": true,
           "subunitcolor": "white"
          },
          "hoverlabel": {
           "align": "left"
          },
          "hovermode": "closest",
          "mapbox": {
           "style": "light"
          },
          "paper_bgcolor": "white",
          "plot_bgcolor": "#E5ECF6",
          "polar": {
           "angularaxis": {
            "gridcolor": "white",
            "linecolor": "white",
            "ticks": ""
           },
           "bgcolor": "#E5ECF6",
           "radialaxis": {
            "gridcolor": "white",
            "linecolor": "white",
            "ticks": ""
           }
          },
          "scene": {
           "xaxis": {
            "backgroundcolor": "#E5ECF6",
            "gridcolor": "white",
            "gridwidth": 2,
            "linecolor": "white",
            "showbackground": true,
            "ticks": "",
            "zerolinecolor": "white"
           },
           "yaxis": {
            "backgroundcolor": "#E5ECF6",
            "gridcolor": "white",
            "gridwidth": 2,
            "linecolor": "white",
            "showbackground": true,
            "ticks": "",
            "zerolinecolor": "white"
           },
           "zaxis": {
            "backgroundcolor": "#E5ECF6",
            "gridcolor": "white",
            "gridwidth": 2,
            "linecolor": "white",
            "showbackground": true,
            "ticks": "",
            "zerolinecolor": "white"
           }
          },
          "shapedefaults": {
           "line": {
            "color": "#2a3f5f"
           }
          },
          "ternary": {
           "aaxis": {
            "gridcolor": "white",
            "linecolor": "white",
            "ticks": ""
           },
           "baxis": {
            "gridcolor": "white",
            "linecolor": "white",
            "ticks": ""
           },
           "bgcolor": "#E5ECF6",
           "caxis": {
            "gridcolor": "white",
            "linecolor": "white",
            "ticks": ""
           }
          },
          "title": {
           "x": 0.05
          },
          "xaxis": {
           "automargin": true,
           "gridcolor": "white",
           "linecolor": "white",
           "ticks": "",
           "title": {
            "standoff": 15
           },
           "zerolinecolor": "white",
           "zerolinewidth": 2
          },
          "yaxis": {
           "automargin": true,
           "gridcolor": "white",
           "linecolor": "white",
           "ticks": "",
           "title": {
            "standoff": 15
           },
           "zerolinecolor": "white",
           "zerolinewidth": 2
          }
         }
        },
        "title": {
         "text": "Ingresos totales 2024 por categoría"
        },
        "width": 500
       }
      }
     },
     "metadata": {},
     "output_type": "display_data"
    }
   ],
   "source": [
    "# Sumar los montos por categoría\n",
    "ingresos_por_categoria = ingresos_reales.groupby('CATEGORIA')[['MONTO']].sum().reset_index()\n",
    "\n",
    "# Datos para el gráfico\n",
    "pie1_list = ingresos_por_categoria.MONTO\n",
    "labels = ingresos_por_categoria.CATEGORIA\n",
    "\n",
    "# Definir la paleta de colores\n",
    "colors = [\n",
    "    '#FF5733',  # color-3\n",
    "    '#C70039',  # color-4\n",
    "    '#900C3F',  # color-5\n",
    "    '#581845',  # color-6\n",
    "    '#FF9F00',   # color-7 (naranja claro)\n",
    "    '#FFCC80',  # color-1\n",
    "    '#FFC300'  # color-2\n",
    "]\n",
    "\n",
    "# Crear la figura de gráfico circular (Pie)\n",
    "fig = go.Figure(\n",
    "    data=[\n",
    "        go.Pie(\n",
    "            values=pie1_list,\n",
    "            labels=labels,\n",
    "            domain={\"x\": [0, 0]},\n",
    "            name=\"Ingresos totales\",\n",
    "            hoverinfo=\"label+percent+name\",\n",
    "            hole=0.4,  # Hacer un gráfico de dona (agregar un hueco en el centro)\n",
    "            marker={'colors': colors}  # Aplicar la paleta de colores\n",
    "        )\n",
    "    ],\n",
    "    layout={\n",
    "        \"title\": \"Ingresos totales 2024 por categoría\",\n",
    "        \"annotations\": [\n",
    "            {\n",
    "                \"font\": {\"size\": 20},\n",
    "                \"showarrow\": False,\n",
    "                \"text\": \"Monto\",\n",
    "                \"x\": 0.0,\n",
    "                \"y\": 1.0\n",
    "            },\n",
    "        ],\n",
    "        # Ajustar el tamaño del gráfico\n",
    "        \"width\": 500,  # Ajusta el ancho\n",
    "        \"height\": 400,  # Ajusta la altura\n",
    "        # Modificar márgenes para reducir el espacio blanco\n",
    "        \"margin\": {\"l\": 50, \"r\": 50, \"t\": 50, \"b\": 30},\n",
    "        # Ajustar la leyenda para que esté más cerca del gráfico\n",
    "        \"legend\": {\n",
    "            \"x\": 0.8,  # Posición X de la leyenda\n",
    "            \"y\": 1.28,    # Posición Y de la leyenda\n",
    "            \"orientation\": \"v\"  # Poner la leyenda en vertical\n",
    "        }\n",
    "    }\n",
    ")\n",
    "# Mostrar el gráfico\n",
    "fig.show()\n",
    "pio.write_html(fig, 'Ingresos2024.html', auto_open=True)"
   ]
  },
  {
   "cell_type": "markdown",
   "metadata": {},
   "source": [
    "Handball, solo categorias"
   ]
  },
  {
   "cell_type": "code",
   "execution_count": 844,
   "metadata": {},
   "outputs": [
    {
     "data": {
      "application/vnd.plotly.v1+json": {
       "config": {
        "plotlyServerURL": "https://plot.ly"
       },
       "data": [
        {
         "domain": {
          "x": [
           0,
           0
          ]
         },
         "hole": 0.4,
         "hoverinfo": "label+percent+name",
         "labels": [
          "Cadetes",
          "Infantiles",
          "Juveniles",
          "Mayores",
          "Menores",
          "Mini"
         ],
         "marker": {
          "colors": [
           "#FF5733",
           "#C70039",
           "#900C3F",
           "#581845",
           "#FF9F00",
           "#FFCC80",
           "#FFC300"
          ]
         },
         "name": "Cuotas",
         "type": "pie",
         "values": [
          1327665.67,
          1117127.33,
          802160,
          2392880,
          2041597.83,
          1272846.16
         ]
        }
       ],
       "layout": {
        "annotations": [
         {
          "font": {
           "size": 20
          },
          "showarrow": false,
          "text": "Monto",
          "x": 0,
          "y": 1
         }
        ],
        "height": 400,
        "legend": {
         "orientation": "v",
         "x": 0.8,
         "y": 1.2
        },
        "margin": {
         "b": 50,
         "l": 50,
         "r": 50,
         "t": 50
        },
        "template": {
         "data": {
          "bar": [
           {
            "error_x": {
             "color": "#2a3f5f"
            },
            "error_y": {
             "color": "#2a3f5f"
            },
            "marker": {
             "line": {
              "color": "#E5ECF6",
              "width": 0.5
             },
             "pattern": {
              "fillmode": "overlay",
              "size": 10,
              "solidity": 0.2
             }
            },
            "type": "bar"
           }
          ],
          "barpolar": [
           {
            "marker": {
             "line": {
              "color": "#E5ECF6",
              "width": 0.5
             },
             "pattern": {
              "fillmode": "overlay",
              "size": 10,
              "solidity": 0.2
             }
            },
            "type": "barpolar"
           }
          ],
          "carpet": [
           {
            "aaxis": {
             "endlinecolor": "#2a3f5f",
             "gridcolor": "white",
             "linecolor": "white",
             "minorgridcolor": "white",
             "startlinecolor": "#2a3f5f"
            },
            "baxis": {
             "endlinecolor": "#2a3f5f",
             "gridcolor": "white",
             "linecolor": "white",
             "minorgridcolor": "white",
             "startlinecolor": "#2a3f5f"
            },
            "type": "carpet"
           }
          ],
          "choropleth": [
           {
            "colorbar": {
             "outlinewidth": 0,
             "ticks": ""
            },
            "type": "choropleth"
           }
          ],
          "contour": [
           {
            "colorbar": {
             "outlinewidth": 0,
             "ticks": ""
            },
            "colorscale": [
             [
              0,
              "#0d0887"
             ],
             [
              0.1111111111111111,
              "#46039f"
             ],
             [
              0.2222222222222222,
              "#7201a8"
             ],
             [
              0.3333333333333333,
              "#9c179e"
             ],
             [
              0.4444444444444444,
              "#bd3786"
             ],
             [
              0.5555555555555556,
              "#d8576b"
             ],
             [
              0.6666666666666666,
              "#ed7953"
             ],
             [
              0.7777777777777778,
              "#fb9f3a"
             ],
             [
              0.8888888888888888,
              "#fdca26"
             ],
             [
              1,
              "#f0f921"
             ]
            ],
            "type": "contour"
           }
          ],
          "contourcarpet": [
           {
            "colorbar": {
             "outlinewidth": 0,
             "ticks": ""
            },
            "type": "contourcarpet"
           }
          ],
          "heatmap": [
           {
            "colorbar": {
             "outlinewidth": 0,
             "ticks": ""
            },
            "colorscale": [
             [
              0,
              "#0d0887"
             ],
             [
              0.1111111111111111,
              "#46039f"
             ],
             [
              0.2222222222222222,
              "#7201a8"
             ],
             [
              0.3333333333333333,
              "#9c179e"
             ],
             [
              0.4444444444444444,
              "#bd3786"
             ],
             [
              0.5555555555555556,
              "#d8576b"
             ],
             [
              0.6666666666666666,
              "#ed7953"
             ],
             [
              0.7777777777777778,
              "#fb9f3a"
             ],
             [
              0.8888888888888888,
              "#fdca26"
             ],
             [
              1,
              "#f0f921"
             ]
            ],
            "type": "heatmap"
           }
          ],
          "heatmapgl": [
           {
            "colorbar": {
             "outlinewidth": 0,
             "ticks": ""
            },
            "colorscale": [
             [
              0,
              "#0d0887"
             ],
             [
              0.1111111111111111,
              "#46039f"
             ],
             [
              0.2222222222222222,
              "#7201a8"
             ],
             [
              0.3333333333333333,
              "#9c179e"
             ],
             [
              0.4444444444444444,
              "#bd3786"
             ],
             [
              0.5555555555555556,
              "#d8576b"
             ],
             [
              0.6666666666666666,
              "#ed7953"
             ],
             [
              0.7777777777777778,
              "#fb9f3a"
             ],
             [
              0.8888888888888888,
              "#fdca26"
             ],
             [
              1,
              "#f0f921"
             ]
            ],
            "type": "heatmapgl"
           }
          ],
          "histogram": [
           {
            "marker": {
             "pattern": {
              "fillmode": "overlay",
              "size": 10,
              "solidity": 0.2
             }
            },
            "type": "histogram"
           }
          ],
          "histogram2d": [
           {
            "colorbar": {
             "outlinewidth": 0,
             "ticks": ""
            },
            "colorscale": [
             [
              0,
              "#0d0887"
             ],
             [
              0.1111111111111111,
              "#46039f"
             ],
             [
              0.2222222222222222,
              "#7201a8"
             ],
             [
              0.3333333333333333,
              "#9c179e"
             ],
             [
              0.4444444444444444,
              "#bd3786"
             ],
             [
              0.5555555555555556,
              "#d8576b"
             ],
             [
              0.6666666666666666,
              "#ed7953"
             ],
             [
              0.7777777777777778,
              "#fb9f3a"
             ],
             [
              0.8888888888888888,
              "#fdca26"
             ],
             [
              1,
              "#f0f921"
             ]
            ],
            "type": "histogram2d"
           }
          ],
          "histogram2dcontour": [
           {
            "colorbar": {
             "outlinewidth": 0,
             "ticks": ""
            },
            "colorscale": [
             [
              0,
              "#0d0887"
             ],
             [
              0.1111111111111111,
              "#46039f"
             ],
             [
              0.2222222222222222,
              "#7201a8"
             ],
             [
              0.3333333333333333,
              "#9c179e"
             ],
             [
              0.4444444444444444,
              "#bd3786"
             ],
             [
              0.5555555555555556,
              "#d8576b"
             ],
             [
              0.6666666666666666,
              "#ed7953"
             ],
             [
              0.7777777777777778,
              "#fb9f3a"
             ],
             [
              0.8888888888888888,
              "#fdca26"
             ],
             [
              1,
              "#f0f921"
             ]
            ],
            "type": "histogram2dcontour"
           }
          ],
          "mesh3d": [
           {
            "colorbar": {
             "outlinewidth": 0,
             "ticks": ""
            },
            "type": "mesh3d"
           }
          ],
          "parcoords": [
           {
            "line": {
             "colorbar": {
              "outlinewidth": 0,
              "ticks": ""
             }
            },
            "type": "parcoords"
           }
          ],
          "pie": [
           {
            "automargin": true,
            "type": "pie"
           }
          ],
          "scatter": [
           {
            "fillpattern": {
             "fillmode": "overlay",
             "size": 10,
             "solidity": 0.2
            },
            "type": "scatter"
           }
          ],
          "scatter3d": [
           {
            "line": {
             "colorbar": {
              "outlinewidth": 0,
              "ticks": ""
             }
            },
            "marker": {
             "colorbar": {
              "outlinewidth": 0,
              "ticks": ""
             }
            },
            "type": "scatter3d"
           }
          ],
          "scattercarpet": [
           {
            "marker": {
             "colorbar": {
              "outlinewidth": 0,
              "ticks": ""
             }
            },
            "type": "scattercarpet"
           }
          ],
          "scattergeo": [
           {
            "marker": {
             "colorbar": {
              "outlinewidth": 0,
              "ticks": ""
             }
            },
            "type": "scattergeo"
           }
          ],
          "scattergl": [
           {
            "marker": {
             "colorbar": {
              "outlinewidth": 0,
              "ticks": ""
             }
            },
            "type": "scattergl"
           }
          ],
          "scattermapbox": [
           {
            "marker": {
             "colorbar": {
              "outlinewidth": 0,
              "ticks": ""
             }
            },
            "type": "scattermapbox"
           }
          ],
          "scatterpolar": [
           {
            "marker": {
             "colorbar": {
              "outlinewidth": 0,
              "ticks": ""
             }
            },
            "type": "scatterpolar"
           }
          ],
          "scatterpolargl": [
           {
            "marker": {
             "colorbar": {
              "outlinewidth": 0,
              "ticks": ""
             }
            },
            "type": "scatterpolargl"
           }
          ],
          "scatterternary": [
           {
            "marker": {
             "colorbar": {
              "outlinewidth": 0,
              "ticks": ""
             }
            },
            "type": "scatterternary"
           }
          ],
          "surface": [
           {
            "colorbar": {
             "outlinewidth": 0,
             "ticks": ""
            },
            "colorscale": [
             [
              0,
              "#0d0887"
             ],
             [
              0.1111111111111111,
              "#46039f"
             ],
             [
              0.2222222222222222,
              "#7201a8"
             ],
             [
              0.3333333333333333,
              "#9c179e"
             ],
             [
              0.4444444444444444,
              "#bd3786"
             ],
             [
              0.5555555555555556,
              "#d8576b"
             ],
             [
              0.6666666666666666,
              "#ed7953"
             ],
             [
              0.7777777777777778,
              "#fb9f3a"
             ],
             [
              0.8888888888888888,
              "#fdca26"
             ],
             [
              1,
              "#f0f921"
             ]
            ],
            "type": "surface"
           }
          ],
          "table": [
           {
            "cells": {
             "fill": {
              "color": "#EBF0F8"
             },
             "line": {
              "color": "white"
             }
            },
            "header": {
             "fill": {
              "color": "#C8D4E3"
             },
             "line": {
              "color": "white"
             }
            },
            "type": "table"
           }
          ]
         },
         "layout": {
          "annotationdefaults": {
           "arrowcolor": "#2a3f5f",
           "arrowhead": 0,
           "arrowwidth": 1
          },
          "autotypenumbers": "strict",
          "coloraxis": {
           "colorbar": {
            "outlinewidth": 0,
            "ticks": ""
           }
          },
          "colorscale": {
           "diverging": [
            [
             0,
             "#8e0152"
            ],
            [
             0.1,
             "#c51b7d"
            ],
            [
             0.2,
             "#de77ae"
            ],
            [
             0.3,
             "#f1b6da"
            ],
            [
             0.4,
             "#fde0ef"
            ],
            [
             0.5,
             "#f7f7f7"
            ],
            [
             0.6,
             "#e6f5d0"
            ],
            [
             0.7,
             "#b8e186"
            ],
            [
             0.8,
             "#7fbc41"
            ],
            [
             0.9,
             "#4d9221"
            ],
            [
             1,
             "#276419"
            ]
           ],
           "sequential": [
            [
             0,
             "#0d0887"
            ],
            [
             0.1111111111111111,
             "#46039f"
            ],
            [
             0.2222222222222222,
             "#7201a8"
            ],
            [
             0.3333333333333333,
             "#9c179e"
            ],
            [
             0.4444444444444444,
             "#bd3786"
            ],
            [
             0.5555555555555556,
             "#d8576b"
            ],
            [
             0.6666666666666666,
             "#ed7953"
            ],
            [
             0.7777777777777778,
             "#fb9f3a"
            ],
            [
             0.8888888888888888,
             "#fdca26"
            ],
            [
             1,
             "#f0f921"
            ]
           ],
           "sequentialminus": [
            [
             0,
             "#0d0887"
            ],
            [
             0.1111111111111111,
             "#46039f"
            ],
            [
             0.2222222222222222,
             "#7201a8"
            ],
            [
             0.3333333333333333,
             "#9c179e"
            ],
            [
             0.4444444444444444,
             "#bd3786"
            ],
            [
             0.5555555555555556,
             "#d8576b"
            ],
            [
             0.6666666666666666,
             "#ed7953"
            ],
            [
             0.7777777777777778,
             "#fb9f3a"
            ],
            [
             0.8888888888888888,
             "#fdca26"
            ],
            [
             1,
             "#f0f921"
            ]
           ]
          },
          "colorway": [
           "#636efa",
           "#EF553B",
           "#00cc96",
           "#ab63fa",
           "#FFA15A",
           "#19d3f3",
           "#FF6692",
           "#B6E880",
           "#FF97FF",
           "#FECB52"
          ],
          "font": {
           "color": "#2a3f5f"
          },
          "geo": {
           "bgcolor": "white",
           "lakecolor": "white",
           "landcolor": "#E5ECF6",
           "showlakes": true,
           "showland": true,
           "subunitcolor": "white"
          },
          "hoverlabel": {
           "align": "left"
          },
          "hovermode": "closest",
          "mapbox": {
           "style": "light"
          },
          "paper_bgcolor": "white",
          "plot_bgcolor": "#E5ECF6",
          "polar": {
           "angularaxis": {
            "gridcolor": "white",
            "linecolor": "white",
            "ticks": ""
           },
           "bgcolor": "#E5ECF6",
           "radialaxis": {
            "gridcolor": "white",
            "linecolor": "white",
            "ticks": ""
           }
          },
          "scene": {
           "xaxis": {
            "backgroundcolor": "#E5ECF6",
            "gridcolor": "white",
            "gridwidth": 2,
            "linecolor": "white",
            "showbackground": true,
            "ticks": "",
            "zerolinecolor": "white"
           },
           "yaxis": {
            "backgroundcolor": "#E5ECF6",
            "gridcolor": "white",
            "gridwidth": 2,
            "linecolor": "white",
            "showbackground": true,
            "ticks": "",
            "zerolinecolor": "white"
           },
           "zaxis": {
            "backgroundcolor": "#E5ECF6",
            "gridcolor": "white",
            "gridwidth": 2,
            "linecolor": "white",
            "showbackground": true,
            "ticks": "",
            "zerolinecolor": "white"
           }
          },
          "shapedefaults": {
           "line": {
            "color": "#2a3f5f"
           }
          },
          "ternary": {
           "aaxis": {
            "gridcolor": "white",
            "linecolor": "white",
            "ticks": ""
           },
           "baxis": {
            "gridcolor": "white",
            "linecolor": "white",
            "ticks": ""
           },
           "bgcolor": "#E5ECF6",
           "caxis": {
            "gridcolor": "white",
            "linecolor": "white",
            "ticks": ""
           }
          },
          "title": {
           "x": 0.05
          },
          "xaxis": {
           "automargin": true,
           "gridcolor": "white",
           "linecolor": "white",
           "ticks": "",
           "title": {
            "standoff": 15
           },
           "zerolinecolor": "white",
           "zerolinewidth": 2
          },
          "yaxis": {
           "automargin": true,
           "gridcolor": "white",
           "linecolor": "white",
           "ticks": "",
           "title": {
            "standoff": 15
           },
           "zerolinecolor": "white",
           "zerolinewidth": 2
          }
         }
        },
        "title": {
         "text": "Ingresos de cuotas por categoría"
        },
        "width": 500
       }
      }
     },
     "metadata": {},
     "output_type": "display_data"
    }
   ],
   "source": [
    "# Sumar los montos por categoría\n",
    "cuotas_por_categoria = cuotas.groupby('CATEGORIA')[['MONTO']].sum().reset_index()\n",
    "\n",
    "# Datos para el gráfico\n",
    "pie1_list = cuotas_por_categoria.MONTO\n",
    "labels = cuotas_por_categoria.CATEGORIA\n",
    "\n",
    "# Definir la paleta de colores\n",
    "colors = [\n",
    "    '#FF5733',  # color-3\n",
    "    '#C70039',  # color-4\n",
    "    '#900C3F',  # color-5\n",
    "    '#581845',  # color-6\n",
    "    '#FF9F00',   # color-7 (naranja claro)\n",
    "    '#FFCC80',  # color-1\n",
    "    '#FFC300'  # color-2\n",
    "]\n",
    "\n",
    "# Crear la figura de gráfico circular (Pie)\n",
    "fig = go.Figure(\n",
    "    data=[\n",
    "        go.Pie(\n",
    "            values=pie1_list,\n",
    "            labels=labels,\n",
    "            domain={\"x\": [0, 0]},\n",
    "            name=\"Cuotas\",\n",
    "            hoverinfo=\"label+percent+name\",\n",
    "            hole=0.4,  # Hacer un gráfico de dona (agregar un hueco en el centro)\n",
    "            marker={'colors': colors}  # Aplicar la paleta de colores\n",
    "        )\n",
    "    ],\n",
    "    layout={\n",
    "        \"title\": \"Ingresos de cuotas por categoría\",\n",
    "        \"annotations\": [\n",
    "            {\n",
    "                \"font\": {\"size\": 20},\n",
    "                \"showarrow\": False,\n",
    "                \"text\": \"Monto\",\n",
    "                \"x\": 0.0,\n",
    "                \"y\": 1.0\n",
    "            },\n",
    "        ],\n",
    "        # Ajustar el tamaño del gráfico\n",
    "        \"width\": 500,  # Ajusta el ancho\n",
    "        \"height\": 400,  # Ajusta la altura\n",
    "        # Modificar márgenes para reducir el espacio blanco\n",
    "        \"margin\": {\"l\": 50, \"r\": 50, \"t\": 50, \"b\": 50},\n",
    "        # Ajustar la leyenda para que esté más cerca del gráfico\n",
    "        \"legend\": {\n",
    "            \"x\": 0.8,  # Posición X de la leyenda\n",
    "            \"y\": 1.2,    # Posición Y de la leyenda\n",
    "            \"orientation\": \"v\"  # Poner la leyenda en vertical\n",
    "        }\n",
    "    }\n",
    ")\n",
    "# Mostrar el gráfico\n",
    "fig.show()\n",
    "pio.write_html(fig, 'Ingresos_Cuotas.html', auto_open=True)"
   ]
  },
  {
   "cell_type": "code",
   "execution_count": 845,
   "metadata": {},
   "outputs": [],
   "source": [
    "otros = ['Cambio divisas ahorros', 'SPONSOR CASINO VIRTUAL', 'Sponsor Perramon', 'Eventos']\n",
    "otros_ingresos = ingresos_reales[ingresos_reales['DESCRIPCION'].isin(otros)]\n",
    "otros_ingresos =otros_ingresos.reset_index(drop=True)\n",
    "otros_ingresos['CATEGORIA']=['Ahorros', 'Sponsor', 'Sponsor', \"Eventos\"]"
   ]
  },
  {
   "cell_type": "code",
   "execution_count": 846,
   "metadata": {},
   "outputs": [],
   "source": [
    "eventos = ingresos_reales.loc[:, 'DESCRIPCION'] == 'Eventos'\n",
    "ingresos_eventos = ingresos_reales[eventos]"
   ]
  },
  {
   "cell_type": "code",
   "execution_count": 847,
   "metadata": {},
   "outputs": [
    {
     "data": {
      "application/vnd.plotly.v1+json": {
       "config": {
        "plotlyServerURL": "https://plot.ly"
       },
       "data": [
        {
         "domain": {
          "x": [
           0,
           0
          ]
         },
         "hole": 0.4,
         "hoverinfo": "label+percent+name",
         "labels": [
          "Ahorros",
          "Eventos",
          "Sponsor"
         ],
         "marker": {
          "colors": [
           "#FF5733",
           "#C70039",
           "#900C3F",
           "#581845",
           "#FF9F00",
           "#FFCC80",
           "#FFC300"
          ]
         },
         "name": "Ingresos",
         "type": "pie",
         "values": [
          120000,
          209500,
          60000
         ]
        }
       ],
       "layout": {
        "annotations": [
         {
          "font": {
           "size": 20
          },
          "showarrow": false,
          "text": "Monto",
          "x": 0,
          "y": 1
         }
        ],
        "height": 400,
        "legend": {
         "orientation": "v",
         "x": 0.8,
         "y": 1.2
        },
        "margin": {
         "b": 50,
         "l": 50,
         "r": 50,
         "t": 50
        },
        "template": {
         "data": {
          "bar": [
           {
            "error_x": {
             "color": "#2a3f5f"
            },
            "error_y": {
             "color": "#2a3f5f"
            },
            "marker": {
             "line": {
              "color": "#E5ECF6",
              "width": 0.5
             },
             "pattern": {
              "fillmode": "overlay",
              "size": 10,
              "solidity": 0.2
             }
            },
            "type": "bar"
           }
          ],
          "barpolar": [
           {
            "marker": {
             "line": {
              "color": "#E5ECF6",
              "width": 0.5
             },
             "pattern": {
              "fillmode": "overlay",
              "size": 10,
              "solidity": 0.2
             }
            },
            "type": "barpolar"
           }
          ],
          "carpet": [
           {
            "aaxis": {
             "endlinecolor": "#2a3f5f",
             "gridcolor": "white",
             "linecolor": "white",
             "minorgridcolor": "white",
             "startlinecolor": "#2a3f5f"
            },
            "baxis": {
             "endlinecolor": "#2a3f5f",
             "gridcolor": "white",
             "linecolor": "white",
             "minorgridcolor": "white",
             "startlinecolor": "#2a3f5f"
            },
            "type": "carpet"
           }
          ],
          "choropleth": [
           {
            "colorbar": {
             "outlinewidth": 0,
             "ticks": ""
            },
            "type": "choropleth"
           }
          ],
          "contour": [
           {
            "colorbar": {
             "outlinewidth": 0,
             "ticks": ""
            },
            "colorscale": [
             [
              0,
              "#0d0887"
             ],
             [
              0.1111111111111111,
              "#46039f"
             ],
             [
              0.2222222222222222,
              "#7201a8"
             ],
             [
              0.3333333333333333,
              "#9c179e"
             ],
             [
              0.4444444444444444,
              "#bd3786"
             ],
             [
              0.5555555555555556,
              "#d8576b"
             ],
             [
              0.6666666666666666,
              "#ed7953"
             ],
             [
              0.7777777777777778,
              "#fb9f3a"
             ],
             [
              0.8888888888888888,
              "#fdca26"
             ],
             [
              1,
              "#f0f921"
             ]
            ],
            "type": "contour"
           }
          ],
          "contourcarpet": [
           {
            "colorbar": {
             "outlinewidth": 0,
             "ticks": ""
            },
            "type": "contourcarpet"
           }
          ],
          "heatmap": [
           {
            "colorbar": {
             "outlinewidth": 0,
             "ticks": ""
            },
            "colorscale": [
             [
              0,
              "#0d0887"
             ],
             [
              0.1111111111111111,
              "#46039f"
             ],
             [
              0.2222222222222222,
              "#7201a8"
             ],
             [
              0.3333333333333333,
              "#9c179e"
             ],
             [
              0.4444444444444444,
              "#bd3786"
             ],
             [
              0.5555555555555556,
              "#d8576b"
             ],
             [
              0.6666666666666666,
              "#ed7953"
             ],
             [
              0.7777777777777778,
              "#fb9f3a"
             ],
             [
              0.8888888888888888,
              "#fdca26"
             ],
             [
              1,
              "#f0f921"
             ]
            ],
            "type": "heatmap"
           }
          ],
          "heatmapgl": [
           {
            "colorbar": {
             "outlinewidth": 0,
             "ticks": ""
            },
            "colorscale": [
             [
              0,
              "#0d0887"
             ],
             [
              0.1111111111111111,
              "#46039f"
             ],
             [
              0.2222222222222222,
              "#7201a8"
             ],
             [
              0.3333333333333333,
              "#9c179e"
             ],
             [
              0.4444444444444444,
              "#bd3786"
             ],
             [
              0.5555555555555556,
              "#d8576b"
             ],
             [
              0.6666666666666666,
              "#ed7953"
             ],
             [
              0.7777777777777778,
              "#fb9f3a"
             ],
             [
              0.8888888888888888,
              "#fdca26"
             ],
             [
              1,
              "#f0f921"
             ]
            ],
            "type": "heatmapgl"
           }
          ],
          "histogram": [
           {
            "marker": {
             "pattern": {
              "fillmode": "overlay",
              "size": 10,
              "solidity": 0.2
             }
            },
            "type": "histogram"
           }
          ],
          "histogram2d": [
           {
            "colorbar": {
             "outlinewidth": 0,
             "ticks": ""
            },
            "colorscale": [
             [
              0,
              "#0d0887"
             ],
             [
              0.1111111111111111,
              "#46039f"
             ],
             [
              0.2222222222222222,
              "#7201a8"
             ],
             [
              0.3333333333333333,
              "#9c179e"
             ],
             [
              0.4444444444444444,
              "#bd3786"
             ],
             [
              0.5555555555555556,
              "#d8576b"
             ],
             [
              0.6666666666666666,
              "#ed7953"
             ],
             [
              0.7777777777777778,
              "#fb9f3a"
             ],
             [
              0.8888888888888888,
              "#fdca26"
             ],
             [
              1,
              "#f0f921"
             ]
            ],
            "type": "histogram2d"
           }
          ],
          "histogram2dcontour": [
           {
            "colorbar": {
             "outlinewidth": 0,
             "ticks": ""
            },
            "colorscale": [
             [
              0,
              "#0d0887"
             ],
             [
              0.1111111111111111,
              "#46039f"
             ],
             [
              0.2222222222222222,
              "#7201a8"
             ],
             [
              0.3333333333333333,
              "#9c179e"
             ],
             [
              0.4444444444444444,
              "#bd3786"
             ],
             [
              0.5555555555555556,
              "#d8576b"
             ],
             [
              0.6666666666666666,
              "#ed7953"
             ],
             [
              0.7777777777777778,
              "#fb9f3a"
             ],
             [
              0.8888888888888888,
              "#fdca26"
             ],
             [
              1,
              "#f0f921"
             ]
            ],
            "type": "histogram2dcontour"
           }
          ],
          "mesh3d": [
           {
            "colorbar": {
             "outlinewidth": 0,
             "ticks": ""
            },
            "type": "mesh3d"
           }
          ],
          "parcoords": [
           {
            "line": {
             "colorbar": {
              "outlinewidth": 0,
              "ticks": ""
             }
            },
            "type": "parcoords"
           }
          ],
          "pie": [
           {
            "automargin": true,
            "type": "pie"
           }
          ],
          "scatter": [
           {
            "fillpattern": {
             "fillmode": "overlay",
             "size": 10,
             "solidity": 0.2
            },
            "type": "scatter"
           }
          ],
          "scatter3d": [
           {
            "line": {
             "colorbar": {
              "outlinewidth": 0,
              "ticks": ""
             }
            },
            "marker": {
             "colorbar": {
              "outlinewidth": 0,
              "ticks": ""
             }
            },
            "type": "scatter3d"
           }
          ],
          "scattercarpet": [
           {
            "marker": {
             "colorbar": {
              "outlinewidth": 0,
              "ticks": ""
             }
            },
            "type": "scattercarpet"
           }
          ],
          "scattergeo": [
           {
            "marker": {
             "colorbar": {
              "outlinewidth": 0,
              "ticks": ""
             }
            },
            "type": "scattergeo"
           }
          ],
          "scattergl": [
           {
            "marker": {
             "colorbar": {
              "outlinewidth": 0,
              "ticks": ""
             }
            },
            "type": "scattergl"
           }
          ],
          "scattermapbox": [
           {
            "marker": {
             "colorbar": {
              "outlinewidth": 0,
              "ticks": ""
             }
            },
            "type": "scattermapbox"
           }
          ],
          "scatterpolar": [
           {
            "marker": {
             "colorbar": {
              "outlinewidth": 0,
              "ticks": ""
             }
            },
            "type": "scatterpolar"
           }
          ],
          "scatterpolargl": [
           {
            "marker": {
             "colorbar": {
              "outlinewidth": 0,
              "ticks": ""
             }
            },
            "type": "scatterpolargl"
           }
          ],
          "scatterternary": [
           {
            "marker": {
             "colorbar": {
              "outlinewidth": 0,
              "ticks": ""
             }
            },
            "type": "scatterternary"
           }
          ],
          "surface": [
           {
            "colorbar": {
             "outlinewidth": 0,
             "ticks": ""
            },
            "colorscale": [
             [
              0,
              "#0d0887"
             ],
             [
              0.1111111111111111,
              "#46039f"
             ],
             [
              0.2222222222222222,
              "#7201a8"
             ],
             [
              0.3333333333333333,
              "#9c179e"
             ],
             [
              0.4444444444444444,
              "#bd3786"
             ],
             [
              0.5555555555555556,
              "#d8576b"
             ],
             [
              0.6666666666666666,
              "#ed7953"
             ],
             [
              0.7777777777777778,
              "#fb9f3a"
             ],
             [
              0.8888888888888888,
              "#fdca26"
             ],
             [
              1,
              "#f0f921"
             ]
            ],
            "type": "surface"
           }
          ],
          "table": [
           {
            "cells": {
             "fill": {
              "color": "#EBF0F8"
             },
             "line": {
              "color": "white"
             }
            },
            "header": {
             "fill": {
              "color": "#C8D4E3"
             },
             "line": {
              "color": "white"
             }
            },
            "type": "table"
           }
          ]
         },
         "layout": {
          "annotationdefaults": {
           "arrowcolor": "#2a3f5f",
           "arrowhead": 0,
           "arrowwidth": 1
          },
          "autotypenumbers": "strict",
          "coloraxis": {
           "colorbar": {
            "outlinewidth": 0,
            "ticks": ""
           }
          },
          "colorscale": {
           "diverging": [
            [
             0,
             "#8e0152"
            ],
            [
             0.1,
             "#c51b7d"
            ],
            [
             0.2,
             "#de77ae"
            ],
            [
             0.3,
             "#f1b6da"
            ],
            [
             0.4,
             "#fde0ef"
            ],
            [
             0.5,
             "#f7f7f7"
            ],
            [
             0.6,
             "#e6f5d0"
            ],
            [
             0.7,
             "#b8e186"
            ],
            [
             0.8,
             "#7fbc41"
            ],
            [
             0.9,
             "#4d9221"
            ],
            [
             1,
             "#276419"
            ]
           ],
           "sequential": [
            [
             0,
             "#0d0887"
            ],
            [
             0.1111111111111111,
             "#46039f"
            ],
            [
             0.2222222222222222,
             "#7201a8"
            ],
            [
             0.3333333333333333,
             "#9c179e"
            ],
            [
             0.4444444444444444,
             "#bd3786"
            ],
            [
             0.5555555555555556,
             "#d8576b"
            ],
            [
             0.6666666666666666,
             "#ed7953"
            ],
            [
             0.7777777777777778,
             "#fb9f3a"
            ],
            [
             0.8888888888888888,
             "#fdca26"
            ],
            [
             1,
             "#f0f921"
            ]
           ],
           "sequentialminus": [
            [
             0,
             "#0d0887"
            ],
            [
             0.1111111111111111,
             "#46039f"
            ],
            [
             0.2222222222222222,
             "#7201a8"
            ],
            [
             0.3333333333333333,
             "#9c179e"
            ],
            [
             0.4444444444444444,
             "#bd3786"
            ],
            [
             0.5555555555555556,
             "#d8576b"
            ],
            [
             0.6666666666666666,
             "#ed7953"
            ],
            [
             0.7777777777777778,
             "#fb9f3a"
            ],
            [
             0.8888888888888888,
             "#fdca26"
            ],
            [
             1,
             "#f0f921"
            ]
           ]
          },
          "colorway": [
           "#636efa",
           "#EF553B",
           "#00cc96",
           "#ab63fa",
           "#FFA15A",
           "#19d3f3",
           "#FF6692",
           "#B6E880",
           "#FF97FF",
           "#FECB52"
          ],
          "font": {
           "color": "#2a3f5f"
          },
          "geo": {
           "bgcolor": "white",
           "lakecolor": "white",
           "landcolor": "#E5ECF6",
           "showlakes": true,
           "showland": true,
           "subunitcolor": "white"
          },
          "hoverlabel": {
           "align": "left"
          },
          "hovermode": "closest",
          "mapbox": {
           "style": "light"
          },
          "paper_bgcolor": "white",
          "plot_bgcolor": "#E5ECF6",
          "polar": {
           "angularaxis": {
            "gridcolor": "white",
            "linecolor": "white",
            "ticks": ""
           },
           "bgcolor": "#E5ECF6",
           "radialaxis": {
            "gridcolor": "white",
            "linecolor": "white",
            "ticks": ""
           }
          },
          "scene": {
           "xaxis": {
            "backgroundcolor": "#E5ECF6",
            "gridcolor": "white",
            "gridwidth": 2,
            "linecolor": "white",
            "showbackground": true,
            "ticks": "",
            "zerolinecolor": "white"
           },
           "yaxis": {
            "backgroundcolor": "#E5ECF6",
            "gridcolor": "white",
            "gridwidth": 2,
            "linecolor": "white",
            "showbackground": true,
            "ticks": "",
            "zerolinecolor": "white"
           },
           "zaxis": {
            "backgroundcolor": "#E5ECF6",
            "gridcolor": "white",
            "gridwidth": 2,
            "linecolor": "white",
            "showbackground": true,
            "ticks": "",
            "zerolinecolor": "white"
           }
          },
          "shapedefaults": {
           "line": {
            "color": "#2a3f5f"
           }
          },
          "ternary": {
           "aaxis": {
            "gridcolor": "white",
            "linecolor": "white",
            "ticks": ""
           },
           "baxis": {
            "gridcolor": "white",
            "linecolor": "white",
            "ticks": ""
           },
           "bgcolor": "#E5ECF6",
           "caxis": {
            "gridcolor": "white",
            "linecolor": "white",
            "ticks": ""
           }
          },
          "title": {
           "x": 0.05
          },
          "xaxis": {
           "automargin": true,
           "gridcolor": "white",
           "linecolor": "white",
           "ticks": "",
           "title": {
            "standoff": 15
           },
           "zerolinecolor": "white",
           "zerolinewidth": 2
          },
          "yaxis": {
           "automargin": true,
           "gridcolor": "white",
           "linecolor": "white",
           "ticks": "",
           "title": {
            "standoff": 15
           },
           "zerolinecolor": "white",
           "zerolinewidth": 2
          }
         }
        },
        "title": {
         "text": "Otras fuentes de ingresos"
        },
        "width": 500
       }
      }
     },
     "metadata": {},
     "output_type": "display_data"
    }
   ],
   "source": [
    "# Sumar los montos por categoría\n",
    "otros = otros_ingresos.groupby('CATEGORIA')[['MONTO']].sum().reset_index()\n",
    "\n",
    "# Datos para el gráfico\n",
    "pie1_list = otros.MONTO\n",
    "labels = otros.CATEGORIA\n",
    "\n",
    "# Definir la paleta de colores\n",
    "colors = [\n",
    "    '#FF5733',  # color-3\n",
    "    '#C70039',  # color-4\n",
    "    '#900C3F',  # color-5\n",
    "    '#581845',  # color-6\n",
    "    '#FF9F00',   # color-7 (naranja claro)\n",
    "    '#FFCC80',  # color-1\n",
    "    '#FFC300'  # color-2\n",
    "]\n",
    "\n",
    "# Crear la figura de gráfico circular (Pie)\n",
    "fig = go.Figure(\n",
    "    data=[\n",
    "        go.Pie(\n",
    "            values=pie1_list,\n",
    "            labels=labels,\n",
    "            domain={\"x\": [0, 0]},  # Ajustar la posición del gráfico en el canvas\n",
    "            name=\"Ingresos\",\n",
    "            hoverinfo=\"label+percent+name\",\n",
    "            hole=0.4,  # Hacer un gráfico de dona (agregar un hueco en el centro)\n",
    "            marker={'colors': colors}  # Aplicar la paleta de colores\n",
    "        )\n",
    "    ],\n",
    "    layout={\n",
    "        \"title\": \"Otras fuentes de ingresos\",\n",
    "        \"annotations\": [\n",
    "            {\n",
    "                \"font\": {\"size\": 20},\n",
    "                \"showarrow\": False,\n",
    "                \"text\": \"Monto\",\n",
    "                \"x\": 0.0,\n",
    "                \"y\": 1.0\n",
    "            },\n",
    "        ],\n",
    "        # Ajustar el tamaño del gráfico\n",
    "        \"width\": 500,  # Ajusta el ancho\n",
    "        \"height\": 400,  # Ajusta la altura\n",
    "        # Modificar márgenes para reducir el espacio blanco\n",
    "        \"margin\": {\"l\": 50, \"r\": 50, \"t\": 50, \"b\": 50},\n",
    "        # Ajustar la leyenda para que esté más cerca del gráfico\n",
    "        \"legend\": {\n",
    "            \"x\": 0.8,  # Posición X de la leyenda\n",
    "            \"y\": 1.2,    # Posición Y de la leyenda\n",
    "            \"orientation\": \"v\"  # Poner la leyenda en vertical\n",
    "        }\n",
    "    }\n",
    ")\n",
    "\n",
    "# Mostrar el gráfico\n",
    "fig.show()\n",
    "pio.write_html(fig, 'Otros_Ingresos.html', auto_open=True)"
   ]
  },
  {
   "cell_type": "markdown",
   "metadata": {},
   "source": [
    "Con estos dos graficos podemos asegurar sin lugar a dudas los mayores ingresos por mes son provenientes de cuotas. Sin embargo, de los ingresos anuales totales, podemos ver que un 4% son de \"otras fuentes\", en este caso: de sponsors, de dinero juntado con eventos organizados por el club, y de ahorros. \n",
    "Si volvemos al heatmap, advertimos que ingreso dinero de otras fuentes solo en 4 meses, y que represente un 4% parece ser un numero significativo. Vamos a evaluar ahora que diferencia haria si todos los meses hubieran ingresos de ese tipo, si marcaria la diferencia, o no:"
   ]
  },
  {
   "cell_type": "markdown",
   "metadata": {},
   "source": [
    "Tenemos que este ingreso fue de $ 209.000\n",
    "- Es casi lo mismo que lo ingresado por las categorias de Mini, Mayores y Cadetes\n",
    "- Vemos que gracias a esto, la brecha entre ingresos y egresos en el mes de octubre fue significativa. \n",
    "- Podemos calcular cuantos jugadores podemos becar, si recaudamos esto todos los meses:"
   ]
  },
  {
   "cell_type": "code",
   "execution_count": 848,
   "metadata": {},
   "outputs": [
    {
     "name": "stdout",
     "output_type": "stream",
     "text": [
      "DISCIPLINA    Handball\n",
      "COSTO BECA     81000.0\n",
      "Name: 0, dtype: object\n"
     ]
    }
   ],
   "source": [
    "print(costo_total_becas.iloc[0,:])"
   ]
  },
  {
   "cell_type": "markdown",
   "metadata": {},
   "source": [
    "Sabemos que al mes de octubre hay 9 jugadores de handball becados, al 50 y al 100%. En total tenemos que serian 6 becados al 100%. \n",
    "Esto representa un costo mensual de $ 81000, si multiplicamos el porcentaje becado por el valor de la cuota que no pagan estos jugadores. \n",
    "Con estos numeros, tenemos que:"
   ]
  },
  {
   "cell_type": "markdown",
   "metadata": {},
   "source": [
    "- 209000 es el 100%\n",
    "- 6 jugadores becados al 100% representan 81000 (13500 cada uno) \n",
    "- 209000 le restamos los ya 81000, para que nos quede el valor restante y asi calcular:\n",
    "- cuantos jugadores mas becados al 100% caberian hasta cubrir el 100%? "
   ]
  },
  {
   "cell_type": "code",
   "execution_count": 849,
   "metadata": {},
   "outputs": [
    {
     "data": {
      "application/vnd.plotly.v1+json": {
       "config": {
        "plotlyServerURL": "https://plot.ly"
       },
       "data": [
        {
         "domain": {
          "x": [
           0,
           0
          ]
         },
         "hole": 0.4,
         "labels": [
          "Jugadores becados",
          "Jugadores becados",
          "Jugadores becados",
          "Jugadores becados",
          "Jugadores becados",
          "Jugadores becados",
          "Nuevos becados",
          "Nuevos becados",
          "Nuevos becados",
          "Nuevos becados",
          "Nuevos becados",
          "Nuevos becados",
          "Nuevos becados",
          "Nuevos becados",
          "Nuevos becados",
          "Sobrante"
         ],
         "marker": {
          "colors": [
           "#FF5733",
           "#FF5733",
           "#FF5733",
           "#FF5733",
           "#FF5733",
           "#FF5733",
           "#C70039",
           "#C70039",
           "#C70039",
           "#C70039",
           "#C70039",
           "#C70039",
           "#C70039",
           "#C70039",
           "#C70039",
           "#900C3F"
          ]
         },
         "sort": false,
         "textinfo": "label+percent",
         "type": "pie",
         "values": [
          13500,
          13500,
          13500,
          13500,
          13500,
          13500,
          13500,
          13500,
          13500,
          13500,
          13500,
          13500,
          13500,
          13500,
          13500,
          6500
         ]
        }
       ],
       "layout": {
        "annotations": [
         {
          "font": {
           "size": 20
          },
          "showarrow": false,
          "text": "",
          "x": 0,
          "y": 1
         }
        ],
        "height": 400,
        "legend": {
         "orientation": "v",
         "x": 0.8,
         "y": 1.4
        },
        "margin": {
         "b": 50,
         "l": 50,
         "r": 50,
         "t": 50
        },
        "template": {
         "data": {
          "bar": [
           {
            "error_x": {
             "color": "#2a3f5f"
            },
            "error_y": {
             "color": "#2a3f5f"
            },
            "marker": {
             "line": {
              "color": "#E5ECF6",
              "width": 0.5
             },
             "pattern": {
              "fillmode": "overlay",
              "size": 10,
              "solidity": 0.2
             }
            },
            "type": "bar"
           }
          ],
          "barpolar": [
           {
            "marker": {
             "line": {
              "color": "#E5ECF6",
              "width": 0.5
             },
             "pattern": {
              "fillmode": "overlay",
              "size": 10,
              "solidity": 0.2
             }
            },
            "type": "barpolar"
           }
          ],
          "carpet": [
           {
            "aaxis": {
             "endlinecolor": "#2a3f5f",
             "gridcolor": "white",
             "linecolor": "white",
             "minorgridcolor": "white",
             "startlinecolor": "#2a3f5f"
            },
            "baxis": {
             "endlinecolor": "#2a3f5f",
             "gridcolor": "white",
             "linecolor": "white",
             "minorgridcolor": "white",
             "startlinecolor": "#2a3f5f"
            },
            "type": "carpet"
           }
          ],
          "choropleth": [
           {
            "colorbar": {
             "outlinewidth": 0,
             "ticks": ""
            },
            "type": "choropleth"
           }
          ],
          "contour": [
           {
            "colorbar": {
             "outlinewidth": 0,
             "ticks": ""
            },
            "colorscale": [
             [
              0,
              "#0d0887"
             ],
             [
              0.1111111111111111,
              "#46039f"
             ],
             [
              0.2222222222222222,
              "#7201a8"
             ],
             [
              0.3333333333333333,
              "#9c179e"
             ],
             [
              0.4444444444444444,
              "#bd3786"
             ],
             [
              0.5555555555555556,
              "#d8576b"
             ],
             [
              0.6666666666666666,
              "#ed7953"
             ],
             [
              0.7777777777777778,
              "#fb9f3a"
             ],
             [
              0.8888888888888888,
              "#fdca26"
             ],
             [
              1,
              "#f0f921"
             ]
            ],
            "type": "contour"
           }
          ],
          "contourcarpet": [
           {
            "colorbar": {
             "outlinewidth": 0,
             "ticks": ""
            },
            "type": "contourcarpet"
           }
          ],
          "heatmap": [
           {
            "colorbar": {
             "outlinewidth": 0,
             "ticks": ""
            },
            "colorscale": [
             [
              0,
              "#0d0887"
             ],
             [
              0.1111111111111111,
              "#46039f"
             ],
             [
              0.2222222222222222,
              "#7201a8"
             ],
             [
              0.3333333333333333,
              "#9c179e"
             ],
             [
              0.4444444444444444,
              "#bd3786"
             ],
             [
              0.5555555555555556,
              "#d8576b"
             ],
             [
              0.6666666666666666,
              "#ed7953"
             ],
             [
              0.7777777777777778,
              "#fb9f3a"
             ],
             [
              0.8888888888888888,
              "#fdca26"
             ],
             [
              1,
              "#f0f921"
             ]
            ],
            "type": "heatmap"
           }
          ],
          "heatmapgl": [
           {
            "colorbar": {
             "outlinewidth": 0,
             "ticks": ""
            },
            "colorscale": [
             [
              0,
              "#0d0887"
             ],
             [
              0.1111111111111111,
              "#46039f"
             ],
             [
              0.2222222222222222,
              "#7201a8"
             ],
             [
              0.3333333333333333,
              "#9c179e"
             ],
             [
              0.4444444444444444,
              "#bd3786"
             ],
             [
              0.5555555555555556,
              "#d8576b"
             ],
             [
              0.6666666666666666,
              "#ed7953"
             ],
             [
              0.7777777777777778,
              "#fb9f3a"
             ],
             [
              0.8888888888888888,
              "#fdca26"
             ],
             [
              1,
              "#f0f921"
             ]
            ],
            "type": "heatmapgl"
           }
          ],
          "histogram": [
           {
            "marker": {
             "pattern": {
              "fillmode": "overlay",
              "size": 10,
              "solidity": 0.2
             }
            },
            "type": "histogram"
           }
          ],
          "histogram2d": [
           {
            "colorbar": {
             "outlinewidth": 0,
             "ticks": ""
            },
            "colorscale": [
             [
              0,
              "#0d0887"
             ],
             [
              0.1111111111111111,
              "#46039f"
             ],
             [
              0.2222222222222222,
              "#7201a8"
             ],
             [
              0.3333333333333333,
              "#9c179e"
             ],
             [
              0.4444444444444444,
              "#bd3786"
             ],
             [
              0.5555555555555556,
              "#d8576b"
             ],
             [
              0.6666666666666666,
              "#ed7953"
             ],
             [
              0.7777777777777778,
              "#fb9f3a"
             ],
             [
              0.8888888888888888,
              "#fdca26"
             ],
             [
              1,
              "#f0f921"
             ]
            ],
            "type": "histogram2d"
           }
          ],
          "histogram2dcontour": [
           {
            "colorbar": {
             "outlinewidth": 0,
             "ticks": ""
            },
            "colorscale": [
             [
              0,
              "#0d0887"
             ],
             [
              0.1111111111111111,
              "#46039f"
             ],
             [
              0.2222222222222222,
              "#7201a8"
             ],
             [
              0.3333333333333333,
              "#9c179e"
             ],
             [
              0.4444444444444444,
              "#bd3786"
             ],
             [
              0.5555555555555556,
              "#d8576b"
             ],
             [
              0.6666666666666666,
              "#ed7953"
             ],
             [
              0.7777777777777778,
              "#fb9f3a"
             ],
             [
              0.8888888888888888,
              "#fdca26"
             ],
             [
              1,
              "#f0f921"
             ]
            ],
            "type": "histogram2dcontour"
           }
          ],
          "mesh3d": [
           {
            "colorbar": {
             "outlinewidth": 0,
             "ticks": ""
            },
            "type": "mesh3d"
           }
          ],
          "parcoords": [
           {
            "line": {
             "colorbar": {
              "outlinewidth": 0,
              "ticks": ""
             }
            },
            "type": "parcoords"
           }
          ],
          "pie": [
           {
            "automargin": true,
            "type": "pie"
           }
          ],
          "scatter": [
           {
            "fillpattern": {
             "fillmode": "overlay",
             "size": 10,
             "solidity": 0.2
            },
            "type": "scatter"
           }
          ],
          "scatter3d": [
           {
            "line": {
             "colorbar": {
              "outlinewidth": 0,
              "ticks": ""
             }
            },
            "marker": {
             "colorbar": {
              "outlinewidth": 0,
              "ticks": ""
             }
            },
            "type": "scatter3d"
           }
          ],
          "scattercarpet": [
           {
            "marker": {
             "colorbar": {
              "outlinewidth": 0,
              "ticks": ""
             }
            },
            "type": "scattercarpet"
           }
          ],
          "scattergeo": [
           {
            "marker": {
             "colorbar": {
              "outlinewidth": 0,
              "ticks": ""
             }
            },
            "type": "scattergeo"
           }
          ],
          "scattergl": [
           {
            "marker": {
             "colorbar": {
              "outlinewidth": 0,
              "ticks": ""
             }
            },
            "type": "scattergl"
           }
          ],
          "scattermapbox": [
           {
            "marker": {
             "colorbar": {
              "outlinewidth": 0,
              "ticks": ""
             }
            },
            "type": "scattermapbox"
           }
          ],
          "scatterpolar": [
           {
            "marker": {
             "colorbar": {
              "outlinewidth": 0,
              "ticks": ""
             }
            },
            "type": "scatterpolar"
           }
          ],
          "scatterpolargl": [
           {
            "marker": {
             "colorbar": {
              "outlinewidth": 0,
              "ticks": ""
             }
            },
            "type": "scatterpolargl"
           }
          ],
          "scatterternary": [
           {
            "marker": {
             "colorbar": {
              "outlinewidth": 0,
              "ticks": ""
             }
            },
            "type": "scatterternary"
           }
          ],
          "surface": [
           {
            "colorbar": {
             "outlinewidth": 0,
             "ticks": ""
            },
            "colorscale": [
             [
              0,
              "#0d0887"
             ],
             [
              0.1111111111111111,
              "#46039f"
             ],
             [
              0.2222222222222222,
              "#7201a8"
             ],
             [
              0.3333333333333333,
              "#9c179e"
             ],
             [
              0.4444444444444444,
              "#bd3786"
             ],
             [
              0.5555555555555556,
              "#d8576b"
             ],
             [
              0.6666666666666666,
              "#ed7953"
             ],
             [
              0.7777777777777778,
              "#fb9f3a"
             ],
             [
              0.8888888888888888,
              "#fdca26"
             ],
             [
              1,
              "#f0f921"
             ]
            ],
            "type": "surface"
           }
          ],
          "table": [
           {
            "cells": {
             "fill": {
              "color": "#EBF0F8"
             },
             "line": {
              "color": "white"
             }
            },
            "header": {
             "fill": {
              "color": "#C8D4E3"
             },
             "line": {
              "color": "white"
             }
            },
            "type": "table"
           }
          ]
         },
         "layout": {
          "annotationdefaults": {
           "arrowcolor": "#2a3f5f",
           "arrowhead": 0,
           "arrowwidth": 1
          },
          "autotypenumbers": "strict",
          "coloraxis": {
           "colorbar": {
            "outlinewidth": 0,
            "ticks": ""
           }
          },
          "colorscale": {
           "diverging": [
            [
             0,
             "#8e0152"
            ],
            [
             0.1,
             "#c51b7d"
            ],
            [
             0.2,
             "#de77ae"
            ],
            [
             0.3,
             "#f1b6da"
            ],
            [
             0.4,
             "#fde0ef"
            ],
            [
             0.5,
             "#f7f7f7"
            ],
            [
             0.6,
             "#e6f5d0"
            ],
            [
             0.7,
             "#b8e186"
            ],
            [
             0.8,
             "#7fbc41"
            ],
            [
             0.9,
             "#4d9221"
            ],
            [
             1,
             "#276419"
            ]
           ],
           "sequential": [
            [
             0,
             "#0d0887"
            ],
            [
             0.1111111111111111,
             "#46039f"
            ],
            [
             0.2222222222222222,
             "#7201a8"
            ],
            [
             0.3333333333333333,
             "#9c179e"
            ],
            [
             0.4444444444444444,
             "#bd3786"
            ],
            [
             0.5555555555555556,
             "#d8576b"
            ],
            [
             0.6666666666666666,
             "#ed7953"
            ],
            [
             0.7777777777777778,
             "#fb9f3a"
            ],
            [
             0.8888888888888888,
             "#fdca26"
            ],
            [
             1,
             "#f0f921"
            ]
           ],
           "sequentialminus": [
            [
             0,
             "#0d0887"
            ],
            [
             0.1111111111111111,
             "#46039f"
            ],
            [
             0.2222222222222222,
             "#7201a8"
            ],
            [
             0.3333333333333333,
             "#9c179e"
            ],
            [
             0.4444444444444444,
             "#bd3786"
            ],
            [
             0.5555555555555556,
             "#d8576b"
            ],
            [
             0.6666666666666666,
             "#ed7953"
            ],
            [
             0.7777777777777778,
             "#fb9f3a"
            ],
            [
             0.8888888888888888,
             "#fdca26"
            ],
            [
             1,
             "#f0f921"
            ]
           ]
          },
          "colorway": [
           "#636efa",
           "#EF553B",
           "#00cc96",
           "#ab63fa",
           "#FFA15A",
           "#19d3f3",
           "#FF6692",
           "#B6E880",
           "#FF97FF",
           "#FECB52"
          ],
          "font": {
           "color": "#2a3f5f"
          },
          "geo": {
           "bgcolor": "white",
           "lakecolor": "white",
           "landcolor": "#E5ECF6",
           "showlakes": true,
           "showland": true,
           "subunitcolor": "white"
          },
          "hoverlabel": {
           "align": "left"
          },
          "hovermode": "closest",
          "mapbox": {
           "style": "light"
          },
          "paper_bgcolor": "white",
          "plot_bgcolor": "#E5ECF6",
          "polar": {
           "angularaxis": {
            "gridcolor": "white",
            "linecolor": "white",
            "ticks": ""
           },
           "bgcolor": "#E5ECF6",
           "radialaxis": {
            "gridcolor": "white",
            "linecolor": "white",
            "ticks": ""
           }
          },
          "scene": {
           "xaxis": {
            "backgroundcolor": "#E5ECF6",
            "gridcolor": "white",
            "gridwidth": 2,
            "linecolor": "white",
            "showbackground": true,
            "ticks": "",
            "zerolinecolor": "white"
           },
           "yaxis": {
            "backgroundcolor": "#E5ECF6",
            "gridcolor": "white",
            "gridwidth": 2,
            "linecolor": "white",
            "showbackground": true,
            "ticks": "",
            "zerolinecolor": "white"
           },
           "zaxis": {
            "backgroundcolor": "#E5ECF6",
            "gridcolor": "white",
            "gridwidth": 2,
            "linecolor": "white",
            "showbackground": true,
            "ticks": "",
            "zerolinecolor": "white"
           }
          },
          "shapedefaults": {
           "line": {
            "color": "#2a3f5f"
           }
          },
          "ternary": {
           "aaxis": {
            "gridcolor": "white",
            "linecolor": "white",
            "ticks": ""
           },
           "baxis": {
            "gridcolor": "white",
            "linecolor": "white",
            "ticks": ""
           },
           "bgcolor": "#E5ECF6",
           "caxis": {
            "gridcolor": "white",
            "linecolor": "white",
            "ticks": ""
           }
          },
          "title": {
           "x": 0.05
          },
          "xaxis": {
           "automargin": true,
           "gridcolor": "white",
           "linecolor": "white",
           "ticks": "",
           "title": {
            "standoff": 15
           },
           "zerolinecolor": "white",
           "zerolinewidth": 2
          },
          "yaxis": {
           "automargin": true,
           "gridcolor": "white",
           "linecolor": "white",
           "ticks": "",
           "title": {
            "standoff": 15
           },
           "zerolinecolor": "white",
           "zerolinewidth": 2
          }
         }
        },
        "title": {
         "text": "Posibles nuevos becados"
        },
        "width": 500
       }
      }
     },
     "metadata": {},
     "output_type": "display_data"
    }
   ],
   "source": [
    "# Definir los valores en unidades de 13,500 y el exceso\n",
    "valores = [13500] * 6 + [13500] * 9 + [6500]\n",
    "etiquetas = ['Jugadores becados'] * 6 + ['Nuevos becados'] * 9 + ['Sobrante']\n",
    "colores = ['#FF5733'] * 6 + ['#C70039'] * 9 + ['#900C3F']\n",
    "\n",
    "# Crear la gráfica de dona usando Plotly\n",
    "fig = go.Figure(data=[go.Pie(\n",
    "    labels=etiquetas,\n",
    "    values=valores,\n",
    "    domain={\"x\": [0, 0]},\n",
    "    hole=0.4,  # Controla el tamaño del agujero para hacer una dona\n",
    "    marker=dict(colors=colores),  # Aplica los colores\n",
    "    textinfo='label+percent',  # Muestra etiquetas y porcentaje\n",
    "    sort=False  # Mantiene el orden de los datos como están\n",
    ")],\n",
    "    layout={\n",
    "        \"title\": \"Posibles nuevos becados\",\n",
    "        \"annotations\": [\n",
    "            {\n",
    "                \"font\": {\"size\": 20},\n",
    "                \"showarrow\": False,\n",
    "                \"text\": \"\",\n",
    "                \"x\": 0.0,\n",
    "                \"y\": 1.0\n",
    "            },\n",
    "        ],\n",
    "                # Ajustar el tamaño del gráfico\n",
    "        \"width\": 500,  # Ajusta el ancho\n",
    "        \"height\": 400,  # Ajusta la altura\n",
    "        # Modificar márgenes para reducir el espacio blanco\n",
    "        \"margin\": {\"l\": 50, \"r\": 50, \"t\": 50, \"b\": 50},\n",
    "        # Ajustar la leyenda para que esté más cerca del gráfico\n",
    "        \"legend\": {\n",
    "            \"x\": 0.8,  # Posición X de la leyenda\n",
    "            \"y\": 1.4,    # Posición Y de la leyenda\n",
    "            \"orientation\": \"v\"  # Poner la leyenda en vertical\n",
    "        }\n",
    "    }\n",
    "\n",
    ")\n",
    "\n",
    "\n",
    "# Mostrar la gráfica\n",
    "fig.show()\n",
    "pio.write_html(fig, 'Proyecccion_Becados.html', auto_open=True)"
   ]
  },
  {
   "cell_type": "code",
   "execution_count": 850,
   "metadata": {},
   "outputs": [
    {
     "data": {
      "text/html": [
       "<div>\n",
       "<style scoped>\n",
       "    .dataframe tbody tr th:only-of-type {\n",
       "        vertical-align: middle;\n",
       "    }\n",
       "\n",
       "    .dataframe tbody tr th {\n",
       "        vertical-align: top;\n",
       "    }\n",
       "\n",
       "    .dataframe thead th {\n",
       "        text-align: right;\n",
       "    }\n",
       "</style>\n",
       "<table border=\"1\" class=\"dataframe\">\n",
       "  <thead>\n",
       "    <tr style=\"text-align: right;\">\n",
       "      <th></th>\n",
       "      <th>FECHA</th>\n",
       "      <th>MONTO</th>\n",
       "      <th>SOCIOS</th>\n",
       "    </tr>\n",
       "  </thead>\n",
       "  <tbody>\n",
       "    <tr>\n",
       "      <th>0</th>\n",
       "      <td>2024-02</td>\n",
       "      <td>572400.0</td>\n",
       "      <td>103</td>\n",
       "    </tr>\n",
       "    <tr>\n",
       "      <th>1</th>\n",
       "      <td>2024-03</td>\n",
       "      <td>704000.0</td>\n",
       "      <td>121</td>\n",
       "    </tr>\n",
       "    <tr>\n",
       "      <th>2</th>\n",
       "      <td>2024-04</td>\n",
       "      <td>900900.0</td>\n",
       "      <td>137</td>\n",
       "    </tr>\n",
       "    <tr>\n",
       "      <th>3</th>\n",
       "      <td>2024-05</td>\n",
       "      <td>947300.0</td>\n",
       "      <td>124</td>\n",
       "    </tr>\n",
       "    <tr>\n",
       "      <th>4</th>\n",
       "      <td>2024-06</td>\n",
       "      <td>864650.0</td>\n",
       "      <td>135</td>\n",
       "    </tr>\n",
       "    <tr>\n",
       "      <th>5</th>\n",
       "      <td>2024-07</td>\n",
       "      <td>921200.0</td>\n",
       "      <td>113</td>\n",
       "    </tr>\n",
       "    <tr>\n",
       "      <th>6</th>\n",
       "      <td>2024-08</td>\n",
       "      <td>1049950.0</td>\n",
       "      <td>131</td>\n",
       "    </tr>\n",
       "    <tr>\n",
       "      <th>7</th>\n",
       "      <td>2024-09</td>\n",
       "      <td>1279200.0</td>\n",
       "      <td>138</td>\n",
       "    </tr>\n",
       "    <tr>\n",
       "      <th>8</th>\n",
       "      <td>2024-10</td>\n",
       "      <td>1327450.0</td>\n",
       "      <td>154</td>\n",
       "    </tr>\n",
       "  </tbody>\n",
       "</table>\n",
       "</div>"
      ],
      "text/plain": [
       "     FECHA      MONTO  SOCIOS\n",
       "0  2024-02   572400.0     103\n",
       "1  2024-03   704000.0     121\n",
       "2  2024-04   900900.0     137\n",
       "3  2024-05   947300.0     124\n",
       "4  2024-06   864650.0     135\n",
       "5  2024-07   921200.0     113\n",
       "6  2024-08  1049950.0     131\n",
       "7  2024-09  1279200.0     138\n",
       "8  2024-10  1327450.0     154"
      ]
     },
     "execution_count": 850,
     "metadata": {},
     "output_type": "execute_result"
    }
   ],
   "source": [
    "ingresos_totales_por_mes = ingresos_voley.groupby(ingresos_voley['FECHA'].dt.to_period('M'))[['MONTO']].sum().reset_index()\n",
    "ingresos_totales_por_mes['SOCIOS']=[103, 121, 137, 124, 135, 113, 131, 138, 154]\n",
    "ingresos_y_socios=ingresos_totales_por_mes\n",
    "ingresos_y_socios['MONTO']/ingresos_y_socios['SOCIOS']\n",
    "ingresos_totales_por_mes"
   ]
  },
  {
   "cell_type": "code",
   "execution_count": 851,
   "metadata": {},
   "outputs": [],
   "source": [
    "solo_cuotas = ['Cuota', 'Cuota adeudada', 'Cuota medio mes']\n",
    "cuotas = ingresos_voley[ingresos_voley['DESCRIPCION'].isin(solo_cuotas)]\n",
    "cuotas=cuotas.reset_index(drop=True)"
   ]
  },
  {
   "cell_type": "markdown",
   "metadata": {},
   "source": [
    "## Proporción de Egresos por Categorías:\n",
    "- Desglosar los egresos (salarios, seguros, materiales, etc.) para identificar áreas de alto gasto."
   ]
  },
  {
   "cell_type": "markdown",
   "metadata": {},
   "source": [
    "Handball"
   ]
  },
  {
   "cell_type": "code",
   "execution_count": 852,
   "metadata": {},
   "outputs": [],
   "source": [
    "egresos_reales.loc[egresos_reales['DESCRIPCION'].isin(['AMPAT', 'Seguro AP', 'Seguro RC']), 'DESCRIPCION'] = 'Seguros'"
   ]
  },
  {
   "cell_type": "markdown",
   "metadata": {},
   "source": [
    "#### Gasto promedio por jugador: seguro, salario, materiales, locacion "
   ]
  },
  {
   "cell_type": "code",
   "execution_count": 853,
   "metadata": {},
   "outputs": [
    {
     "data": {
      "application/vnd.plotly.v1+json": {
       "config": {
        "plotlyServerURL": "https://plot.ly"
       },
       "data": [
        {
         "domain": {
          "x": [
           0,
           0
          ]
         },
         "hole": 0.4,
         "hoverinfo": "label+percent+name",
         "labels": [
          "Gastos Locacion",
          "Materiales",
          "Salarios",
          "Seguro"
         ],
         "marker": {
          "colors": [
           "#581845",
           "#900C3F",
           "C70039",
           "#FF5733",
           "#FFC300"
          ]
         },
         "name": "Egresos",
         "type": "pie",
         "values": [
          196154,
          750614.63,
          6602145.48,
          890976
         ]
        }
       ],
       "layout": {
        "annotations": [
         {
          "font": {
           "size": 20
          },
          "showarrow": false,
          "text": "Monto",
          "x": 0,
          "y": 1
         }
        ],
        "height": 400,
        "legend": {
         "orientation": "v",
         "x": 0.8,
         "y": 1.4
        },
        "margin": {
         "b": 50,
         "l": 50,
         "r": 50,
         "t": 50
        },
        "template": {
         "data": {
          "bar": [
           {
            "error_x": {
             "color": "#2a3f5f"
            },
            "error_y": {
             "color": "#2a3f5f"
            },
            "marker": {
             "line": {
              "color": "#E5ECF6",
              "width": 0.5
             },
             "pattern": {
              "fillmode": "overlay",
              "size": 10,
              "solidity": 0.2
             }
            },
            "type": "bar"
           }
          ],
          "barpolar": [
           {
            "marker": {
             "line": {
              "color": "#E5ECF6",
              "width": 0.5
             },
             "pattern": {
              "fillmode": "overlay",
              "size": 10,
              "solidity": 0.2
             }
            },
            "type": "barpolar"
           }
          ],
          "carpet": [
           {
            "aaxis": {
             "endlinecolor": "#2a3f5f",
             "gridcolor": "white",
             "linecolor": "white",
             "minorgridcolor": "white",
             "startlinecolor": "#2a3f5f"
            },
            "baxis": {
             "endlinecolor": "#2a3f5f",
             "gridcolor": "white",
             "linecolor": "white",
             "minorgridcolor": "white",
             "startlinecolor": "#2a3f5f"
            },
            "type": "carpet"
           }
          ],
          "choropleth": [
           {
            "colorbar": {
             "outlinewidth": 0,
             "ticks": ""
            },
            "type": "choropleth"
           }
          ],
          "contour": [
           {
            "colorbar": {
             "outlinewidth": 0,
             "ticks": ""
            },
            "colorscale": [
             [
              0,
              "#0d0887"
             ],
             [
              0.1111111111111111,
              "#46039f"
             ],
             [
              0.2222222222222222,
              "#7201a8"
             ],
             [
              0.3333333333333333,
              "#9c179e"
             ],
             [
              0.4444444444444444,
              "#bd3786"
             ],
             [
              0.5555555555555556,
              "#d8576b"
             ],
             [
              0.6666666666666666,
              "#ed7953"
             ],
             [
              0.7777777777777778,
              "#fb9f3a"
             ],
             [
              0.8888888888888888,
              "#fdca26"
             ],
             [
              1,
              "#f0f921"
             ]
            ],
            "type": "contour"
           }
          ],
          "contourcarpet": [
           {
            "colorbar": {
             "outlinewidth": 0,
             "ticks": ""
            },
            "type": "contourcarpet"
           }
          ],
          "heatmap": [
           {
            "colorbar": {
             "outlinewidth": 0,
             "ticks": ""
            },
            "colorscale": [
             [
              0,
              "#0d0887"
             ],
             [
              0.1111111111111111,
              "#46039f"
             ],
             [
              0.2222222222222222,
              "#7201a8"
             ],
             [
              0.3333333333333333,
              "#9c179e"
             ],
             [
              0.4444444444444444,
              "#bd3786"
             ],
             [
              0.5555555555555556,
              "#d8576b"
             ],
             [
              0.6666666666666666,
              "#ed7953"
             ],
             [
              0.7777777777777778,
              "#fb9f3a"
             ],
             [
              0.8888888888888888,
              "#fdca26"
             ],
             [
              1,
              "#f0f921"
             ]
            ],
            "type": "heatmap"
           }
          ],
          "heatmapgl": [
           {
            "colorbar": {
             "outlinewidth": 0,
             "ticks": ""
            },
            "colorscale": [
             [
              0,
              "#0d0887"
             ],
             [
              0.1111111111111111,
              "#46039f"
             ],
             [
              0.2222222222222222,
              "#7201a8"
             ],
             [
              0.3333333333333333,
              "#9c179e"
             ],
             [
              0.4444444444444444,
              "#bd3786"
             ],
             [
              0.5555555555555556,
              "#d8576b"
             ],
             [
              0.6666666666666666,
              "#ed7953"
             ],
             [
              0.7777777777777778,
              "#fb9f3a"
             ],
             [
              0.8888888888888888,
              "#fdca26"
             ],
             [
              1,
              "#f0f921"
             ]
            ],
            "type": "heatmapgl"
           }
          ],
          "histogram": [
           {
            "marker": {
             "pattern": {
              "fillmode": "overlay",
              "size": 10,
              "solidity": 0.2
             }
            },
            "type": "histogram"
           }
          ],
          "histogram2d": [
           {
            "colorbar": {
             "outlinewidth": 0,
             "ticks": ""
            },
            "colorscale": [
             [
              0,
              "#0d0887"
             ],
             [
              0.1111111111111111,
              "#46039f"
             ],
             [
              0.2222222222222222,
              "#7201a8"
             ],
             [
              0.3333333333333333,
              "#9c179e"
             ],
             [
              0.4444444444444444,
              "#bd3786"
             ],
             [
              0.5555555555555556,
              "#d8576b"
             ],
             [
              0.6666666666666666,
              "#ed7953"
             ],
             [
              0.7777777777777778,
              "#fb9f3a"
             ],
             [
              0.8888888888888888,
              "#fdca26"
             ],
             [
              1,
              "#f0f921"
             ]
            ],
            "type": "histogram2d"
           }
          ],
          "histogram2dcontour": [
           {
            "colorbar": {
             "outlinewidth": 0,
             "ticks": ""
            },
            "colorscale": [
             [
              0,
              "#0d0887"
             ],
             [
              0.1111111111111111,
              "#46039f"
             ],
             [
              0.2222222222222222,
              "#7201a8"
             ],
             [
              0.3333333333333333,
              "#9c179e"
             ],
             [
              0.4444444444444444,
              "#bd3786"
             ],
             [
              0.5555555555555556,
              "#d8576b"
             ],
             [
              0.6666666666666666,
              "#ed7953"
             ],
             [
              0.7777777777777778,
              "#fb9f3a"
             ],
             [
              0.8888888888888888,
              "#fdca26"
             ],
             [
              1,
              "#f0f921"
             ]
            ],
            "type": "histogram2dcontour"
           }
          ],
          "mesh3d": [
           {
            "colorbar": {
             "outlinewidth": 0,
             "ticks": ""
            },
            "type": "mesh3d"
           }
          ],
          "parcoords": [
           {
            "line": {
             "colorbar": {
              "outlinewidth": 0,
              "ticks": ""
             }
            },
            "type": "parcoords"
           }
          ],
          "pie": [
           {
            "automargin": true,
            "type": "pie"
           }
          ],
          "scatter": [
           {
            "fillpattern": {
             "fillmode": "overlay",
             "size": 10,
             "solidity": 0.2
            },
            "type": "scatter"
           }
          ],
          "scatter3d": [
           {
            "line": {
             "colorbar": {
              "outlinewidth": 0,
              "ticks": ""
             }
            },
            "marker": {
             "colorbar": {
              "outlinewidth": 0,
              "ticks": ""
             }
            },
            "type": "scatter3d"
           }
          ],
          "scattercarpet": [
           {
            "marker": {
             "colorbar": {
              "outlinewidth": 0,
              "ticks": ""
             }
            },
            "type": "scattercarpet"
           }
          ],
          "scattergeo": [
           {
            "marker": {
             "colorbar": {
              "outlinewidth": 0,
              "ticks": ""
             }
            },
            "type": "scattergeo"
           }
          ],
          "scattergl": [
           {
            "marker": {
             "colorbar": {
              "outlinewidth": 0,
              "ticks": ""
             }
            },
            "type": "scattergl"
           }
          ],
          "scattermapbox": [
           {
            "marker": {
             "colorbar": {
              "outlinewidth": 0,
              "ticks": ""
             }
            },
            "type": "scattermapbox"
           }
          ],
          "scatterpolar": [
           {
            "marker": {
             "colorbar": {
              "outlinewidth": 0,
              "ticks": ""
             }
            },
            "type": "scatterpolar"
           }
          ],
          "scatterpolargl": [
           {
            "marker": {
             "colorbar": {
              "outlinewidth": 0,
              "ticks": ""
             }
            },
            "type": "scatterpolargl"
           }
          ],
          "scatterternary": [
           {
            "marker": {
             "colorbar": {
              "outlinewidth": 0,
              "ticks": ""
             }
            },
            "type": "scatterternary"
           }
          ],
          "surface": [
           {
            "colorbar": {
             "outlinewidth": 0,
             "ticks": ""
            },
            "colorscale": [
             [
              0,
              "#0d0887"
             ],
             [
              0.1111111111111111,
              "#46039f"
             ],
             [
              0.2222222222222222,
              "#7201a8"
             ],
             [
              0.3333333333333333,
              "#9c179e"
             ],
             [
              0.4444444444444444,
              "#bd3786"
             ],
             [
              0.5555555555555556,
              "#d8576b"
             ],
             [
              0.6666666666666666,
              "#ed7953"
             ],
             [
              0.7777777777777778,
              "#fb9f3a"
             ],
             [
              0.8888888888888888,
              "#fdca26"
             ],
             [
              1,
              "#f0f921"
             ]
            ],
            "type": "surface"
           }
          ],
          "table": [
           {
            "cells": {
             "fill": {
              "color": "#EBF0F8"
             },
             "line": {
              "color": "white"
             }
            },
            "header": {
             "fill": {
              "color": "#C8D4E3"
             },
             "line": {
              "color": "white"
             }
            },
            "type": "table"
           }
          ]
         },
         "layout": {
          "annotationdefaults": {
           "arrowcolor": "#2a3f5f",
           "arrowhead": 0,
           "arrowwidth": 1
          },
          "autotypenumbers": "strict",
          "coloraxis": {
           "colorbar": {
            "outlinewidth": 0,
            "ticks": ""
           }
          },
          "colorscale": {
           "diverging": [
            [
             0,
             "#8e0152"
            ],
            [
             0.1,
             "#c51b7d"
            ],
            [
             0.2,
             "#de77ae"
            ],
            [
             0.3,
             "#f1b6da"
            ],
            [
             0.4,
             "#fde0ef"
            ],
            [
             0.5,
             "#f7f7f7"
            ],
            [
             0.6,
             "#e6f5d0"
            ],
            [
             0.7,
             "#b8e186"
            ],
            [
             0.8,
             "#7fbc41"
            ],
            [
             0.9,
             "#4d9221"
            ],
            [
             1,
             "#276419"
            ]
           ],
           "sequential": [
            [
             0,
             "#0d0887"
            ],
            [
             0.1111111111111111,
             "#46039f"
            ],
            [
             0.2222222222222222,
             "#7201a8"
            ],
            [
             0.3333333333333333,
             "#9c179e"
            ],
            [
             0.4444444444444444,
             "#bd3786"
            ],
            [
             0.5555555555555556,
             "#d8576b"
            ],
            [
             0.6666666666666666,
             "#ed7953"
            ],
            [
             0.7777777777777778,
             "#fb9f3a"
            ],
            [
             0.8888888888888888,
             "#fdca26"
            ],
            [
             1,
             "#f0f921"
            ]
           ],
           "sequentialminus": [
            [
             0,
             "#0d0887"
            ],
            [
             0.1111111111111111,
             "#46039f"
            ],
            [
             0.2222222222222222,
             "#7201a8"
            ],
            [
             0.3333333333333333,
             "#9c179e"
            ],
            [
             0.4444444444444444,
             "#bd3786"
            ],
            [
             0.5555555555555556,
             "#d8576b"
            ],
            [
             0.6666666666666666,
             "#ed7953"
            ],
            [
             0.7777777777777778,
             "#fb9f3a"
            ],
            [
             0.8888888888888888,
             "#fdca26"
            ],
            [
             1,
             "#f0f921"
            ]
           ]
          },
          "colorway": [
           "#636efa",
           "#EF553B",
           "#00cc96",
           "#ab63fa",
           "#FFA15A",
           "#19d3f3",
           "#FF6692",
           "#B6E880",
           "#FF97FF",
           "#FECB52"
          ],
          "font": {
           "color": "#2a3f5f"
          },
          "geo": {
           "bgcolor": "white",
           "lakecolor": "white",
           "landcolor": "#E5ECF6",
           "showlakes": true,
           "showland": true,
           "subunitcolor": "white"
          },
          "hoverlabel": {
           "align": "left"
          },
          "hovermode": "closest",
          "mapbox": {
           "style": "light"
          },
          "paper_bgcolor": "white",
          "plot_bgcolor": "#E5ECF6",
          "polar": {
           "angularaxis": {
            "gridcolor": "white",
            "linecolor": "white",
            "ticks": ""
           },
           "bgcolor": "#E5ECF6",
           "radialaxis": {
            "gridcolor": "white",
            "linecolor": "white",
            "ticks": ""
           }
          },
          "scene": {
           "xaxis": {
            "backgroundcolor": "#E5ECF6",
            "gridcolor": "white",
            "gridwidth": 2,
            "linecolor": "white",
            "showbackground": true,
            "ticks": "",
            "zerolinecolor": "white"
           },
           "yaxis": {
            "backgroundcolor": "#E5ECF6",
            "gridcolor": "white",
            "gridwidth": 2,
            "linecolor": "white",
            "showbackground": true,
            "ticks": "",
            "zerolinecolor": "white"
           },
           "zaxis": {
            "backgroundcolor": "#E5ECF6",
            "gridcolor": "white",
            "gridwidth": 2,
            "linecolor": "white",
            "showbackground": true,
            "ticks": "",
            "zerolinecolor": "white"
           }
          },
          "shapedefaults": {
           "line": {
            "color": "#2a3f5f"
           }
          },
          "ternary": {
           "aaxis": {
            "gridcolor": "white",
            "linecolor": "white",
            "ticks": ""
           },
           "baxis": {
            "gridcolor": "white",
            "linecolor": "white",
            "ticks": ""
           },
           "bgcolor": "#E5ECF6",
           "caxis": {
            "gridcolor": "white",
            "linecolor": "white",
            "ticks": ""
           }
          },
          "title": {
           "x": 0.05
          },
          "xaxis": {
           "automargin": true,
           "gridcolor": "white",
           "linecolor": "white",
           "ticks": "",
           "title": {
            "standoff": 15
           },
           "zerolinecolor": "white",
           "zerolinewidth": 2
          },
          "yaxis": {
           "automargin": true,
           "gridcolor": "white",
           "linecolor": "white",
           "ticks": "",
           "title": {
            "standoff": 15
           },
           "zerolinecolor": "white",
           "zerolinewidth": 2
          }
         }
        },
        "title": {
         "text": "Egresos"
        },
        "width": 500
       }
      }
     },
     "metadata": {},
     "output_type": "display_data"
    }
   ],
   "source": [
    "# Sumar los montos por categoría\n",
    "egresos_por_categoria = egresos_reales.groupby('DESCRIPCION')[['MONTO']].sum().reset_index()\n",
    "\n",
    "\n",
    "# Datos para el gráfico\n",
    "pie1_list = egresos_por_categoria.MONTO\n",
    "labels = egresos_por_categoria.DESCRIPCION\n",
    "\n",
    "# Definir la paleta de colores\n",
    "colors = [\n",
    "    '#581845', \n",
    "    '#900C3F', \n",
    "    'C70039',  \n",
    "    '#FF5733',  \n",
    "    '#FFC300', \n",
    "]\n",
    "\n",
    "# Crear la figura de gráfico circular (Pie)\n",
    "fig = go.Figure(\n",
    "    data=[\n",
    "        go.Pie(\n",
    "            values=pie1_list,\n",
    "            labels=labels,\n",
    "            domain={\"x\": [0, 0]},  # Ajustar la posición del gráfico en el canvas\n",
    "            name=\"Egresos\",\n",
    "            hoverinfo=\"label+percent+name\",\n",
    "            hole=0.4,  # Hacer un gráfico de dona (agregar un hueco en el centro)\n",
    "            marker={'colors': colors}  # Aplicar la paleta de colores\n",
    "        )\n",
    "    ],\n",
    "    layout={\n",
    "        \"title\": \"Egresos\",\n",
    "        \"annotations\": [\n",
    "            {\n",
    "                \"font\": {\"size\": 20},\n",
    "                \"showarrow\": False,\n",
    "                \"text\": \"Monto\",\n",
    "                \"x\": 0.0,\n",
    "                \"y\": 1.0\n",
    "            },\n",
    "        ],\n",
    "        # Ajustar el tamaño del gráfico\n",
    "        \"width\": 500,  # Ajusta el ancho\n",
    "        \"height\": 400,  # Ajusta la altura\n",
    "        # Modificar márgenes para reducir el espacio blanco\n",
    "        \"margin\": {\"l\": 50, \"r\": 50, \"t\": 50, \"b\": 50},\n",
    "        # Ajustar la leyenda para que esté más cerca del gráfico\n",
    "        \"legend\": {\n",
    "            \"x\": 0.8,  # Posición X de la leyenda\n",
    "            \"y\": 1.4,    # Posición Y de la leyenda\n",
    "            \"orientation\": \"v\"  # Poner la leyenda en vertical\n",
    "        }\n",
    "    }\n",
    ")\n",
    "\n",
    "# Mostrar el gráfico\n",
    "fig.show()\n",
    "pio.write_html(fig, 'Egresos_por_cat.html', auto_open=True)"
   ]
  },
  {
   "cell_type": "markdown",
   "metadata": {},
   "source": [
    "Preparo la data para poner en un donut las proporciones de cada rubro en la cuota"
   ]
  },
  {
   "cell_type": "code",
   "execution_count": 854,
   "metadata": {},
   "outputs": [
    {
     "data": {
      "text/plain": [
       "np.float64(900.56)"
      ]
     },
     "execution_count": 854,
     "metadata": {},
     "output_type": "execute_result"
    }
   ],
   "source": [
    "filtro3 = eg_totales_por_mes_categoria['DESCRIPCION'] == 'Seguro'\n",
    "mask_pago_seguros = eg_totales_por_mes_categoria[filtro3]\n",
    "mask_pago_seguros = mask_pago_seguros.groupby(mask_pago_seguros['FECHA'])[['EGRESOS-INFLACION']].sum().reset_index()\n",
    "# Contamos desde abril hasta octubre, ya que en feb se pago solo 1 seguro, y en marzo nada. \n",
    "media_seg_por_mes_h = mask_pago_seguros['EGRESOS-INFLACION'][1:].mean()\n",
    "media_soc_por_mes_h = socios_por_mes_tot['SOCIOS_HAND'].mean()\n",
    "# Coste promedio de los 3 seguros por jugador.\n",
    "media_seguro_h_jugador = round(media_seg_por_mes_h/media_soc_por_mes_h, 2)\n",
    "media_seguro_h_jugador"
   ]
  },
  {
   "cell_type": "code",
   "execution_count": 855,
   "metadata": {},
   "outputs": [
    {
     "data": {
      "text/plain": [
       "np.float64(4385.6760945946135)"
      ]
     },
     "execution_count": 855,
     "metadata": {},
     "output_type": "execute_result"
    }
   ],
   "source": [
    "filtro4 = eg_totales_por_mes_categoria['DESCRIPCION'] == 'Salarios'\n",
    "mask_pago_salarios = eg_totales_por_mes_categoria[filtro4]\n",
    "mask_pago_salarios = mask_pago_salarios.groupby(mask_pago_salarios['FECHA'])[['EGRESOS-INFLACION']].sum().reset_index()\n",
    "mask_pago_salarios['GASTO_POR_SOCIO']= mask_pago_salarios['EGRESOS-INFLACION']/socios_por_mes_tot['SOCIOS_HAND']\n",
    "media_salario_por_jugador = mask_pago_salarios['GASTO_POR_SOCIO'].mean()\n",
    "media_salario_por_jugador"
   ]
  },
  {
   "cell_type": "code",
   "execution_count": 856,
   "metadata": {},
   "outputs": [
    {
     "data": {
      "text/plain": [
       "np.float64(1019.8508600990384)"
      ]
     },
     "execution_count": 856,
     "metadata": {},
     "output_type": "execute_result"
    }
   ],
   "source": [
    "filtro5= eg_totales_por_mes_categoria.loc[:, 'DESCRIPCION']== 'Materiales'\n",
    "mask_pago_materiales=eg_totales_por_mes_categoria[filtro5]\n",
    "mask_pago_materiales=mask_pago_materiales.groupby(mask_pago_materiales['FECHA'])[['EGRESOS-INFLACION']].sum().reset_index()\n",
    "mask_pago_materiales['GASTO_POR_SOCIO']= mask_pago_materiales['EGRESOS-INFLACION']/socios_por_mes_tot['SOCIOS_HAND']\n",
    "media_materiales_por_jugador = mask_pago_materiales['GASTO_POR_SOCIO'].mean()\n",
    "media_materiales_por_jugador"
   ]
  },
  {
   "cell_type": "code",
   "execution_count": 857,
   "metadata": {},
   "outputs": [
    {
     "data": {
      "text/plain": [
       "np.float64(235.68642633310142)"
      ]
     },
     "execution_count": 857,
     "metadata": {},
     "output_type": "execute_result"
    }
   ],
   "source": [
    "filtro6= eg_totales_por_mes_categoria.loc[:, 'DESCRIPCION']== 'Gastos Locacion'\n",
    "mask_locacion=eg_totales_por_mes_categoria[filtro6]\n",
    "mask_locacion=mask_locacion.groupby(mask_locacion['FECHA'])[['EGRESOS-INFLACION']].sum().reset_index()\n",
    "mask_locacion['GASTO_POR_SOCIO']= mask_locacion['EGRESOS-INFLACION']/socios_por_mes_tot['SOCIOS_HAND']\n",
    "media_locacion_por_jugador = mask_locacion['GASTO_POR_SOCIO'].mean()\n",
    "media_locacion_por_jugador"
   ]
  },
  {
   "cell_type": "code",
   "execution_count": 858,
   "metadata": {},
   "outputs": [
    {
     "data": {
      "text/plain": [
       "np.float64(6541.77)"
      ]
     },
     "execution_count": 858,
     "metadata": {},
     "output_type": "execute_result"
    }
   ],
   "source": [
    "gasto_medio_por_jugador = round(media_seguro_h_jugador + media_salario_por_jugador + media_materiales_por_jugador + media_locacion_por_jugador,2)\n",
    "gasto_medio_por_jugador"
   ]
  },
  {
   "cell_type": "code",
   "execution_count": 859,
   "metadata": {},
   "outputs": [
    {
     "data": {
      "text/plain": [
       "np.float64(900.56)"
      ]
     },
     "execution_count": 859,
     "metadata": {},
     "output_type": "execute_result"
    }
   ],
   "source": [
    "media_seguro_h_jugador"
   ]
  },
  {
   "cell_type": "code",
   "execution_count": 860,
   "metadata": {},
   "outputs": [
    {
     "name": "stdout",
     "output_type": "stream",
     "text": [
      "El costo medio por jugador por mes es de:  6541.77\n"
     ]
    }
   ],
   "source": [
    "# Esto seria si tomamos los valores sin inflacion, para poder compararlo con la cuota inicial de 7200\n",
    "print(\"El costo medio por jugador por mes es de: \", gasto_medio_por_jugador)"
   ]
  },
  {
   "cell_type": "code",
   "execution_count": 861,
   "metadata": {},
   "outputs": [
    {
     "data": {
      "application/vnd.plotly.v1+json": {
       "config": {
        "plotlyServerURL": "https://plot.ly"
       },
       "data": [
        {
         "domain": {
          "x": [
           0,
           0
          ]
         },
         "hole": 0.4,
         "hoverinfo": "label+percent+name",
         "labels": [
          "Resto",
          "Seguro",
          "Salario",
          "Materiales",
          "Locación"
         ],
         "marker": {
          "colors": [
           "#581845",
           "#900C3F",
           "#C70039",
           "#FF5733",
           "#FFC300"
          ]
         },
         "name": "Cuota",
         "type": "pie",
         "values": [
          658.2299999999996,
          900.56,
          4385.6760945946135,
          1019.8508600990384,
          235.68642633310142
         ]
        }
       ],
       "layout": {
        "annotations": [
         {
          "font": {
           "size": 20
          },
          "showarrow": false,
          "text": "",
          "x": 0,
          "y": 1
         }
        ],
        "height": 400,
        "legend": {
         "orientation": "v",
         "x": 0.8,
         "y": 1.4
        },
        "margin": {
         "b": 50,
         "l": 50,
         "r": 50,
         "t": 50
        },
        "template": {
         "data": {
          "bar": [
           {
            "error_x": {
             "color": "#2a3f5f"
            },
            "error_y": {
             "color": "#2a3f5f"
            },
            "marker": {
             "line": {
              "color": "#E5ECF6",
              "width": 0.5
             },
             "pattern": {
              "fillmode": "overlay",
              "size": 10,
              "solidity": 0.2
             }
            },
            "type": "bar"
           }
          ],
          "barpolar": [
           {
            "marker": {
             "line": {
              "color": "#E5ECF6",
              "width": 0.5
             },
             "pattern": {
              "fillmode": "overlay",
              "size": 10,
              "solidity": 0.2
             }
            },
            "type": "barpolar"
           }
          ],
          "carpet": [
           {
            "aaxis": {
             "endlinecolor": "#2a3f5f",
             "gridcolor": "white",
             "linecolor": "white",
             "minorgridcolor": "white",
             "startlinecolor": "#2a3f5f"
            },
            "baxis": {
             "endlinecolor": "#2a3f5f",
             "gridcolor": "white",
             "linecolor": "white",
             "minorgridcolor": "white",
             "startlinecolor": "#2a3f5f"
            },
            "type": "carpet"
           }
          ],
          "choropleth": [
           {
            "colorbar": {
             "outlinewidth": 0,
             "ticks": ""
            },
            "type": "choropleth"
           }
          ],
          "contour": [
           {
            "colorbar": {
             "outlinewidth": 0,
             "ticks": ""
            },
            "colorscale": [
             [
              0,
              "#0d0887"
             ],
             [
              0.1111111111111111,
              "#46039f"
             ],
             [
              0.2222222222222222,
              "#7201a8"
             ],
             [
              0.3333333333333333,
              "#9c179e"
             ],
             [
              0.4444444444444444,
              "#bd3786"
             ],
             [
              0.5555555555555556,
              "#d8576b"
             ],
             [
              0.6666666666666666,
              "#ed7953"
             ],
             [
              0.7777777777777778,
              "#fb9f3a"
             ],
             [
              0.8888888888888888,
              "#fdca26"
             ],
             [
              1,
              "#f0f921"
             ]
            ],
            "type": "contour"
           }
          ],
          "contourcarpet": [
           {
            "colorbar": {
             "outlinewidth": 0,
             "ticks": ""
            },
            "type": "contourcarpet"
           }
          ],
          "heatmap": [
           {
            "colorbar": {
             "outlinewidth": 0,
             "ticks": ""
            },
            "colorscale": [
             [
              0,
              "#0d0887"
             ],
             [
              0.1111111111111111,
              "#46039f"
             ],
             [
              0.2222222222222222,
              "#7201a8"
             ],
             [
              0.3333333333333333,
              "#9c179e"
             ],
             [
              0.4444444444444444,
              "#bd3786"
             ],
             [
              0.5555555555555556,
              "#d8576b"
             ],
             [
              0.6666666666666666,
              "#ed7953"
             ],
             [
              0.7777777777777778,
              "#fb9f3a"
             ],
             [
              0.8888888888888888,
              "#fdca26"
             ],
             [
              1,
              "#f0f921"
             ]
            ],
            "type": "heatmap"
           }
          ],
          "heatmapgl": [
           {
            "colorbar": {
             "outlinewidth": 0,
             "ticks": ""
            },
            "colorscale": [
             [
              0,
              "#0d0887"
             ],
             [
              0.1111111111111111,
              "#46039f"
             ],
             [
              0.2222222222222222,
              "#7201a8"
             ],
             [
              0.3333333333333333,
              "#9c179e"
             ],
             [
              0.4444444444444444,
              "#bd3786"
             ],
             [
              0.5555555555555556,
              "#d8576b"
             ],
             [
              0.6666666666666666,
              "#ed7953"
             ],
             [
              0.7777777777777778,
              "#fb9f3a"
             ],
             [
              0.8888888888888888,
              "#fdca26"
             ],
             [
              1,
              "#f0f921"
             ]
            ],
            "type": "heatmapgl"
           }
          ],
          "histogram": [
           {
            "marker": {
             "pattern": {
              "fillmode": "overlay",
              "size": 10,
              "solidity": 0.2
             }
            },
            "type": "histogram"
           }
          ],
          "histogram2d": [
           {
            "colorbar": {
             "outlinewidth": 0,
             "ticks": ""
            },
            "colorscale": [
             [
              0,
              "#0d0887"
             ],
             [
              0.1111111111111111,
              "#46039f"
             ],
             [
              0.2222222222222222,
              "#7201a8"
             ],
             [
              0.3333333333333333,
              "#9c179e"
             ],
             [
              0.4444444444444444,
              "#bd3786"
             ],
             [
              0.5555555555555556,
              "#d8576b"
             ],
             [
              0.6666666666666666,
              "#ed7953"
             ],
             [
              0.7777777777777778,
              "#fb9f3a"
             ],
             [
              0.8888888888888888,
              "#fdca26"
             ],
             [
              1,
              "#f0f921"
             ]
            ],
            "type": "histogram2d"
           }
          ],
          "histogram2dcontour": [
           {
            "colorbar": {
             "outlinewidth": 0,
             "ticks": ""
            },
            "colorscale": [
             [
              0,
              "#0d0887"
             ],
             [
              0.1111111111111111,
              "#46039f"
             ],
             [
              0.2222222222222222,
              "#7201a8"
             ],
             [
              0.3333333333333333,
              "#9c179e"
             ],
             [
              0.4444444444444444,
              "#bd3786"
             ],
             [
              0.5555555555555556,
              "#d8576b"
             ],
             [
              0.6666666666666666,
              "#ed7953"
             ],
             [
              0.7777777777777778,
              "#fb9f3a"
             ],
             [
              0.8888888888888888,
              "#fdca26"
             ],
             [
              1,
              "#f0f921"
             ]
            ],
            "type": "histogram2dcontour"
           }
          ],
          "mesh3d": [
           {
            "colorbar": {
             "outlinewidth": 0,
             "ticks": ""
            },
            "type": "mesh3d"
           }
          ],
          "parcoords": [
           {
            "line": {
             "colorbar": {
              "outlinewidth": 0,
              "ticks": ""
             }
            },
            "type": "parcoords"
           }
          ],
          "pie": [
           {
            "automargin": true,
            "type": "pie"
           }
          ],
          "scatter": [
           {
            "fillpattern": {
             "fillmode": "overlay",
             "size": 10,
             "solidity": 0.2
            },
            "type": "scatter"
           }
          ],
          "scatter3d": [
           {
            "line": {
             "colorbar": {
              "outlinewidth": 0,
              "ticks": ""
             }
            },
            "marker": {
             "colorbar": {
              "outlinewidth": 0,
              "ticks": ""
             }
            },
            "type": "scatter3d"
           }
          ],
          "scattercarpet": [
           {
            "marker": {
             "colorbar": {
              "outlinewidth": 0,
              "ticks": ""
             }
            },
            "type": "scattercarpet"
           }
          ],
          "scattergeo": [
           {
            "marker": {
             "colorbar": {
              "outlinewidth": 0,
              "ticks": ""
             }
            },
            "type": "scattergeo"
           }
          ],
          "scattergl": [
           {
            "marker": {
             "colorbar": {
              "outlinewidth": 0,
              "ticks": ""
             }
            },
            "type": "scattergl"
           }
          ],
          "scattermapbox": [
           {
            "marker": {
             "colorbar": {
              "outlinewidth": 0,
              "ticks": ""
             }
            },
            "type": "scattermapbox"
           }
          ],
          "scatterpolar": [
           {
            "marker": {
             "colorbar": {
              "outlinewidth": 0,
              "ticks": ""
             }
            },
            "type": "scatterpolar"
           }
          ],
          "scatterpolargl": [
           {
            "marker": {
             "colorbar": {
              "outlinewidth": 0,
              "ticks": ""
             }
            },
            "type": "scatterpolargl"
           }
          ],
          "scatterternary": [
           {
            "marker": {
             "colorbar": {
              "outlinewidth": 0,
              "ticks": ""
             }
            },
            "type": "scatterternary"
           }
          ],
          "surface": [
           {
            "colorbar": {
             "outlinewidth": 0,
             "ticks": ""
            },
            "colorscale": [
             [
              0,
              "#0d0887"
             ],
             [
              0.1111111111111111,
              "#46039f"
             ],
             [
              0.2222222222222222,
              "#7201a8"
             ],
             [
              0.3333333333333333,
              "#9c179e"
             ],
             [
              0.4444444444444444,
              "#bd3786"
             ],
             [
              0.5555555555555556,
              "#d8576b"
             ],
             [
              0.6666666666666666,
              "#ed7953"
             ],
             [
              0.7777777777777778,
              "#fb9f3a"
             ],
             [
              0.8888888888888888,
              "#fdca26"
             ],
             [
              1,
              "#f0f921"
             ]
            ],
            "type": "surface"
           }
          ],
          "table": [
           {
            "cells": {
             "fill": {
              "color": "#EBF0F8"
             },
             "line": {
              "color": "white"
             }
            },
            "header": {
             "fill": {
              "color": "#C8D4E3"
             },
             "line": {
              "color": "white"
             }
            },
            "type": "table"
           }
          ]
         },
         "layout": {
          "annotationdefaults": {
           "arrowcolor": "#2a3f5f",
           "arrowhead": 0,
           "arrowwidth": 1
          },
          "autotypenumbers": "strict",
          "coloraxis": {
           "colorbar": {
            "outlinewidth": 0,
            "ticks": ""
           }
          },
          "colorscale": {
           "diverging": [
            [
             0,
             "#8e0152"
            ],
            [
             0.1,
             "#c51b7d"
            ],
            [
             0.2,
             "#de77ae"
            ],
            [
             0.3,
             "#f1b6da"
            ],
            [
             0.4,
             "#fde0ef"
            ],
            [
             0.5,
             "#f7f7f7"
            ],
            [
             0.6,
             "#e6f5d0"
            ],
            [
             0.7,
             "#b8e186"
            ],
            [
             0.8,
             "#7fbc41"
            ],
            [
             0.9,
             "#4d9221"
            ],
            [
             1,
             "#276419"
            ]
           ],
           "sequential": [
            [
             0,
             "#0d0887"
            ],
            [
             0.1111111111111111,
             "#46039f"
            ],
            [
             0.2222222222222222,
             "#7201a8"
            ],
            [
             0.3333333333333333,
             "#9c179e"
            ],
            [
             0.4444444444444444,
             "#bd3786"
            ],
            [
             0.5555555555555556,
             "#d8576b"
            ],
            [
             0.6666666666666666,
             "#ed7953"
            ],
            [
             0.7777777777777778,
             "#fb9f3a"
            ],
            [
             0.8888888888888888,
             "#fdca26"
            ],
            [
             1,
             "#f0f921"
            ]
           ],
           "sequentialminus": [
            [
             0,
             "#0d0887"
            ],
            [
             0.1111111111111111,
             "#46039f"
            ],
            [
             0.2222222222222222,
             "#7201a8"
            ],
            [
             0.3333333333333333,
             "#9c179e"
            ],
            [
             0.4444444444444444,
             "#bd3786"
            ],
            [
             0.5555555555555556,
             "#d8576b"
            ],
            [
             0.6666666666666666,
             "#ed7953"
            ],
            [
             0.7777777777777778,
             "#fb9f3a"
            ],
            [
             0.8888888888888888,
             "#fdca26"
            ],
            [
             1,
             "#f0f921"
            ]
           ]
          },
          "colorway": [
           "#636efa",
           "#EF553B",
           "#00cc96",
           "#ab63fa",
           "#FFA15A",
           "#19d3f3",
           "#FF6692",
           "#B6E880",
           "#FF97FF",
           "#FECB52"
          ],
          "font": {
           "color": "#2a3f5f"
          },
          "geo": {
           "bgcolor": "white",
           "lakecolor": "white",
           "landcolor": "#E5ECF6",
           "showlakes": true,
           "showland": true,
           "subunitcolor": "white"
          },
          "hoverlabel": {
           "align": "left"
          },
          "hovermode": "closest",
          "mapbox": {
           "style": "light"
          },
          "paper_bgcolor": "white",
          "plot_bgcolor": "#E5ECF6",
          "polar": {
           "angularaxis": {
            "gridcolor": "white",
            "linecolor": "white",
            "ticks": ""
           },
           "bgcolor": "#E5ECF6",
           "radialaxis": {
            "gridcolor": "white",
            "linecolor": "white",
            "ticks": ""
           }
          },
          "scene": {
           "xaxis": {
            "backgroundcolor": "#E5ECF6",
            "gridcolor": "white",
            "gridwidth": 2,
            "linecolor": "white",
            "showbackground": true,
            "ticks": "",
            "zerolinecolor": "white"
           },
           "yaxis": {
            "backgroundcolor": "#E5ECF6",
            "gridcolor": "white",
            "gridwidth": 2,
            "linecolor": "white",
            "showbackground": true,
            "ticks": "",
            "zerolinecolor": "white"
           },
           "zaxis": {
            "backgroundcolor": "#E5ECF6",
            "gridcolor": "white",
            "gridwidth": 2,
            "linecolor": "white",
            "showbackground": true,
            "ticks": "",
            "zerolinecolor": "white"
           }
          },
          "shapedefaults": {
           "line": {
            "color": "#2a3f5f"
           }
          },
          "ternary": {
           "aaxis": {
            "gridcolor": "white",
            "linecolor": "white",
            "ticks": ""
           },
           "baxis": {
            "gridcolor": "white",
            "linecolor": "white",
            "ticks": ""
           },
           "bgcolor": "#E5ECF6",
           "caxis": {
            "gridcolor": "white",
            "linecolor": "white",
            "ticks": ""
           }
          },
          "title": {
           "x": 0.05
          },
          "xaxis": {
           "automargin": true,
           "gridcolor": "white",
           "linecolor": "white",
           "ticks": "",
           "title": {
            "standoff": 15
           },
           "zerolinecolor": "white",
           "zerolinewidth": 2
          },
          "yaxis": {
           "automargin": true,
           "gridcolor": "white",
           "linecolor": "white",
           "ticks": "",
           "title": {
            "standoff": 15
           },
           "zerolinecolor": "white",
           "zerolinewidth": 2
          }
         }
        },
        "title": {
         "text": "Costes de la cuota"
        },
        "width": 500
       }
      }
     },
     "metadata": {},
     "output_type": "display_data"
    }
   ],
   "source": [
    "# Definir la cuota total\n",
    "cuota = 7200\n",
    "\n",
    "# Datos (suponiendo que ya tienes estos valores calculados)\n",
    "resto = (cuota - gasto_medio_por_jugador)  # Resto de la cuota\n",
    "seguro = media_seguro_h_jugador            # Seguro por jugador\n",
    "salario = media_salario_por_jugador        # Salario por jugador\n",
    "materiales = media_materiales_por_jugador  # Materiales por jugador\n",
    "locacion = media_locacion_por_jugador      # Locación por jugador\n",
    "\n",
    "# Crear una lista con los valores de cada parte del gráfico\n",
    "pie1_list = [resto, seguro, salario, materiales, locacion]\n",
    "\n",
    "# Etiquetas para las secciones del gráfico\n",
    "labels = ['Resto', 'Seguro', 'Salario', 'Materiales', 'Locación']\n",
    "\n",
    "colors = ['#581845', '#900C3F', '#C70039', '#FF5733', '#FFC300']\n",
    "\n",
    "# Crear una paleta de colores personalizada con los colores definidos\n",
    "colormap = ListedColormap(colors[:len(labels)])\n",
    "\n",
    "# Crear la figura de gráfico circular (Pie)\n",
    "fig = go.Figure(\n",
    "    data=[go.Pie(\n",
    "        values=pie1_list,  # Valores a graficar\n",
    "        labels=labels,     # Etiquetas de cada sección\n",
    "        domain={\"x\": [0, 0]},  # Ajustar la posición del gráfico en el canvas\n",
    "        name=\"Cuota\",  # Nombre general del gráfico\n",
    "        hoverinfo=\"label+percent+name\",  # Información al pasar el mouse\n",
    "        hole=0.4,  # Hacer un gráfico de dona (agregar un hueco en el centro)\n",
    "        marker={'colors': colors},  # Aplicar la paleta de colores\n",
    "    )],\n",
    "    layout={\n",
    "        \"title\": \"Costes de la cuota\",  # Título del gráfico\n",
    "        \"annotations\": [\n",
    "            {\n",
    "                \"font\": {\"size\": 20},\n",
    "                \"showarrow\": False,\n",
    "                \"text\": \"\",\n",
    "                \"x\": 0.0,\n",
    "                \"y\": 1.0\n",
    "            },\n",
    "        ],\n",
    "        \"width\": 500,  # Ajustar el ancho del gráfico\n",
    "        \"height\": 400,  # Ajustar la altura del gráfico\n",
    "        \"margin\": {\"l\": 50, \"r\": 50, \"t\": 50, \"b\": 50},  # Márgenes del gráfico\n",
    "        \"legend\": {\n",
    "            \"x\": 0.8,  # Posición X de la leyenda\n",
    "            \"y\": 1.4,  # Posición Y de la leyenda\n",
    "            \"orientation\": \"v\"  # Poner la leyenda en vertical\n",
    "        }\n",
    "    }\n",
    ")\n",
    "\n",
    "# Mostrar el gráfico\n",
    "fig.show()\n",
    "pio.write_html(fig, 'Costos_cuota.html', auto_open=True)"
   ]
  },
  {
   "cell_type": "markdown",
   "metadata": {},
   "source": [
    "# 3. Estacionalidad en la Rotación de Socios\n",
    "- Análisis Mensual de Ingresos y Deserciones:\n",
    "    - Graficar el número de nuevos socios e ingresos mensuales frente a la tasa de deserción.\n",
    "- Identificación de Picos en Ingresos y Bajas:\n",
    "    - Utilizar gráficos de líneas para destacar las tendencias a lo largo del año."
   ]
  },
  {
   "cell_type": "markdown",
   "metadata": {},
   "source": [
    "Handball"
   ]
  },
  {
   "cell_type": "code",
   "execution_count": 862,
   "metadata": {},
   "outputs": [],
   "source": [
    "resultados_h['MES']=resultados_h['MES'].replace({'FEB': '02', 'MAR':'03', 'ABR':'04', 'MAY':'05', 'JUN':'06', 'JUL':'07', 'AGO':'08', 'SEPT':'09', 'OCT':'10'})"
   ]
  },
  {
   "cell_type": "code",
   "execution_count": 863,
   "metadata": {},
   "outputs": [
    {
     "data": {
      "text/plain": [
       "array(['02', '03', '04', '05', '06', '07', '08', '09', '10'], dtype=object)"
      ]
     },
     "execution_count": 863,
     "metadata": {},
     "output_type": "execute_result"
    }
   ],
   "source": [
    "resultados_h.groupby(['CATEGORIA', 'MES'])[['% PERMANENCIAS']].max().reset_index()\n",
    "resultados_h['MES'].unique()"
   ]
  },
  {
   "cell_type": "code",
   "execution_count": 864,
   "metadata": {},
   "outputs": [],
   "source": [
    "totales = resultados_h.groupby(['MES', 'CATEGORIA'])[['INGRESOS', 'EGRESOS']].sum().reset_index()"
   ]
  },
  {
   "cell_type": "code",
   "execution_count": 865,
   "metadata": {},
   "outputs": [],
   "source": [
    "porcentajes_perm_categoria = resultados_h.groupby('MES')[['% PERMANENCIAS']].mean().reset_index()"
   ]
  },
  {
   "cell_type": "markdown",
   "metadata": {},
   "source": [
    "Con un grafico de barras agrupadas veo las proporciones de ingresos, egresos, permanencias y el total de alumnos, por categoria, por mes"
   ]
  },
  {
   "cell_type": "code",
   "execution_count": 866,
   "metadata": {},
   "outputs": [
    {
     "data": {
      "application/vnd.plotly.v1+json": {
       "config": {
        "plotlyServerURL": "https://plot.ly"
       },
       "data": [
        {
         "legendgroup": "movimiento",
         "marker": {
          "color": "#FF9F00"
         },
         "name": "Ingresos",
         "showlegend": true,
         "type": "bar",
         "x": [
          "02",
          "03",
          "04",
          "05",
          "06",
          "07",
          "08",
          "09",
          "10"
         ],
         "xaxis": "x",
         "y": [
          5,
          8,
          3,
          5,
          2,
          0,
          3,
          2,
          1
         ],
         "yaxis": "y"
        },
        {
         "legendgroup": "movimiento",
         "marker": {
          "color": "#C70039"
         },
         "name": "Egresos",
         "showlegend": true,
         "type": "bar",
         "x": [
          "02",
          "03",
          "04",
          "05",
          "06",
          "07",
          "08",
          "09",
          "10"
         ],
         "xaxis": "x",
         "y": [
          0,
          0,
          0,
          2,
          1,
          3,
          0,
          0,
          0
         ],
         "yaxis": "y"
        },
        {
         "legendgroup": "movimiento",
         "marker": {
          "color": "#FFCC80"
         },
         "name": "Permanencias",
         "showlegend": true,
         "type": "bar",
         "x": [
          "02",
          "03",
          "04",
          "05",
          "06",
          "07",
          "08",
          "09",
          "10"
         ],
         "xaxis": "x",
         "y": [
          0,
          5,
          13,
          14,
          18,
          17,
          17,
          20,
          22
         ],
         "yaxis": "y"
        },
        {
         "legendgroup": "movimiento",
         "line": {
          "color": "#581845",
          "width": 2
         },
         "marker": {
          "color": "#581845",
          "size": 6
         },
         "mode": "lines+markers",
         "name": "Total Alumnos",
         "showlegend": true,
         "type": "scatter",
         "x": [
          "02",
          "03",
          "04",
          "05",
          "06",
          "07",
          "08",
          "09",
          "10"
         ],
         "xaxis": "x",
         "y": [
          5,
          13,
          16,
          17,
          19,
          14,
          20,
          22,
          23
         ],
         "yaxis": "y"
        },
        {
         "legendgroup": "movimiento",
         "marker": {
          "color": "#FF9F00"
         },
         "name": "Ingresos",
         "showlegend": false,
         "type": "bar",
         "x": [
          "02",
          "03",
          "04",
          "05",
          "06",
          "07",
          "08",
          "09",
          "10"
         ],
         "xaxis": "x2",
         "y": [
          8,
          7,
          2,
          0,
          0,
          0,
          2,
          1,
          1
         ],
         "yaxis": "y2"
        },
        {
         "legendgroup": "movimiento",
         "marker": {
          "color": "#C70039"
         },
         "name": "Egresos",
         "showlegend": false,
         "type": "bar",
         "x": [
          "02",
          "03",
          "04",
          "05",
          "06",
          "07",
          "08",
          "09",
          "10"
         ],
         "xaxis": "x2",
         "y": [
          0,
          1,
          0,
          0,
          0,
          1,
          0,
          1,
          0
         ],
         "yaxis": "y2"
        },
        {
         "legendgroup": "movimiento",
         "marker": {
          "color": "#FFCC80"
         },
         "name": "Permanencias",
         "showlegend": false,
         "type": "bar",
         "x": [
          "02",
          "03",
          "04",
          "05",
          "06",
          "07",
          "08",
          "09",
          "10"
         ],
         "xaxis": "x2",
         "y": [
          0,
          7,
          14,
          16,
          16,
          15,
          15,
          16,
          17
         ],
         "yaxis": "y2"
        },
        {
         "legendgroup": "movimiento",
         "line": {
          "color": "#581845",
          "width": 2
         },
         "marker": {
          "color": "#581845",
          "size": 6
         },
         "mode": "lines+markers",
         "name": "Total Alumnos",
         "showlegend": false,
         "type": "scatter",
         "x": [
          "02",
          "03",
          "04",
          "05",
          "06",
          "07",
          "08",
          "09",
          "10"
         ],
         "xaxis": "x2",
         "y": [
          8,
          13,
          16,
          16,
          16,
          14,
          17,
          16,
          18
         ],
         "yaxis": "y2"
        },
        {
         "legendgroup": "movimiento",
         "marker": {
          "color": "#FF9F00"
         },
         "name": "Ingresos",
         "showlegend": false,
         "type": "bar",
         "x": [
          "02",
          "03",
          "04",
          "05",
          "06",
          "07",
          "08",
          "09",
          "10"
         ],
         "xaxis": "x3",
         "y": [
          10,
          13,
          3,
          2,
          1,
          2,
          3,
          3,
          1
         ],
         "yaxis": "y3"
        },
        {
         "legendgroup": "movimiento",
         "marker": {
          "color": "#C70039"
         },
         "name": "Egresos",
         "showlegend": false,
         "type": "bar",
         "x": [
          "02",
          "03",
          "04",
          "05",
          "06",
          "07",
          "08",
          "09",
          "10"
         ],
         "xaxis": "x3",
         "y": [
          0,
          0,
          1,
          0,
          0,
          0,
          0,
          0,
          1
         ],
         "yaxis": "y3"
        },
        {
         "legendgroup": "movimiento",
         "marker": {
          "color": "#FFCC80"
         },
         "name": "Permanencias",
         "showlegend": false,
         "type": "bar",
         "x": [
          "02",
          "03",
          "04",
          "05",
          "06",
          "07",
          "08",
          "09",
          "10"
         ],
         "xaxis": "x3",
         "y": [
          0,
          10,
          22,
          25,
          27,
          28,
          30,
          33,
          35
         ],
         "yaxis": "y3"
        },
        {
         "legendgroup": "movimiento",
         "line": {
          "color": "#581845",
          "width": 2
         },
         "marker": {
          "color": "#581845",
          "size": 6
         },
         "mode": "lines+markers",
         "name": "Total Alumnos",
         "showlegend": false,
         "type": "scatter",
         "x": [
          "02",
          "03",
          "04",
          "05",
          "06",
          "07",
          "08",
          "09",
          "10"
         ],
         "xaxis": "x3",
         "y": [
          10,
          23,
          24,
          27,
          28,
          30,
          33,
          36,
          35
         ],
         "yaxis": "y3"
        },
        {
         "legendgroup": "movimiento",
         "marker": {
          "color": "#FF9F00"
         },
         "name": "Ingresos",
         "showlegend": false,
         "type": "bar",
         "x": [
          "02",
          "03",
          "04",
          "05",
          "06",
          "07",
          "08",
          "09",
          "10"
         ],
         "xaxis": "x4",
         "y": [
          19,
          2,
          1,
          3,
          0,
          0,
          0,
          2,
          4
         ],
         "yaxis": "y4"
        },
        {
         "legendgroup": "movimiento",
         "marker": {
          "color": "#C70039"
         },
         "name": "Egresos",
         "showlegend": false,
         "type": "bar",
         "x": [
          "02",
          "03",
          "04",
          "05",
          "06",
          "07",
          "08",
          "09",
          "10"
         ],
         "xaxis": "x4",
         "y": [
          0,
          0,
          2,
          2,
          2,
          0,
          0,
          0,
          0
         ],
         "yaxis": "y4"
        },
        {
         "legendgroup": "movimiento",
         "marker": {
          "color": "#FFCC80"
         },
         "name": "Permanencias",
         "showlegend": false,
         "type": "bar",
         "x": [
          "02",
          "03",
          "04",
          "05",
          "06",
          "07",
          "08",
          "09",
          "10"
         ],
         "xaxis": "x4",
         "y": [
          0,
          19,
          19,
          18,
          19,
          19,
          19,
          19,
          21
         ],
         "yaxis": "y4"
        },
        {
         "legendgroup": "movimiento",
         "line": {
          "color": "#581845",
          "width": 2
         },
         "marker": {
          "color": "#581845",
          "size": 6
         },
         "mode": "lines+markers",
         "name": "Total Alumnos",
         "showlegend": false,
         "type": "scatter",
         "x": [
          "02",
          "03",
          "04",
          "05",
          "06",
          "07",
          "08",
          "09",
          "10"
         ],
         "xaxis": "x4",
         "y": [
          19,
          21,
          18,
          19,
          17,
          19,
          19,
          21,
          25
         ],
         "yaxis": "y4"
        },
        {
         "legendgroup": "movimiento",
         "marker": {
          "color": "#FF9F00"
         },
         "name": "Ingresos",
         "showlegend": false,
         "type": "bar",
         "x": [
          "02",
          "03",
          "04",
          "05",
          "06",
          "07",
          "08",
          "09",
          "10"
         ],
         "xaxis": "x5",
         "y": [
          7,
          7,
          2,
          3,
          1,
          0,
          0,
          1,
          0
         ],
         "yaxis": "y5"
        },
        {
         "legendgroup": "movimiento",
         "marker": {
          "color": "#C70039"
         },
         "name": "Egresos",
         "showlegend": false,
         "type": "bar",
         "x": [
          "02",
          "03",
          "04",
          "05",
          "06",
          "07",
          "08",
          "09",
          "10"
         ],
         "xaxis": "x5",
         "y": [
          0,
          1,
          0,
          3,
          0,
          3,
          0,
          0,
          1
         ],
         "yaxis": "y5"
        },
        {
         "legendgroup": "movimiento",
         "marker": {
          "color": "#FFCC80"
         },
         "name": "Permanencias",
         "showlegend": false,
         "type": "bar",
         "x": [
          "02",
          "03",
          "04",
          "05",
          "06",
          "07",
          "08",
          "09",
          "10"
         ],
         "xaxis": "x5",
         "y": [
          0,
          6,
          13,
          12,
          15,
          13,
          13,
          13,
          13
         ],
         "yaxis": "y5"
        },
        {
         "legendgroup": "movimiento",
         "line": {
          "color": "#581845",
          "width": 2
         },
         "marker": {
          "color": "#581845",
          "size": 6
         },
         "mode": "lines+markers",
         "name": "Total Alumnos",
         "showlegend": false,
         "type": "scatter",
         "x": [
          "02",
          "03",
          "04",
          "05",
          "06",
          "07",
          "08",
          "09",
          "10"
         ],
         "xaxis": "x5",
         "y": [
          7,
          12,
          15,
          12,
          16,
          10,
          13,
          14,
          12
         ],
         "yaxis": "y5"
        },
        {
         "legendgroup": "movimiento",
         "marker": {
          "color": "#FF9F00"
         },
         "name": "Ingresos",
         "showlegend": false,
         "type": "bar",
         "x": [
          "02",
          "03",
          "04",
          "05",
          "06",
          "07",
          "08",
          "09",
          "10"
         ],
         "xaxis": "x6",
         "y": [
          28,
          20,
          6,
          5,
          3,
          1,
          2,
          0,
          1
         ],
         "yaxis": "y6"
        },
        {
         "legendgroup": "movimiento",
         "marker": {
          "color": "#C70039"
         },
         "name": "Egresos",
         "showlegend": false,
         "type": "bar",
         "x": [
          "02",
          "03",
          "04",
          "05",
          "06",
          "07",
          "08",
          "09",
          "10"
         ],
         "xaxis": "x6",
         "y": [
          0,
          4,
          2,
          3,
          2,
          4,
          2,
          3,
          4
         ],
         "yaxis": "y6"
        },
        {
         "legendgroup": "movimiento",
         "marker": {
          "color": "#FFCC80"
         },
         "name": "Permanencias",
         "showlegend": false,
         "type": "bar",
         "x": [
          "02",
          "03",
          "04",
          "05",
          "06",
          "07",
          "08",
          "09",
          "10"
         ],
         "xaxis": "x6",
         "y": [
          0,
          24,
          42,
          45,
          48,
          47,
          46,
          45,
          41
         ],
         "yaxis": "y6"
        },
        {
         "legendgroup": "movimiento",
         "line": {
          "color": "#581845",
          "width": 2
         },
         "marker": {
          "color": "#581845",
          "size": 6
         },
         "mode": "lines+markers",
         "name": "Total Alumnos",
         "showlegend": false,
         "type": "scatter",
         "x": [
          "02",
          "03",
          "04",
          "05",
          "06",
          "07",
          "08",
          "09",
          "10"
         ],
         "xaxis": "x6",
         "y": [
          28,
          40,
          46,
          47,
          49,
          44,
          46,
          42,
          38
         ],
         "yaxis": "y6"
        }
       ],
       "layout": {
        "annotations": [
         {
          "font": {
           "size": 16
          },
          "showarrow": false,
          "text": "Categoría: Mini",
          "x": 0.5,
          "xanchor": "center",
          "xref": "paper",
          "y": 1,
          "yanchor": "bottom",
          "yref": "paper"
         },
         {
          "font": {
           "size": 16
          },
          "showarrow": false,
          "text": "Categoría: Infantil",
          "x": 0.5,
          "xanchor": "center",
          "xref": "paper",
          "y": 0.8166666666666668,
          "yanchor": "bottom",
          "yref": "paper"
         },
         {
          "font": {
           "size": 16
          },
          "showarrow": false,
          "text": "Categoría: Menores",
          "x": 0.5,
          "xanchor": "center",
          "xref": "paper",
          "y": 0.6333333333333334,
          "yanchor": "bottom",
          "yref": "paper"
         },
         {
          "font": {
           "size": 16
          },
          "showarrow": false,
          "text": "Categoría: Cadetes",
          "x": 0.5,
          "xanchor": "center",
          "xref": "paper",
          "y": 0.45,
          "yanchor": "bottom",
          "yref": "paper"
         },
         {
          "font": {
           "size": 16
          },
          "showarrow": false,
          "text": "Categoría: Juveniles",
          "x": 0.5,
          "xanchor": "center",
          "xref": "paper",
          "y": 0.26666666666666666,
          "yanchor": "bottom",
          "yref": "paper"
         },
         {
          "font": {
           "size": 16
          },
          "showarrow": false,
          "text": "Categoría: Primera",
          "x": 0.5,
          "xanchor": "center",
          "xref": "paper",
          "y": 0.08333333333333333,
          "yanchor": "bottom",
          "yref": "paper"
         }
        ],
        "barmode": "stack",
        "height": 1800,
        "hovermode": "x unified",
        "legend": {
         "title": {
          "text": "Tipo de Movimiento"
         }
        },
        "plot_bgcolor": "white",
        "template": {
         "data": {
          "bar": [
           {
            "error_x": {
             "color": "#2a3f5f"
            },
            "error_y": {
             "color": "#2a3f5f"
            },
            "marker": {
             "line": {
              "color": "#E5ECF6",
              "width": 0.5
             },
             "pattern": {
              "fillmode": "overlay",
              "size": 10,
              "solidity": 0.2
             }
            },
            "type": "bar"
           }
          ],
          "barpolar": [
           {
            "marker": {
             "line": {
              "color": "#E5ECF6",
              "width": 0.5
             },
             "pattern": {
              "fillmode": "overlay",
              "size": 10,
              "solidity": 0.2
             }
            },
            "type": "barpolar"
           }
          ],
          "carpet": [
           {
            "aaxis": {
             "endlinecolor": "#2a3f5f",
             "gridcolor": "white",
             "linecolor": "white",
             "minorgridcolor": "white",
             "startlinecolor": "#2a3f5f"
            },
            "baxis": {
             "endlinecolor": "#2a3f5f",
             "gridcolor": "white",
             "linecolor": "white",
             "minorgridcolor": "white",
             "startlinecolor": "#2a3f5f"
            },
            "type": "carpet"
           }
          ],
          "choropleth": [
           {
            "colorbar": {
             "outlinewidth": 0,
             "ticks": ""
            },
            "type": "choropleth"
           }
          ],
          "contour": [
           {
            "colorbar": {
             "outlinewidth": 0,
             "ticks": ""
            },
            "colorscale": [
             [
              0,
              "#0d0887"
             ],
             [
              0.1111111111111111,
              "#46039f"
             ],
             [
              0.2222222222222222,
              "#7201a8"
             ],
             [
              0.3333333333333333,
              "#9c179e"
             ],
             [
              0.4444444444444444,
              "#bd3786"
             ],
             [
              0.5555555555555556,
              "#d8576b"
             ],
             [
              0.6666666666666666,
              "#ed7953"
             ],
             [
              0.7777777777777778,
              "#fb9f3a"
             ],
             [
              0.8888888888888888,
              "#fdca26"
             ],
             [
              1,
              "#f0f921"
             ]
            ],
            "type": "contour"
           }
          ],
          "contourcarpet": [
           {
            "colorbar": {
             "outlinewidth": 0,
             "ticks": ""
            },
            "type": "contourcarpet"
           }
          ],
          "heatmap": [
           {
            "colorbar": {
             "outlinewidth": 0,
             "ticks": ""
            },
            "colorscale": [
             [
              0,
              "#0d0887"
             ],
             [
              0.1111111111111111,
              "#46039f"
             ],
             [
              0.2222222222222222,
              "#7201a8"
             ],
             [
              0.3333333333333333,
              "#9c179e"
             ],
             [
              0.4444444444444444,
              "#bd3786"
             ],
             [
              0.5555555555555556,
              "#d8576b"
             ],
             [
              0.6666666666666666,
              "#ed7953"
             ],
             [
              0.7777777777777778,
              "#fb9f3a"
             ],
             [
              0.8888888888888888,
              "#fdca26"
             ],
             [
              1,
              "#f0f921"
             ]
            ],
            "type": "heatmap"
           }
          ],
          "heatmapgl": [
           {
            "colorbar": {
             "outlinewidth": 0,
             "ticks": ""
            },
            "colorscale": [
             [
              0,
              "#0d0887"
             ],
             [
              0.1111111111111111,
              "#46039f"
             ],
             [
              0.2222222222222222,
              "#7201a8"
             ],
             [
              0.3333333333333333,
              "#9c179e"
             ],
             [
              0.4444444444444444,
              "#bd3786"
             ],
             [
              0.5555555555555556,
              "#d8576b"
             ],
             [
              0.6666666666666666,
              "#ed7953"
             ],
             [
              0.7777777777777778,
              "#fb9f3a"
             ],
             [
              0.8888888888888888,
              "#fdca26"
             ],
             [
              1,
              "#f0f921"
             ]
            ],
            "type": "heatmapgl"
           }
          ],
          "histogram": [
           {
            "marker": {
             "pattern": {
              "fillmode": "overlay",
              "size": 10,
              "solidity": 0.2
             }
            },
            "type": "histogram"
           }
          ],
          "histogram2d": [
           {
            "colorbar": {
             "outlinewidth": 0,
             "ticks": ""
            },
            "colorscale": [
             [
              0,
              "#0d0887"
             ],
             [
              0.1111111111111111,
              "#46039f"
             ],
             [
              0.2222222222222222,
              "#7201a8"
             ],
             [
              0.3333333333333333,
              "#9c179e"
             ],
             [
              0.4444444444444444,
              "#bd3786"
             ],
             [
              0.5555555555555556,
              "#d8576b"
             ],
             [
              0.6666666666666666,
              "#ed7953"
             ],
             [
              0.7777777777777778,
              "#fb9f3a"
             ],
             [
              0.8888888888888888,
              "#fdca26"
             ],
             [
              1,
              "#f0f921"
             ]
            ],
            "type": "histogram2d"
           }
          ],
          "histogram2dcontour": [
           {
            "colorbar": {
             "outlinewidth": 0,
             "ticks": ""
            },
            "colorscale": [
             [
              0,
              "#0d0887"
             ],
             [
              0.1111111111111111,
              "#46039f"
             ],
             [
              0.2222222222222222,
              "#7201a8"
             ],
             [
              0.3333333333333333,
              "#9c179e"
             ],
             [
              0.4444444444444444,
              "#bd3786"
             ],
             [
              0.5555555555555556,
              "#d8576b"
             ],
             [
              0.6666666666666666,
              "#ed7953"
             ],
             [
              0.7777777777777778,
              "#fb9f3a"
             ],
             [
              0.8888888888888888,
              "#fdca26"
             ],
             [
              1,
              "#f0f921"
             ]
            ],
            "type": "histogram2dcontour"
           }
          ],
          "mesh3d": [
           {
            "colorbar": {
             "outlinewidth": 0,
             "ticks": ""
            },
            "type": "mesh3d"
           }
          ],
          "parcoords": [
           {
            "line": {
             "colorbar": {
              "outlinewidth": 0,
              "ticks": ""
             }
            },
            "type": "parcoords"
           }
          ],
          "pie": [
           {
            "automargin": true,
            "type": "pie"
           }
          ],
          "scatter": [
           {
            "fillpattern": {
             "fillmode": "overlay",
             "size": 10,
             "solidity": 0.2
            },
            "type": "scatter"
           }
          ],
          "scatter3d": [
           {
            "line": {
             "colorbar": {
              "outlinewidth": 0,
              "ticks": ""
             }
            },
            "marker": {
             "colorbar": {
              "outlinewidth": 0,
              "ticks": ""
             }
            },
            "type": "scatter3d"
           }
          ],
          "scattercarpet": [
           {
            "marker": {
             "colorbar": {
              "outlinewidth": 0,
              "ticks": ""
             }
            },
            "type": "scattercarpet"
           }
          ],
          "scattergeo": [
           {
            "marker": {
             "colorbar": {
              "outlinewidth": 0,
              "ticks": ""
             }
            },
            "type": "scattergeo"
           }
          ],
          "scattergl": [
           {
            "marker": {
             "colorbar": {
              "outlinewidth": 0,
              "ticks": ""
             }
            },
            "type": "scattergl"
           }
          ],
          "scattermapbox": [
           {
            "marker": {
             "colorbar": {
              "outlinewidth": 0,
              "ticks": ""
             }
            },
            "type": "scattermapbox"
           }
          ],
          "scatterpolar": [
           {
            "marker": {
             "colorbar": {
              "outlinewidth": 0,
              "ticks": ""
             }
            },
            "type": "scatterpolar"
           }
          ],
          "scatterpolargl": [
           {
            "marker": {
             "colorbar": {
              "outlinewidth": 0,
              "ticks": ""
             }
            },
            "type": "scatterpolargl"
           }
          ],
          "scatterternary": [
           {
            "marker": {
             "colorbar": {
              "outlinewidth": 0,
              "ticks": ""
             }
            },
            "type": "scatterternary"
           }
          ],
          "surface": [
           {
            "colorbar": {
             "outlinewidth": 0,
             "ticks": ""
            },
            "colorscale": [
             [
              0,
              "#0d0887"
             ],
             [
              0.1111111111111111,
              "#46039f"
             ],
             [
              0.2222222222222222,
              "#7201a8"
             ],
             [
              0.3333333333333333,
              "#9c179e"
             ],
             [
              0.4444444444444444,
              "#bd3786"
             ],
             [
              0.5555555555555556,
              "#d8576b"
             ],
             [
              0.6666666666666666,
              "#ed7953"
             ],
             [
              0.7777777777777778,
              "#fb9f3a"
             ],
             [
              0.8888888888888888,
              "#fdca26"
             ],
             [
              1,
              "#f0f921"
             ]
            ],
            "type": "surface"
           }
          ],
          "table": [
           {
            "cells": {
             "fill": {
              "color": "#EBF0F8"
             },
             "line": {
              "color": "white"
             }
            },
            "header": {
             "fill": {
              "color": "#C8D4E3"
             },
             "line": {
              "color": "white"
             }
            },
            "type": "table"
           }
          ]
         },
         "layout": {
          "annotationdefaults": {
           "arrowcolor": "#2a3f5f",
           "arrowhead": 0,
           "arrowwidth": 1
          },
          "autotypenumbers": "strict",
          "coloraxis": {
           "colorbar": {
            "outlinewidth": 0,
            "ticks": ""
           }
          },
          "colorscale": {
           "diverging": [
            [
             0,
             "#8e0152"
            ],
            [
             0.1,
             "#c51b7d"
            ],
            [
             0.2,
             "#de77ae"
            ],
            [
             0.3,
             "#f1b6da"
            ],
            [
             0.4,
             "#fde0ef"
            ],
            [
             0.5,
             "#f7f7f7"
            ],
            [
             0.6,
             "#e6f5d0"
            ],
            [
             0.7,
             "#b8e186"
            ],
            [
             0.8,
             "#7fbc41"
            ],
            [
             0.9,
             "#4d9221"
            ],
            [
             1,
             "#276419"
            ]
           ],
           "sequential": [
            [
             0,
             "#0d0887"
            ],
            [
             0.1111111111111111,
             "#46039f"
            ],
            [
             0.2222222222222222,
             "#7201a8"
            ],
            [
             0.3333333333333333,
             "#9c179e"
            ],
            [
             0.4444444444444444,
             "#bd3786"
            ],
            [
             0.5555555555555556,
             "#d8576b"
            ],
            [
             0.6666666666666666,
             "#ed7953"
            ],
            [
             0.7777777777777778,
             "#fb9f3a"
            ],
            [
             0.8888888888888888,
             "#fdca26"
            ],
            [
             1,
             "#f0f921"
            ]
           ],
           "sequentialminus": [
            [
             0,
             "#0d0887"
            ],
            [
             0.1111111111111111,
             "#46039f"
            ],
            [
             0.2222222222222222,
             "#7201a8"
            ],
            [
             0.3333333333333333,
             "#9c179e"
            ],
            [
             0.4444444444444444,
             "#bd3786"
            ],
            [
             0.5555555555555556,
             "#d8576b"
            ],
            [
             0.6666666666666666,
             "#ed7953"
            ],
            [
             0.7777777777777778,
             "#fb9f3a"
            ],
            [
             0.8888888888888888,
             "#fdca26"
            ],
            [
             1,
             "#f0f921"
            ]
           ]
          },
          "colorway": [
           "#636efa",
           "#EF553B",
           "#00cc96",
           "#ab63fa",
           "#FFA15A",
           "#19d3f3",
           "#FF6692",
           "#B6E880",
           "#FF97FF",
           "#FECB52"
          ],
          "font": {
           "color": "#2a3f5f"
          },
          "geo": {
           "bgcolor": "white",
           "lakecolor": "white",
           "landcolor": "#E5ECF6",
           "showlakes": true,
           "showland": true,
           "subunitcolor": "white"
          },
          "hoverlabel": {
           "align": "left"
          },
          "hovermode": "closest",
          "mapbox": {
           "style": "light"
          },
          "paper_bgcolor": "white",
          "plot_bgcolor": "#E5ECF6",
          "polar": {
           "angularaxis": {
            "gridcolor": "white",
            "linecolor": "white",
            "ticks": ""
           },
           "bgcolor": "#E5ECF6",
           "radialaxis": {
            "gridcolor": "white",
            "linecolor": "white",
            "ticks": ""
           }
          },
          "scene": {
           "xaxis": {
            "backgroundcolor": "#E5ECF6",
            "gridcolor": "white",
            "gridwidth": 2,
            "linecolor": "white",
            "showbackground": true,
            "ticks": "",
            "zerolinecolor": "white"
           },
           "yaxis": {
            "backgroundcolor": "#E5ECF6",
            "gridcolor": "white",
            "gridwidth": 2,
            "linecolor": "white",
            "showbackground": true,
            "ticks": "",
            "zerolinecolor": "white"
           },
           "zaxis": {
            "backgroundcolor": "#E5ECF6",
            "gridcolor": "white",
            "gridwidth": 2,
            "linecolor": "white",
            "showbackground": true,
            "ticks": "",
            "zerolinecolor": "white"
           }
          },
          "shapedefaults": {
           "line": {
            "color": "#2a3f5f"
           }
          },
          "ternary": {
           "aaxis": {
            "gridcolor": "white",
            "linecolor": "white",
            "ticks": ""
           },
           "baxis": {
            "gridcolor": "white",
            "linecolor": "white",
            "ticks": ""
           },
           "bgcolor": "#E5ECF6",
           "caxis": {
            "gridcolor": "white",
            "linecolor": "white",
            "ticks": ""
           }
          },
          "title": {
           "x": 0.05
          },
          "xaxis": {
           "automargin": true,
           "gridcolor": "white",
           "linecolor": "white",
           "ticks": "",
           "title": {
            "standoff": 15
           },
           "zerolinecolor": "white",
           "zerolinewidth": 2
          },
          "yaxis": {
           "automargin": true,
           "gridcolor": "white",
           "linecolor": "white",
           "ticks": "",
           "title": {
            "standoff": 15
           },
           "zerolinecolor": "white",
           "zerolinewidth": 2
          }
         }
        },
        "title": {
         "text": "Evolución de Ingresos, Egresos, Permanencias y Total de Alumnos por Categoría"
        },
        "xaxis": {
         "anchor": "y",
         "domain": [
          0,
          1
         ],
         "ticktext": [
          "FEB",
          "MAR",
          "ABR",
          "MAY",
          "JUN",
          "JUL",
          "AGO",
          "SEPT",
          "OCT"
         ],
         "tickvals": [
          "02",
          "03",
          "04",
          "05",
          "06",
          "07",
          "08",
          "09",
          "10"
         ]
        },
        "xaxis2": {
         "anchor": "y2",
         "domain": [
          0,
          1
         ],
         "ticktext": [
          "FEB",
          "MAR",
          "ABR",
          "MAY",
          "JUN",
          "JUL",
          "AGO",
          "SEPT",
          "OCT"
         ],
         "tickvals": [
          "02",
          "03",
          "04",
          "05",
          "06",
          "07",
          "08",
          "09",
          "10"
         ]
        },
        "xaxis3": {
         "anchor": "y3",
         "domain": [
          0,
          1
         ],
         "ticktext": [
          "FEB",
          "MAR",
          "ABR",
          "MAY",
          "JUN",
          "JUL",
          "AGO",
          "SEPT",
          "OCT"
         ],
         "tickvals": [
          "02",
          "03",
          "04",
          "05",
          "06",
          "07",
          "08",
          "09",
          "10"
         ]
        },
        "xaxis4": {
         "anchor": "y4",
         "domain": [
          0,
          1
         ],
         "ticktext": [
          "FEB",
          "MAR",
          "ABR",
          "MAY",
          "JUN",
          "JUL",
          "AGO",
          "SEPT",
          "OCT"
         ],
         "tickvals": [
          "02",
          "03",
          "04",
          "05",
          "06",
          "07",
          "08",
          "09",
          "10"
         ]
        },
        "xaxis5": {
         "anchor": "y5",
         "domain": [
          0,
          1
         ],
         "ticktext": [
          "FEB",
          "MAR",
          "ABR",
          "MAY",
          "JUN",
          "JUL",
          "AGO",
          "SEPT",
          "OCT"
         ],
         "tickvals": [
          "02",
          "03",
          "04",
          "05",
          "06",
          "07",
          "08",
          "09",
          "10"
         ]
        },
        "xaxis6": {
         "anchor": "y6",
         "domain": [
          0,
          1
         ],
         "ticktext": [
          "FEB",
          "MAR",
          "ABR",
          "MAY",
          "JUN",
          "JUL",
          "AGO",
          "SEPT",
          "OCT"
         ],
         "tickvals": [
          "02",
          "03",
          "04",
          "05",
          "06",
          "07",
          "08",
          "09",
          "10"
         ]
        },
        "yaxis": {
         "anchor": "x",
         "domain": [
          0.9166666666666666,
          1
         ],
         "gridcolor": "lightgrey",
         "showgrid": true,
         "title": {
          "text": "Número de Alumnos"
         }
        },
        "yaxis2": {
         "anchor": "x2",
         "domain": [
          0.7333333333333334,
          0.8166666666666668
         ],
         "gridcolor": "lightgrey",
         "showgrid": true
        },
        "yaxis3": {
         "anchor": "x3",
         "domain": [
          0.55,
          0.6333333333333334
         ],
         "gridcolor": "lightgrey",
         "showgrid": true
        },
        "yaxis4": {
         "anchor": "x4",
         "domain": [
          0.3666666666666667,
          0.45
         ],
         "gridcolor": "lightgrey",
         "showgrid": true
        },
        "yaxis5": {
         "anchor": "x5",
         "domain": [
          0.18333333333333335,
          0.26666666666666666
         ],
         "gridcolor": "lightgrey",
         "showgrid": true
        },
        "yaxis6": {
         "anchor": "x6",
         "domain": [
          0,
          0.08333333333333333
         ],
         "gridcolor": "lightgrey",
         "showgrid": true
        }
       }
      }
     },
     "metadata": {},
     "output_type": "display_data"
    }
   ],
   "source": [
    "# Crear una lista de las categorías disponibles en el DataFrame\n",
    "categorias = resultados_h['CATEGORIA'].unique()\n",
    "\n",
    "# Crear los subplots, uno por cada categoría\n",
    "fig = make_subplots(\n",
    "    rows=len(categorias), \n",
    "    cols=1, \n",
    "    shared_xaxes=False, \n",
    "    vertical_spacing=0.1,\n",
    "    subplot_titles=[f'Categoría: {cat}' for cat in categorias]\n",
    ")\n",
    "\n",
    "# Colores para los diferentes tipos de datos\n",
    "colores = {'INGRESOS': '#FF9F00', 'EGRESOS': '#C70039', 'PERMANENCIAS': '#FFCC80', 'TOTAL': '#581845'} \n",
    "\n",
    "# Definir etiquetas de meses\n",
    "meses = ['FEB', 'MAR', 'ABR', 'MAY', 'JUN', 'JUL', 'AGO', 'SEPT', 'OCT']\n",
    "\n",
    "for i, cat in enumerate(categorias, start=1):\n",
    "    # Filtrar datos por categoría actual\n",
    "    datos_cat = resultados_h[resultados_h['CATEGORIA'] == cat]\n",
    "\n",
    "    # Gráfico de barras apiladas para Ingresos, Egresos y Permanencias\n",
    "    fig.add_trace(go.Bar(\n",
    "        x=datos_cat['MES'], \n",
    "        y=datos_cat['INGRESOS'], \n",
    "        name='Ingresos',\n",
    "        marker_color=colores['INGRESOS'],\n",
    "        legendgroup=\"movimiento\",  # Agrupar en la misma leyenda\n",
    "        showlegend=(i == 1)  # Mostrar leyenda solo en el primer subplot\n",
    "    ), row=i, col=1)\n",
    "\n",
    "    fig.add_trace(go.Bar(\n",
    "        x=datos_cat['MES'], \n",
    "        y=datos_cat['EGRESOS'], \n",
    "        name='Egresos',\n",
    "        marker_color=colores['EGRESOS'],\n",
    "        legendgroup=\"movimiento\",  # Agrupar en la misma leyenda\n",
    "        showlegend=(i == 1)  # Mostrar leyenda solo en el primer subplot\n",
    "    ), row=i, col=1)\n",
    "\n",
    "    fig.add_trace(go.Bar(\n",
    "        x=datos_cat['MES'], \n",
    "        y=datos_cat['PERMANENCIAS'], \n",
    "        name='Permanencias',\n",
    "        marker_color=colores['PERMANENCIAS'],\n",
    "        legendgroup=\"movimiento\",  # Agrupar en la misma leyenda\n",
    "        showlegend=(i == 1)  # Mostrar leyenda solo en el primer subplot\n",
    "    ), row=i, col=1)\n",
    "\n",
    "    # Línea para el total de alumnos\n",
    "    fig.add_trace(go.Scatter(\n",
    "        x=datos_cat['MES'], \n",
    "        y=datos_cat['TOTAL ALUMNOS'], \n",
    "        mode='lines+markers', \n",
    "        name='Total Alumnos',\n",
    "        line=dict(color=colores['TOTAL'], width=2),\n",
    "        marker=dict(size=6, color=colores['TOTAL']),\n",
    "        legendgroup=\"movimiento\",  # Agrupar en la misma leyenda\n",
    "        showlegend=(i == 1)  # Mostrar leyenda solo en el primer subplot\n",
    "    ), row=i, col=1)\n",
    "    \n",
    "    # Actualizar el eje X de cada subplot con las etiquetas de los meses\n",
    "    fig.update_xaxes(\n",
    "        tickvals=datos_cat['MES'],  # Asegurarnos de que use los valores actuales de 'MES' en cada categoría\n",
    "        ticktext=meses[:len(datos_cat)],  # Etiquetas de meses ajustadas según la longitud de datos\n",
    "        row=i, col=1\n",
    "    )\n",
    "\n",
    "# Configuración de la disposición general\n",
    "fig.update_layout(\n",
    "    title=\"Evolución de Ingresos, Egresos, Permanencias y Total de Alumnos por Categoría\",\n",
    "    barmode='stack',\n",
    "    yaxis_title='Número de Alumnos',\n",
    "    height=300 * len(categorias),  # Ajusta la altura en función del número de categorías\n",
    "    legend_title=\"Tipo de Movimiento\",\n",
    "    hovermode=\"x unified\",\n",
    "    plot_bgcolor=\"white\"\n",
    ")\n",
    "\n",
    "# Personalización de los ejes Y\n",
    "fig.update_yaxes(showgrid=True, gridcolor=\"lightgrey\")\n",
    "\n",
    "# Mostrar el gráfico\n",
    "fig.show()\n",
    "pio.write_html(fig, 'Ingresos_egresos_permanencias_totales.html', auto_open=True)"
   ]
  },
  {
   "cell_type": "markdown",
   "metadata": {},
   "source": [
    "# 4. Comportamiento de Pago por Segmento\n",
    "- Análisis de Cumplimiento de Pagos:\n",
    "    - Graficar la tasa de pagos completos y saldos pendientes por categoría.\n",
    "- Comparativa de Compromiso Financiero:\n",
    "    - Comparar el compromiso financiero de los diferentes grupos demográficos."
   ]
  },
  {
   "cell_type": "code",
   "execution_count": 867,
   "metadata": {},
   "outputs": [],
   "source": [
    "deuda_por_cat_h = pagos_hand_limpio.groupby('CATEGORIA')[['DEUDA']].sum().reset_index()"
   ]
  },
  {
   "cell_type": "code",
   "execution_count": 868,
   "metadata": {},
   "outputs": [
    {
     "data": {
      "application/vnd.plotly.v1+json": {
       "config": {
        "plotlyServerURL": "https://plot.ly"
       },
       "data": [
        {
         "alignmentgroup": "True",
         "hovertemplate": "Categoria=%{x}<br>Deuda=%{y}<extra></extra>",
         "legendgroup": "",
         "marker": {
          "color": "#C70039",
          "pattern": {
           "shape": ""
          }
         },
         "name": "",
         "offsetgroup": "",
         "orientation": "v",
         "showlegend": false,
         "textposition": "auto",
         "type": "bar",
         "x": [
          "Cadetes",
          "Infantil",
          "Juveniles",
          "Menores",
          "Mini",
          "Primera"
         ],
         "xaxis": "x",
         "y": [
          46500,
          112750,
          86400,
          27000,
          82500,
          323000
         ],
         "yaxis": "y"
        }
       ],
       "layout": {
        "barmode": "group",
        "hovermode": "x unified",
        "legend": {
         "tracegroupgap": 0
        },
        "plot_bgcolor": "white",
        "template": {
         "data": {
          "bar": [
           {
            "error_x": {
             "color": "#2a3f5f"
            },
            "error_y": {
             "color": "#2a3f5f"
            },
            "marker": {
             "line": {
              "color": "#E5ECF6",
              "width": 0.5
             },
             "pattern": {
              "fillmode": "overlay",
              "size": 10,
              "solidity": 0.2
             }
            },
            "type": "bar"
           }
          ],
          "barpolar": [
           {
            "marker": {
             "line": {
              "color": "#E5ECF6",
              "width": 0.5
             },
             "pattern": {
              "fillmode": "overlay",
              "size": 10,
              "solidity": 0.2
             }
            },
            "type": "barpolar"
           }
          ],
          "carpet": [
           {
            "aaxis": {
             "endlinecolor": "#2a3f5f",
             "gridcolor": "white",
             "linecolor": "white",
             "minorgridcolor": "white",
             "startlinecolor": "#2a3f5f"
            },
            "baxis": {
             "endlinecolor": "#2a3f5f",
             "gridcolor": "white",
             "linecolor": "white",
             "minorgridcolor": "white",
             "startlinecolor": "#2a3f5f"
            },
            "type": "carpet"
           }
          ],
          "choropleth": [
           {
            "colorbar": {
             "outlinewidth": 0,
             "ticks": ""
            },
            "type": "choropleth"
           }
          ],
          "contour": [
           {
            "colorbar": {
             "outlinewidth": 0,
             "ticks": ""
            },
            "colorscale": [
             [
              0,
              "#0d0887"
             ],
             [
              0.1111111111111111,
              "#46039f"
             ],
             [
              0.2222222222222222,
              "#7201a8"
             ],
             [
              0.3333333333333333,
              "#9c179e"
             ],
             [
              0.4444444444444444,
              "#bd3786"
             ],
             [
              0.5555555555555556,
              "#d8576b"
             ],
             [
              0.6666666666666666,
              "#ed7953"
             ],
             [
              0.7777777777777778,
              "#fb9f3a"
             ],
             [
              0.8888888888888888,
              "#fdca26"
             ],
             [
              1,
              "#f0f921"
             ]
            ],
            "type": "contour"
           }
          ],
          "contourcarpet": [
           {
            "colorbar": {
             "outlinewidth": 0,
             "ticks": ""
            },
            "type": "contourcarpet"
           }
          ],
          "heatmap": [
           {
            "colorbar": {
             "outlinewidth": 0,
             "ticks": ""
            },
            "colorscale": [
             [
              0,
              "#0d0887"
             ],
             [
              0.1111111111111111,
              "#46039f"
             ],
             [
              0.2222222222222222,
              "#7201a8"
             ],
             [
              0.3333333333333333,
              "#9c179e"
             ],
             [
              0.4444444444444444,
              "#bd3786"
             ],
             [
              0.5555555555555556,
              "#d8576b"
             ],
             [
              0.6666666666666666,
              "#ed7953"
             ],
             [
              0.7777777777777778,
              "#fb9f3a"
             ],
             [
              0.8888888888888888,
              "#fdca26"
             ],
             [
              1,
              "#f0f921"
             ]
            ],
            "type": "heatmap"
           }
          ],
          "heatmapgl": [
           {
            "colorbar": {
             "outlinewidth": 0,
             "ticks": ""
            },
            "colorscale": [
             [
              0,
              "#0d0887"
             ],
             [
              0.1111111111111111,
              "#46039f"
             ],
             [
              0.2222222222222222,
              "#7201a8"
             ],
             [
              0.3333333333333333,
              "#9c179e"
             ],
             [
              0.4444444444444444,
              "#bd3786"
             ],
             [
              0.5555555555555556,
              "#d8576b"
             ],
             [
              0.6666666666666666,
              "#ed7953"
             ],
             [
              0.7777777777777778,
              "#fb9f3a"
             ],
             [
              0.8888888888888888,
              "#fdca26"
             ],
             [
              1,
              "#f0f921"
             ]
            ],
            "type": "heatmapgl"
           }
          ],
          "histogram": [
           {
            "marker": {
             "pattern": {
              "fillmode": "overlay",
              "size": 10,
              "solidity": 0.2
             }
            },
            "type": "histogram"
           }
          ],
          "histogram2d": [
           {
            "colorbar": {
             "outlinewidth": 0,
             "ticks": ""
            },
            "colorscale": [
             [
              0,
              "#0d0887"
             ],
             [
              0.1111111111111111,
              "#46039f"
             ],
             [
              0.2222222222222222,
              "#7201a8"
             ],
             [
              0.3333333333333333,
              "#9c179e"
             ],
             [
              0.4444444444444444,
              "#bd3786"
             ],
             [
              0.5555555555555556,
              "#d8576b"
             ],
             [
              0.6666666666666666,
              "#ed7953"
             ],
             [
              0.7777777777777778,
              "#fb9f3a"
             ],
             [
              0.8888888888888888,
              "#fdca26"
             ],
             [
              1,
              "#f0f921"
             ]
            ],
            "type": "histogram2d"
           }
          ],
          "histogram2dcontour": [
           {
            "colorbar": {
             "outlinewidth": 0,
             "ticks": ""
            },
            "colorscale": [
             [
              0,
              "#0d0887"
             ],
             [
              0.1111111111111111,
              "#46039f"
             ],
             [
              0.2222222222222222,
              "#7201a8"
             ],
             [
              0.3333333333333333,
              "#9c179e"
             ],
             [
              0.4444444444444444,
              "#bd3786"
             ],
             [
              0.5555555555555556,
              "#d8576b"
             ],
             [
              0.6666666666666666,
              "#ed7953"
             ],
             [
              0.7777777777777778,
              "#fb9f3a"
             ],
             [
              0.8888888888888888,
              "#fdca26"
             ],
             [
              1,
              "#f0f921"
             ]
            ],
            "type": "histogram2dcontour"
           }
          ],
          "mesh3d": [
           {
            "colorbar": {
             "outlinewidth": 0,
             "ticks": ""
            },
            "type": "mesh3d"
           }
          ],
          "parcoords": [
           {
            "line": {
             "colorbar": {
              "outlinewidth": 0,
              "ticks": ""
             }
            },
            "type": "parcoords"
           }
          ],
          "pie": [
           {
            "automargin": true,
            "type": "pie"
           }
          ],
          "scatter": [
           {
            "fillpattern": {
             "fillmode": "overlay",
             "size": 10,
             "solidity": 0.2
            },
            "type": "scatter"
           }
          ],
          "scatter3d": [
           {
            "line": {
             "colorbar": {
              "outlinewidth": 0,
              "ticks": ""
             }
            },
            "marker": {
             "colorbar": {
              "outlinewidth": 0,
              "ticks": ""
             }
            },
            "type": "scatter3d"
           }
          ],
          "scattercarpet": [
           {
            "marker": {
             "colorbar": {
              "outlinewidth": 0,
              "ticks": ""
             }
            },
            "type": "scattercarpet"
           }
          ],
          "scattergeo": [
           {
            "marker": {
             "colorbar": {
              "outlinewidth": 0,
              "ticks": ""
             }
            },
            "type": "scattergeo"
           }
          ],
          "scattergl": [
           {
            "marker": {
             "colorbar": {
              "outlinewidth": 0,
              "ticks": ""
             }
            },
            "type": "scattergl"
           }
          ],
          "scattermapbox": [
           {
            "marker": {
             "colorbar": {
              "outlinewidth": 0,
              "ticks": ""
             }
            },
            "type": "scattermapbox"
           }
          ],
          "scatterpolar": [
           {
            "marker": {
             "colorbar": {
              "outlinewidth": 0,
              "ticks": ""
             }
            },
            "type": "scatterpolar"
           }
          ],
          "scatterpolargl": [
           {
            "marker": {
             "colorbar": {
              "outlinewidth": 0,
              "ticks": ""
             }
            },
            "type": "scatterpolargl"
           }
          ],
          "scatterternary": [
           {
            "marker": {
             "colorbar": {
              "outlinewidth": 0,
              "ticks": ""
             }
            },
            "type": "scatterternary"
           }
          ],
          "surface": [
           {
            "colorbar": {
             "outlinewidth": 0,
             "ticks": ""
            },
            "colorscale": [
             [
              0,
              "#0d0887"
             ],
             [
              0.1111111111111111,
              "#46039f"
             ],
             [
              0.2222222222222222,
              "#7201a8"
             ],
             [
              0.3333333333333333,
              "#9c179e"
             ],
             [
              0.4444444444444444,
              "#bd3786"
             ],
             [
              0.5555555555555556,
              "#d8576b"
             ],
             [
              0.6666666666666666,
              "#ed7953"
             ],
             [
              0.7777777777777778,
              "#fb9f3a"
             ],
             [
              0.8888888888888888,
              "#fdca26"
             ],
             [
              1,
              "#f0f921"
             ]
            ],
            "type": "surface"
           }
          ],
          "table": [
           {
            "cells": {
             "fill": {
              "color": "#EBF0F8"
             },
             "line": {
              "color": "white"
             }
            },
            "header": {
             "fill": {
              "color": "#C8D4E3"
             },
             "line": {
              "color": "white"
             }
            },
            "type": "table"
           }
          ]
         },
         "layout": {
          "annotationdefaults": {
           "arrowcolor": "#2a3f5f",
           "arrowhead": 0,
           "arrowwidth": 1
          },
          "autotypenumbers": "strict",
          "coloraxis": {
           "colorbar": {
            "outlinewidth": 0,
            "ticks": ""
           }
          },
          "colorscale": {
           "diverging": [
            [
             0,
             "#8e0152"
            ],
            [
             0.1,
             "#c51b7d"
            ],
            [
             0.2,
             "#de77ae"
            ],
            [
             0.3,
             "#f1b6da"
            ],
            [
             0.4,
             "#fde0ef"
            ],
            [
             0.5,
             "#f7f7f7"
            ],
            [
             0.6,
             "#e6f5d0"
            ],
            [
             0.7,
             "#b8e186"
            ],
            [
             0.8,
             "#7fbc41"
            ],
            [
             0.9,
             "#4d9221"
            ],
            [
             1,
             "#276419"
            ]
           ],
           "sequential": [
            [
             0,
             "#0d0887"
            ],
            [
             0.1111111111111111,
             "#46039f"
            ],
            [
             0.2222222222222222,
             "#7201a8"
            ],
            [
             0.3333333333333333,
             "#9c179e"
            ],
            [
             0.4444444444444444,
             "#bd3786"
            ],
            [
             0.5555555555555556,
             "#d8576b"
            ],
            [
             0.6666666666666666,
             "#ed7953"
            ],
            [
             0.7777777777777778,
             "#fb9f3a"
            ],
            [
             0.8888888888888888,
             "#fdca26"
            ],
            [
             1,
             "#f0f921"
            ]
           ],
           "sequentialminus": [
            [
             0,
             "#0d0887"
            ],
            [
             0.1111111111111111,
             "#46039f"
            ],
            [
             0.2222222222222222,
             "#7201a8"
            ],
            [
             0.3333333333333333,
             "#9c179e"
            ],
            [
             0.4444444444444444,
             "#bd3786"
            ],
            [
             0.5555555555555556,
             "#d8576b"
            ],
            [
             0.6666666666666666,
             "#ed7953"
            ],
            [
             0.7777777777777778,
             "#fb9f3a"
            ],
            [
             0.8888888888888888,
             "#fdca26"
            ],
            [
             1,
             "#f0f921"
            ]
           ]
          },
          "colorway": [
           "#636efa",
           "#EF553B",
           "#00cc96",
           "#ab63fa",
           "#FFA15A",
           "#19d3f3",
           "#FF6692",
           "#B6E880",
           "#FF97FF",
           "#FECB52"
          ],
          "font": {
           "color": "#2a3f5f"
          },
          "geo": {
           "bgcolor": "white",
           "lakecolor": "white",
           "landcolor": "#E5ECF6",
           "showlakes": true,
           "showland": true,
           "subunitcolor": "white"
          },
          "hoverlabel": {
           "align": "left"
          },
          "hovermode": "closest",
          "mapbox": {
           "style": "light"
          },
          "paper_bgcolor": "white",
          "plot_bgcolor": "#E5ECF6",
          "polar": {
           "angularaxis": {
            "gridcolor": "white",
            "linecolor": "white",
            "ticks": ""
           },
           "bgcolor": "#E5ECF6",
           "radialaxis": {
            "gridcolor": "white",
            "linecolor": "white",
            "ticks": ""
           }
          },
          "scene": {
           "xaxis": {
            "backgroundcolor": "#E5ECF6",
            "gridcolor": "white",
            "gridwidth": 2,
            "linecolor": "white",
            "showbackground": true,
            "ticks": "",
            "zerolinecolor": "white"
           },
           "yaxis": {
            "backgroundcolor": "#E5ECF6",
            "gridcolor": "white",
            "gridwidth": 2,
            "linecolor": "white",
            "showbackground": true,
            "ticks": "",
            "zerolinecolor": "white"
           },
           "zaxis": {
            "backgroundcolor": "#E5ECF6",
            "gridcolor": "white",
            "gridwidth": 2,
            "linecolor": "white",
            "showbackground": true,
            "ticks": "",
            "zerolinecolor": "white"
           }
          },
          "shapedefaults": {
           "line": {
            "color": "#2a3f5f"
           }
          },
          "ternary": {
           "aaxis": {
            "gridcolor": "white",
            "linecolor": "white",
            "ticks": ""
           },
           "baxis": {
            "gridcolor": "white",
            "linecolor": "white",
            "ticks": ""
           },
           "bgcolor": "#E5ECF6",
           "caxis": {
            "gridcolor": "white",
            "linecolor": "white",
            "ticks": ""
           }
          },
          "title": {
           "x": 0.05
          },
          "xaxis": {
           "automargin": true,
           "gridcolor": "white",
           "linecolor": "white",
           "ticks": "",
           "title": {
            "standoff": 15
           },
           "zerolinecolor": "white",
           "zerolinewidth": 2
          },
          "yaxis": {
           "automargin": true,
           "gridcolor": "white",
           "linecolor": "white",
           "ticks": "",
           "title": {
            "standoff": 15
           },
           "zerolinecolor": "white",
           "zerolinewidth": 2
          }
         }
        },
        "title": {
         "text": "Deudas por categoria"
        },
        "xaxis": {
         "anchor": "y",
         "domain": [
          0,
          1
         ],
         "title": {
          "text": "Categoria"
         }
        },
        "yaxis": {
         "anchor": "x",
         "domain": [
          0,
          1
         ],
         "title": {
          "text": "Deuda"
         }
        }
       }
      }
     },
     "metadata": {},
     "output_type": "display_data"
    }
   ],
   "source": [
    "# Crear el gráfico de barras\n",
    "fig = px.bar(deuda_por_cat_h, \n",
    "             x='CATEGORIA', \n",
    "             y='DEUDA', \n",
    "             barmode='group',\n",
    "             title='Deudas por categoria',\n",
    "             labels={'CATEGORIA': 'Categoria', 'DEUDA': 'Deuda'})\n",
    "\n",
    "# Actualizar el diseño del gráfico\n",
    "fig.update_layout(\n",
    "    xaxis_title=\"Categoria\",\n",
    "    yaxis_title=\"Deuda\",\n",
    "    plot_bgcolor='white',\n",
    "    hovermode='x unified'\n",
    ")\n",
    "\n",
    "# Cambiar el color de las barras\n",
    "fig.update_traces(marker_color='#C70039')  # Establecer el color de las barras\n",
    "\n",
    "# Mostrar el gráfico\n",
    "fig.show()\n",
    "pio.write_html(fig, 'Deudas_por_cat.html', auto_open=True)"
   ]
  },
  {
   "cell_type": "code",
   "execution_count": 869,
   "metadata": {},
   "outputs": [],
   "source": [
    "pagos_hand = pagos_hand_limpio.copy()"
   ]
  },
  {
   "cell_type": "code",
   "execution_count": 870,
   "metadata": {},
   "outputs": [
    {
     "name": "stderr",
     "output_type": "stream",
     "text": [
      "C:\\Users\\emita\\AppData\\Local\\Temp\\ipykernel_23804\\711886715.py:20: FutureWarning:\n",
      "\n",
      "Downcasting behavior in `replace` is deprecated and will be removed in a future version. To retain the old behavior, explicitly call `result.infer_objects(copy=False)`. To opt-in to the future behavior, set `pd.set_option('future.no_silent_downcasting', True)`\n",
      "\n",
      "C:\\Users\\emita\\AppData\\Local\\Temp\\ipykernel_23804\\711886715.py:20: FutureWarning:\n",
      "\n",
      "Downcasting behavior in `replace` is deprecated and will be removed in a future version. To retain the old behavior, explicitly call `result.infer_objects(copy=False)`. To opt-in to the future behavior, set `pd.set_option('future.no_silent_downcasting', True)`\n",
      "\n",
      "C:\\Users\\emita\\AppData\\Local\\Temp\\ipykernel_23804\\711886715.py:20: FutureWarning:\n",
      "\n",
      "Downcasting behavior in `replace` is deprecated and will be removed in a future version. To retain the old behavior, explicitly call `result.infer_objects(copy=False)`. To opt-in to the future behavior, set `pd.set_option('future.no_silent_downcasting', True)`\n",
      "\n",
      "C:\\Users\\emita\\AppData\\Local\\Temp\\ipykernel_23804\\711886715.py:20: FutureWarning:\n",
      "\n",
      "Downcasting behavior in `replace` is deprecated and will be removed in a future version. To retain the old behavior, explicitly call `result.infer_objects(copy=False)`. To opt-in to the future behavior, set `pd.set_option('future.no_silent_downcasting', True)`\n",
      "\n",
      "C:\\Users\\emita\\AppData\\Local\\Temp\\ipykernel_23804\\711886715.py:20: FutureWarning:\n",
      "\n",
      "Downcasting behavior in `replace` is deprecated and will be removed in a future version. To retain the old behavior, explicitly call `result.infer_objects(copy=False)`. To opt-in to the future behavior, set `pd.set_option('future.no_silent_downcasting', True)`\n",
      "\n",
      "C:\\Users\\emita\\AppData\\Local\\Temp\\ipykernel_23804\\711886715.py:20: FutureWarning:\n",
      "\n",
      "Downcasting behavior in `replace` is deprecated and will be removed in a future version. To retain the old behavior, explicitly call `result.infer_objects(copy=False)`. To opt-in to the future behavior, set `pd.set_option('future.no_silent_downcasting', True)`\n",
      "\n",
      "C:\\Users\\emita\\AppData\\Local\\Temp\\ipykernel_23804\\711886715.py:20: FutureWarning:\n",
      "\n",
      "Downcasting behavior in `replace` is deprecated and will be removed in a future version. To retain the old behavior, explicitly call `result.infer_objects(copy=False)`. To opt-in to the future behavior, set `pd.set_option('future.no_silent_downcasting', True)`\n",
      "\n",
      "C:\\Users\\emita\\AppData\\Local\\Temp\\ipykernel_23804\\711886715.py:20: FutureWarning:\n",
      "\n",
      "Downcasting behavior in `replace` is deprecated and will be removed in a future version. To retain the old behavior, explicitly call `result.infer_objects(copy=False)`. To opt-in to the future behavior, set `pd.set_option('future.no_silent_downcasting', True)`\n",
      "\n",
      "C:\\Users\\emita\\AppData\\Local\\Temp\\ipykernel_23804\\711886715.py:20: FutureWarning:\n",
      "\n",
      "Downcasting behavior in `replace` is deprecated and will be removed in a future version. To retain the old behavior, explicitly call `result.infer_objects(copy=False)`. To opt-in to the future behavior, set `pd.set_option('future.no_silent_downcasting', True)`\n",
      "\n"
     ]
    },
    {
     "data": {
      "application/vnd.plotly.v1+json": {
       "config": {
        "plotlyServerURL": "https://plot.ly"
       },
       "data": [
        {
         "marker": {
          "color": "#FFF700"
         },
         "name": "Cadetes",
         "type": "bar",
         "x": [
          "Cadetes"
         ],
         "y": [
          0.9235119047619048
         ]
        },
        {
         "marker": {
          "color": "#FFC300"
         },
         "name": "Infantil",
         "type": "bar",
         "x": [
          "Infantil"
         ],
         "y": [
          0.9425661375661376
         ]
        },
        {
         "marker": {
          "color": "#FF5733"
         },
         "name": "Juveniles",
         "type": "bar",
         "x": [
          "Juveniles"
         ],
         "y": [
          0.9236904761904763
         ]
        },
        {
         "marker": {
          "color": "#C70039"
         },
         "name": "Menores",
         "type": "bar",
         "x": [
          "Menores"
         ],
         "y": [
          0.9933166248955723
         ]
        },
        {
         "marker": {
          "color": "#900C3F"
         },
         "name": "Mini",
         "type": "bar",
         "x": [
          "Mini"
         ],
         "y": [
          0.9423754789272031
         ]
        },
        {
         "marker": {
          "color": "#581845"
         },
         "name": "Primera",
         "type": "bar",
         "x": [
          "Primera"
         ],
         "y": [
          0.8906940836940838
         ]
        },
        {
         "line": {
          "color": "red",
          "dash": "dash",
          "width": 1
         },
         "mode": "lines",
         "name": "85% Compromiso Financiero",
         "type": "scatter",
         "x": [
          "Cadetes",
          "Primera"
         ],
         "y": [
          0.85,
          0.85
         ]
        },
        {
         "line": {
          "color": "black",
          "dash": "dash",
          "width": 1
         },
         "mode": "lines",
         "name": "100% Compromiso Financiero",
         "type": "scatter",
         "x": [
          "Cadetes",
          "Primera"
         ],
         "y": [
          1,
          1
         ]
        }
       ],
       "layout": {
        "legend": {
         "bgcolor": "white",
         "bordercolor": "black",
         "borderwidth": 1,
         "font": {
          "size": 12
         },
         "title": {
          "text": "Compromiso Financiero"
         },
         "traceorder": "normal",
         "x": 1,
         "y": 1
        },
        "plot_bgcolor": "white",
        "showlegend": true,
        "template": {
         "data": {
          "bar": [
           {
            "error_x": {
             "color": "#2a3f5f"
            },
            "error_y": {
             "color": "#2a3f5f"
            },
            "marker": {
             "line": {
              "color": "#E5ECF6",
              "width": 0.5
             },
             "pattern": {
              "fillmode": "overlay",
              "size": 10,
              "solidity": 0.2
             }
            },
            "type": "bar"
           }
          ],
          "barpolar": [
           {
            "marker": {
             "line": {
              "color": "#E5ECF6",
              "width": 0.5
             },
             "pattern": {
              "fillmode": "overlay",
              "size": 10,
              "solidity": 0.2
             }
            },
            "type": "barpolar"
           }
          ],
          "carpet": [
           {
            "aaxis": {
             "endlinecolor": "#2a3f5f",
             "gridcolor": "white",
             "linecolor": "white",
             "minorgridcolor": "white",
             "startlinecolor": "#2a3f5f"
            },
            "baxis": {
             "endlinecolor": "#2a3f5f",
             "gridcolor": "white",
             "linecolor": "white",
             "minorgridcolor": "white",
             "startlinecolor": "#2a3f5f"
            },
            "type": "carpet"
           }
          ],
          "choropleth": [
           {
            "colorbar": {
             "outlinewidth": 0,
             "ticks": ""
            },
            "type": "choropleth"
           }
          ],
          "contour": [
           {
            "colorbar": {
             "outlinewidth": 0,
             "ticks": ""
            },
            "colorscale": [
             [
              0,
              "#0d0887"
             ],
             [
              0.1111111111111111,
              "#46039f"
             ],
             [
              0.2222222222222222,
              "#7201a8"
             ],
             [
              0.3333333333333333,
              "#9c179e"
             ],
             [
              0.4444444444444444,
              "#bd3786"
             ],
             [
              0.5555555555555556,
              "#d8576b"
             ],
             [
              0.6666666666666666,
              "#ed7953"
             ],
             [
              0.7777777777777778,
              "#fb9f3a"
             ],
             [
              0.8888888888888888,
              "#fdca26"
             ],
             [
              1,
              "#f0f921"
             ]
            ],
            "type": "contour"
           }
          ],
          "contourcarpet": [
           {
            "colorbar": {
             "outlinewidth": 0,
             "ticks": ""
            },
            "type": "contourcarpet"
           }
          ],
          "heatmap": [
           {
            "colorbar": {
             "outlinewidth": 0,
             "ticks": ""
            },
            "colorscale": [
             [
              0,
              "#0d0887"
             ],
             [
              0.1111111111111111,
              "#46039f"
             ],
             [
              0.2222222222222222,
              "#7201a8"
             ],
             [
              0.3333333333333333,
              "#9c179e"
             ],
             [
              0.4444444444444444,
              "#bd3786"
             ],
             [
              0.5555555555555556,
              "#d8576b"
             ],
             [
              0.6666666666666666,
              "#ed7953"
             ],
             [
              0.7777777777777778,
              "#fb9f3a"
             ],
             [
              0.8888888888888888,
              "#fdca26"
             ],
             [
              1,
              "#f0f921"
             ]
            ],
            "type": "heatmap"
           }
          ],
          "heatmapgl": [
           {
            "colorbar": {
             "outlinewidth": 0,
             "ticks": ""
            },
            "colorscale": [
             [
              0,
              "#0d0887"
             ],
             [
              0.1111111111111111,
              "#46039f"
             ],
             [
              0.2222222222222222,
              "#7201a8"
             ],
             [
              0.3333333333333333,
              "#9c179e"
             ],
             [
              0.4444444444444444,
              "#bd3786"
             ],
             [
              0.5555555555555556,
              "#d8576b"
             ],
             [
              0.6666666666666666,
              "#ed7953"
             ],
             [
              0.7777777777777778,
              "#fb9f3a"
             ],
             [
              0.8888888888888888,
              "#fdca26"
             ],
             [
              1,
              "#f0f921"
             ]
            ],
            "type": "heatmapgl"
           }
          ],
          "histogram": [
           {
            "marker": {
             "pattern": {
              "fillmode": "overlay",
              "size": 10,
              "solidity": 0.2
             }
            },
            "type": "histogram"
           }
          ],
          "histogram2d": [
           {
            "colorbar": {
             "outlinewidth": 0,
             "ticks": ""
            },
            "colorscale": [
             [
              0,
              "#0d0887"
             ],
             [
              0.1111111111111111,
              "#46039f"
             ],
             [
              0.2222222222222222,
              "#7201a8"
             ],
             [
              0.3333333333333333,
              "#9c179e"
             ],
             [
              0.4444444444444444,
              "#bd3786"
             ],
             [
              0.5555555555555556,
              "#d8576b"
             ],
             [
              0.6666666666666666,
              "#ed7953"
             ],
             [
              0.7777777777777778,
              "#fb9f3a"
             ],
             [
              0.8888888888888888,
              "#fdca26"
             ],
             [
              1,
              "#f0f921"
             ]
            ],
            "type": "histogram2d"
           }
          ],
          "histogram2dcontour": [
           {
            "colorbar": {
             "outlinewidth": 0,
             "ticks": ""
            },
            "colorscale": [
             [
              0,
              "#0d0887"
             ],
             [
              0.1111111111111111,
              "#46039f"
             ],
             [
              0.2222222222222222,
              "#7201a8"
             ],
             [
              0.3333333333333333,
              "#9c179e"
             ],
             [
              0.4444444444444444,
              "#bd3786"
             ],
             [
              0.5555555555555556,
              "#d8576b"
             ],
             [
              0.6666666666666666,
              "#ed7953"
             ],
             [
              0.7777777777777778,
              "#fb9f3a"
             ],
             [
              0.8888888888888888,
              "#fdca26"
             ],
             [
              1,
              "#f0f921"
             ]
            ],
            "type": "histogram2dcontour"
           }
          ],
          "mesh3d": [
           {
            "colorbar": {
             "outlinewidth": 0,
             "ticks": ""
            },
            "type": "mesh3d"
           }
          ],
          "parcoords": [
           {
            "line": {
             "colorbar": {
              "outlinewidth": 0,
              "ticks": ""
             }
            },
            "type": "parcoords"
           }
          ],
          "pie": [
           {
            "automargin": true,
            "type": "pie"
           }
          ],
          "scatter": [
           {
            "fillpattern": {
             "fillmode": "overlay",
             "size": 10,
             "solidity": 0.2
            },
            "type": "scatter"
           }
          ],
          "scatter3d": [
           {
            "line": {
             "colorbar": {
              "outlinewidth": 0,
              "ticks": ""
             }
            },
            "marker": {
             "colorbar": {
              "outlinewidth": 0,
              "ticks": ""
             }
            },
            "type": "scatter3d"
           }
          ],
          "scattercarpet": [
           {
            "marker": {
             "colorbar": {
              "outlinewidth": 0,
              "ticks": ""
             }
            },
            "type": "scattercarpet"
           }
          ],
          "scattergeo": [
           {
            "marker": {
             "colorbar": {
              "outlinewidth": 0,
              "ticks": ""
             }
            },
            "type": "scattergeo"
           }
          ],
          "scattergl": [
           {
            "marker": {
             "colorbar": {
              "outlinewidth": 0,
              "ticks": ""
             }
            },
            "type": "scattergl"
           }
          ],
          "scattermapbox": [
           {
            "marker": {
             "colorbar": {
              "outlinewidth": 0,
              "ticks": ""
             }
            },
            "type": "scattermapbox"
           }
          ],
          "scatterpolar": [
           {
            "marker": {
             "colorbar": {
              "outlinewidth": 0,
              "ticks": ""
             }
            },
            "type": "scatterpolar"
           }
          ],
          "scatterpolargl": [
           {
            "marker": {
             "colorbar": {
              "outlinewidth": 0,
              "ticks": ""
             }
            },
            "type": "scatterpolargl"
           }
          ],
          "scatterternary": [
           {
            "marker": {
             "colorbar": {
              "outlinewidth": 0,
              "ticks": ""
             }
            },
            "type": "scatterternary"
           }
          ],
          "surface": [
           {
            "colorbar": {
             "outlinewidth": 0,
             "ticks": ""
            },
            "colorscale": [
             [
              0,
              "#0d0887"
             ],
             [
              0.1111111111111111,
              "#46039f"
             ],
             [
              0.2222222222222222,
              "#7201a8"
             ],
             [
              0.3333333333333333,
              "#9c179e"
             ],
             [
              0.4444444444444444,
              "#bd3786"
             ],
             [
              0.5555555555555556,
              "#d8576b"
             ],
             [
              0.6666666666666666,
              "#ed7953"
             ],
             [
              0.7777777777777778,
              "#fb9f3a"
             ],
             [
              0.8888888888888888,
              "#fdca26"
             ],
             [
              1,
              "#f0f921"
             ]
            ],
            "type": "surface"
           }
          ],
          "table": [
           {
            "cells": {
             "fill": {
              "color": "#EBF0F8"
             },
             "line": {
              "color": "white"
             }
            },
            "header": {
             "fill": {
              "color": "#C8D4E3"
             },
             "line": {
              "color": "white"
             }
            },
            "type": "table"
           }
          ]
         },
         "layout": {
          "annotationdefaults": {
           "arrowcolor": "#2a3f5f",
           "arrowhead": 0,
           "arrowwidth": 1
          },
          "autotypenumbers": "strict",
          "coloraxis": {
           "colorbar": {
            "outlinewidth": 0,
            "ticks": ""
           }
          },
          "colorscale": {
           "diverging": [
            [
             0,
             "#8e0152"
            ],
            [
             0.1,
             "#c51b7d"
            ],
            [
             0.2,
             "#de77ae"
            ],
            [
             0.3,
             "#f1b6da"
            ],
            [
             0.4,
             "#fde0ef"
            ],
            [
             0.5,
             "#f7f7f7"
            ],
            [
             0.6,
             "#e6f5d0"
            ],
            [
             0.7,
             "#b8e186"
            ],
            [
             0.8,
             "#7fbc41"
            ],
            [
             0.9,
             "#4d9221"
            ],
            [
             1,
             "#276419"
            ]
           ],
           "sequential": [
            [
             0,
             "#0d0887"
            ],
            [
             0.1111111111111111,
             "#46039f"
            ],
            [
             0.2222222222222222,
             "#7201a8"
            ],
            [
             0.3333333333333333,
             "#9c179e"
            ],
            [
             0.4444444444444444,
             "#bd3786"
            ],
            [
             0.5555555555555556,
             "#d8576b"
            ],
            [
             0.6666666666666666,
             "#ed7953"
            ],
            [
             0.7777777777777778,
             "#fb9f3a"
            ],
            [
             0.8888888888888888,
             "#fdca26"
            ],
            [
             1,
             "#f0f921"
            ]
           ],
           "sequentialminus": [
            [
             0,
             "#0d0887"
            ],
            [
             0.1111111111111111,
             "#46039f"
            ],
            [
             0.2222222222222222,
             "#7201a8"
            ],
            [
             0.3333333333333333,
             "#9c179e"
            ],
            [
             0.4444444444444444,
             "#bd3786"
            ],
            [
             0.5555555555555556,
             "#d8576b"
            ],
            [
             0.6666666666666666,
             "#ed7953"
            ],
            [
             0.7777777777777778,
             "#fb9f3a"
            ],
            [
             0.8888888888888888,
             "#fdca26"
            ],
            [
             1,
             "#f0f921"
            ]
           ]
          },
          "colorway": [
           "#636efa",
           "#EF553B",
           "#00cc96",
           "#ab63fa",
           "#FFA15A",
           "#19d3f3",
           "#FF6692",
           "#B6E880",
           "#FF97FF",
           "#FECB52"
          ],
          "font": {
           "color": "#2a3f5f"
          },
          "geo": {
           "bgcolor": "white",
           "lakecolor": "white",
           "landcolor": "#E5ECF6",
           "showlakes": true,
           "showland": true,
           "subunitcolor": "white"
          },
          "hoverlabel": {
           "align": "left"
          },
          "hovermode": "closest",
          "mapbox": {
           "style": "light"
          },
          "paper_bgcolor": "white",
          "plot_bgcolor": "#E5ECF6",
          "polar": {
           "angularaxis": {
            "gridcolor": "white",
            "linecolor": "white",
            "ticks": ""
           },
           "bgcolor": "#E5ECF6",
           "radialaxis": {
            "gridcolor": "white",
            "linecolor": "white",
            "ticks": ""
           }
          },
          "scene": {
           "xaxis": {
            "backgroundcolor": "#E5ECF6",
            "gridcolor": "white",
            "gridwidth": 2,
            "linecolor": "white",
            "showbackground": true,
            "ticks": "",
            "zerolinecolor": "white"
           },
           "yaxis": {
            "backgroundcolor": "#E5ECF6",
            "gridcolor": "white",
            "gridwidth": 2,
            "linecolor": "white",
            "showbackground": true,
            "ticks": "",
            "zerolinecolor": "white"
           },
           "zaxis": {
            "backgroundcolor": "#E5ECF6",
            "gridcolor": "white",
            "gridwidth": 2,
            "linecolor": "white",
            "showbackground": true,
            "ticks": "",
            "zerolinecolor": "white"
           }
          },
          "shapedefaults": {
           "line": {
            "color": "#2a3f5f"
           }
          },
          "ternary": {
           "aaxis": {
            "gridcolor": "white",
            "linecolor": "white",
            "ticks": ""
           },
           "baxis": {
            "gridcolor": "white",
            "linecolor": "white",
            "ticks": ""
           },
           "bgcolor": "#E5ECF6",
           "caxis": {
            "gridcolor": "white",
            "linecolor": "white",
            "ticks": ""
           }
          },
          "title": {
           "x": 0.05
          },
          "xaxis": {
           "automargin": true,
           "gridcolor": "white",
           "linecolor": "white",
           "ticks": "",
           "title": {
            "standoff": 15
           },
           "zerolinecolor": "white",
           "zerolinewidth": 2
          },
          "yaxis": {
           "automargin": true,
           "gridcolor": "white",
           "linecolor": "white",
           "ticks": "",
           "title": {
            "standoff": 15
           },
           "zerolinecolor": "white",
           "zerolinewidth": 2
          }
         }
        },
        "title": {
         "text": "Tasa de Pagos Completos por Categoría"
        },
        "xaxis": {
         "title": {
          "text": "Categoría"
         }
        },
        "yaxis": {
         "range": [
          0,
          1.05
         ],
         "title": {
          "text": "Tasa de Pagos Completos"
         }
        }
       }
      }
     },
     "metadata": {},
     "output_type": "display_data"
    }
   ],
   "source": [
    "payment_mapping = {\n",
    "    'X': 1,\n",
    "    'No inscripto': np.nan,  \n",
    "    'Beca': np.nan,          \n",
    "    'No entreno': np.nan,     \n",
    "    'Baja': np.nan,           \n",
    "    'Lesion': np.nan,         \n",
    "    13500: 0,\n",
    "    12500: 0,\n",
    "    7200: 0.43,\n",
    "    3600: 0.77,\n",
    "    9000: 0.28,\n",
    "    10500: 0.16,\n",
    "    6750: 0.56,\n",
    "    1800: 0.85\n",
    "}\n",
    "\n",
    "# Aplicar el mapeo de pagos a cada columna de mes\n",
    "for month in ['FEB', 'MAR', 'ABR', 'MAY', 'JUN', 'JUL', 'AGO', 'SEPT', 'OCT']:\n",
    "    pagos_hand[month] = pagos_hand[month].replace(payment_mapping).astype(float)\n",
    "\n",
    "# Calcular la tasa de pagos completos\n",
    "pagos_hand['TASA_PAGOS'] = pagos_hand[['FEB', 'MAR', 'ABR', 'MAY', 'JUN', 'JUL', 'AGO', 'SEPT', 'OCT']].mean(axis=1)\n",
    "\n",
    "# Agrupar por categoría\n",
    "tasa_por_categoria = pagos_hand.groupby('CATEGORIA')[['TASA_PAGOS']].mean().reset_index()\n",
    "\n",
    "# Colores personalizados\n",
    "colors = ['#FFF700', '#FFC300', '#FF5733', '#C70039', '#900C3F', '#581845', '#FF6F61', '#FF8C42', '#FFB84D', '#FF3D00']\n",
    "\n",
    "# Crear la figura\n",
    "fig = go.Figure()\n",
    "\n",
    "# Agregar las barras para cada categoría\n",
    "for i, cat in enumerate(tasa_por_categoria['CATEGORIA']):\n",
    "    fig.add_trace(go.Bar(\n",
    "        x=[cat],\n",
    "        y=[tasa_por_categoria.loc[i, 'TASA_PAGOS']],\n",
    "        name=cat,\n",
    "        marker_color=colors[i % len(colors)]  # Usa el color correspondiente\n",
    "    ))\n",
    "\n",
    "# Líneas de referencia para el compromiso financiero (se agregan como trazas invisibles)\n",
    "fig.add_trace(go.Scatter(\n",
    "    x=[tasa_por_categoria['CATEGORIA'].iloc[0], tasa_por_categoria['CATEGORIA'].iloc[-1]],  # Desde la primera hasta la última categoría\n",
    "    y=[0.85, 0.85],  # Mismo valor en Y para toda la línea\n",
    "    mode='lines',\n",
    "    line=dict(color='red', dash='dash', width=1),\n",
    "    name=\"85% Compromiso Financiero\"  # Nombre que aparecerá en la leyenda\n",
    "))\n",
    "\n",
    "fig.add_trace(go.Scatter(\n",
    "    x=[tasa_por_categoria['CATEGORIA'].iloc[0], tasa_por_categoria['CATEGORIA'].iloc[-1]],  # Desde la primera hasta la última categoría\n",
    "    y=[1, 1],  # Mismo valor en Y para toda la línea\n",
    "    mode='lines',\n",
    "    line=dict(color='black', dash='dash', width=1),\n",
    "    name=\"100% Compromiso Financiero\"  # Nombre que aparecerá en la leyenda\n",
    "))\n",
    "\n",
    "# Personalizar el diseño del gráfico\n",
    "fig.update_layout(\n",
    "    title=\"Tasa de Pagos Completos por Categoría\",\n",
    "    xaxis_title=\"Categoría\",\n",
    "    yaxis_title=\"Tasa de Pagos Completos\",\n",
    "    yaxis=dict(range=[0, 1.05]),  # Limitar el eje Y entre 0 y 1.05\n",
    "    showlegend=True,  # Mostrar la leyenda\n",
    "    plot_bgcolor=\"white\",\n",
    "    legend=dict(\n",
    "        x=1,  # Colocar la leyenda en la parte derecha\n",
    "        y=1,  # Colocar la leyenda en la parte superior\n",
    "        traceorder='normal',\n",
    "        font=dict(size=12),\n",
    "        title=\"Compromiso Financiero\",\n",
    "        bgcolor=\"white\",\n",
    "        bordercolor=\"black\",\n",
    "        borderwidth=1\n",
    "    )\n",
    ")\n",
    "\n",
    "# Mostrar el gráfico\n",
    "fig.show()\n",
    "pio.write_html(fig, 'Tasa_pagos_por_cat.html', auto_open=True)"
   ]
  },
  {
   "cell_type": "code",
   "execution_count": 871,
   "metadata": {},
   "outputs": [],
   "source": [
    "porcentaje_pagos = pagos_hand.groupby('CATEGORIA')[['TASA_PAGOS']].mean().reset_index()\n",
    "p_pagos = round(porcentaje_pagos.sort_values(by='TASA_PAGOS', ascending=True).reset_index(drop=True), 2)"
   ]
  }
 ],
 "metadata": {
  "kernelspec": {
   "display_name": "data_analisis_env",
   "language": "python",
   "name": "python3"
  },
  "language_info": {
   "codemirror_mode": {
    "name": "ipython",
    "version": 3
   },
   "file_extension": ".py",
   "mimetype": "text/x-python",
   "name": "python",
   "nbconvert_exporter": "python",
   "pygments_lexer": "ipython3",
   "version": "3.10.15"
  }
 },
 "nbformat": 4,
 "nbformat_minor": 2
}
