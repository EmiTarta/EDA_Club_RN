{
 "cells": [
  {
   "cell_type": "code",
   "execution_count": 5,
   "metadata": {},
   "outputs": [],
   "source": [
    "import pandas as pd\n",
    "import matplotlib.pyplot as plt\n",
    "import numpy as np\n",
    "import plotly.graph_objs as go\n",
    "import plotly.express as px\n",
    "from plotly.subplots import make_subplots\n",
    "import os\n",
    "# !pip install statsmodels"
   ]
  },
  {
   "cell_type": "code",
   "execution_count": 6,
   "metadata": {},
   "outputs": [],
   "source": [
    "# DF de socios por mes\n",
    "socios_por_mes_tot = pd.read_pickle(r'C:\\Users\\emita\\Bootcamp\\EDA\\PICKLES\\socios_por_mes_tot.pkl') \n",
    "\n",
    "# Divido el df socios_por_mes_tot en dos para que sea mas manejable \n",
    "socios_hand_por_mes = socios_por_mes_tot.iloc[:, :2]\n",
    "socios_vol_por_mes = socios_por_mes_tot.drop(columns='SOCIOS_HAND')"
   ]
  },
  {
   "cell_type": "code",
   "execution_count": 7,
   "metadata": {},
   "outputs": [],
   "source": [
    "# Resultados de ingresos, egresos, permanencias, totales de alumnos y porcentajes\n",
    "resultados_h = pd.read_pickle(r'C:\\Users\\emita\\Bootcamp\\EDA\\PICKLES\\resultados_h.pkl')\n",
    "resultados_v = pd.read_pickle(r'C:\\Users\\emita\\Bootcamp\\EDA\\PICKLES\\resultados_v.pkl')"
   ]
  },
  {
   "cell_type": "markdown",
   "metadata": {},
   "source": [
    "## Egresos Handball"
   ]
  },
  {
   "cell_type": "code",
   "execution_count": 8,
   "metadata": {},
   "outputs": [],
   "source": [
    "gastos = r\"C:\\Users\\emita\\Bootcamp\\EDA\\data\\Ingresos_Egresos_Hand\\Egresos_h.csv\"\n",
    "egresos_2024 = pd.read_csv(gastos, header=4)"
   ]
  },
  {
   "cell_type": "code",
   "execution_count": 9,
   "metadata": {},
   "outputs": [],
   "source": [
    "egresos_2024 = egresos_2024.drop(columns=['Unnamed: 4', 'Unnamed: 5', 'Unnamed: 6', 'Unnamed: 7',\t'Unnamed: 8'])"
   ]
  },
  {
   "cell_type": "code",
   "execution_count": 10,
   "metadata": {},
   "outputs": [],
   "source": [
    "# Modifico la columna de monto, quitandole el simbolo \"$\" y ajustando los separadres de decimales\n",
    "egresos_2024['MONTO'] = egresos_2024['MONTO'].str.replace('$', '').str.replace(',', '')\n",
    "\n",
    "egresos_2024['MONTO'] = egresos_2024['MONTO'].astype(float) "
   ]
  },
  {
   "cell_type": "code",
   "execution_count": 11,
   "metadata": {},
   "outputs": [],
   "source": [
    "from datetime import datetime\n",
    "\n",
    "\n",
    "def convertir_fecha(fecha):\n",
    "    # Divide la fecha en día, mes y año\n",
    "    partes = fecha.split('/')\n",
    "    \n",
    "    # Si el mes tiene un solo dígito, añade un \"0\" al inicio\n",
    "    if len(partes[1]) == 1:\n",
    "        partes[1] = '0' + partes[1]\n",
    "    \n",
    "    # Si el año tiene dos dígitos, añade \"20\" al inicio para convertirlo a cuatro dígitos\n",
    "    if len(partes[2]) == 2:\n",
    "        partes[2] = '20' + partes[2]\n",
    "    \n",
    "    # Une las partes nuevamente en el formato \"dd/mm/yyyy\"\n",
    "    fecha_formateada = '/'.join(partes)\n",
    "    \n",
    "    # Convierte la fecha al formato \"YYYY-MM-DD\"\n",
    "    fecha_convertida = datetime.strptime(fecha_formateada, '%d/%m/%Y').strftime('%Y-%m-%d')\n",
    "    \n",
    "    return fecha_convertida"
   ]
  },
  {
   "cell_type": "code",
   "execution_count": 12,
   "metadata": {},
   "outputs": [],
   "source": [
    "# Aplica la función a cada valor de la columna \"FECHA\"\n",
    "egresos_2024['FECHA'] = egresos_2024['FECHA'].apply(convertir_fecha)\n",
    "egresos_2024['FECHA'] = pd.to_datetime(egresos_2024['FECHA'])"
   ]
  },
  {
   "cell_type": "code",
   "execution_count": 13,
   "metadata": {},
   "outputs": [
    {
     "name": "stdout",
     "output_type": "stream",
     "text": [
      "<class 'pandas.core.frame.DataFrame'>\n",
      "RangeIndex: 94 entries, 0 to 93\n",
      "Data columns (total 4 columns):\n",
      " #   Column       Non-Null Count  Dtype         \n",
      "---  ------       --------------  -----         \n",
      " 0   FECHA        94 non-null     datetime64[ns]\n",
      " 1   DESCRIPCIÓN  94 non-null     object        \n",
      " 2   MONTO        94 non-null     float64       \n",
      " 3   M. DE PAGO   94 non-null     object        \n",
      "dtypes: datetime64[ns](1), float64(1), object(2)\n",
      "memory usage: 3.1+ KB\n"
     ]
    }
   ],
   "source": [
    "# Compruebo que no haya ningun valor nulo en el df\n",
    "egresos_2024.info()"
   ]
  },
  {
   "cell_type": "code",
   "execution_count": 14,
   "metadata": {},
   "outputs": [
    {
     "data": {
      "text/plain": [
       "array(['Gastos Locacion', 'Materiales', 'Salarios', 'Ajuste cuentas',\n",
       "       'AMPAT', 'Seguro AP', 'Seguro RC', 'Eventos', 'Indumentaria',\n",
       "       'Federacion'], dtype=object)"
      ]
     },
     "execution_count": 14,
     "metadata": {},
     "output_type": "execute_result"
    }
   ],
   "source": [
    "egresos_2024['DESCRIPCIÓN'].unique()"
   ]
  },
  {
   "cell_type": "code",
   "execution_count": 15,
   "metadata": {},
   "outputs": [],
   "source": [
    "egresos_2024.columns=['FECHA', 'DESCRIPCION', 'MONTO', 'MEDIO DE PAGO']"
   ]
  },
  {
   "cell_type": "code",
   "execution_count": 16,
   "metadata": {},
   "outputs": [],
   "source": [
    "egresos_2024['DESCRIPCION'].unique() \n",
    "\n",
    "# Eliminamos los siguientes items, ya que no se consideran gastos propios de la act del dia a dia del club: 'Ajuste cuentas','Eventos', 'Indumentaria','Federacion'\n",
    "gastos_reales =  ['Gastos Locacion', 'Materiales', 'Salarios', 'AMPAT', 'Seguro AP', 'Seguro RC']\n",
    "filtro= egresos_2024.loc[:, 'DESCRIPCION'].isin(gastos_reales)\n",
    "egresos_reales=egresos_2024[filtro]"
   ]
  },
  {
   "cell_type": "code",
   "execution_count": 17,
   "metadata": {},
   "outputs": [
    {
     "name": "stderr",
     "output_type": "stream",
     "text": [
      "C:\\Users\\emita\\AppData\\Local\\Temp\\ipykernel_55420\\2845775864.py:1: SettingWithCopyWarning: \n",
      "A value is trying to be set on a copy of a slice from a DataFrame.\n",
      "Try using .loc[row_indexer,col_indexer] = value instead\n",
      "\n",
      "See the caveats in the documentation: https://pandas.pydata.org/pandas-docs/stable/user_guide/indexing.html#returning-a-view-versus-a-copy\n",
      "  egresos_reales['DESCRIPCION'] = egresos_reales['DESCRIPCION'].replace({\n"
     ]
    },
    {
     "data": {
      "text/plain": [
       "array(['Gastos Locacion', 'Materiales', 'Salarios', 'Seguro'],\n",
       "      dtype=object)"
      ]
     },
     "execution_count": 17,
     "metadata": {},
     "output_type": "execute_result"
    }
   ],
   "source": [
    "egresos_reales['DESCRIPCION'] = egresos_reales['DESCRIPCION'].replace({\n",
    "    'AMPAT': 'Seguro',\n",
    "    'Seguro AP': 'Seguro',\n",
    "    'Seguro RC': 'Seguro'}) \n",
    "egresos_reales['DESCRIPCION'].unique()"
   ]
  },
  {
   "cell_type": "markdown",
   "metadata": {},
   "source": [
    "### Egresos"
   ]
  },
  {
   "cell_type": "markdown",
   "metadata": {},
   "source": [
    "#### Egresos totales por mes"
   ]
  },
  {
   "cell_type": "code",
   "execution_count": 18,
   "metadata": {},
   "outputs": [
    {
     "data": {
      "text/html": [
       "<div>\n",
       "<style scoped>\n",
       "    .dataframe tbody tr th:only-of-type {\n",
       "        vertical-align: middle;\n",
       "    }\n",
       "\n",
       "    .dataframe tbody tr th {\n",
       "        vertical-align: top;\n",
       "    }\n",
       "\n",
       "    .dataframe thead th {\n",
       "        text-align: right;\n",
       "    }\n",
       "</style>\n",
       "<table border=\"1\" class=\"dataframe\">\n",
       "  <thead>\n",
       "    <tr style=\"text-align: right;\">\n",
       "      <th></th>\n",
       "      <th>FECHA</th>\n",
       "      <th>MONTO TOTAL</th>\n",
       "    </tr>\n",
       "  </thead>\n",
       "  <tbody>\n",
       "    <tr>\n",
       "      <th>0</th>\n",
       "      <td>2024-02-01</td>\n",
       "      <td>595937.00</td>\n",
       "    </tr>\n",
       "    <tr>\n",
       "      <th>1</th>\n",
       "      <td>2024-03-01</td>\n",
       "      <td>654554.00</td>\n",
       "    </tr>\n",
       "    <tr>\n",
       "      <th>2</th>\n",
       "      <td>2024-04-01</td>\n",
       "      <td>671780.00</td>\n",
       "    </tr>\n",
       "    <tr>\n",
       "      <th>3</th>\n",
       "      <td>2024-05-01</td>\n",
       "      <td>921975.48</td>\n",
       "    </tr>\n",
       "    <tr>\n",
       "      <th>4</th>\n",
       "      <td>2024-06-01</td>\n",
       "      <td>1168196.00</td>\n",
       "    </tr>\n",
       "    <tr>\n",
       "      <th>5</th>\n",
       "      <td>2024-07-01</td>\n",
       "      <td>1025506.99</td>\n",
       "    </tr>\n",
       "    <tr>\n",
       "      <th>6</th>\n",
       "      <td>2024-08-01</td>\n",
       "      <td>1147687.00</td>\n",
       "    </tr>\n",
       "    <tr>\n",
       "      <th>7</th>\n",
       "      <td>2024-09-01</td>\n",
       "      <td>1100452.00</td>\n",
       "    </tr>\n",
       "    <tr>\n",
       "      <th>8</th>\n",
       "      <td>2024-10-01</td>\n",
       "      <td>1153801.64</td>\n",
       "    </tr>\n",
       "  </tbody>\n",
       "</table>\n",
       "</div>"
      ],
      "text/plain": [
       "       FECHA  MONTO TOTAL\n",
       "0 2024-02-01    595937.00\n",
       "1 2024-03-01    654554.00\n",
       "2 2024-04-01    671780.00\n",
       "3 2024-05-01    921975.48\n",
       "4 2024-06-01   1168196.00\n",
       "5 2024-07-01   1025506.99\n",
       "6 2024-08-01   1147687.00\n",
       "7 2024-09-01   1100452.00\n",
       "8 2024-10-01   1153801.64"
      ]
     },
     "execution_count": 18,
     "metadata": {},
     "output_type": "execute_result"
    }
   ],
   "source": [
    "# Calculo ingresos totales por mes:\n",
    "\n",
    "egresos_totales_por_mes = egresos_reales.groupby(egresos_reales['FECHA'].dt.to_period('M'))['MONTO'].sum().reset_index()\n",
    "\n",
    "# Cambiar el formato del periodo a un tipo de fecha\n",
    "egresos_totales_por_mes['FECHA'] = egresos_totales_por_mes['FECHA'].dt.to_timestamp()\n",
    "\n",
    "# Renombrar la columna de montos\n",
    "egresos_totales_por_mes.rename(columns={'MONTO': 'MONTO TOTAL'}, inplace=True)\n",
    "\n",
    "# Mostrar el DataFrame resultante\n",
    "egresos_totales_por_mes"
   ]
  },
  {
   "cell_type": "markdown",
   "metadata": {},
   "source": [
    "#### Egresos totales por mes por categoria"
   ]
  },
  {
   "cell_type": "code",
   "execution_count": 19,
   "metadata": {},
   "outputs": [
    {
     "data": {
      "text/html": [
       "<div>\n",
       "<style scoped>\n",
       "    .dataframe tbody tr th:only-of-type {\n",
       "        vertical-align: middle;\n",
       "    }\n",
       "\n",
       "    .dataframe tbody tr th {\n",
       "        vertical-align: top;\n",
       "    }\n",
       "\n",
       "    .dataframe thead th {\n",
       "        text-align: right;\n",
       "    }\n",
       "</style>\n",
       "<table border=\"1\" class=\"dataframe\">\n",
       "  <thead>\n",
       "    <tr style=\"text-align: right;\">\n",
       "      <th></th>\n",
       "      <th>FECHA</th>\n",
       "      <th>DESCRIPCION</th>\n",
       "      <th>MONTO TOTAL</th>\n",
       "    </tr>\n",
       "  </thead>\n",
       "  <tbody>\n",
       "    <tr>\n",
       "      <th>0</th>\n",
       "      <td>2024-02-01</td>\n",
       "      <td>Gastos Locacion</td>\n",
       "      <td>62000.00</td>\n",
       "    </tr>\n",
       "    <tr>\n",
       "      <th>1</th>\n",
       "      <td>2024-02-01</td>\n",
       "      <td>Materiales</td>\n",
       "      <td>223437.00</td>\n",
       "    </tr>\n",
       "    <tr>\n",
       "      <th>2</th>\n",
       "      <td>2024-02-01</td>\n",
       "      <td>Salarios</td>\n",
       "      <td>300500.00</td>\n",
       "    </tr>\n",
       "    <tr>\n",
       "      <th>3</th>\n",
       "      <td>2024-02-01</td>\n",
       "      <td>Seguro</td>\n",
       "      <td>10000.00</td>\n",
       "    </tr>\n",
       "    <tr>\n",
       "      <th>4</th>\n",
       "      <td>2024-03-01</td>\n",
       "      <td>Gastos Locacion</td>\n",
       "      <td>42054.00</td>\n",
       "    </tr>\n",
       "    <tr>\n",
       "      <th>5</th>\n",
       "      <td>2024-03-01</td>\n",
       "      <td>Salarios</td>\n",
       "      <td>612500.00</td>\n",
       "    </tr>\n",
       "    <tr>\n",
       "      <th>6</th>\n",
       "      <td>2024-04-01</td>\n",
       "      <td>Gastos Locacion</td>\n",
       "      <td>3500.00</td>\n",
       "    </tr>\n",
       "    <tr>\n",
       "      <th>7</th>\n",
       "      <td>2024-04-01</td>\n",
       "      <td>Salarios</td>\n",
       "      <td>476500.00</td>\n",
       "    </tr>\n",
       "    <tr>\n",
       "      <th>8</th>\n",
       "      <td>2024-04-01</td>\n",
       "      <td>Seguro</td>\n",
       "      <td>191780.00</td>\n",
       "    </tr>\n",
       "    <tr>\n",
       "      <th>9</th>\n",
       "      <td>2024-05-01</td>\n",
       "      <td>Salarios</td>\n",
       "      <td>774645.48</td>\n",
       "    </tr>\n",
       "    <tr>\n",
       "      <th>10</th>\n",
       "      <td>2024-05-01</td>\n",
       "      <td>Seguro</td>\n",
       "      <td>147330.00</td>\n",
       "    </tr>\n",
       "    <tr>\n",
       "      <th>11</th>\n",
       "      <td>2024-06-01</td>\n",
       "      <td>Materiales</td>\n",
       "      <td>343156.00</td>\n",
       "    </tr>\n",
       "    <tr>\n",
       "      <th>12</th>\n",
       "      <td>2024-06-01</td>\n",
       "      <td>Salarios</td>\n",
       "      <td>697000.00</td>\n",
       "    </tr>\n",
       "    <tr>\n",
       "      <th>13</th>\n",
       "      <td>2024-06-01</td>\n",
       "      <td>Seguro</td>\n",
       "      <td>128040.00</td>\n",
       "    </tr>\n",
       "    <tr>\n",
       "      <th>14</th>\n",
       "      <td>2024-07-01</td>\n",
       "      <td>Gastos Locacion</td>\n",
       "      <td>33000.00</td>\n",
       "    </tr>\n",
       "    <tr>\n",
       "      <th>15</th>\n",
       "      <td>2024-07-01</td>\n",
       "      <td>Materiales</td>\n",
       "      <td>30819.99</td>\n",
       "    </tr>\n",
       "    <tr>\n",
       "      <th>16</th>\n",
       "      <td>2024-07-01</td>\n",
       "      <td>Salarios</td>\n",
       "      <td>825000.00</td>\n",
       "    </tr>\n",
       "    <tr>\n",
       "      <th>17</th>\n",
       "      <td>2024-07-01</td>\n",
       "      <td>Seguro</td>\n",
       "      <td>136687.00</td>\n",
       "    </tr>\n",
       "    <tr>\n",
       "      <th>18</th>\n",
       "      <td>2024-08-01</td>\n",
       "      <td>Gastos Locacion</td>\n",
       "      <td>4500.00</td>\n",
       "    </tr>\n",
       "    <tr>\n",
       "      <th>19</th>\n",
       "      <td>2024-08-01</td>\n",
       "      <td>Materiales</td>\n",
       "      <td>59000.00</td>\n",
       "    </tr>\n",
       "    <tr>\n",
       "      <th>20</th>\n",
       "      <td>2024-08-01</td>\n",
       "      <td>Salarios</td>\n",
       "      <td>946000.00</td>\n",
       "    </tr>\n",
       "    <tr>\n",
       "      <th>21</th>\n",
       "      <td>2024-08-01</td>\n",
       "      <td>Seguro</td>\n",
       "      <td>138187.00</td>\n",
       "    </tr>\n",
       "    <tr>\n",
       "      <th>22</th>\n",
       "      <td>2024-09-01</td>\n",
       "      <td>Gastos Locacion</td>\n",
       "      <td>43600.00</td>\n",
       "    </tr>\n",
       "    <tr>\n",
       "      <th>23</th>\n",
       "      <td>2024-09-01</td>\n",
       "      <td>Materiales</td>\n",
       "      <td>32900.00</td>\n",
       "    </tr>\n",
       "    <tr>\n",
       "      <th>24</th>\n",
       "      <td>2024-09-01</td>\n",
       "      <td>Salarios</td>\n",
       "      <td>885000.00</td>\n",
       "    </tr>\n",
       "    <tr>\n",
       "      <th>25</th>\n",
       "      <td>2024-09-01</td>\n",
       "      <td>Seguro</td>\n",
       "      <td>138952.00</td>\n",
       "    </tr>\n",
       "    <tr>\n",
       "      <th>26</th>\n",
       "      <td>2024-10-01</td>\n",
       "      <td>Gastos Locacion</td>\n",
       "      <td>7500.00</td>\n",
       "    </tr>\n",
       "    <tr>\n",
       "      <th>27</th>\n",
       "      <td>2024-10-01</td>\n",
       "      <td>Materiales</td>\n",
       "      <td>61301.64</td>\n",
       "    </tr>\n",
       "    <tr>\n",
       "      <th>28</th>\n",
       "      <td>2024-10-01</td>\n",
       "      <td>Salarios</td>\n",
       "      <td>1085000.00</td>\n",
       "    </tr>\n",
       "  </tbody>\n",
       "</table>\n",
       "</div>"
      ],
      "text/plain": [
       "        FECHA      DESCRIPCION  MONTO TOTAL\n",
       "0  2024-02-01  Gastos Locacion     62000.00\n",
       "1  2024-02-01       Materiales    223437.00\n",
       "2  2024-02-01         Salarios    300500.00\n",
       "3  2024-02-01           Seguro     10000.00\n",
       "4  2024-03-01  Gastos Locacion     42054.00\n",
       "5  2024-03-01         Salarios    612500.00\n",
       "6  2024-04-01  Gastos Locacion      3500.00\n",
       "7  2024-04-01         Salarios    476500.00\n",
       "8  2024-04-01           Seguro    191780.00\n",
       "9  2024-05-01         Salarios    774645.48\n",
       "10 2024-05-01           Seguro    147330.00\n",
       "11 2024-06-01       Materiales    343156.00\n",
       "12 2024-06-01         Salarios    697000.00\n",
       "13 2024-06-01           Seguro    128040.00\n",
       "14 2024-07-01  Gastos Locacion     33000.00\n",
       "15 2024-07-01       Materiales     30819.99\n",
       "16 2024-07-01         Salarios    825000.00\n",
       "17 2024-07-01           Seguro    136687.00\n",
       "18 2024-08-01  Gastos Locacion      4500.00\n",
       "19 2024-08-01       Materiales     59000.00\n",
       "20 2024-08-01         Salarios    946000.00\n",
       "21 2024-08-01           Seguro    138187.00\n",
       "22 2024-09-01  Gastos Locacion     43600.00\n",
       "23 2024-09-01       Materiales     32900.00\n",
       "24 2024-09-01         Salarios    885000.00\n",
       "25 2024-09-01           Seguro    138952.00\n",
       "26 2024-10-01  Gastos Locacion      7500.00\n",
       "27 2024-10-01       Materiales     61301.64\n",
       "28 2024-10-01         Salarios   1085000.00"
      ]
     },
     "execution_count": 19,
     "metadata": {},
     "output_type": "execute_result"
    }
   ],
   "source": [
    "# Agrupar por año y mes, y por categoría, y sumar los montos\n",
    "eg_totales_por_mes_categoria = egresos_reales.groupby([egresos_reales['FECHA'].dt.to_period('M'), 'DESCRIPCION'])[['MONTO']].sum().reset_index()\n",
    "\n",
    "# Cambiar el formato del periodo a un tipo de fecha\n",
    "eg_totales_por_mes_categoria['FECHA'] = eg_totales_por_mes_categoria['FECHA'].dt.to_timestamp()\n",
    "\n",
    "# Renombrar la columna de montos\n",
    "eg_totales_por_mes_categoria.rename(columns={'MONTO': 'MONTO TOTAL'}, inplace=True)\n",
    "\n",
    "# Mostrar el DataFrame resultante\n",
    "eg_totales_por_mes_categoria"
   ]
  },
  {
   "cell_type": "markdown",
   "metadata": {},
   "source": [
    "#### Egresos totales por categoria"
   ]
  },
  {
   "cell_type": "code",
   "execution_count": 20,
   "metadata": {},
   "outputs": [
    {
     "data": {
      "text/html": [
       "<div>\n",
       "<style scoped>\n",
       "    .dataframe tbody tr th:only-of-type {\n",
       "        vertical-align: middle;\n",
       "    }\n",
       "\n",
       "    .dataframe tbody tr th {\n",
       "        vertical-align: top;\n",
       "    }\n",
       "\n",
       "    .dataframe thead th {\n",
       "        text-align: right;\n",
       "    }\n",
       "</style>\n",
       "<table border=\"1\" class=\"dataframe\">\n",
       "  <thead>\n",
       "    <tr style=\"text-align: right;\">\n",
       "      <th></th>\n",
       "      <th>DESCRIPCION</th>\n",
       "      <th>MONTO TOTAL</th>\n",
       "    </tr>\n",
       "  </thead>\n",
       "  <tbody>\n",
       "    <tr>\n",
       "      <th>0</th>\n",
       "      <td>Gastos Locacion</td>\n",
       "      <td>196154.00</td>\n",
       "    </tr>\n",
       "    <tr>\n",
       "      <th>1</th>\n",
       "      <td>Materiales</td>\n",
       "      <td>750614.63</td>\n",
       "    </tr>\n",
       "    <tr>\n",
       "      <th>2</th>\n",
       "      <td>Salarios</td>\n",
       "      <td>6602145.48</td>\n",
       "    </tr>\n",
       "    <tr>\n",
       "      <th>3</th>\n",
       "      <td>Seguro</td>\n",
       "      <td>890976.00</td>\n",
       "    </tr>\n",
       "  </tbody>\n",
       "</table>\n",
       "</div>"
      ],
      "text/plain": [
       "       DESCRIPCION  MONTO TOTAL\n",
       "0  Gastos Locacion    196154.00\n",
       "1       Materiales    750614.63\n",
       "2         Salarios   6602145.48\n",
       "3           Seguro    890976.00"
      ]
     },
     "execution_count": 20,
     "metadata": {},
     "output_type": "execute_result"
    }
   ],
   "source": [
    "egresos_por_cat = eg_totales_por_mes_categoria.groupby('DESCRIPCION')[['MONTO TOTAL']].sum().reset_index()\n",
    "egresos_por_cat"
   ]
  },
  {
   "cell_type": "markdown",
   "metadata": {},
   "source": [
    "#### Coste del seguro por jugador ------------> ya esta"
   ]
  },
  {
   "cell_type": "code",
   "execution_count": 21,
   "metadata": {},
   "outputs": [],
   "source": [
    "filtro3= egresos_reales.loc[:, 'DESCRIPCION']== 'Seguro'\n",
    "mask_pago_seguros=egresos_reales[filtro3]"
   ]
  },
  {
   "cell_type": "code",
   "execution_count": 22,
   "metadata": {},
   "outputs": [],
   "source": [
    "mask_pago_seguros=mask_pago_seguros.groupby(mask_pago_seguros['FECHA'].dt.to_period('M'))[['MONTO']].sum().reset_index()"
   ]
  },
  {
   "cell_type": "code",
   "execution_count": 23,
   "metadata": {},
   "outputs": [],
   "source": [
    "# Contamos desde abril hasta octubre, ya que en feb se pago solo 1 seguro, y en marzo nada. \n",
    "media_seg_por_mes_h = mask_pago_seguros['MONTO'][1:].mean()"
   ]
  },
  {
   "cell_type": "code",
   "execution_count": 24,
   "metadata": {},
   "outputs": [],
   "source": [
    "media_soc_por_mes_h = socios_por_mes_tot['SOCIOS_HAND'].mean()"
   ]
  },
  {
   "cell_type": "code",
   "execution_count": 25,
   "metadata": {},
   "outputs": [
    {
     "data": {
      "text/plain": [
       "np.float64(1099.39)"
      ]
     },
     "execution_count": 25,
     "metadata": {},
     "output_type": "execute_result"
    }
   ],
   "source": [
    "# Coste promedio de los 3 seguros por jugador.\n",
    "media_seguro_h_jugador = round(media_seg_por_mes_h/media_soc_por_mes_h, 2)\n",
    "\n",
    "media_seguro_h_jugador"
   ]
  },
  {
   "cell_type": "markdown",
   "metadata": {},
   "source": [
    "#### Coste del salario por jugador"
   ]
  },
  {
   "cell_type": "code",
   "execution_count": 26,
   "metadata": {},
   "outputs": [],
   "source": [
    "filtro_salarios_h=eg_totales_por_mes_categoria.loc[:, 'DESCRIPCION'] == 'Salarios'\n",
    "mask_salarios_h = eg_totales_por_mes_categoria[filtro_salarios_h]\n",
    "salarios_por_mes_h = mask_salarios_h.reset_index(drop=True)"
   ]
  },
  {
   "cell_type": "code",
   "execution_count": 27,
   "metadata": {},
   "outputs": [
    {
     "data": {
      "text/html": [
       "<div>\n",
       "<style scoped>\n",
       "    .dataframe tbody tr th:only-of-type {\n",
       "        vertical-align: middle;\n",
       "    }\n",
       "\n",
       "    .dataframe tbody tr th {\n",
       "        vertical-align: top;\n",
       "    }\n",
       "\n",
       "    .dataframe thead th {\n",
       "        text-align: right;\n",
       "    }\n",
       "</style>\n",
       "<table border=\"1\" class=\"dataframe\">\n",
       "  <thead>\n",
       "    <tr style=\"text-align: right;\">\n",
       "      <th></th>\n",
       "      <th>FECHA</th>\n",
       "      <th>DESCRIPCION</th>\n",
       "      <th>MONTO TOTAL</th>\n",
       "    </tr>\n",
       "  </thead>\n",
       "  <tbody>\n",
       "    <tr>\n",
       "      <th>0</th>\n",
       "      <td>2024-02-01</td>\n",
       "      <td>Salarios</td>\n",
       "      <td>300500.00</td>\n",
       "    </tr>\n",
       "    <tr>\n",
       "      <th>1</th>\n",
       "      <td>2024-03-01</td>\n",
       "      <td>Salarios</td>\n",
       "      <td>612500.00</td>\n",
       "    </tr>\n",
       "    <tr>\n",
       "      <th>2</th>\n",
       "      <td>2024-04-01</td>\n",
       "      <td>Salarios</td>\n",
       "      <td>476500.00</td>\n",
       "    </tr>\n",
       "    <tr>\n",
       "      <th>3</th>\n",
       "      <td>2024-05-01</td>\n",
       "      <td>Salarios</td>\n",
       "      <td>774645.48</td>\n",
       "    </tr>\n",
       "    <tr>\n",
       "      <th>4</th>\n",
       "      <td>2024-06-01</td>\n",
       "      <td>Salarios</td>\n",
       "      <td>697000.00</td>\n",
       "    </tr>\n",
       "    <tr>\n",
       "      <th>5</th>\n",
       "      <td>2024-07-01</td>\n",
       "      <td>Salarios</td>\n",
       "      <td>825000.00</td>\n",
       "    </tr>\n",
       "    <tr>\n",
       "      <th>6</th>\n",
       "      <td>2024-08-01</td>\n",
       "      <td>Salarios</td>\n",
       "      <td>946000.00</td>\n",
       "    </tr>\n",
       "    <tr>\n",
       "      <th>7</th>\n",
       "      <td>2024-09-01</td>\n",
       "      <td>Salarios</td>\n",
       "      <td>885000.00</td>\n",
       "    </tr>\n",
       "    <tr>\n",
       "      <th>8</th>\n",
       "      <td>2024-10-01</td>\n",
       "      <td>Salarios</td>\n",
       "      <td>1085000.00</td>\n",
       "    </tr>\n",
       "  </tbody>\n",
       "</table>\n",
       "</div>"
      ],
      "text/plain": [
       "       FECHA DESCRIPCION  MONTO TOTAL\n",
       "0 2024-02-01    Salarios    300500.00\n",
       "1 2024-03-01    Salarios    612500.00\n",
       "2 2024-04-01    Salarios    476500.00\n",
       "3 2024-05-01    Salarios    774645.48\n",
       "4 2024-06-01    Salarios    697000.00\n",
       "5 2024-07-01    Salarios    825000.00\n",
       "6 2024-08-01    Salarios    946000.00\n",
       "7 2024-09-01    Salarios    885000.00\n",
       "8 2024-10-01    Salarios   1085000.00"
      ]
     },
     "execution_count": 27,
     "metadata": {},
     "output_type": "execute_result"
    }
   ],
   "source": [
    "salarios_por_mes_h"
   ]
  },
  {
   "cell_type": "code",
   "execution_count": 28,
   "metadata": {},
   "outputs": [
    {
     "data": {
      "text/plain": [
       "np.float64(5380.391111111112)"
      ]
     },
     "execution_count": 28,
     "metadata": {},
     "output_type": "execute_result"
    }
   ],
   "source": [
    "coste_salario_mes_por_jug_h = round(salarios_por_mes_h['MONTO TOTAL']/socios_por_mes_tot['SOCIOS_HAND'], 2)\n",
    "coste_salario_mes_por_jug_h.mean()"
   ]
  },
  {
   "cell_type": "markdown",
   "metadata": {},
   "source": [
    "## Ingresos Handball"
   ]
  },
  {
   "cell_type": "code",
   "execution_count": 29,
   "metadata": {},
   "outputs": [],
   "source": [
    "ingresos = r\"C:\\Users\\emita\\Bootcamp\\EDA\\data\\Ingresos_Egresos_Hand\\Ingresos_h.csv\"\n",
    "ingresos_2024 = pd.read_csv(ingresos, header=0)"
   ]
  },
  {
   "cell_type": "markdown",
   "metadata": {},
   "source": [
    "Tener en cuenta:\n",
    "Valor de las cuotas:\n",
    "- $ 7200 de febrero a abril\n",
    "- $ 8700 de mayo a agosto\n",
    "- $ 11500 de septiembre en adelante "
   ]
  },
  {
   "cell_type": "code",
   "execution_count": 30,
   "metadata": {},
   "outputs": [
    {
     "name": "stdout",
     "output_type": "stream",
     "text": [
      "Primer aumento:  20.83\n",
      "Segundo aumento:  32.18\n"
     ]
    }
   ],
   "source": [
    "# Calculo el porcentaje de aumento de las cuotas, para tenerlo en cuenta luego: \n",
    "valor_1 = 7200 # de febrero a abril\n",
    "valor_2 = 8700 # de mayo a agosto\n",
    "valor_3 = 11500 # de septiembre en adelante \n",
    "primer_aumento = round(((valor_2 - valor_1)/valor_1) * 100,2)\n",
    "print(\"Primer aumento: \", primer_aumento)\n",
    "\n",
    "segundo_aumento = round(((valor_3 - valor_2)/valor_2) * 100,2)\n",
    "print(\"Segundo aumento: \", segundo_aumento)"
   ]
  },
  {
   "cell_type": "code",
   "execution_count": 31,
   "metadata": {},
   "outputs": [],
   "source": [
    "ingresos_2024=ingresos_2024.drop(columns=['MES', 'Unnamed: 6', 'Unnamed: 7', 'INGRESOS HANDBALL 2024','Unnamed: 9', 'Unnamed: 10', 'Unnamed: 11','Unnamed: 12', 'Unnamed: 13', 'Unnamed: 14','Unnamed: 15', 'Unnamed: 16', 'Unnamed: 17','Unnamed: 18', 'Unnamed: 19', 'Unnamed: 20',])\n",
    "ingresos_2024=ingresos_2024.iloc[:1063,:]"
   ]
  },
  {
   "cell_type": "code",
   "execution_count": 32,
   "metadata": {},
   "outputs": [
    {
     "data": {
      "text/plain": [
       "Index(['FECHA', 'DESCRIPCIÓN', 'MONTO', 'CATEGORIA', 'M. DE PAGO'], dtype='object')"
      ]
     },
     "execution_count": 32,
     "metadata": {},
     "output_type": "execute_result"
    }
   ],
   "source": [
    "ingresos_2024.columns"
   ]
  },
  {
   "cell_type": "code",
   "execution_count": 33,
   "metadata": {},
   "outputs": [],
   "source": [
    "ingresos_2024.columns=['FECHA', 'DESCRIPCION', 'MONTO', 'CATEGORIA','MEDIO DE PAGO']"
   ]
  },
  {
   "cell_type": "code",
   "execution_count": 34,
   "metadata": {},
   "outputs": [
    {
     "data": {
      "text/html": [
       "<div>\n",
       "<style scoped>\n",
       "    .dataframe tbody tr th:only-of-type {\n",
       "        vertical-align: middle;\n",
       "    }\n",
       "\n",
       "    .dataframe tbody tr th {\n",
       "        vertical-align: top;\n",
       "    }\n",
       "\n",
       "    .dataframe thead th {\n",
       "        text-align: right;\n",
       "    }\n",
       "</style>\n",
       "<table border=\"1\" class=\"dataframe\">\n",
       "  <thead>\n",
       "    <tr style=\"text-align: right;\">\n",
       "      <th></th>\n",
       "      <th>FECHA</th>\n",
       "      <th>DESCRIPCION</th>\n",
       "      <th>MONTO</th>\n",
       "      <th>CATEGORIA</th>\n",
       "      <th>MEDIO DE PAGO</th>\n",
       "    </tr>\n",
       "  </thead>\n",
       "  <tbody>\n",
       "    <tr>\n",
       "      <th>0</th>\n",
       "      <td>5/2/2024</td>\n",
       "      <td>Cuota</td>\n",
       "      <td>$7,200.00</td>\n",
       "      <td>Menores</td>\n",
       "      <td>Tranferencia</td>\n",
       "    </tr>\n",
       "    <tr>\n",
       "      <th>1</th>\n",
       "      <td>5/2/2024</td>\n",
       "      <td>Cuota</td>\n",
       "      <td>$7,200.00</td>\n",
       "      <td>Menores</td>\n",
       "      <td>Tranferencia</td>\n",
       "    </tr>\n",
       "    <tr>\n",
       "      <th>2</th>\n",
       "      <td>5/2/2024</td>\n",
       "      <td>Cuota</td>\n",
       "      <td>$7,200.00</td>\n",
       "      <td>Cadetes</td>\n",
       "      <td>Tranferencia</td>\n",
       "    </tr>\n",
       "    <tr>\n",
       "      <th>3</th>\n",
       "      <td>5/2/2024</td>\n",
       "      <td>Cuota</td>\n",
       "      <td>$6,120.00</td>\n",
       "      <td>Cadetes</td>\n",
       "      <td>Tranferencia</td>\n",
       "    </tr>\n",
       "    <tr>\n",
       "      <th>4</th>\n",
       "      <td>5/2/2024</td>\n",
       "      <td>Cuota</td>\n",
       "      <td>$6,120.00</td>\n",
       "      <td>Cadetes</td>\n",
       "      <td>Tranferencia</td>\n",
       "    </tr>\n",
       "    <tr>\n",
       "      <th>...</th>\n",
       "      <td>...</td>\n",
       "      <td>...</td>\n",
       "      <td>...</td>\n",
       "      <td>...</td>\n",
       "      <td>...</td>\n",
       "    </tr>\n",
       "    <tr>\n",
       "      <th>1058</th>\n",
       "      <td>28/9/2024</td>\n",
       "      <td>Cuota</td>\n",
       "      <td>$11,475.00</td>\n",
       "      <td>Mini</td>\n",
       "      <td>Transferencia</td>\n",
       "    </tr>\n",
       "    <tr>\n",
       "      <th>1059</th>\n",
       "      <td>28/9/2024</td>\n",
       "      <td>Cuota</td>\n",
       "      <td>$11,475.00</td>\n",
       "      <td>Infantil</td>\n",
       "      <td>Transferencia</td>\n",
       "    </tr>\n",
       "    <tr>\n",
       "      <th>1060</th>\n",
       "      <td>3/10/2024</td>\n",
       "      <td>Cuota adeudada</td>\n",
       "      <td>$19,200.00</td>\n",
       "      <td>Cadetes</td>\n",
       "      <td>Transferencia</td>\n",
       "    </tr>\n",
       "    <tr>\n",
       "      <th>1061</th>\n",
       "      <td>14/10/2024</td>\n",
       "      <td>Cuota</td>\n",
       "      <td>$13,500.00</td>\n",
       "      <td>Menores</td>\n",
       "      <td>Transferencia</td>\n",
       "    </tr>\n",
       "    <tr>\n",
       "      <th>1062</th>\n",
       "      <td>24/10/2024</td>\n",
       "      <td>Cuota</td>\n",
       "      <td>$11,500.00</td>\n",
       "      <td>Cadetes</td>\n",
       "      <td>Transferencia</td>\n",
       "    </tr>\n",
       "  </tbody>\n",
       "</table>\n",
       "<p>1063 rows × 5 columns</p>\n",
       "</div>"
      ],
      "text/plain": [
       "           FECHA     DESCRIPCION        MONTO CATEGORIA  MEDIO DE PAGO\n",
       "0       5/2/2024           Cuota   $7,200.00    Menores   Tranferencia\n",
       "1       5/2/2024           Cuota   $7,200.00    Menores   Tranferencia\n",
       "2       5/2/2024           Cuota   $7,200.00    Cadetes   Tranferencia\n",
       "3       5/2/2024           Cuota   $6,120.00    Cadetes  Tranferencia \n",
       "4       5/2/2024           Cuota   $6,120.00    Cadetes  Tranferencia \n",
       "...          ...             ...          ...       ...            ...\n",
       "1058   28/9/2024           Cuota  $11,475.00       Mini  Transferencia\n",
       "1059   28/9/2024           Cuota  $11,475.00   Infantil  Transferencia\n",
       "1060   3/10/2024  Cuota adeudada  $19,200.00    Cadetes  Transferencia\n",
       "1061  14/10/2024           Cuota  $13,500.00    Menores  Transferencia\n",
       "1062  24/10/2024           Cuota  $11,500.00    Cadetes  Transferencia\n",
       "\n",
       "[1063 rows x 5 columns]"
      ]
     },
     "execution_count": 34,
     "metadata": {},
     "output_type": "execute_result"
    }
   ],
   "source": [
    "ingresos_2024"
   ]
  },
  {
   "cell_type": "code",
   "execution_count": 35,
   "metadata": {},
   "outputs": [
    {
     "data": {
      "text/plain": [
       "Index(['FECHA', 'DESCRIPCION', 'MONTO', 'CATEGORIA', 'MEDIO DE PAGO'], dtype='object')"
      ]
     },
     "execution_count": 35,
     "metadata": {},
     "output_type": "execute_result"
    }
   ],
   "source": [
    "ingresos_2024.columns"
   ]
  },
  {
   "cell_type": "code",
   "execution_count": 36,
   "metadata": {},
   "outputs": [],
   "source": [
    "ingresos_2024['MONTO'] = ingresos_2024['MONTO'].str.replace('$', '').str.replace(',', '')\n",
    "\n",
    "ingresos_2024['MONTO'] = ingresos_2024['MONTO'].astype(float)"
   ]
  },
  {
   "cell_type": "code",
   "execution_count": 37,
   "metadata": {},
   "outputs": [],
   "source": [
    "# Aplica la función a cada valor de la columna \"FECHA\"\n",
    "ingresos_2024['FECHA'] = ingresos_2024['FECHA'].apply(convertir_fecha)\n",
    "ingresos_2024['FECHA'] = pd.to_datetime(ingresos_2024['FECHA'])"
   ]
  },
  {
   "cell_type": "code",
   "execution_count": 38,
   "metadata": {},
   "outputs": [
    {
     "data": {
      "text/plain": [
       "array(['Menores', 'Cadetes', 'Infantil', 'Mayores', 'Cadete', 'Juvenil',\n",
       "       'Mini', 'Cadeta', 'Menor', 'No procede', 'Mayor', 'MINI',\n",
       "       'Administracion', 'MIni', 'Cadetas', 'Sponsor', 'Ajuste',\n",
       "       'menores', 'juvenil', 'infantil', 'Envio', 'Indumentaria',\n",
       "       'cadetes', 'Juveniles', 'Infantiles', '???'], dtype=object)"
      ]
     },
     "execution_count": 38,
     "metadata": {},
     "output_type": "execute_result"
    }
   ],
   "source": [
    "ingresos_2024['CATEGORIA'].unique()"
   ]
  },
  {
   "cell_type": "code",
   "execution_count": 39,
   "metadata": {},
   "outputs": [],
   "source": [
    "ingresos_2024['CATEGORIA']=ingresos_2024['CATEGORIA'].replace([\"Cadete\",\"Cadeta\",'cadetes',\"Cadetas\"], \"Cadetes\")\n",
    "ingresos_2024['CATEGORIA']=ingresos_2024['CATEGORIA'].replace(['Menor', 'menor', 'menores'], \"Menores\")\n",
    "ingresos_2024['CATEGORIA']=ingresos_2024['CATEGORIA'].replace([\"Infantil\",'infantil'], \"Infantiles\")\n",
    "ingresos_2024['CATEGORIA']=ingresos_2024['CATEGORIA'].replace([\"MINI\",'MIni', '???'], \"Mini\")\n",
    "ingresos_2024['CATEGORIA']=ingresos_2024['CATEGORIA'].replace(\"Mayor\", \"Mayores\")\n",
    "ingresos_2024['CATEGORIA']=ingresos_2024['CATEGORIA'].replace([\"Juvenil\",'juvenil'], \"Juveniles\")\n",
    "ingresos_2024['CATEGORIA']=ingresos_2024['CATEGORIA'].replace('primera', \"Primera\")\n",
    "ingresos_2024['CATEGORIA']=ingresos_2024['CATEGORIA'].replace(['Administracion', 'Sponsor', 'Ajuste', 'Envio','Indumentaria'], \"No procede\")"
   ]
  },
  {
   "cell_type": "code",
   "execution_count": 40,
   "metadata": {},
   "outputs": [],
   "source": [
    "ingresos_2024['CATEGORIA']=ingresos_2024['CATEGORIA'].replace([\"Tranferencia\", 'Tranferencia '], \"Transferencia\")"
   ]
  },
  {
   "cell_type": "code",
   "execution_count": 41,
   "metadata": {},
   "outputs": [
    {
     "data": {
      "text/plain": [
       "array(['Cuota', 'Cambio divisas ahorros', 'Cuota adeudada', 'Locacion',\n",
       "       'SPONSOR CASINO VIRTUAL', 'Cuota medio mes', 'Ingreso erroneo',\n",
       "       'Indumentaria institucional', 'Seguro', 'Sponsor Perramon',\n",
       "       'Administracion', 'Eventos'], dtype=object)"
      ]
     },
     "execution_count": 41,
     "metadata": {},
     "output_type": "execute_result"
    }
   ],
   "source": [
    "ingresos_2024['DESCRIPCION'].unique()"
   ]
  },
  {
   "cell_type": "code",
   "execution_count": 42,
   "metadata": {},
   "outputs": [],
   "source": [
    "ingresos_2024.columns=['FECHA', 'DESCRIPCION', 'MONTO', 'CATEGORIA', 'MEDIO DE PAGO']"
   ]
  },
  {
   "cell_type": "code",
   "execution_count": 43,
   "metadata": {},
   "outputs": [],
   "source": [
    "ingresos_2024['CATEGORIA'] = ingresos_2024.loc[:, 'CATEGORIA'].str.capitalize()"
   ]
  },
  {
   "cell_type": "code",
   "execution_count": 44,
   "metadata": {},
   "outputs": [
    {
     "name": "stdout",
     "output_type": "stream",
     "text": [
      "<class 'pandas.core.frame.DataFrame'>\n",
      "RangeIndex: 1063 entries, 0 to 1062\n",
      "Data columns (total 5 columns):\n",
      " #   Column         Non-Null Count  Dtype         \n",
      "---  ------         --------------  -----         \n",
      " 0   FECHA          1063 non-null   datetime64[ns]\n",
      " 1   DESCRIPCION    1063 non-null   object        \n",
      " 2   MONTO          1063 non-null   float64       \n",
      " 3   CATEGORIA      1063 non-null   object        \n",
      " 4   MEDIO DE PAGO  1063 non-null   object        \n",
      "dtypes: datetime64[ns](1), float64(1), object(3)\n",
      "memory usage: 41.6+ KB\n"
     ]
    }
   ],
   "source": [
    "# Nos aseguramos que no haya ningun Null\n",
    "ingresos_2024.info()"
   ]
  },
  {
   "cell_type": "code",
   "execution_count": 45,
   "metadata": {},
   "outputs": [
    {
     "name": "stdout",
     "output_type": "stream",
     "text": [
      "<class 'pandas.core.frame.DataFrame'>\n",
      "RangeIndex: 1063 entries, 0 to 1062\n",
      "Data columns (total 5 columns):\n",
      " #   Column         Non-Null Count  Dtype         \n",
      "---  ------         --------------  -----         \n",
      " 0   FECHA          1063 non-null   datetime64[ns]\n",
      " 1   DESCRIPCION    1063 non-null   object        \n",
      " 2   MONTO          1063 non-null   float64       \n",
      " 3   CATEGORIA      1063 non-null   object        \n",
      " 4   MEDIO DE PAGO  1063 non-null   object        \n",
      "dtypes: datetime64[ns](1), float64(1), object(3)\n",
      "memory usage: 41.6+ KB\n"
     ]
    }
   ],
   "source": [
    "ingresos_2024.info()"
   ]
  },
  {
   "cell_type": "code",
   "execution_count": 46,
   "metadata": {},
   "outputs": [
    {
     "data": {
      "text/plain": [
       "array(['Cuota', 'Cambio divisas ahorros', 'Cuota adeudada', 'Locacion',\n",
       "       'SPONSOR CASINO VIRTUAL', 'Cuota medio mes', 'Ingreso erroneo',\n",
       "       'Indumentaria institucional', 'Seguro', 'Sponsor Perramon',\n",
       "       'Administracion', 'Eventos'], dtype=object)"
      ]
     },
     "execution_count": 46,
     "metadata": {},
     "output_type": "execute_result"
    }
   ],
   "source": [
    "ingresos_2024['DESCRIPCION'].unique()"
   ]
  },
  {
   "cell_type": "code",
   "execution_count": 47,
   "metadata": {},
   "outputs": [
    {
     "name": "stdout",
     "output_type": "stream",
     "text": [
      "<class 'pandas.core.frame.DataFrame'>\n",
      "RangeIndex: 1063 entries, 0 to 1062\n",
      "Data columns (total 5 columns):\n",
      " #   Column         Non-Null Count  Dtype         \n",
      "---  ------         --------------  -----         \n",
      " 0   FECHA          1063 non-null   datetime64[ns]\n",
      " 1   DESCRIPCION    1063 non-null   object        \n",
      " 2   MONTO          1063 non-null   float64       \n",
      " 3   CATEGORIA      1063 non-null   object        \n",
      " 4   MEDIO DE PAGO  1063 non-null   object        \n",
      "dtypes: datetime64[ns](1), float64(1), object(3)\n",
      "memory usage: 41.6+ KB\n"
     ]
    }
   ],
   "source": [
    "ingresos_2024.info()"
   ]
  },
  {
   "cell_type": "code",
   "execution_count": 48,
   "metadata": {},
   "outputs": [
    {
     "data": {
      "text/html": [
       "<div>\n",
       "<style scoped>\n",
       "    .dataframe tbody tr th:only-of-type {\n",
       "        vertical-align: middle;\n",
       "    }\n",
       "\n",
       "    .dataframe tbody tr th {\n",
       "        vertical-align: top;\n",
       "    }\n",
       "\n",
       "    .dataframe thead th {\n",
       "        text-align: right;\n",
       "    }\n",
       "</style>\n",
       "<table border=\"1\" class=\"dataframe\">\n",
       "  <thead>\n",
       "    <tr style=\"text-align: right;\">\n",
       "      <th></th>\n",
       "      <th>FECHA</th>\n",
       "      <th>DESCRIPCION</th>\n",
       "      <th>MONTO</th>\n",
       "      <th>CATEGORIA</th>\n",
       "      <th>MEDIO DE PAGO</th>\n",
       "    </tr>\n",
       "  </thead>\n",
       "  <tbody>\n",
       "    <tr>\n",
       "      <th>0</th>\n",
       "      <td>2024-02-05</td>\n",
       "      <td>Cuota</td>\n",
       "      <td>7200.0</td>\n",
       "      <td>Menores</td>\n",
       "      <td>Tranferencia</td>\n",
       "    </tr>\n",
       "    <tr>\n",
       "      <th>1</th>\n",
       "      <td>2024-02-05</td>\n",
       "      <td>Cuota</td>\n",
       "      <td>7200.0</td>\n",
       "      <td>Menores</td>\n",
       "      <td>Tranferencia</td>\n",
       "    </tr>\n",
       "    <tr>\n",
       "      <th>2</th>\n",
       "      <td>2024-02-05</td>\n",
       "      <td>Cuota</td>\n",
       "      <td>7200.0</td>\n",
       "      <td>Cadetes</td>\n",
       "      <td>Tranferencia</td>\n",
       "    </tr>\n",
       "    <tr>\n",
       "      <th>3</th>\n",
       "      <td>2024-02-05</td>\n",
       "      <td>Cuota</td>\n",
       "      <td>6120.0</td>\n",
       "      <td>Cadetes</td>\n",
       "      <td>Tranferencia</td>\n",
       "    </tr>\n",
       "    <tr>\n",
       "      <th>4</th>\n",
       "      <td>2024-02-05</td>\n",
       "      <td>Cuota</td>\n",
       "      <td>6120.0</td>\n",
       "      <td>Cadetes</td>\n",
       "      <td>Tranferencia</td>\n",
       "    </tr>\n",
       "    <tr>\n",
       "      <th>...</th>\n",
       "      <td>...</td>\n",
       "      <td>...</td>\n",
       "      <td>...</td>\n",
       "      <td>...</td>\n",
       "      <td>...</td>\n",
       "    </tr>\n",
       "    <tr>\n",
       "      <th>1027</th>\n",
       "      <td>2024-09-28</td>\n",
       "      <td>Cuota</td>\n",
       "      <td>11475.0</td>\n",
       "      <td>Mini</td>\n",
       "      <td>Transferencia</td>\n",
       "    </tr>\n",
       "    <tr>\n",
       "      <th>1028</th>\n",
       "      <td>2024-09-28</td>\n",
       "      <td>Cuota</td>\n",
       "      <td>11475.0</td>\n",
       "      <td>Infantiles</td>\n",
       "      <td>Transferencia</td>\n",
       "    </tr>\n",
       "    <tr>\n",
       "      <th>1029</th>\n",
       "      <td>2024-10-03</td>\n",
       "      <td>Cuota adeudada</td>\n",
       "      <td>19200.0</td>\n",
       "      <td>Cadetes</td>\n",
       "      <td>Transferencia</td>\n",
       "    </tr>\n",
       "    <tr>\n",
       "      <th>1030</th>\n",
       "      <td>2024-10-14</td>\n",
       "      <td>Cuota</td>\n",
       "      <td>13500.0</td>\n",
       "      <td>Menores</td>\n",
       "      <td>Transferencia</td>\n",
       "    </tr>\n",
       "    <tr>\n",
       "      <th>1031</th>\n",
       "      <td>2024-10-24</td>\n",
       "      <td>Cuota</td>\n",
       "      <td>11500.0</td>\n",
       "      <td>Cadetes</td>\n",
       "      <td>Transferencia</td>\n",
       "    </tr>\n",
       "  </tbody>\n",
       "</table>\n",
       "<p>1032 rows × 5 columns</p>\n",
       "</div>"
      ],
      "text/plain": [
       "          FECHA     DESCRIPCION    MONTO   CATEGORIA  MEDIO DE PAGO\n",
       "0    2024-02-05           Cuota   7200.0     Menores   Tranferencia\n",
       "1    2024-02-05           Cuota   7200.0     Menores   Tranferencia\n",
       "2    2024-02-05           Cuota   7200.0     Cadetes   Tranferencia\n",
       "3    2024-02-05           Cuota   6120.0     Cadetes  Tranferencia \n",
       "4    2024-02-05           Cuota   6120.0     Cadetes  Tranferencia \n",
       "...         ...             ...      ...         ...            ...\n",
       "1027 2024-09-28           Cuota  11475.0        Mini  Transferencia\n",
       "1028 2024-09-28           Cuota  11475.0  Infantiles  Transferencia\n",
       "1029 2024-10-03  Cuota adeudada  19200.0     Cadetes  Transferencia\n",
       "1030 2024-10-14           Cuota  13500.0     Menores  Transferencia\n",
       "1031 2024-10-24           Cuota  11500.0     Cadetes  Transferencia\n",
       "\n",
       "[1032 rows x 5 columns]"
      ]
     },
     "execution_count": 48,
     "metadata": {},
     "output_type": "execute_result"
    }
   ],
   "source": [
    "lista_ingresos_reales = ['Cuota', 'Cambio divisas ahorros', 'Cuota adeudada', 'SPONSOR CASINO VIRTUAL', 'Cuota medio mes', 'Sponsor Perramon', 'Eventos']\n",
    "ingresos_reales = ingresos_2024[ingresos_2024.loc[:, 'DESCRIPCION'].isin(lista_ingresos_reales)]\n",
    "ingresos_reales=ingresos_reales.reset_index(drop=True)\n",
    "ingresos_reales"
   ]
  },
  {
   "cell_type": "markdown",
   "metadata": {},
   "source": [
    "### Ingresos por categoria"
   ]
  },
  {
   "cell_type": "code",
   "execution_count": 49,
   "metadata": {},
   "outputs": [
    {
     "data": {
      "text/html": [
       "<div>\n",
       "<style scoped>\n",
       "    .dataframe tbody tr th:only-of-type {\n",
       "        vertical-align: middle;\n",
       "    }\n",
       "\n",
       "    .dataframe tbody tr th {\n",
       "        vertical-align: top;\n",
       "    }\n",
       "\n",
       "    .dataframe thead th {\n",
       "        text-align: right;\n",
       "    }\n",
       "</style>\n",
       "<table border=\"1\" class=\"dataframe\">\n",
       "  <thead>\n",
       "    <tr style=\"text-align: right;\">\n",
       "      <th></th>\n",
       "      <th>CATEGORIA</th>\n",
       "      <th>MONTO</th>\n",
       "    </tr>\n",
       "  </thead>\n",
       "  <tbody>\n",
       "    <tr>\n",
       "      <th>3</th>\n",
       "      <td>Mayores</td>\n",
       "      <td>2392880.00</td>\n",
       "    </tr>\n",
       "    <tr>\n",
       "      <th>4</th>\n",
       "      <td>Menores</td>\n",
       "      <td>2041597.83</td>\n",
       "    </tr>\n",
       "    <tr>\n",
       "      <th>0</th>\n",
       "      <td>Cadetes</td>\n",
       "      <td>1327665.67</td>\n",
       "    </tr>\n",
       "    <tr>\n",
       "      <th>5</th>\n",
       "      <td>Mini</td>\n",
       "      <td>1272846.16</td>\n",
       "    </tr>\n",
       "    <tr>\n",
       "      <th>1</th>\n",
       "      <td>Infantiles</td>\n",
       "      <td>1117127.33</td>\n",
       "    </tr>\n",
       "    <tr>\n",
       "      <th>2</th>\n",
       "      <td>Juveniles</td>\n",
       "      <td>802160.00</td>\n",
       "    </tr>\n",
       "  </tbody>\n",
       "</table>\n",
       "</div>"
      ],
      "text/plain": [
       "    CATEGORIA       MONTO\n",
       "3     Mayores  2392880.00\n",
       "4     Menores  2041597.83\n",
       "0     Cadetes  1327665.67\n",
       "5        Mini  1272846.16\n",
       "1  Infantiles  1117127.33\n",
       "2   Juveniles   802160.00"
      ]
     },
     "execution_count": 49,
     "metadata": {},
     "output_type": "execute_result"
    }
   ],
   "source": [
    "# Filtro cuales de los ingresos son pago de cuota de socios\n",
    "ingresos_cuotas =  ['Cuota', 'Cuota adeudada', 'Cuota medio mes']\n",
    "\n",
    "pago_cuotas = ingresos_reales[ingresos_reales.loc[:, 'DESCRIPCION'].isin(ingresos_cuotas)]\n",
    "ingresos_por_cuotas_hand = pago_cuotas.groupby('CATEGORIA')[['MONTO']].sum().reset_index()\n",
    "ingresos_por_cuotas_hand=ingresos_por_cuotas_hand.sort_values(by='MONTO', ascending=False)\n",
    "ingresos_por_cuotas_hand"
   ]
  },
  {
   "cell_type": "code",
   "execution_count": 50,
   "metadata": {},
   "outputs": [
    {
     "data": {
      "text/plain": [
       "<Figure size 1000x600 with 0 Axes>"
      ]
     },
     "metadata": {},
     "output_type": "display_data"
    },
    {
     "data": {
      "image/png": "[encoded data removed]",
      "text/plain": [
       "<Figure size 640x480 with 1 Axes>"
      ]
     },
     "metadata": {},
     "output_type": "display_data"
    }
   ],
   "source": [
    "# Graficar los ingresos por categoría\n",
    "plt.figure(figsize=(10, 6))\n",
    "ingresos_por_cuotas_hand.plot(kind='bar', color='skyblue')\n",
    "plt.title('Ingresos por Categoría')\n",
    "plt.xlabel('Categoría')\n",
    "plt.ylabel('Monto Total')\n",
    "plt.xticks(rotation=45)\n",
    "plt.show()"
   ]
  },
  {
   "cell_type": "markdown",
   "metadata": {},
   "source": [
    "#### Ingresos totales por mes"
   ]
  },
  {
   "cell_type": "code",
   "execution_count": 51,
   "metadata": {},
   "outputs": [
    {
     "data": {
      "text/plain": [
       "array(['Cuota', 'Cambio divisas ahorros', 'Cuota adeudada',\n",
       "       'SPONSOR CASINO VIRTUAL', 'Cuota medio mes', 'Sponsor Perramon',\n",
       "       'Eventos'], dtype=object)"
      ]
     },
     "execution_count": 51,
     "metadata": {},
     "output_type": "execute_result"
    }
   ],
   "source": [
    "ingresos_reales['DESCRIPCION'].unique()"
   ]
  },
  {
   "cell_type": "code",
   "execution_count": 52,
   "metadata": {},
   "outputs": [
    {
     "data": {
      "text/html": [
       "<div>\n",
       "<style scoped>\n",
       "    .dataframe tbody tr th:only-of-type {\n",
       "        vertical-align: middle;\n",
       "    }\n",
       "\n",
       "    .dataframe tbody tr th {\n",
       "        vertical-align: top;\n",
       "    }\n",
       "\n",
       "    .dataframe thead th {\n",
       "        text-align: right;\n",
       "    }\n",
       "</style>\n",
       "<table border=\"1\" class=\"dataframe\">\n",
       "  <thead>\n",
       "    <tr style=\"text-align: right;\">\n",
       "      <th></th>\n",
       "      <th>FECHA</th>\n",
       "      <th>MONTO TOTAL</th>\n",
       "    </tr>\n",
       "  </thead>\n",
       "  <tbody>\n",
       "    <tr>\n",
       "      <th>0</th>\n",
       "      <td>2024-02-01</td>\n",
       "      <td>583660.00</td>\n",
       "    </tr>\n",
       "    <tr>\n",
       "      <th>1</th>\n",
       "      <td>2024-03-01</td>\n",
       "      <td>749510.00</td>\n",
       "    </tr>\n",
       "    <tr>\n",
       "      <th>2</th>\n",
       "      <td>2024-04-01</td>\n",
       "      <td>824019.98</td>\n",
       "    </tr>\n",
       "    <tr>\n",
       "      <th>3</th>\n",
       "      <td>2024-05-01</td>\n",
       "      <td>970029.00</td>\n",
       "    </tr>\n",
       "    <tr>\n",
       "      <th>4</th>\n",
       "      <td>2024-06-01</td>\n",
       "      <td>1113898.00</td>\n",
       "    </tr>\n",
       "    <tr>\n",
       "      <th>5</th>\n",
       "      <td>2024-07-01</td>\n",
       "      <td>1087640.00</td>\n",
       "    </tr>\n",
       "    <tr>\n",
       "      <th>6</th>\n",
       "      <td>2024-08-01</td>\n",
       "      <td>1178750.00</td>\n",
       "    </tr>\n",
       "    <tr>\n",
       "      <th>7</th>\n",
       "      <td>2024-09-01</td>\n",
       "      <td>1393384.99</td>\n",
       "    </tr>\n",
       "    <tr>\n",
       "      <th>8</th>\n",
       "      <td>2024-10-01</td>\n",
       "      <td>1442885.02</td>\n",
       "    </tr>\n",
       "  </tbody>\n",
       "</table>\n",
       "</div>"
      ],
      "text/plain": [
       "       FECHA  MONTO TOTAL\n",
       "0 2024-02-01    583660.00\n",
       "1 2024-03-01    749510.00\n",
       "2 2024-04-01    824019.98\n",
       "3 2024-05-01    970029.00\n",
       "4 2024-06-01   1113898.00\n",
       "5 2024-07-01   1087640.00\n",
       "6 2024-08-01   1178750.00\n",
       "7 2024-09-01   1393384.99\n",
       "8 2024-10-01   1442885.02"
      ]
     },
     "execution_count": 52,
     "metadata": {},
     "output_type": "execute_result"
    }
   ],
   "source": [
    "# Calcular ingresos totales por mes\n",
    "ingresos_totales_por_mes = ingresos_reales.groupby(ingresos_reales['FECHA'].dt.to_period('M'))['MONTO'].sum().reset_index()\n",
    "\n",
    "# Cambiar el formato del periodo a un tipo de fecha\n",
    "ingresos_totales_por_mes['FECHA'] = ingresos_totales_por_mes['FECHA'].dt.to_timestamp()\n",
    "\n",
    "# Renombrar la columna de montos\n",
    "ingresos_totales_por_mes.rename(columns={'MONTO': 'MONTO TOTAL'}, inplace=True)\n",
    "ingresos_totales_por_mes"
   ]
  },
  {
   "cell_type": "code",
   "execution_count": 53,
   "metadata": {},
   "outputs": [
    {
     "data": {
      "text/html": [
       "<div>\n",
       "<style scoped>\n",
       "    .dataframe tbody tr th:only-of-type {\n",
       "        vertical-align: middle;\n",
       "    }\n",
       "\n",
       "    .dataframe tbody tr th {\n",
       "        vertical-align: top;\n",
       "    }\n",
       "\n",
       "    .dataframe thead th {\n",
       "        text-align: right;\n",
       "    }\n",
       "</style>\n",
       "<table border=\"1\" class=\"dataframe\">\n",
       "  <thead>\n",
       "    <tr style=\"text-align: right;\">\n",
       "      <th></th>\n",
       "      <th>FECHA</th>\n",
       "      <th>MONTO TOTAL</th>\n",
       "      <th>SOCIOS_HAND</th>\n",
       "    </tr>\n",
       "  </thead>\n",
       "  <tbody>\n",
       "    <tr>\n",
       "      <th>0</th>\n",
       "      <td>2024-02-01</td>\n",
       "      <td>583660.00</td>\n",
       "      <td>77</td>\n",
       "    </tr>\n",
       "    <tr>\n",
       "      <th>1</th>\n",
       "      <td>2024-03-01</td>\n",
       "      <td>749510.00</td>\n",
       "      <td>122</td>\n",
       "    </tr>\n",
       "    <tr>\n",
       "      <th>2</th>\n",
       "      <td>2024-04-01</td>\n",
       "      <td>824019.98</td>\n",
       "      <td>135</td>\n",
       "    </tr>\n",
       "    <tr>\n",
       "      <th>3</th>\n",
       "      <td>2024-05-01</td>\n",
       "      <td>970029.00</td>\n",
       "      <td>138</td>\n",
       "    </tr>\n",
       "    <tr>\n",
       "      <th>4</th>\n",
       "      <td>2024-06-01</td>\n",
       "      <td>1113898.00</td>\n",
       "      <td>145</td>\n",
       "    </tr>\n",
       "    <tr>\n",
       "      <th>5</th>\n",
       "      <td>2024-07-01</td>\n",
       "      <td>1087640.00</td>\n",
       "      <td>131</td>\n",
       "    </tr>\n",
       "    <tr>\n",
       "      <th>6</th>\n",
       "      <td>2024-08-01</td>\n",
       "      <td>1178750.00</td>\n",
       "      <td>148</td>\n",
       "    </tr>\n",
       "    <tr>\n",
       "      <th>7</th>\n",
       "      <td>2024-09-01</td>\n",
       "      <td>1393384.99</td>\n",
       "      <td>151</td>\n",
       "    </tr>\n",
       "    <tr>\n",
       "      <th>8</th>\n",
       "      <td>2024-10-01</td>\n",
       "      <td>1442885.02</td>\n",
       "      <td>155</td>\n",
       "    </tr>\n",
       "  </tbody>\n",
       "</table>\n",
       "</div>"
      ],
      "text/plain": [
       "       FECHA  MONTO TOTAL  SOCIOS_HAND\n",
       "0 2024-02-01    583660.00           77\n",
       "1 2024-03-01    749510.00          122\n",
       "2 2024-04-01    824019.98          135\n",
       "3 2024-05-01    970029.00          138\n",
       "4 2024-06-01   1113898.00          145\n",
       "5 2024-07-01   1087640.00          131\n",
       "6 2024-08-01   1178750.00          148\n",
       "7 2024-09-01   1393384.99          151\n",
       "8 2024-10-01   1442885.02          155"
      ]
     },
     "execution_count": 53,
     "metadata": {},
     "output_type": "execute_result"
    }
   ],
   "source": [
    "combinados = pd.merge(ingresos_totales_por_mes, socios_hand_por_mes, left_index=True, right_index=True)\n",
    "combinados= combinados.drop(columns='MES')\n",
    "combinados"
   ]
  },
  {
   "cell_type": "markdown",
   "metadata": {},
   "source": [
    "#### Ingresos por mes por categoria"
   ]
  },
  {
   "cell_type": "code",
   "execution_count": 54,
   "metadata": {},
   "outputs": [
    {
     "data": {
      "text/html": [
       "<div>\n",
       "<style scoped>\n",
       "    .dataframe tbody tr th:only-of-type {\n",
       "        vertical-align: middle;\n",
       "    }\n",
       "\n",
       "    .dataframe tbody tr th {\n",
       "        vertical-align: top;\n",
       "    }\n",
       "\n",
       "    .dataframe thead th {\n",
       "        text-align: right;\n",
       "    }\n",
       "</style>\n",
       "<table border=\"1\" class=\"dataframe\">\n",
       "  <thead>\n",
       "    <tr style=\"text-align: right;\">\n",
       "      <th></th>\n",
       "      <th>FECHA</th>\n",
       "      <th>CATEGORIA</th>\n",
       "      <th>MONTO TOTAL</th>\n",
       "    </tr>\n",
       "  </thead>\n",
       "  <tbody>\n",
       "    <tr>\n",
       "      <th>0</th>\n",
       "      <td>2024-02-01</td>\n",
       "      <td>Cadetes</td>\n",
       "      <td>103320.00</td>\n",
       "    </tr>\n",
       "    <tr>\n",
       "      <th>1</th>\n",
       "      <td>2024-02-01</td>\n",
       "      <td>Infantiles</td>\n",
       "      <td>54450.00</td>\n",
       "    </tr>\n",
       "    <tr>\n",
       "      <th>2</th>\n",
       "      <td>2024-02-01</td>\n",
       "      <td>Juveniles</td>\n",
       "      <td>54620.00</td>\n",
       "    </tr>\n",
       "    <tr>\n",
       "      <th>3</th>\n",
       "      <td>2024-02-01</td>\n",
       "      <td>Mayores</td>\n",
       "      <td>121860.00</td>\n",
       "    </tr>\n",
       "    <tr>\n",
       "      <th>4</th>\n",
       "      <td>2024-02-01</td>\n",
       "      <td>Menores</td>\n",
       "      <td>94400.00</td>\n",
       "    </tr>\n",
       "    <tr>\n",
       "      <th>5</th>\n",
       "      <td>2024-02-01</td>\n",
       "      <td>Mini</td>\n",
       "      <td>35010.00</td>\n",
       "    </tr>\n",
       "    <tr>\n",
       "      <th>6</th>\n",
       "      <td>2024-02-01</td>\n",
       "      <td>No procede</td>\n",
       "      <td>120000.00</td>\n",
       "    </tr>\n",
       "    <tr>\n",
       "      <th>7</th>\n",
       "      <td>2024-03-01</td>\n",
       "      <td>Cadetes</td>\n",
       "      <td>109160.00</td>\n",
       "    </tr>\n",
       "    <tr>\n",
       "      <th>8</th>\n",
       "      <td>2024-03-01</td>\n",
       "      <td>Infantiles</td>\n",
       "      <td>83190.00</td>\n",
       "    </tr>\n",
       "    <tr>\n",
       "      <th>9</th>\n",
       "      <td>2024-03-01</td>\n",
       "      <td>Juveniles</td>\n",
       "      <td>52920.00</td>\n",
       "    </tr>\n",
       "    <tr>\n",
       "      <th>10</th>\n",
       "      <td>2024-03-01</td>\n",
       "      <td>Mayores</td>\n",
       "      <td>253480.00</td>\n",
       "    </tr>\n",
       "    <tr>\n",
       "      <th>11</th>\n",
       "      <td>2024-03-01</td>\n",
       "      <td>Menores</td>\n",
       "      <td>170570.00</td>\n",
       "    </tr>\n",
       "    <tr>\n",
       "      <th>12</th>\n",
       "      <td>2024-03-01</td>\n",
       "      <td>Mini</td>\n",
       "      <td>80190.00</td>\n",
       "    </tr>\n",
       "    <tr>\n",
       "      <th>13</th>\n",
       "      <td>2024-04-01</td>\n",
       "      <td>Cadetes</td>\n",
       "      <td>128170.00</td>\n",
       "    </tr>\n",
       "    <tr>\n",
       "      <th>14</th>\n",
       "      <td>2024-04-01</td>\n",
       "      <td>Infantiles</td>\n",
       "      <td>96466.66</td>\n",
       "    </tr>\n",
       "    <tr>\n",
       "      <th>15</th>\n",
       "      <td>2024-04-01</td>\n",
       "      <td>Juveniles</td>\n",
       "      <td>79220.00</td>\n",
       "    </tr>\n",
       "    <tr>\n",
       "      <th>16</th>\n",
       "      <td>2024-04-01</td>\n",
       "      <td>Mayores</td>\n",
       "      <td>236800.00</td>\n",
       "    </tr>\n",
       "    <tr>\n",
       "      <th>17</th>\n",
       "      <td>2024-04-01</td>\n",
       "      <td>Menores</td>\n",
       "      <td>157826.66</td>\n",
       "    </tr>\n",
       "    <tr>\n",
       "      <th>18</th>\n",
       "      <td>2024-04-01</td>\n",
       "      <td>Mini</td>\n",
       "      <td>95536.66</td>\n",
       "    </tr>\n",
       "    <tr>\n",
       "      <th>19</th>\n",
       "      <td>2024-04-01</td>\n",
       "      <td>No procede</td>\n",
       "      <td>30000.00</td>\n",
       "    </tr>\n",
       "    <tr>\n",
       "      <th>20</th>\n",
       "      <td>2024-05-01</td>\n",
       "      <td>Cadetes</td>\n",
       "      <td>142645.00</td>\n",
       "    </tr>\n",
       "    <tr>\n",
       "      <th>21</th>\n",
       "      <td>2024-05-01</td>\n",
       "      <td>Infantiles</td>\n",
       "      <td>159050.00</td>\n",
       "    </tr>\n",
       "    <tr>\n",
       "      <th>22</th>\n",
       "      <td>2024-05-01</td>\n",
       "      <td>Juveniles</td>\n",
       "      <td>75645.00</td>\n",
       "    </tr>\n",
       "    <tr>\n",
       "      <th>23</th>\n",
       "      <td>2024-05-01</td>\n",
       "      <td>Mayores</td>\n",
       "      <td>238480.00</td>\n",
       "    </tr>\n",
       "    <tr>\n",
       "      <th>24</th>\n",
       "      <td>2024-05-01</td>\n",
       "      <td>Menores</td>\n",
       "      <td>212379.50</td>\n",
       "    </tr>\n",
       "    <tr>\n",
       "      <th>25</th>\n",
       "      <td>2024-05-01</td>\n",
       "      <td>Mini</td>\n",
       "      <td>141829.50</td>\n",
       "    </tr>\n",
       "    <tr>\n",
       "      <th>26</th>\n",
       "      <td>2024-06-01</td>\n",
       "      <td>Cadetes</td>\n",
       "      <td>136754.00</td>\n",
       "    </tr>\n",
       "    <tr>\n",
       "      <th>27</th>\n",
       "      <td>2024-06-01</td>\n",
       "      <td>Infantiles</td>\n",
       "      <td>107259.00</td>\n",
       "    </tr>\n",
       "    <tr>\n",
       "      <th>28</th>\n",
       "      <td>2024-06-01</td>\n",
       "      <td>Juveniles</td>\n",
       "      <td>116595.00</td>\n",
       "    </tr>\n",
       "    <tr>\n",
       "      <th>29</th>\n",
       "      <td>2024-06-01</td>\n",
       "      <td>Mayores</td>\n",
       "      <td>406530.00</td>\n",
       "    </tr>\n",
       "    <tr>\n",
       "      <th>30</th>\n",
       "      <td>2024-06-01</td>\n",
       "      <td>Menores</td>\n",
       "      <td>188405.00</td>\n",
       "    </tr>\n",
       "    <tr>\n",
       "      <th>31</th>\n",
       "      <td>2024-06-01</td>\n",
       "      <td>Mini</td>\n",
       "      <td>158355.00</td>\n",
       "    </tr>\n",
       "    <tr>\n",
       "      <th>32</th>\n",
       "      <td>2024-07-01</td>\n",
       "      <td>Cadetes</td>\n",
       "      <td>154435.00</td>\n",
       "    </tr>\n",
       "    <tr>\n",
       "      <th>33</th>\n",
       "      <td>2024-07-01</td>\n",
       "      <td>Infantiles</td>\n",
       "      <td>97950.00</td>\n",
       "    </tr>\n",
       "    <tr>\n",
       "      <th>34</th>\n",
       "      <td>2024-07-01</td>\n",
       "      <td>Juveniles</td>\n",
       "      <td>119485.00</td>\n",
       "    </tr>\n",
       "    <tr>\n",
       "      <th>35</th>\n",
       "      <td>2024-07-01</td>\n",
       "      <td>Mayores</td>\n",
       "      <td>294630.00</td>\n",
       "    </tr>\n",
       "    <tr>\n",
       "      <th>36</th>\n",
       "      <td>2024-07-01</td>\n",
       "      <td>Menores</td>\n",
       "      <td>263675.00</td>\n",
       "    </tr>\n",
       "    <tr>\n",
       "      <th>37</th>\n",
       "      <td>2024-07-01</td>\n",
       "      <td>Mini</td>\n",
       "      <td>127465.00</td>\n",
       "    </tr>\n",
       "    <tr>\n",
       "      <th>38</th>\n",
       "      <td>2024-07-01</td>\n",
       "      <td>No procede</td>\n",
       "      <td>30000.00</td>\n",
       "    </tr>\n",
       "    <tr>\n",
       "      <th>39</th>\n",
       "      <td>2024-08-01</td>\n",
       "      <td>Cadetes</td>\n",
       "      <td>149775.00</td>\n",
       "    </tr>\n",
       "    <tr>\n",
       "      <th>40</th>\n",
       "      <td>2024-08-01</td>\n",
       "      <td>Infantiles</td>\n",
       "      <td>176850.00</td>\n",
       "    </tr>\n",
       "    <tr>\n",
       "      <th>41</th>\n",
       "      <td>2024-08-01</td>\n",
       "      <td>Juveniles</td>\n",
       "      <td>97625.00</td>\n",
       "    </tr>\n",
       "    <tr>\n",
       "      <th>42</th>\n",
       "      <td>2024-08-01</td>\n",
       "      <td>Mayores</td>\n",
       "      <td>337300.00</td>\n",
       "    </tr>\n",
       "    <tr>\n",
       "      <th>43</th>\n",
       "      <td>2024-08-01</td>\n",
       "      <td>Menores</td>\n",
       "      <td>258405.00</td>\n",
       "    </tr>\n",
       "    <tr>\n",
       "      <th>44</th>\n",
       "      <td>2024-08-01</td>\n",
       "      <td>Mini</td>\n",
       "      <td>158795.00</td>\n",
       "    </tr>\n",
       "    <tr>\n",
       "      <th>45</th>\n",
       "      <td>2024-09-01</td>\n",
       "      <td>Cadetes</td>\n",
       "      <td>197205.00</td>\n",
       "    </tr>\n",
       "    <tr>\n",
       "      <th>46</th>\n",
       "      <td>2024-09-01</td>\n",
       "      <td>Infantiles</td>\n",
       "      <td>161358.33</td>\n",
       "    </tr>\n",
       "    <tr>\n",
       "      <th>47</th>\n",
       "      <td>2024-09-01</td>\n",
       "      <td>Juveniles</td>\n",
       "      <td>111750.00</td>\n",
       "    </tr>\n",
       "    <tr>\n",
       "      <th>48</th>\n",
       "      <td>2024-09-01</td>\n",
       "      <td>Mayores</td>\n",
       "      <td>293050.00</td>\n",
       "    </tr>\n",
       "    <tr>\n",
       "      <th>49</th>\n",
       "      <td>2024-09-01</td>\n",
       "      <td>Menores</td>\n",
       "      <td>381333.33</td>\n",
       "    </tr>\n",
       "    <tr>\n",
       "      <th>50</th>\n",
       "      <td>2024-09-01</td>\n",
       "      <td>Mini</td>\n",
       "      <td>248688.33</td>\n",
       "    </tr>\n",
       "    <tr>\n",
       "      <th>51</th>\n",
       "      <td>2024-10-01</td>\n",
       "      <td>Cadetes</td>\n",
       "      <td>206201.67</td>\n",
       "    </tr>\n",
       "    <tr>\n",
       "      <th>52</th>\n",
       "      <td>2024-10-01</td>\n",
       "      <td>Infantiles</td>\n",
       "      <td>180553.34</td>\n",
       "    </tr>\n",
       "    <tr>\n",
       "      <th>53</th>\n",
       "      <td>2024-10-01</td>\n",
       "      <td>Juveniles</td>\n",
       "      <td>94300.00</td>\n",
       "    </tr>\n",
       "    <tr>\n",
       "      <th>54</th>\n",
       "      <td>2024-10-01</td>\n",
       "      <td>Mayores</td>\n",
       "      <td>210750.00</td>\n",
       "    </tr>\n",
       "    <tr>\n",
       "      <th>55</th>\n",
       "      <td>2024-10-01</td>\n",
       "      <td>Menores</td>\n",
       "      <td>314603.34</td>\n",
       "    </tr>\n",
       "    <tr>\n",
       "      <th>56</th>\n",
       "      <td>2024-10-01</td>\n",
       "      <td>Mini</td>\n",
       "      <td>226976.67</td>\n",
       "    </tr>\n",
       "    <tr>\n",
       "      <th>57</th>\n",
       "      <td>2024-10-01</td>\n",
       "      <td>No procede</td>\n",
       "      <td>209500.00</td>\n",
       "    </tr>\n",
       "  </tbody>\n",
       "</table>\n",
       "</div>"
      ],
      "text/plain": [
       "        FECHA   CATEGORIA  MONTO TOTAL\n",
       "0  2024-02-01     Cadetes    103320.00\n",
       "1  2024-02-01  Infantiles     54450.00\n",
       "2  2024-02-01   Juveniles     54620.00\n",
       "3  2024-02-01     Mayores    121860.00\n",
       "4  2024-02-01     Menores     94400.00\n",
       "5  2024-02-01        Mini     35010.00\n",
       "6  2024-02-01  No procede    120000.00\n",
       "7  2024-03-01     Cadetes    109160.00\n",
       "8  2024-03-01  Infantiles     83190.00\n",
       "9  2024-03-01   Juveniles     52920.00\n",
       "10 2024-03-01     Mayores    253480.00\n",
       "11 2024-03-01     Menores    170570.00\n",
       "12 2024-03-01        Mini     80190.00\n",
       "13 2024-04-01     Cadetes    128170.00\n",
       "14 2024-04-01  Infantiles     96466.66\n",
       "15 2024-04-01   Juveniles     79220.00\n",
       "16 2024-04-01     Mayores    236800.00\n",
       "17 2024-04-01     Menores    157826.66\n",
       "18 2024-04-01        Mini     95536.66\n",
       "19 2024-04-01  No procede     30000.00\n",
       "20 2024-05-01     Cadetes    142645.00\n",
       "21 2024-05-01  Infantiles    159050.00\n",
       "22 2024-05-01   Juveniles     75645.00\n",
       "23 2024-05-01     Mayores    238480.00\n",
       "24 2024-05-01     Menores    212379.50\n",
       "25 2024-05-01        Mini    141829.50\n",
       "26 2024-06-01     Cadetes    136754.00\n",
       "27 2024-06-01  Infantiles    107259.00\n",
       "28 2024-06-01   Juveniles    116595.00\n",
       "29 2024-06-01     Mayores    406530.00\n",
       "30 2024-06-01     Menores    188405.00\n",
       "31 2024-06-01        Mini    158355.00\n",
       "32 2024-07-01     Cadetes    154435.00\n",
       "33 2024-07-01  Infantiles     97950.00\n",
       "34 2024-07-01   Juveniles    119485.00\n",
       "35 2024-07-01     Mayores    294630.00\n",
       "36 2024-07-01     Menores    263675.00\n",
       "37 2024-07-01        Mini    127465.00\n",
       "38 2024-07-01  No procede     30000.00\n",
       "39 2024-08-01     Cadetes    149775.00\n",
       "40 2024-08-01  Infantiles    176850.00\n",
       "41 2024-08-01   Juveniles     97625.00\n",
       "42 2024-08-01     Mayores    337300.00\n",
       "43 2024-08-01     Menores    258405.00\n",
       "44 2024-08-01        Mini    158795.00\n",
       "45 2024-09-01     Cadetes    197205.00\n",
       "46 2024-09-01  Infantiles    161358.33\n",
       "47 2024-09-01   Juveniles    111750.00\n",
       "48 2024-09-01     Mayores    293050.00\n",
       "49 2024-09-01     Menores    381333.33\n",
       "50 2024-09-01        Mini    248688.33\n",
       "51 2024-10-01     Cadetes    206201.67\n",
       "52 2024-10-01  Infantiles    180553.34\n",
       "53 2024-10-01   Juveniles     94300.00\n",
       "54 2024-10-01     Mayores    210750.00\n",
       "55 2024-10-01     Menores    314603.34\n",
       "56 2024-10-01        Mini    226976.67\n",
       "57 2024-10-01  No procede    209500.00"
      ]
     },
     "execution_count": 54,
     "metadata": {},
     "output_type": "execute_result"
    }
   ],
   "source": [
    "# Agrupar por año y mes, y por categoría, y sumar los montos\n",
    "df_totales_por_mes_categoria = ingresos_reales.groupby([ingresos_reales['FECHA'].dt.to_period('M'), 'CATEGORIA'])[['MONTO']].sum().reset_index()\n",
    "\n",
    "# Cambiar el formato del periodo a un tipo de fecha\n",
    "df_totales_por_mes_categoria['FECHA'] = df_totales_por_mes_categoria['FECHA'].dt.to_timestamp()\n",
    "\n",
    "# Renombrar la columna de montos\n",
    "df_totales_por_mes_categoria.rename(columns={'MONTO': 'MONTO TOTAL'}, inplace=True)\n",
    "\n",
    "# Mostrar el DataFrame resultante\n",
    "df_totales_por_mes_categoria"
   ]
  },
  {
   "cell_type": "code",
   "execution_count": 55,
   "metadata": {},
   "outputs": [
    {
     "data": {
      "application/vnd.plotly.v1+json": {
       "config": {
        "plotlyServerURL": "https://plot.ly"
       },
       "data": [
        {
         "alignmentgroup": "True",
         "hovertemplate": "CATEGORIA=Cadetes<br>Fecha=%{x}<br>MONTO TOTAL=%{y}<extra></extra>",
         "legendgroup": "Cadetes",
         "marker": {
          "color": "#636efa",
          "pattern": {
           "shape": ""
          }
         },
         "name": "Cadetes",
         "offsetgroup": "Cadetes",
         "orientation": "v",
         "showlegend": true,
         "textposition": "auto",
         "type": "bar",
         "x": [
          "2024-02-01T00:00:00",
          "2024-03-01T00:00:00",
          "2024-04-01T00:00:00",
          "2024-05-01T00:00:00",
          "2024-06-01T00:00:00",
          "2024-07-01T00:00:00",
          "2024-08-01T00:00:00",
          "2024-09-01T00:00:00",
          "2024-10-01T00:00:00"
         ],
         "xaxis": "x",
         "y": [
          103320,
          109160,
          128170,
          142645,
          136754,
          154435,
          149775,
          197205,
          206201.66999999998
         ],
         "yaxis": "y"
        },
        {
         "alignmentgroup": "True",
         "hovertemplate": "CATEGORIA=Infantiles<br>Fecha=%{x}<br>MONTO TOTAL=%{y}<extra></extra>",
         "legendgroup": "Infantiles",
         "marker": {
          "color": "#EF553B",
          "pattern": {
           "shape": ""
          }
         },
         "name": "Infantiles",
         "offsetgroup": "Infantiles",
         "orientation": "v",
         "showlegend": true,
         "textposition": "auto",
         "type": "bar",
         "x": [
          "2024-02-01T00:00:00",
          "2024-03-01T00:00:00",
          "2024-04-01T00:00:00",
          "2024-05-01T00:00:00",
          "2024-06-01T00:00:00",
          "2024-07-01T00:00:00",
          "2024-08-01T00:00:00",
          "2024-09-01T00:00:00",
          "2024-10-01T00:00:00"
         ],
         "xaxis": "x",
         "y": [
          54450,
          83190,
          96466.66,
          159050,
          107259,
          97950,
          176850,
          161358.33,
          180553.34
         ],
         "yaxis": "y"
        },
        {
         "alignmentgroup": "True",
         "hovertemplate": "CATEGORIA=Juveniles<br>Fecha=%{x}<br>MONTO TOTAL=%{y}<extra></extra>",
         "legendgroup": "Juveniles",
         "marker": {
          "color": "#00cc96",
          "pattern": {
           "shape": ""
          }
         },
         "name": "Juveniles",
         "offsetgroup": "Juveniles",
         "orientation": "v",
         "showlegend": true,
         "textposition": "auto",
         "type": "bar",
         "x": [
          "2024-02-01T00:00:00",
          "2024-03-01T00:00:00",
          "2024-04-01T00:00:00",
          "2024-05-01T00:00:00",
          "2024-06-01T00:00:00",
          "2024-07-01T00:00:00",
          "2024-08-01T00:00:00",
          "2024-09-01T00:00:00",
          "2024-10-01T00:00:00"
         ],
         "xaxis": "x",
         "y": [
          54620,
          52920,
          79220,
          75645,
          116595,
          119485,
          97625,
          111750,
          94300
         ],
         "yaxis": "y"
        },
        {
         "alignmentgroup": "True",
         "hovertemplate": "CATEGORIA=Mayores<br>Fecha=%{x}<br>MONTO TOTAL=%{y}<extra></extra>",
         "legendgroup": "Mayores",
         "marker": {
          "color": "#ab63fa",
          "pattern": {
           "shape": ""
          }
         },
         "name": "Mayores",
         "offsetgroup": "Mayores",
         "orientation": "v",
         "showlegend": true,
         "textposition": "auto",
         "type": "bar",
         "x": [
          "2024-02-01T00:00:00",
          "2024-03-01T00:00:00",
          "2024-04-01T00:00:00",
          "2024-05-01T00:00:00",
          "2024-06-01T00:00:00",
          "2024-07-01T00:00:00",
          "2024-08-01T00:00:00",
          "2024-09-01T00:00:00",
          "2024-10-01T00:00:00"
         ],
         "xaxis": "x",
         "y": [
          121860,
          253480,
          236800,
          238480,
          406530,
          294630,
          337300,
          293050,
          210750
         ],
         "yaxis": "y"
        },
        {
         "alignmentgroup": "True",
         "hovertemplate": "CATEGORIA=Menores<br>Fecha=%{x}<br>MONTO TOTAL=%{y}<extra></extra>",
         "legendgroup": "Menores",
         "marker": {
          "color": "#FFA15A",
          "pattern": {
           "shape": ""
          }
         },
         "name": "Menores",
         "offsetgroup": "Menores",
         "orientation": "v",
         "showlegend": true,
         "textposition": "auto",
         "type": "bar",
         "x": [
          "2024-02-01T00:00:00",
          "2024-03-01T00:00:00",
          "2024-04-01T00:00:00",
          "2024-05-01T00:00:00",
          "2024-06-01T00:00:00",
          "2024-07-01T00:00:00",
          "2024-08-01T00:00:00",
          "2024-09-01T00:00:00",
          "2024-10-01T00:00:00"
         ],
         "xaxis": "x",
         "y": [
          94400,
          170570,
          157826.66,
          212379.5,
          188405,
          263675,
          258405,
          381333.33,
          314603.34
         ],
         "yaxis": "y"
        },
        {
         "alignmentgroup": "True",
         "hovertemplate": "CATEGORIA=Mini<br>Fecha=%{x}<br>MONTO TOTAL=%{y}<extra></extra>",
         "legendgroup": "Mini",
         "marker": {
          "color": "#19d3f3",
          "pattern": {
           "shape": ""
          }
         },
         "name": "Mini",
         "offsetgroup": "Mini",
         "orientation": "v",
         "showlegend": true,
         "textposition": "auto",
         "type": "bar",
         "x": [
          "2024-02-01T00:00:00",
          "2024-03-01T00:00:00",
          "2024-04-01T00:00:00",
          "2024-05-01T00:00:00",
          "2024-06-01T00:00:00",
          "2024-07-01T00:00:00",
          "2024-08-01T00:00:00",
          "2024-09-01T00:00:00",
          "2024-10-01T00:00:00"
         ],
         "xaxis": "x",
         "y": [
          35010,
          80190,
          95536.66,
          141829.5,
          158355,
          127465,
          158795,
          248688.33,
          226976.67
         ],
         "yaxis": "y"
        },
        {
         "alignmentgroup": "True",
         "hovertemplate": "CATEGORIA=No procede<br>Fecha=%{x}<br>MONTO TOTAL=%{y}<extra></extra>",
         "legendgroup": "No procede",
         "marker": {
          "color": "#FF6692",
          "pattern": {
           "shape": ""
          }
         },
         "name": "No procede",
         "offsetgroup": "No procede",
         "orientation": "v",
         "showlegend": true,
         "textposition": "auto",
         "type": "bar",
         "x": [
          "2024-02-01T00:00:00",
          "2024-04-01T00:00:00",
          "2024-07-01T00:00:00",
          "2024-10-01T00:00:00"
         ],
         "xaxis": "x",
         "y": [
          120000,
          30000,
          30000,
          209500
         ],
         "yaxis": "y"
        }
       ],
       "layout": {
        "barmode": "group",
        "hovermode": "x unified",
        "legend": {
         "title": {
          "text": "CATEGORIA"
         },
         "tracegroupgap": 0
        },
        "plot_bgcolor": "white",
        "template": {
         "data": {
          "bar": [
           {
            "error_x": {
             "color": "#2a3f5f"
            },
            "error_y": {
             "color": "#2a3f5f"
            },
            "marker": {
             "line": {
              "color": "#E5ECF6",
              "width": 0.5
             },
             "pattern": {
              "fillmode": "overlay",
              "size": 10,
              "solidity": 0.2
             }
            },
            "type": "bar"
           }
          ],
          "barpolar": [
           {
            "marker": {
             "line": {
              "color": "#E5ECF6",
              "width": 0.5
             },
             "pattern": {
              "fillmode": "overlay",
              "size": 10,
              "solidity": 0.2
             }
            },
            "type": "barpolar"
           }
          ],
          "carpet": [
           {
            "aaxis": {
             "endlinecolor": "#2a3f5f",
             "gridcolor": "white",
             "linecolor": "white",
             "minorgridcolor": "white",
             "startlinecolor": "#2a3f5f"
            },
            "baxis": {
             "endlinecolor": "#2a3f5f",
             "gridcolor": "white",
             "linecolor": "white",
             "minorgridcolor": "white",
             "startlinecolor": "#2a3f5f"
            },
            "type": "carpet"
           }
          ],
          "choropleth": [
           {
            "colorbar": {
             "outlinewidth": 0,
             "ticks": ""
            },
            "type": "choropleth"
           }
          ],
          "contour": [
           {
            "colorbar": {
             "outlinewidth": 0,
             "ticks": ""
            },
            "colorscale": [
             [
              0,
              "#0d0887"
             ],
             [
              0.1111111111111111,
              "#46039f"
             ],
             [
              0.2222222222222222,
              "#7201a8"
             ],
             [
              0.3333333333333333,
              "#9c179e"
             ],
             [
              0.4444444444444444,
              "#bd3786"
             ],
             [
              0.5555555555555556,
              "#d8576b"
             ],
             [
              0.6666666666666666,
              "#ed7953"
             ],
             [
              0.7777777777777778,
              "#fb9f3a"
             ],
             [
              0.8888888888888888,
              "#fdca26"
             ],
             [
              1,
              "#f0f921"
             ]
            ],
            "type": "contour"
           }
          ],
          "contourcarpet": [
           {
            "colorbar": {
             "outlinewidth": 0,
             "ticks": ""
            },
            "type": "contourcarpet"
           }
          ],
          "heatmap": [
           {
            "colorbar": {
             "outlinewidth": 0,
             "ticks": ""
            },
            "colorscale": [
             [
              0,
              "#0d0887"
             ],
             [
              0.1111111111111111,
              "#46039f"
             ],
             [
              0.2222222222222222,
              "#7201a8"
             ],
             [
              0.3333333333333333,
              "#9c179e"
             ],
             [
              0.4444444444444444,
              "#bd3786"
             ],
             [
              0.5555555555555556,
              "#d8576b"
             ],
             [
              0.6666666666666666,
              "#ed7953"
             ],
             [
              0.7777777777777778,
              "#fb9f3a"
             ],
             [
              0.8888888888888888,
              "#fdca26"
             ],
             [
              1,
              "#f0f921"
             ]
            ],
            "type": "heatmap"
           }
          ],
          "heatmapgl": [
           {
            "colorbar": {
             "outlinewidth": 0,
             "ticks": ""
            },
            "colorscale": [
             [
              0,
              "#0d0887"
             ],
             [
              0.1111111111111111,
              "#46039f"
             ],
             [
              0.2222222222222222,
              "#7201a8"
             ],
             [
              0.3333333333333333,
              "#9c179e"
             ],
             [
              0.4444444444444444,
              "#bd3786"
             ],
             [
              0.5555555555555556,
              "#d8576b"
             ],
             [
              0.6666666666666666,
              "#ed7953"
             ],
             [
              0.7777777777777778,
              "#fb9f3a"
             ],
             [
              0.8888888888888888,
              "#fdca26"
             ],
             [
              1,
              "#f0f921"
             ]
            ],
            "type": "heatmapgl"
           }
          ],
          "histogram": [
           {
            "marker": {
             "pattern": {
              "fillmode": "overlay",
              "size": 10,
              "solidity": 0.2
             }
            },
            "type": "histogram"
           }
          ],
          "histogram2d": [
           {
            "colorbar": {
             "outlinewidth": 0,
             "ticks": ""
            },
            "colorscale": [
             [
              0,
              "#0d0887"
             ],
             [
              0.1111111111111111,
              "#46039f"
             ],
             [
              0.2222222222222222,
              "#7201a8"
             ],
             [
              0.3333333333333333,
              "#9c179e"
             ],
             [
              0.4444444444444444,
              "#bd3786"
             ],
             [
              0.5555555555555556,
              "#d8576b"
             ],
             [
              0.6666666666666666,
              "#ed7953"
             ],
             [
              0.7777777777777778,
              "#fb9f3a"
             ],
             [
              0.8888888888888888,
              "#fdca26"
             ],
             [
              1,
              "#f0f921"
             ]
            ],
            "type": "histogram2d"
           }
          ],
          "histogram2dcontour": [
           {
            "colorbar": {
             "outlinewidth": 0,
             "ticks": ""
            },
            "colorscale": [
             [
              0,
              "#0d0887"
             ],
             [
              0.1111111111111111,
              "#46039f"
             ],
             [
              0.2222222222222222,
              "#7201a8"
             ],
             [
              0.3333333333333333,
              "#9c179e"
             ],
             [
              0.4444444444444444,
              "#bd3786"
             ],
             [
              0.5555555555555556,
              "#d8576b"
             ],
             [
              0.6666666666666666,
              "#ed7953"
             ],
             [
              0.7777777777777778,
              "#fb9f3a"
             ],
             [
              0.8888888888888888,
              "#fdca26"
             ],
             [
              1,
              "#f0f921"
             ]
            ],
            "type": "histogram2dcontour"
           }
          ],
          "mesh3d": [
           {
            "colorbar": {
             "outlinewidth": 0,
             "ticks": ""
            },
            "type": "mesh3d"
           }
          ],
          "parcoords": [
           {
            "line": {
             "colorbar": {
              "outlinewidth": 0,
              "ticks": ""
             }
            },
            "type": "parcoords"
           }
          ],
          "pie": [
           {
            "automargin": true,
            "type": "pie"
           }
          ],
          "scatter": [
           {
            "fillpattern": {
             "fillmode": "overlay",
             "size": 10,
             "solidity": 0.2
            },
            "type": "scatter"
           }
          ],
          "scatter3d": [
           {
            "line": {
             "colorbar": {
              "outlinewidth": 0,
              "ticks": ""
             }
            },
            "marker": {
             "colorbar": {
              "outlinewidth": 0,
              "ticks": ""
             }
            },
            "type": "scatter3d"
           }
          ],
          "scattercarpet": [
           {
            "marker": {
             "colorbar": {
              "outlinewidth": 0,
              "ticks": ""
             }
            },
            "type": "scattercarpet"
           }
          ],
          "scattergeo": [
           {
            "marker": {
             "colorbar": {
              "outlinewidth": 0,
              "ticks": ""
             }
            },
            "type": "scattergeo"
           }
          ],
          "scattergl": [
           {
            "marker": {
             "colorbar": {
              "outlinewidth": 0,
              "ticks": ""
             }
            },
            "type": "scattergl"
           }
          ],
          "scattermapbox": [
           {
            "marker": {
             "colorbar": {
              "outlinewidth": 0,
              "ticks": ""
             }
            },
            "type": "scattermapbox"
           }
          ],
          "scatterpolar": [
           {
            "marker": {
             "colorbar": {
              "outlinewidth": 0,
              "ticks": ""
             }
            },
            "type": "scatterpolar"
           }
          ],
          "scatterpolargl": [
           {
            "marker": {
             "colorbar": {
              "outlinewidth": 0,
              "ticks": ""
             }
            },
            "type": "scatterpolargl"
           }
          ],
          "scatterternary": [
           {
            "marker": {
             "colorbar": {
              "outlinewidth": 0,
              "ticks": ""
             }
            },
            "type": "scatterternary"
           }
          ],
          "surface": [
           {
            "colorbar": {
             "outlinewidth": 0,
             "ticks": ""
            },
            "colorscale": [
             [
              0,
              "#0d0887"
             ],
             [
              0.1111111111111111,
              "#46039f"
             ],
             [
              0.2222222222222222,
              "#7201a8"
             ],
             [
              0.3333333333333333,
              "#9c179e"
             ],
             [
              0.4444444444444444,
              "#bd3786"
             ],
             [
              0.5555555555555556,
              "#d8576b"
             ],
             [
              0.6666666666666666,
              "#ed7953"
             ],
             [
              0.7777777777777778,
              "#fb9f3a"
             ],
             [
              0.8888888888888888,
              "#fdca26"
             ],
             [
              1,
              "#f0f921"
             ]
            ],
            "type": "surface"
           }
          ],
          "table": [
           {
            "cells": {
             "fill": {
              "color": "#EBF0F8"
             },
             "line": {
              "color": "white"
             }
            },
            "header": {
             "fill": {
              "color": "#C8D4E3"
             },
             "line": {
              "color": "white"
             }
            },
            "type": "table"
           }
          ]
         },
         "layout": {
          "annotationdefaults": {
           "arrowcolor": "#2a3f5f",
           "arrowhead": 0,
           "arrowwidth": 1
          },
          "autotypenumbers": "strict",
          "coloraxis": {
           "colorbar": {
            "outlinewidth": 0,
            "ticks": ""
           }
          },
          "colorscale": {
           "diverging": [
            [
             0,
             "#8e0152"
            ],
            [
             0.1,
             "#c51b7d"
            ],
            [
             0.2,
             "#de77ae"
            ],
            [
             0.3,
             "#f1b6da"
            ],
            [
             0.4,
             "#fde0ef"
            ],
            [
             0.5,
             "#f7f7f7"
            ],
            [
             0.6,
             "#e6f5d0"
            ],
            [
             0.7,
             "#b8e186"
            ],
            [
             0.8,
             "#7fbc41"
            ],
            [
             0.9,
             "#4d9221"
            ],
            [
             1,
             "#276419"
            ]
           ],
           "sequential": [
            [
             0,
             "#0d0887"
            ],
            [
             0.1111111111111111,
             "#46039f"
            ],
            [
             0.2222222222222222,
             "#7201a8"
            ],
            [
             0.3333333333333333,
             "#9c179e"
            ],
            [
             0.4444444444444444,
             "#bd3786"
            ],
            [
             0.5555555555555556,
             "#d8576b"
            ],
            [
             0.6666666666666666,
             "#ed7953"
            ],
            [
             0.7777777777777778,
             "#fb9f3a"
            ],
            [
             0.8888888888888888,
             "#fdca26"
            ],
            [
             1,
             "#f0f921"
            ]
           ],
           "sequentialminus": [
            [
             0,
             "#0d0887"
            ],
            [
             0.1111111111111111,
             "#46039f"
            ],
            [
             0.2222222222222222,
             "#7201a8"
            ],
            [
             0.3333333333333333,
             "#9c179e"
            ],
            [
             0.4444444444444444,
             "#bd3786"
            ],
            [
             0.5555555555555556,
             "#d8576b"
            ],
            [
             0.6666666666666666,
             "#ed7953"
            ],
            [
             0.7777777777777778,
             "#fb9f3a"
            ],
            [
             0.8888888888888888,
             "#fdca26"
            ],
            [
             1,
             "#f0f921"
            ]
           ]
          },
          "colorway": [
           "#636efa",
           "#EF553B",
           "#00cc96",
           "#ab63fa",
           "#FFA15A",
           "#19d3f3",
           "#FF6692",
           "#B6E880",
           "#FF97FF",
           "#FECB52"
          ],
          "font": {
           "color": "#2a3f5f"
          },
          "geo": {
           "bgcolor": "white",
           "lakecolor": "white",
           "landcolor": "#E5ECF6",
           "showlakes": true,
           "showland": true,
           "subunitcolor": "white"
          },
          "hoverlabel": {
           "align": "left"
          },
          "hovermode": "closest",
          "mapbox": {
           "style": "light"
          },
          "paper_bgcolor": "white",
          "plot_bgcolor": "#E5ECF6",
          "polar": {
           "angularaxis": {
            "gridcolor": "white",
            "linecolor": "white",
            "ticks": ""
           },
           "bgcolor": "#E5ECF6",
           "radialaxis": {
            "gridcolor": "white",
            "linecolor": "white",
            "ticks": ""
           }
          },
          "scene": {
           "xaxis": {
            "backgroundcolor": "#E5ECF6",
            "gridcolor": "white",
            "gridwidth": 2,
            "linecolor": "white",
            "showbackground": true,
            "ticks": "",
            "zerolinecolor": "white"
           },
           "yaxis": {
            "backgroundcolor": "#E5ECF6",
            "gridcolor": "white",
            "gridwidth": 2,
            "linecolor": "white",
            "showbackground": true,
            "ticks": "",
            "zerolinecolor": "white"
           },
           "zaxis": {
            "backgroundcolor": "#E5ECF6",
            "gridcolor": "white",
            "gridwidth": 2,
            "linecolor": "white",
            "showbackground": true,
            "ticks": "",
            "zerolinecolor": "white"
           }
          },
          "shapedefaults": {
           "line": {
            "color": "#2a3f5f"
           }
          },
          "ternary": {
           "aaxis": {
            "gridcolor": "white",
            "linecolor": "white",
            "ticks": ""
           },
           "baxis": {
            "gridcolor": "white",
            "linecolor": "white",
            "ticks": ""
           },
           "bgcolor": "#E5ECF6",
           "caxis": {
            "gridcolor": "white",
            "linecolor": "white",
            "ticks": ""
           }
          },
          "title": {
           "x": 0.05
          },
          "xaxis": {
           "automargin": true,
           "gridcolor": "white",
           "linecolor": "white",
           "ticks": "",
           "title": {
            "standoff": 15
           },
           "zerolinecolor": "white",
           "zerolinewidth": 2
          },
          "yaxis": {
           "automargin": true,
           "gridcolor": "white",
           "linecolor": "white",
           "ticks": "",
           "title": {
            "standoff": 15
           },
           "zerolinecolor": "white",
           "zerolinewidth": 2
          }
         }
        },
        "title": {
         "text": "Comparativa Mensual de Ingresos por Categoría"
        },
        "xaxis": {
         "anchor": "y",
         "domain": [
          0,
          1
         ],
         "title": {
          "text": "Fecha"
         }
        },
        "yaxis": {
         "anchor": "x",
         "domain": [
          0,
          1
         ],
         "title": {
          "text": "Monto Total"
         }
        }
       }
      }
     },
     "metadata": {},
     "output_type": "display_data"
    }
   ],
   "source": [
    "fig = px.bar(df_totales_por_mes_categoria, x='FECHA', y='MONTO TOTAL', color='CATEGORIA', \n",
    "             barmode='group',\n",
    "             title='Comparativa Mensual de Ingresos por Categoría',\n",
    "             labels={'MONTO': 'Monto Total', 'FECHA': 'Fecha'})\n",
    "\n",
    "fig.update_layout(\n",
    "    xaxis_title=\"Fecha\",\n",
    "    yaxis_title=\"Monto Total\",\n",
    "    plot_bgcolor='white',\n",
    "    hovermode='x unified'\n",
    ")\n",
    "\n",
    "fig.show()"
   ]
  },
  {
   "cell_type": "markdown",
   "metadata": {},
   "source": [
    "#### Ingresos totales por categoria\n",
    "Contando solo los ingresos de las cuotas"
   ]
  },
  {
   "cell_type": "code",
   "execution_count": 56,
   "metadata": {},
   "outputs": [
    {
     "data": {
      "text/html": [
       "<div>\n",
       "<style scoped>\n",
       "    .dataframe tbody tr th:only-of-type {\n",
       "        vertical-align: middle;\n",
       "    }\n",
       "\n",
       "    .dataframe tbody tr th {\n",
       "        vertical-align: top;\n",
       "    }\n",
       "\n",
       "    .dataframe thead th {\n",
       "        text-align: right;\n",
       "    }\n",
       "</style>\n",
       "<table border=\"1\" class=\"dataframe\">\n",
       "  <thead>\n",
       "    <tr style=\"text-align: right;\">\n",
       "      <th></th>\n",
       "      <th>CATEGORIA</th>\n",
       "      <th>MONTO TOTAL</th>\n",
       "    </tr>\n",
       "  </thead>\n",
       "  <tbody>\n",
       "    <tr>\n",
       "      <th>3</th>\n",
       "      <td>Mayores</td>\n",
       "      <td>2392880.00</td>\n",
       "    </tr>\n",
       "    <tr>\n",
       "      <th>4</th>\n",
       "      <td>Menores</td>\n",
       "      <td>2041597.83</td>\n",
       "    </tr>\n",
       "    <tr>\n",
       "      <th>0</th>\n",
       "      <td>Cadetes</td>\n",
       "      <td>1327665.67</td>\n",
       "    </tr>\n",
       "    <tr>\n",
       "      <th>5</th>\n",
       "      <td>Mini</td>\n",
       "      <td>1272846.16</td>\n",
       "    </tr>\n",
       "    <tr>\n",
       "      <th>1</th>\n",
       "      <td>Infantiles</td>\n",
       "      <td>1117127.33</td>\n",
       "    </tr>\n",
       "    <tr>\n",
       "      <th>2</th>\n",
       "      <td>Juveniles</td>\n",
       "      <td>802160.00</td>\n",
       "    </tr>\n",
       "    <tr>\n",
       "      <th>6</th>\n",
       "      <td>No procede</td>\n",
       "      <td>389500.00</td>\n",
       "    </tr>\n",
       "  </tbody>\n",
       "</table>\n",
       "</div>"
      ],
      "text/plain": [
       "    CATEGORIA  MONTO TOTAL\n",
       "3     Mayores   2392880.00\n",
       "4     Menores   2041597.83\n",
       "0     Cadetes   1327665.67\n",
       "5        Mini   1272846.16\n",
       "1  Infantiles   1117127.33\n",
       "2   Juveniles    802160.00\n",
       "6  No procede    389500.00"
      ]
     },
     "execution_count": 56,
     "metadata": {},
     "output_type": "execute_result"
    }
   ],
   "source": [
    "tot_por_cat_h = df_totales_por_mes_categoria.groupby('CATEGORIA')[['MONTO TOTAL']].sum().reset_index().sort_values(by='MONTO TOTAL', ascending=False)\n",
    "tot_por_cat_h"
   ]
  },
  {
   "cell_type": "markdown",
   "metadata": {},
   "source": [
    "### Ingresos vs egresos"
   ]
  },
  {
   "cell_type": "code",
   "execution_count": 57,
   "metadata": {},
   "outputs": [
    {
     "data": {
      "text/html": [
       "<div>\n",
       "<style scoped>\n",
       "    .dataframe tbody tr th:only-of-type {\n",
       "        vertical-align: middle;\n",
       "    }\n",
       "\n",
       "    .dataframe tbody tr th {\n",
       "        vertical-align: top;\n",
       "    }\n",
       "\n",
       "    .dataframe thead th {\n",
       "        text-align: right;\n",
       "    }\n",
       "</style>\n",
       "<table border=\"1\" class=\"dataframe\">\n",
       "  <thead>\n",
       "    <tr style=\"text-align: right;\">\n",
       "      <th></th>\n",
       "      <th>FECHA</th>\n",
       "      <th>INGRESOS</th>\n",
       "      <th>EGRESOS</th>\n",
       "    </tr>\n",
       "  </thead>\n",
       "  <tbody>\n",
       "    <tr>\n",
       "      <th>0</th>\n",
       "      <td>2024-02-01</td>\n",
       "      <td>583660.00</td>\n",
       "      <td>595937.00</td>\n",
       "    </tr>\n",
       "    <tr>\n",
       "      <th>1</th>\n",
       "      <td>2024-03-01</td>\n",
       "      <td>749510.00</td>\n",
       "      <td>654554.00</td>\n",
       "    </tr>\n",
       "    <tr>\n",
       "      <th>2</th>\n",
       "      <td>2024-04-01</td>\n",
       "      <td>824019.98</td>\n",
       "      <td>671780.00</td>\n",
       "    </tr>\n",
       "    <tr>\n",
       "      <th>3</th>\n",
       "      <td>2024-05-01</td>\n",
       "      <td>970029.00</td>\n",
       "      <td>921975.48</td>\n",
       "    </tr>\n",
       "    <tr>\n",
       "      <th>4</th>\n",
       "      <td>2024-06-01</td>\n",
       "      <td>1113898.00</td>\n",
       "      <td>1168196.00</td>\n",
       "    </tr>\n",
       "    <tr>\n",
       "      <th>5</th>\n",
       "      <td>2024-07-01</td>\n",
       "      <td>1087640.00</td>\n",
       "      <td>1025506.99</td>\n",
       "    </tr>\n",
       "    <tr>\n",
       "      <th>6</th>\n",
       "      <td>2024-08-01</td>\n",
       "      <td>1178750.00</td>\n",
       "      <td>1147687.00</td>\n",
       "    </tr>\n",
       "    <tr>\n",
       "      <th>7</th>\n",
       "      <td>2024-09-01</td>\n",
       "      <td>1393384.99</td>\n",
       "      <td>1100452.00</td>\n",
       "    </tr>\n",
       "    <tr>\n",
       "      <th>8</th>\n",
       "      <td>2024-10-01</td>\n",
       "      <td>1442885.02</td>\n",
       "      <td>1153801.64</td>\n",
       "    </tr>\n",
       "  </tbody>\n",
       "</table>\n",
       "</div>"
      ],
      "text/plain": [
       "       FECHA    INGRESOS     EGRESOS\n",
       "0 2024-02-01   583660.00   595937.00\n",
       "1 2024-03-01   749510.00   654554.00\n",
       "2 2024-04-01   824019.98   671780.00\n",
       "3 2024-05-01   970029.00   921975.48\n",
       "4 2024-06-01  1113898.00  1168196.00\n",
       "5 2024-07-01  1087640.00  1025506.99\n",
       "6 2024-08-01  1178750.00  1147687.00\n",
       "7 2024-09-01  1393384.99  1100452.00\n",
       "8 2024-10-01  1442885.02  1153801.64"
      ]
     },
     "execution_count": 57,
     "metadata": {},
     "output_type": "execute_result"
    }
   ],
   "source": [
    "ingresos_egresos_h = pd.merge(ingresos_totales_por_mes, egresos_totales_por_mes, on='FECHA')\n",
    "ingresos_egresos_h.columns=['FECHA', 'INGRESOS', 'EGRESOS']\n",
    "ingresos_egresos_h"
   ]
  },
  {
   "cell_type": "code",
   "execution_count": 58,
   "metadata": {},
   "outputs": [
    {
     "data": {
      "text/html": [
       "<div>\n",
       "<style scoped>\n",
       "    .dataframe tbody tr th:only-of-type {\n",
       "        vertical-align: middle;\n",
       "    }\n",
       "\n",
       "    .dataframe tbody tr th {\n",
       "        vertical-align: top;\n",
       "    }\n",
       "\n",
       "    .dataframe thead th {\n",
       "        text-align: right;\n",
       "    }\n",
       "</style>\n",
       "<table border=\"1\" class=\"dataframe\">\n",
       "  <thead>\n",
       "    <tr style=\"text-align: right;\">\n",
       "      <th></th>\n",
       "      <th>FECHA</th>\n",
       "      <th>INGRESOS</th>\n",
       "      <th>EGRESOS</th>\n",
       "      <th>SALDO</th>\n",
       "    </tr>\n",
       "  </thead>\n",
       "  <tbody>\n",
       "    <tr>\n",
       "      <th>0</th>\n",
       "      <td>FEB</td>\n",
       "      <td>583660.00</td>\n",
       "      <td>595937.00</td>\n",
       "      <td>-12277.00</td>\n",
       "    </tr>\n",
       "    <tr>\n",
       "      <th>1</th>\n",
       "      <td>MAR</td>\n",
       "      <td>749510.00</td>\n",
       "      <td>654554.00</td>\n",
       "      <td>94956.00</td>\n",
       "    </tr>\n",
       "    <tr>\n",
       "      <th>2</th>\n",
       "      <td>ABR</td>\n",
       "      <td>824019.98</td>\n",
       "      <td>671780.00</td>\n",
       "      <td>152239.98</td>\n",
       "    </tr>\n",
       "    <tr>\n",
       "      <th>3</th>\n",
       "      <td>MAY</td>\n",
       "      <td>970029.00</td>\n",
       "      <td>921975.48</td>\n",
       "      <td>48053.52</td>\n",
       "    </tr>\n",
       "    <tr>\n",
       "      <th>4</th>\n",
       "      <td>JUN</td>\n",
       "      <td>1113898.00</td>\n",
       "      <td>1168196.00</td>\n",
       "      <td>-54298.00</td>\n",
       "    </tr>\n",
       "    <tr>\n",
       "      <th>5</th>\n",
       "      <td>JUL</td>\n",
       "      <td>1087640.00</td>\n",
       "      <td>1025506.99</td>\n",
       "      <td>62133.01</td>\n",
       "    </tr>\n",
       "    <tr>\n",
       "      <th>6</th>\n",
       "      <td>AGO</td>\n",
       "      <td>1178750.00</td>\n",
       "      <td>1147687.00</td>\n",
       "      <td>31063.00</td>\n",
       "    </tr>\n",
       "    <tr>\n",
       "      <th>7</th>\n",
       "      <td>SEPT</td>\n",
       "      <td>1393384.99</td>\n",
       "      <td>1100452.00</td>\n",
       "      <td>292932.99</td>\n",
       "    </tr>\n",
       "    <tr>\n",
       "      <th>8</th>\n",
       "      <td>OCT</td>\n",
       "      <td>1442885.02</td>\n",
       "      <td>1153801.64</td>\n",
       "      <td>289083.38</td>\n",
       "    </tr>\n",
       "  </tbody>\n",
       "</table>\n",
       "</div>"
      ],
      "text/plain": [
       "  FECHA    INGRESOS     EGRESOS      SALDO\n",
       "0   FEB   583660.00   595937.00  -12277.00\n",
       "1   MAR   749510.00   654554.00   94956.00\n",
       "2   ABR   824019.98   671780.00  152239.98\n",
       "3   MAY   970029.00   921975.48   48053.52\n",
       "4   JUN  1113898.00  1168196.00  -54298.00\n",
       "5   JUL  1087640.00  1025506.99   62133.01\n",
       "6   AGO  1178750.00  1147687.00   31063.00\n",
       "7  SEPT  1393384.99  1100452.00  292932.99\n",
       "8   OCT  1442885.02  1153801.64  289083.38"
      ]
     },
     "execution_count": 58,
     "metadata": {},
     "output_type": "execute_result"
    }
   ],
   "source": [
    "ingresos_egresos_h['SALDO'] = ingresos_egresos_h['INGRESOS'] - ingresos_egresos_h['EGRESOS']\n",
    "ingresos_egresos_h['FECHA'] = ['FEB', 'MAR', 'ABR', 'MAY', 'JUN', 'JUL', 'AGO', 'SEPT', 'OCT']\n",
    "ingresos_egresos_h"
   ]
  },
  {
   "cell_type": "code",
   "execution_count": 59,
   "metadata": {},
   "outputs": [
    {
     "data": {
      "text/html": [
       "<div>\n",
       "<style scoped>\n",
       "    .dataframe tbody tr th:only-of-type {\n",
       "        vertical-align: middle;\n",
       "    }\n",
       "\n",
       "    .dataframe tbody tr th {\n",
       "        vertical-align: top;\n",
       "    }\n",
       "\n",
       "    .dataframe thead th {\n",
       "        text-align: right;\n",
       "    }\n",
       "</style>\n",
       "<table border=\"1\" class=\"dataframe\">\n",
       "  <thead>\n",
       "    <tr style=\"text-align: right;\">\n",
       "      <th></th>\n",
       "      <th>FECHA</th>\n",
       "      <th>INGRESOS</th>\n",
       "      <th>EGRESOS</th>\n",
       "      <th>SALDO</th>\n",
       "      <th>INGRESOS POR SOCIO</th>\n",
       "      <th>EGRESOS POR SOCIO</th>\n",
       "      <th>SALDO POR SOCIO</th>\n",
       "    </tr>\n",
       "  </thead>\n",
       "  <tbody>\n",
       "    <tr>\n",
       "      <th>0</th>\n",
       "      <td>FEB</td>\n",
       "      <td>583660.00</td>\n",
       "      <td>595937.00</td>\n",
       "      <td>-12277.00</td>\n",
       "      <td>7580.00</td>\n",
       "      <td>7739.44</td>\n",
       "      <td>-159.44</td>\n",
       "    </tr>\n",
       "    <tr>\n",
       "      <th>1</th>\n",
       "      <td>MAR</td>\n",
       "      <td>749510.00</td>\n",
       "      <td>654554.00</td>\n",
       "      <td>94956.00</td>\n",
       "      <td>6143.52</td>\n",
       "      <td>5365.20</td>\n",
       "      <td>778.33</td>\n",
       "    </tr>\n",
       "    <tr>\n",
       "      <th>2</th>\n",
       "      <td>ABR</td>\n",
       "      <td>824019.98</td>\n",
       "      <td>671780.00</td>\n",
       "      <td>152239.98</td>\n",
       "      <td>6103.85</td>\n",
       "      <td>4976.15</td>\n",
       "      <td>1127.70</td>\n",
       "    </tr>\n",
       "    <tr>\n",
       "      <th>3</th>\n",
       "      <td>MAY</td>\n",
       "      <td>970029.00</td>\n",
       "      <td>921975.48</td>\n",
       "      <td>48053.52</td>\n",
       "      <td>7029.20</td>\n",
       "      <td>6680.98</td>\n",
       "      <td>348.21</td>\n",
       "    </tr>\n",
       "    <tr>\n",
       "      <th>4</th>\n",
       "      <td>JUN</td>\n",
       "      <td>1113898.00</td>\n",
       "      <td>1168196.00</td>\n",
       "      <td>-54298.00</td>\n",
       "      <td>7682.06</td>\n",
       "      <td>8056.52</td>\n",
       "      <td>-374.47</td>\n",
       "    </tr>\n",
       "    <tr>\n",
       "      <th>5</th>\n",
       "      <td>JUL</td>\n",
       "      <td>1087640.00</td>\n",
       "      <td>1025506.99</td>\n",
       "      <td>62133.01</td>\n",
       "      <td>8302.60</td>\n",
       "      <td>7828.30</td>\n",
       "      <td>474.30</td>\n",
       "    </tr>\n",
       "    <tr>\n",
       "      <th>6</th>\n",
       "      <td>AGO</td>\n",
       "      <td>1178750.00</td>\n",
       "      <td>1147687.00</td>\n",
       "      <td>31063.00</td>\n",
       "      <td>7964.53</td>\n",
       "      <td>7754.64</td>\n",
       "      <td>209.89</td>\n",
       "    </tr>\n",
       "    <tr>\n",
       "      <th>7</th>\n",
       "      <td>SEPT</td>\n",
       "      <td>1393384.99</td>\n",
       "      <td>1100452.00</td>\n",
       "      <td>292932.99</td>\n",
       "      <td>9227.72</td>\n",
       "      <td>7287.76</td>\n",
       "      <td>1939.95</td>\n",
       "    </tr>\n",
       "    <tr>\n",
       "      <th>8</th>\n",
       "      <td>OCT</td>\n",
       "      <td>1442885.02</td>\n",
       "      <td>1153801.64</td>\n",
       "      <td>289083.38</td>\n",
       "      <td>9308.94</td>\n",
       "      <td>7443.88</td>\n",
       "      <td>1865.05</td>\n",
       "    </tr>\n",
       "  </tbody>\n",
       "</table>\n",
       "</div>"
      ],
      "text/plain": [
       "  FECHA    INGRESOS     EGRESOS      SALDO  INGRESOS POR SOCIO  \\\n",
       "0   FEB   583660.00   595937.00  -12277.00             7580.00   \n",
       "1   MAR   749510.00   654554.00   94956.00             6143.52   \n",
       "2   ABR   824019.98   671780.00  152239.98             6103.85   \n",
       "3   MAY   970029.00   921975.48   48053.52             7029.20   \n",
       "4   JUN  1113898.00  1168196.00  -54298.00             7682.06   \n",
       "5   JUL  1087640.00  1025506.99   62133.01             8302.60   \n",
       "6   AGO  1178750.00  1147687.00   31063.00             7964.53   \n",
       "7  SEPT  1393384.99  1100452.00  292932.99             9227.72   \n",
       "8   OCT  1442885.02  1153801.64  289083.38             9308.94   \n",
       "\n",
       "   EGRESOS POR SOCIO  SALDO POR SOCIO  \n",
       "0            7739.44          -159.44  \n",
       "1            5365.20           778.33  \n",
       "2            4976.15          1127.70  \n",
       "3            6680.98           348.21  \n",
       "4            8056.52          -374.47  \n",
       "5            7828.30           474.30  \n",
       "6            7754.64           209.89  \n",
       "7            7287.76          1939.95  \n",
       "8            7443.88          1865.05  "
      ]
     },
     "execution_count": 59,
     "metadata": {},
     "output_type": "execute_result"
    }
   ],
   "source": [
    "ingresos_egresos_h['INGRESOS POR SOCIO'] = round(ingresos_egresos_h['INGRESOS']/socios_por_mes_tot['SOCIOS_HAND'], 2)\n",
    "ingresos_egresos_h['EGRESOS POR SOCIO'] = round(ingresos_egresos_h['EGRESOS']/socios_por_mes_tot['SOCIOS_HAND'], 2)\n",
    "ingresos_egresos_h['SALDO POR SOCIO'] = round(ingresos_egresos_h['SALDO']/socios_por_mes_tot['SOCIOS_HAND'], 2)\n",
    "ingresos_egresos_h"
   ]
  },
  {
   "cell_type": "markdown",
   "metadata": {},
   "source": [
    "#### Ingresos-egresos por mes por socio y saldo"
   ]
  },
  {
   "cell_type": "code",
   "execution_count": 60,
   "metadata": {},
   "outputs": [
    {
     "data": {
      "text/html": [
       "<div>\n",
       "<style scoped>\n",
       "    .dataframe tbody tr th:only-of-type {\n",
       "        vertical-align: middle;\n",
       "    }\n",
       "\n",
       "    .dataframe tbody tr th {\n",
       "        vertical-align: top;\n",
       "    }\n",
       "\n",
       "    .dataframe thead th {\n",
       "        text-align: right;\n",
       "    }\n",
       "</style>\n",
       "<table border=\"1\" class=\"dataframe\">\n",
       "  <thead>\n",
       "    <tr style=\"text-align: right;\">\n",
       "      <th></th>\n",
       "      <th>FECHA</th>\n",
       "      <th>INGRESOS</th>\n",
       "      <th>EGRESOS</th>\n",
       "      <th>SALDO</th>\n",
       "      <th>INGRESOS POR SOCIO</th>\n",
       "      <th>EGRESOS POR SOCIO</th>\n",
       "      <th>SALDO POR SOCIO</th>\n",
       "    </tr>\n",
       "  </thead>\n",
       "  <tbody>\n",
       "    <tr>\n",
       "      <th>0</th>\n",
       "      <td>FEB</td>\n",
       "      <td>583660.00</td>\n",
       "      <td>595937.00</td>\n",
       "      <td>-12277.00</td>\n",
       "      <td>7580.00</td>\n",
       "      <td>7739.44</td>\n",
       "      <td>-159.44</td>\n",
       "    </tr>\n",
       "    <tr>\n",
       "      <th>1</th>\n",
       "      <td>MAR</td>\n",
       "      <td>749510.00</td>\n",
       "      <td>654554.00</td>\n",
       "      <td>94956.00</td>\n",
       "      <td>6143.52</td>\n",
       "      <td>5365.20</td>\n",
       "      <td>778.33</td>\n",
       "    </tr>\n",
       "    <tr>\n",
       "      <th>2</th>\n",
       "      <td>ABR</td>\n",
       "      <td>824019.98</td>\n",
       "      <td>671780.00</td>\n",
       "      <td>152239.98</td>\n",
       "      <td>6103.85</td>\n",
       "      <td>4976.15</td>\n",
       "      <td>1127.70</td>\n",
       "    </tr>\n",
       "    <tr>\n",
       "      <th>3</th>\n",
       "      <td>MAY</td>\n",
       "      <td>970029.00</td>\n",
       "      <td>921975.48</td>\n",
       "      <td>48053.52</td>\n",
       "      <td>7029.20</td>\n",
       "      <td>6680.98</td>\n",
       "      <td>348.21</td>\n",
       "    </tr>\n",
       "    <tr>\n",
       "      <th>4</th>\n",
       "      <td>JUN</td>\n",
       "      <td>1113898.00</td>\n",
       "      <td>1168196.00</td>\n",
       "      <td>-54298.00</td>\n",
       "      <td>7682.06</td>\n",
       "      <td>8056.52</td>\n",
       "      <td>-374.47</td>\n",
       "    </tr>\n",
       "    <tr>\n",
       "      <th>5</th>\n",
       "      <td>JUL</td>\n",
       "      <td>1087640.00</td>\n",
       "      <td>1025506.99</td>\n",
       "      <td>62133.01</td>\n",
       "      <td>8302.60</td>\n",
       "      <td>7828.30</td>\n",
       "      <td>474.30</td>\n",
       "    </tr>\n",
       "    <tr>\n",
       "      <th>6</th>\n",
       "      <td>AGO</td>\n",
       "      <td>1178750.00</td>\n",
       "      <td>1147687.00</td>\n",
       "      <td>31063.00</td>\n",
       "      <td>7964.53</td>\n",
       "      <td>7754.64</td>\n",
       "      <td>209.89</td>\n",
       "    </tr>\n",
       "    <tr>\n",
       "      <th>7</th>\n",
       "      <td>SEPT</td>\n",
       "      <td>1393384.99</td>\n",
       "      <td>1100452.00</td>\n",
       "      <td>292932.99</td>\n",
       "      <td>9227.72</td>\n",
       "      <td>7287.76</td>\n",
       "      <td>1939.95</td>\n",
       "    </tr>\n",
       "    <tr>\n",
       "      <th>8</th>\n",
       "      <td>OCT</td>\n",
       "      <td>1442885.02</td>\n",
       "      <td>1153801.64</td>\n",
       "      <td>289083.38</td>\n",
       "      <td>9308.94</td>\n",
       "      <td>7443.88</td>\n",
       "      <td>1865.05</td>\n",
       "    </tr>\n",
       "  </tbody>\n",
       "</table>\n",
       "</div>"
      ],
      "text/plain": [
       "  FECHA    INGRESOS     EGRESOS      SALDO  INGRESOS POR SOCIO  \\\n",
       "0   FEB   583660.00   595937.00  -12277.00             7580.00   \n",
       "1   MAR   749510.00   654554.00   94956.00             6143.52   \n",
       "2   ABR   824019.98   671780.00  152239.98             6103.85   \n",
       "3   MAY   970029.00   921975.48   48053.52             7029.20   \n",
       "4   JUN  1113898.00  1168196.00  -54298.00             7682.06   \n",
       "5   JUL  1087640.00  1025506.99   62133.01             8302.60   \n",
       "6   AGO  1178750.00  1147687.00   31063.00             7964.53   \n",
       "7  SEPT  1393384.99  1100452.00  292932.99             9227.72   \n",
       "8   OCT  1442885.02  1153801.64  289083.38             9308.94   \n",
       "\n",
       "   EGRESOS POR SOCIO  SALDO POR SOCIO  \n",
       "0            7739.44          -159.44  \n",
       "1            5365.20           778.33  \n",
       "2            4976.15          1127.70  \n",
       "3            6680.98           348.21  \n",
       "4            8056.52          -374.47  \n",
       "5            7828.30           474.30  \n",
       "6            7754.64           209.89  \n",
       "7            7287.76          1939.95  \n",
       "8            7443.88          1865.05  "
      ]
     },
     "execution_count": 60,
     "metadata": {},
     "output_type": "execute_result"
    }
   ],
   "source": [
    "ingresos_egresos_h['INGRESOS POR SOCIO'] = round(ingresos_egresos_h['INGRESOS']/socios_por_mes_tot['SOCIOS_HAND'], 2)\n",
    "ingresos_egresos_h['EGRESOS POR SOCIO'] = round(ingresos_egresos_h['EGRESOS']/socios_por_mes_tot['SOCIOS_HAND'], 2)\n",
    "ingresos_egresos_h['SALDO POR SOCIO'] = round(ingresos_egresos_h['SALDO']/socios_por_mes_tot['SOCIOS_HAND'], 2)\n",
    "ingresos_egresos_h"
   ]
  },
  {
   "cell_type": "code",
   "execution_count": 61,
   "metadata": {},
   "outputs": [
    {
     "name": "stdout",
     "output_type": "stream",
     "text": [
      "El saldo anual total es de: 903886.88\n",
      "El saldo anual por socio es de: 6209.52\n"
     ]
    }
   ],
   "source": [
    "saldo_anual_h = round(ingresos_egresos_h['SALDO'].sum(), 2)\n",
    "print(\"El saldo anual total es de:\", saldo_anual_h)\n",
    "saldo_por_socio_f = round(ingresos_egresos_h['SALDO POR SOCIO'].sum(), 2)\n",
    "print(\"El saldo anual por socio es de:\", saldo_por_socio_f)"
   ]
  },
  {
   "cell_type": "markdown",
   "metadata": {},
   "source": [
    "Conclusion: \n",
    "\n",
    "En los meses de febrero y junio hubo saldo negativo muy bajo: de $ 119.19 y $ 402.21 respectivamente.\n",
    "\n",
    "- El saldo anual total es de: 911386.88\n",
    "\n",
    "- El saldo anual por socio es de: 6597.67"
   ]
  },
  {
   "cell_type": "markdown",
   "metadata": {},
   "source": [
    "#### Ingresos, egresos y permanencias socios por categoria"
   ]
  },
  {
   "cell_type": "code",
   "execution_count": 62,
   "metadata": {},
   "outputs": [
    {
     "data": {
      "text/plain": [
       "array(['Mini', 'Infantil', 'Menores', 'Cadetes', 'Juveniles', 'Primera'],\n",
       "      dtype=object)"
      ]
     },
     "execution_count": 62,
     "metadata": {},
     "output_type": "execute_result"
    }
   ],
   "source": [
    "resultados_h['CATEGORIA'].unique()"
   ]
  },
  {
   "cell_type": "markdown",
   "metadata": {},
   "source": [
    "## Lista becados"
   ]
  },
  {
   "cell_type": "code",
   "execution_count": 63,
   "metadata": {},
   "outputs": [],
   "source": [
    "becados = r\"C:\\Users\\emita\\Bootcamp\\EDA\\data\\Ingresos_Egresos_Hand\\Lista_becados.csv\"\n",
    "becas = pd.read_csv(becados)"
   ]
  },
  {
   "cell_type": "code",
   "execution_count": 64,
   "metadata": {},
   "outputs": [
    {
     "data": {
      "text/html": [
       "<div>\n",
       "<style scoped>\n",
       "    .dataframe tbody tr th:only-of-type {\n",
       "        vertical-align: middle;\n",
       "    }\n",
       "\n",
       "    .dataframe tbody tr th {\n",
       "        vertical-align: top;\n",
       "    }\n",
       "\n",
       "    .dataframe thead th {\n",
       "        text-align: right;\n",
       "    }\n",
       "</style>\n",
       "<table border=\"1\" class=\"dataframe\">\n",
       "  <thead>\n",
       "    <tr style=\"text-align: right;\">\n",
       "      <th></th>\n",
       "      <th>NOMBRE</th>\n",
       "      <th>APELLIDO</th>\n",
       "      <th>DISCIPLINA</th>\n",
       "      <th>CATEGORIA</th>\n",
       "      <th>PORCENTAJE BECA</th>\n",
       "      <th>Motivo</th>\n",
       "      <th>Unnamed: 6</th>\n",
       "      <th>Unnamed: 7</th>\n",
       "    </tr>\n",
       "  </thead>\n",
       "  <tbody>\n",
       "    <tr>\n",
       "      <th>0</th>\n",
       "      <td>P</td>\n",
       "      <td>V</td>\n",
       "      <td>Handball</td>\n",
       "      <td>Mayores masculino</td>\n",
       "      <td>100%</td>\n",
       "      <td>Mantenimiento club</td>\n",
       "      <td>NaN</td>\n",
       "      <td>NaN</td>\n",
       "    </tr>\n",
       "    <tr>\n",
       "      <th>1</th>\n",
       "      <td>N</td>\n",
       "      <td>A</td>\n",
       "      <td>Handball</td>\n",
       "      <td>Cadetes femenino</td>\n",
       "      <td>100%</td>\n",
       "      <td>Incentivo viaje</td>\n",
       "      <td>NaN</td>\n",
       "      <td>NaN</td>\n",
       "    </tr>\n",
       "    <tr>\n",
       "      <th>2</th>\n",
       "      <td>L</td>\n",
       "      <td>A</td>\n",
       "      <td>Handball</td>\n",
       "      <td>Cadetes femenino</td>\n",
       "      <td>50%</td>\n",
       "      <td>Incentivo viaje</td>\n",
       "      <td>NaN</td>\n",
       "      <td>NaN</td>\n",
       "    </tr>\n",
       "    <tr>\n",
       "      <th>3</th>\n",
       "      <td>R</td>\n",
       "      <td>R</td>\n",
       "      <td>Handball</td>\n",
       "      <td>Cadetes femenino</td>\n",
       "      <td>50%</td>\n",
       "      <td>Incentivo viaje</td>\n",
       "      <td>NaN</td>\n",
       "      <td>NaN</td>\n",
       "    </tr>\n",
       "    <tr>\n",
       "      <th>4</th>\n",
       "      <td>Ma</td>\n",
       "      <td>B</td>\n",
       "      <td>Handball</td>\n",
       "      <td>Cadetes femenino</td>\n",
       "      <td>50%</td>\n",
       "      <td>Incentivo viaje</td>\n",
       "      <td>NaN</td>\n",
       "      <td>NaN</td>\n",
       "    </tr>\n",
       "    <tr>\n",
       "      <th>5</th>\n",
       "      <td>C</td>\n",
       "      <td>C</td>\n",
       "      <td>Handball</td>\n",
       "      <td>Cadetes femenino</td>\n",
       "      <td>100%</td>\n",
       "      <td>Incentivo viaje</td>\n",
       "      <td>NaN</td>\n",
       "      <td>NaN</td>\n",
       "    </tr>\n",
       "    <tr>\n",
       "      <th>6</th>\n",
       "      <td>F</td>\n",
       "      <td>B</td>\n",
       "      <td>Handball</td>\n",
       "      <td>Mayores femenino</td>\n",
       "      <td>100%</td>\n",
       "      <td>Administracion club</td>\n",
       "      <td></td>\n",
       "      <td>NaN</td>\n",
       "    </tr>\n",
       "    <tr>\n",
       "      <th>7</th>\n",
       "      <td>M</td>\n",
       "      <td>C</td>\n",
       "      <td>Voley</td>\n",
       "      <td>PRIMERA FEMENINO</td>\n",
       "      <td>100%</td>\n",
       "      <td>Motivos economicos</td>\n",
       "      <td>NaN</td>\n",
       "      <td>NaN</td>\n",
       "    </tr>\n",
       "    <tr>\n",
       "      <th>8</th>\n",
       "      <td>M</td>\n",
       "      <td>P</td>\n",
       "      <td>Voley</td>\n",
       "      <td>PRIMERA FEMENINO</td>\n",
       "      <td>100%</td>\n",
       "      <td>Profesor club</td>\n",
       "      <td>NaN</td>\n",
       "      <td>NaN</td>\n",
       "    </tr>\n",
       "    <tr>\n",
       "      <th>9</th>\n",
       "      <td>I</td>\n",
       "      <td>A</td>\n",
       "      <td>Voley</td>\n",
       "      <td>PRIMERA FEMENINO</td>\n",
       "      <td>100%</td>\n",
       "      <td>Motivos economicos</td>\n",
       "      <td>NaN</td>\n",
       "      <td>NaN</td>\n",
       "    </tr>\n",
       "    <tr>\n",
       "      <th>10</th>\n",
       "      <td>S</td>\n",
       "      <td>B</td>\n",
       "      <td>Voley</td>\n",
       "      <td>PRIMERA FEMENINO</td>\n",
       "      <td>50%</td>\n",
       "      <td>Motivos economicos</td>\n",
       "      <td>NaN</td>\n",
       "      <td>NaN</td>\n",
       "    </tr>\n",
       "    <tr>\n",
       "      <th>11</th>\n",
       "      <td>B</td>\n",
       "      <td>M</td>\n",
       "      <td>Voley</td>\n",
       "      <td>sub 16 masculino</td>\n",
       "      <td>50%</td>\n",
       "      <td>Motivos economicos</td>\n",
       "      <td>NaN</td>\n",
       "      <td>NaN</td>\n",
       "    </tr>\n",
       "    <tr>\n",
       "      <th>12</th>\n",
       "      <td>J</td>\n",
       "      <td>G</td>\n",
       "      <td>Voley</td>\n",
       "      <td>sub 16 masculino</td>\n",
       "      <td>50%</td>\n",
       "      <td>Motivos economicos</td>\n",
       "      <td>NaN</td>\n",
       "      <td>NaN</td>\n",
       "    </tr>\n",
       "    <tr>\n",
       "      <th>13</th>\n",
       "      <td>E</td>\n",
       "      <td>R</td>\n",
       "      <td>Voley</td>\n",
       "      <td>Primera Masculino</td>\n",
       "      <td>100%</td>\n",
       "      <td>Profesor club</td>\n",
       "      <td>NaN</td>\n",
       "      <td>NaN</td>\n",
       "    </tr>\n",
       "    <tr>\n",
       "      <th>14</th>\n",
       "      <td>A</td>\n",
       "      <td>B</td>\n",
       "      <td>Voley</td>\n",
       "      <td>Primera Masculino</td>\n",
       "      <td>100%</td>\n",
       "      <td>Profesor club</td>\n",
       "      <td>NaN</td>\n",
       "      <td>NaN</td>\n",
       "    </tr>\n",
       "    <tr>\n",
       "      <th>15</th>\n",
       "      <td>MA</td>\n",
       "      <td>F</td>\n",
       "      <td>Voley</td>\n",
       "      <td>sub 18 femenino</td>\n",
       "      <td>50%</td>\n",
       "      <td>Motivos economicos</td>\n",
       "      <td>NaN</td>\n",
       "      <td>NaN</td>\n",
       "    </tr>\n",
       "    <tr>\n",
       "      <th>16</th>\n",
       "      <td>L</td>\n",
       "      <td>M</td>\n",
       "      <td>Handball</td>\n",
       "      <td>Juveniles damas</td>\n",
       "      <td>50%</td>\n",
       "      <td>Incentivo viaje</td>\n",
       "      <td>NaN</td>\n",
       "      <td>NaN</td>\n",
       "    </tr>\n",
       "    <tr>\n",
       "      <th>17</th>\n",
       "      <td>V</td>\n",
       "      <td>M</td>\n",
       "      <td>Handball</td>\n",
       "      <td>Mayores femenino</td>\n",
       "      <td>50%</td>\n",
       "      <td>Incentivo viaje</td>\n",
       "      <td>NaN</td>\n",
       "      <td>NaN</td>\n",
       "    </tr>\n",
       "    <tr>\n",
       "      <th>18</th>\n",
       "      <td>A</td>\n",
       "      <td>JP</td>\n",
       "      <td>Handball</td>\n",
       "      <td>Menor masc</td>\n",
       "      <td>50%</td>\n",
       "      <td>Motivos economicos</td>\n",
       "      <td>NaN</td>\n",
       "      <td></td>\n",
       "    </tr>\n",
       "    <tr>\n",
       "      <th>19</th>\n",
       "      <td>N</td>\n",
       "      <td>B</td>\n",
       "      <td>Voley</td>\n",
       "      <td>sub 16 masc</td>\n",
       "      <td>100%</td>\n",
       "      <td>Motivos economicos</td>\n",
       "      <td>NaN</td>\n",
       "      <td>NaN</td>\n",
       "    </tr>\n",
       "    <tr>\n",
       "      <th>20</th>\n",
       "      <td>O</td>\n",
       "      <td>P</td>\n",
       "      <td>Handball</td>\n",
       "      <td>Cadetes masculino</td>\n",
       "      <td>100%</td>\n",
       "      <td>Merito deportivo</td>\n",
       "      <td>NaN</td>\n",
       "      <td>NaN</td>\n",
       "    </tr>\n",
       "    <tr>\n",
       "      <th>21</th>\n",
       "      <td>D</td>\n",
       "      <td>A</td>\n",
       "      <td>Handball</td>\n",
       "      <td>Mayores femenino</td>\n",
       "      <td>100%</td>\n",
       "      <td>Profesor club</td>\n",
       "      <td>NaN</td>\n",
       "      <td>NaN</td>\n",
       "    </tr>\n",
       "    <tr>\n",
       "      <th>22</th>\n",
       "      <td>A</td>\n",
       "      <td>G</td>\n",
       "      <td>Handball</td>\n",
       "      <td>Mayores femenino</td>\n",
       "      <td>100%</td>\n",
       "      <td>Profesor club</td>\n",
       "      <td>NaN</td>\n",
       "      <td>NaN</td>\n",
       "    </tr>\n",
       "    <tr>\n",
       "      <th>23</th>\n",
       "      <td>A</td>\n",
       "      <td>M</td>\n",
       "      <td>Handball</td>\n",
       "      <td>Mayores femenino</td>\n",
       "      <td>100%</td>\n",
       "      <td>Profesor club</td>\n",
       "      <td>NaN</td>\n",
       "      <td>NaN</td>\n",
       "    </tr>\n",
       "    <tr>\n",
       "      <th>24</th>\n",
       "      <td>S</td>\n",
       "      <td>B</td>\n",
       "      <td>Handball</td>\n",
       "      <td>Mayores masculino</td>\n",
       "      <td>100%</td>\n",
       "      <td>Profesor club</td>\n",
       "      <td>NaN</td>\n",
       "      <td>NaN</td>\n",
       "    </tr>\n",
       "    <tr>\n",
       "      <th>25</th>\n",
       "      <td>U</td>\n",
       "      <td>F</td>\n",
       "      <td>Handball</td>\n",
       "      <td>Mayores masculino</td>\n",
       "      <td>100%</td>\n",
       "      <td>Profesor club</td>\n",
       "      <td>NaN</td>\n",
       "      <td>NaN</td>\n",
       "    </tr>\n",
       "    <tr>\n",
       "      <th>26</th>\n",
       "      <td>F</td>\n",
       "      <td>M</td>\n",
       "      <td>Handball</td>\n",
       "      <td>Mayores masculino</td>\n",
       "      <td>100%</td>\n",
       "      <td>Profesor club</td>\n",
       "      <td>NaN</td>\n",
       "      <td>NaN</td>\n",
       "    </tr>\n",
       "    <tr>\n",
       "      <th>27</th>\n",
       "      <td>S</td>\n",
       "      <td>R</td>\n",
       "      <td>Handball</td>\n",
       "      <td>Mayores masculino</td>\n",
       "      <td>100%</td>\n",
       "      <td>Profesor club</td>\n",
       "      <td>NaN</td>\n",
       "      <td>NaN</td>\n",
       "    </tr>\n",
       "    <tr>\n",
       "      <th>28</th>\n",
       "      <td>B</td>\n",
       "      <td>G</td>\n",
       "      <td>Voley</td>\n",
       "      <td>Primera Masculino</td>\n",
       "      <td>100%</td>\n",
       "      <td>Profesor club</td>\n",
       "      <td>NaN</td>\n",
       "      <td>NaN</td>\n",
       "    </tr>\n",
       "    <tr>\n",
       "      <th>29</th>\n",
       "      <td>F</td>\n",
       "      <td>T</td>\n",
       "      <td>Handball</td>\n",
       "      <td>Mayores masculino</td>\n",
       "      <td>100%</td>\n",
       "      <td>Profesor club</td>\n",
       "      <td>NaN</td>\n",
       "      <td>NaN</td>\n",
       "    </tr>\n",
       "    <tr>\n",
       "      <th>30</th>\n",
       "      <td>S</td>\n",
       "      <td>M</td>\n",
       "      <td>Handball</td>\n",
       "      <td>Mayores masculino</td>\n",
       "      <td>100%</td>\n",
       "      <td>Profesor club</td>\n",
       "      <td>NaN</td>\n",
       "      <td>NaN</td>\n",
       "    </tr>\n",
       "  </tbody>\n",
       "</table>\n",
       "</div>"
      ],
      "text/plain": [
       "   NOMBRE APELLIDO DISCIPLINA           CATEGORIA PORCENTAJE BECA  \\\n",
       "0      P         V    Handball  Mayores masculino            100%   \n",
       "1       N        A    Handball   Cadetes femenino            100%   \n",
       "2       L        A    Handball   Cadetes femenino             50%   \n",
       "3       R        R    Handball   Cadetes femenino             50%   \n",
       "4      Ma        B    Handball   Cadetes femenino             50%   \n",
       "5       C        C    Handball   Cadetes femenino            100%   \n",
       "6      F         B    Handball   Mayores femenino            100%   \n",
       "7       M        C       Voley   PRIMERA FEMENINO            100%   \n",
       "8       M       P        Voley   PRIMERA FEMENINO            100%   \n",
       "9      I         A       Voley   PRIMERA FEMENINO            100%   \n",
       "10      S        B       Voley   PRIMERA FEMENINO             50%   \n",
       "11      B        M       Voley   sub 16 masculino             50%   \n",
       "12      J       G        Voley   sub 16 masculino             50%   \n",
       "13      E        R       Voley  Primera Masculino            100%   \n",
       "14      A        B       Voley  Primera Masculino            100%   \n",
       "15     MA        F       Voley    sub 18 femenino             50%   \n",
       "16      L        M    Handball    Juveniles damas             50%   \n",
       "17      V       M     Handball   Mayores femenino             50%   \n",
       "18     A       JP     Handball        Menor masc              50%   \n",
       "19     N         B       Voley        sub 16 masc            100%   \n",
       "20      O        P    Handball  Cadetes masculino            100%   \n",
       "21      D        A    Handball   Mayores femenino            100%   \n",
       "22      A        G    Handball   Mayores femenino            100%   \n",
       "23      A        M    Handball   Mayores femenino            100%   \n",
       "24      S        B    Handball  Mayores masculino            100%   \n",
       "25      U        F    Handball  Mayores masculino            100%   \n",
       "26      F        M    Handball  Mayores masculino            100%   \n",
       "27      S        R    Handball  Mayores masculino            100%   \n",
       "28      B       G        Voley  Primera Masculino            100%   \n",
       "29      F        T    Handball  Mayores masculino            100%   \n",
       "30      S        M    Handball  Mayores masculino            100%   \n",
       "\n",
       "                 Motivo Unnamed: 6 Unnamed: 7  \n",
       "0    Mantenimiento club        NaN        NaN  \n",
       "1       Incentivo viaje        NaN        NaN  \n",
       "2       Incentivo viaje        NaN        NaN  \n",
       "3       Incentivo viaje        NaN        NaN  \n",
       "4       Incentivo viaje        NaN        NaN  \n",
       "5       Incentivo viaje        NaN        NaN  \n",
       "6   Administracion club                   NaN  \n",
       "7    Motivos economicos        NaN        NaN  \n",
       "8         Profesor club        NaN        NaN  \n",
       "9    Motivos economicos        NaN        NaN  \n",
       "10   Motivos economicos        NaN        NaN  \n",
       "11   Motivos economicos        NaN        NaN  \n",
       "12   Motivos economicos        NaN        NaN  \n",
       "13        Profesor club        NaN        NaN  \n",
       "14        Profesor club        NaN        NaN  \n",
       "15   Motivos economicos        NaN        NaN  \n",
       "16      Incentivo viaje        NaN        NaN  \n",
       "17      Incentivo viaje        NaN        NaN  \n",
       "18   Motivos economicos        NaN             \n",
       "19   Motivos economicos        NaN        NaN  \n",
       "20     Merito deportivo        NaN        NaN  \n",
       "21        Profesor club        NaN        NaN  \n",
       "22        Profesor club        NaN        NaN  \n",
       "23        Profesor club        NaN        NaN  \n",
       "24        Profesor club        NaN        NaN  \n",
       "25        Profesor club        NaN        NaN  \n",
       "26        Profesor club        NaN        NaN  \n",
       "27        Profesor club        NaN        NaN  \n",
       "28        Profesor club        NaN        NaN  \n",
       "29        Profesor club        NaN        NaN  \n",
       "30        Profesor club        NaN        NaN  "
      ]
     },
     "execution_count": 64,
     "metadata": {},
     "output_type": "execute_result"
    }
   ],
   "source": [
    "becas"
   ]
  },
  {
   "cell_type": "code",
   "execution_count": 65,
   "metadata": {},
   "outputs": [],
   "source": [
    "becas=becas.drop(columns=['Unnamed: 6','Unnamed: 7'])\n",
    "becas.columns=['NOMBRE', 'APELLIDO', 'DISCIPLINA', 'CATEGORIA', 'PORCENTAJE BECA','MOTIVO']"
   ]
  },
  {
   "cell_type": "code",
   "execution_count": 66,
   "metadata": {},
   "outputs": [],
   "source": [
    "becas['DISCIPLINA'] = becas.loc[:, 'DISCIPLINA'].str.capitalize()"
   ]
  },
  {
   "cell_type": "code",
   "execution_count": 67,
   "metadata": {},
   "outputs": [],
   "source": [
    "becas['CATEGORIA'] = becas.loc[:, 'CATEGORIA'].str.capitalize()"
   ]
  },
  {
   "cell_type": "code",
   "execution_count": 68,
   "metadata": {},
   "outputs": [
    {
     "data": {
      "text/html": [
       "<div>\n",
       "<style scoped>\n",
       "    .dataframe tbody tr th:only-of-type {\n",
       "        vertical-align: middle;\n",
       "    }\n",
       "\n",
       "    .dataframe tbody tr th {\n",
       "        vertical-align: top;\n",
       "    }\n",
       "\n",
       "    .dataframe thead th {\n",
       "        text-align: right;\n",
       "    }\n",
       "</style>\n",
       "<table border=\"1\" class=\"dataframe\">\n",
       "  <thead>\n",
       "    <tr style=\"text-align: right;\">\n",
       "      <th></th>\n",
       "      <th>NOMBRE</th>\n",
       "      <th>APELLIDO</th>\n",
       "      <th>DISCIPLINA</th>\n",
       "      <th>CATEGORIA</th>\n",
       "      <th>PORCENTAJE BECA</th>\n",
       "      <th>MOTIVO</th>\n",
       "    </tr>\n",
       "  </thead>\n",
       "  <tbody>\n",
       "    <tr>\n",
       "      <th>0</th>\n",
       "      <td>I</td>\n",
       "      <td>A</td>\n",
       "      <td>Voley</td>\n",
       "      <td>Primera femenino</td>\n",
       "      <td>100%</td>\n",
       "      <td>Motivos economicos</td>\n",
       "    </tr>\n",
       "    <tr>\n",
       "      <th>1</th>\n",
       "      <td>N</td>\n",
       "      <td>A</td>\n",
       "      <td>Handball</td>\n",
       "      <td>Cadetes femenino</td>\n",
       "      <td>100%</td>\n",
       "      <td>Incentivo viaje</td>\n",
       "    </tr>\n",
       "    <tr>\n",
       "      <th>2</th>\n",
       "      <td>L</td>\n",
       "      <td>A</td>\n",
       "      <td>Handball</td>\n",
       "      <td>Cadetes femenino</td>\n",
       "      <td>50%</td>\n",
       "      <td>Incentivo viaje</td>\n",
       "    </tr>\n",
       "    <tr>\n",
       "      <th>3</th>\n",
       "      <td>D</td>\n",
       "      <td>A</td>\n",
       "      <td>Handball</td>\n",
       "      <td>Mayores femenino</td>\n",
       "      <td>100%</td>\n",
       "      <td>Profesor club</td>\n",
       "    </tr>\n",
       "    <tr>\n",
       "      <th>4</th>\n",
       "      <td>A</td>\n",
       "      <td>B</td>\n",
       "      <td>Voley</td>\n",
       "      <td>Primera masculino</td>\n",
       "      <td>100%</td>\n",
       "      <td>Profesor club</td>\n",
       "    </tr>\n",
       "    <tr>\n",
       "      <th>5</th>\n",
       "      <td>S</td>\n",
       "      <td>B</td>\n",
       "      <td>Handball</td>\n",
       "      <td>Mayores masculino</td>\n",
       "      <td>100%</td>\n",
       "      <td>Profesor club</td>\n",
       "    </tr>\n",
       "    <tr>\n",
       "      <th>6</th>\n",
       "      <td>S</td>\n",
       "      <td>B</td>\n",
       "      <td>Voley</td>\n",
       "      <td>Primera femenino</td>\n",
       "      <td>50%</td>\n",
       "      <td>Motivos economicos</td>\n",
       "    </tr>\n",
       "    <tr>\n",
       "      <th>7</th>\n",
       "      <td>N</td>\n",
       "      <td>B</td>\n",
       "      <td>Voley</td>\n",
       "      <td>Sub 16 masc</td>\n",
       "      <td>100%</td>\n",
       "      <td>Motivos economicos</td>\n",
       "    </tr>\n",
       "    <tr>\n",
       "      <th>8</th>\n",
       "      <td>F</td>\n",
       "      <td>B</td>\n",
       "      <td>Handball</td>\n",
       "      <td>Mayores femenino</td>\n",
       "      <td>100%</td>\n",
       "      <td>Administracion club</td>\n",
       "    </tr>\n",
       "    <tr>\n",
       "      <th>9</th>\n",
       "      <td>Ma</td>\n",
       "      <td>B</td>\n",
       "      <td>Handball</td>\n",
       "      <td>Cadetes femenino</td>\n",
       "      <td>50%</td>\n",
       "      <td>Incentivo viaje</td>\n",
       "    </tr>\n",
       "    <tr>\n",
       "      <th>10</th>\n",
       "      <td>C</td>\n",
       "      <td>C</td>\n",
       "      <td>Handball</td>\n",
       "      <td>Cadetes femenino</td>\n",
       "      <td>100%</td>\n",
       "      <td>Incentivo viaje</td>\n",
       "    </tr>\n",
       "    <tr>\n",
       "      <th>11</th>\n",
       "      <td>M</td>\n",
       "      <td>C</td>\n",
       "      <td>Voley</td>\n",
       "      <td>Primera femenino</td>\n",
       "      <td>100%</td>\n",
       "      <td>Motivos economicos</td>\n",
       "    </tr>\n",
       "    <tr>\n",
       "      <th>12</th>\n",
       "      <td>U</td>\n",
       "      <td>F</td>\n",
       "      <td>Handball</td>\n",
       "      <td>Mayores masculino</td>\n",
       "      <td>100%</td>\n",
       "      <td>Profesor club</td>\n",
       "    </tr>\n",
       "    <tr>\n",
       "      <th>13</th>\n",
       "      <td>MA</td>\n",
       "      <td>F</td>\n",
       "      <td>Voley</td>\n",
       "      <td>Sub 18 femenino</td>\n",
       "      <td>50%</td>\n",
       "      <td>Motivos economicos</td>\n",
       "    </tr>\n",
       "    <tr>\n",
       "      <th>14</th>\n",
       "      <td>A</td>\n",
       "      <td>G</td>\n",
       "      <td>Handball</td>\n",
       "      <td>Mayores femenino</td>\n",
       "      <td>100%</td>\n",
       "      <td>Profesor club</td>\n",
       "    </tr>\n",
       "    <tr>\n",
       "      <th>15</th>\n",
       "      <td>J</td>\n",
       "      <td>G</td>\n",
       "      <td>Voley</td>\n",
       "      <td>Sub 16 masculino</td>\n",
       "      <td>50%</td>\n",
       "      <td>Motivos economicos</td>\n",
       "    </tr>\n",
       "    <tr>\n",
       "      <th>16</th>\n",
       "      <td>B</td>\n",
       "      <td>G</td>\n",
       "      <td>Voley</td>\n",
       "      <td>Primera masculino</td>\n",
       "      <td>100%</td>\n",
       "      <td>Profesor club</td>\n",
       "    </tr>\n",
       "    <tr>\n",
       "      <th>17</th>\n",
       "      <td>A</td>\n",
       "      <td>JP</td>\n",
       "      <td>Handball</td>\n",
       "      <td>Menor masc</td>\n",
       "      <td>50%</td>\n",
       "      <td>Motivos economicos</td>\n",
       "    </tr>\n",
       "    <tr>\n",
       "      <th>18</th>\n",
       "      <td>F</td>\n",
       "      <td>M</td>\n",
       "      <td>Handball</td>\n",
       "      <td>Mayores masculino</td>\n",
       "      <td>100%</td>\n",
       "      <td>Profesor club</td>\n",
       "    </tr>\n",
       "    <tr>\n",
       "      <th>19</th>\n",
       "      <td>A</td>\n",
       "      <td>M</td>\n",
       "      <td>Handball</td>\n",
       "      <td>Mayores femenino</td>\n",
       "      <td>100%</td>\n",
       "      <td>Profesor club</td>\n",
       "    </tr>\n",
       "    <tr>\n",
       "      <th>20</th>\n",
       "      <td>S</td>\n",
       "      <td>M</td>\n",
       "      <td>Handball</td>\n",
       "      <td>Mayores masculino</td>\n",
       "      <td>100%</td>\n",
       "      <td>Profesor club</td>\n",
       "    </tr>\n",
       "    <tr>\n",
       "      <th>21</th>\n",
       "      <td>L</td>\n",
       "      <td>M</td>\n",
       "      <td>Handball</td>\n",
       "      <td>Juveniles damas</td>\n",
       "      <td>50%</td>\n",
       "      <td>Incentivo viaje</td>\n",
       "    </tr>\n",
       "    <tr>\n",
       "      <th>22</th>\n",
       "      <td>B</td>\n",
       "      <td>M</td>\n",
       "      <td>Voley</td>\n",
       "      <td>Sub 16 masculino</td>\n",
       "      <td>50%</td>\n",
       "      <td>Motivos economicos</td>\n",
       "    </tr>\n",
       "    <tr>\n",
       "      <th>23</th>\n",
       "      <td>V</td>\n",
       "      <td>M</td>\n",
       "      <td>Handball</td>\n",
       "      <td>Mayores femenino</td>\n",
       "      <td>50%</td>\n",
       "      <td>Incentivo viaje</td>\n",
       "    </tr>\n",
       "    <tr>\n",
       "      <th>24</th>\n",
       "      <td>O</td>\n",
       "      <td>P</td>\n",
       "      <td>Handball</td>\n",
       "      <td>Cadetes masculino</td>\n",
       "      <td>100%</td>\n",
       "      <td>Merito deportivo</td>\n",
       "    </tr>\n",
       "    <tr>\n",
       "      <th>25</th>\n",
       "      <td>M</td>\n",
       "      <td>P</td>\n",
       "      <td>Voley</td>\n",
       "      <td>Primera femenino</td>\n",
       "      <td>100%</td>\n",
       "      <td>Profesor club</td>\n",
       "    </tr>\n",
       "    <tr>\n",
       "      <th>26</th>\n",
       "      <td>E</td>\n",
       "      <td>R</td>\n",
       "      <td>Voley</td>\n",
       "      <td>Primera masculino</td>\n",
       "      <td>100%</td>\n",
       "      <td>Profesor club</td>\n",
       "    </tr>\n",
       "    <tr>\n",
       "      <th>27</th>\n",
       "      <td>S</td>\n",
       "      <td>R</td>\n",
       "      <td>Handball</td>\n",
       "      <td>Mayores masculino</td>\n",
       "      <td>100%</td>\n",
       "      <td>Profesor club</td>\n",
       "    </tr>\n",
       "    <tr>\n",
       "      <th>28</th>\n",
       "      <td>R</td>\n",
       "      <td>R</td>\n",
       "      <td>Handball</td>\n",
       "      <td>Cadetes femenino</td>\n",
       "      <td>50%</td>\n",
       "      <td>Incentivo viaje</td>\n",
       "    </tr>\n",
       "    <tr>\n",
       "      <th>29</th>\n",
       "      <td>F</td>\n",
       "      <td>T</td>\n",
       "      <td>Handball</td>\n",
       "      <td>Mayores masculino</td>\n",
       "      <td>100%</td>\n",
       "      <td>Profesor club</td>\n",
       "    </tr>\n",
       "    <tr>\n",
       "      <th>30</th>\n",
       "      <td>P</td>\n",
       "      <td>V</td>\n",
       "      <td>Handball</td>\n",
       "      <td>Mayores masculino</td>\n",
       "      <td>100%</td>\n",
       "      <td>Mantenimiento club</td>\n",
       "    </tr>\n",
       "  </tbody>\n",
       "</table>\n",
       "</div>"
      ],
      "text/plain": [
       "   NOMBRE APELLIDO DISCIPLINA          CATEGORIA PORCENTAJE BECA  \\\n",
       "0      I         A      Voley   Primera femenino            100%   \n",
       "1       N        A   Handball   Cadetes femenino            100%   \n",
       "2       L        A   Handball   Cadetes femenino             50%   \n",
       "3       D        A   Handball   Mayores femenino            100%   \n",
       "4       A        B      Voley  Primera masculino            100%   \n",
       "5       S        B   Handball  Mayores masculino            100%   \n",
       "6       S        B      Voley   Primera femenino             50%   \n",
       "7      N         B      Voley        Sub 16 masc            100%   \n",
       "8      F         B   Handball   Mayores femenino            100%   \n",
       "9      Ma        B   Handball   Cadetes femenino             50%   \n",
       "10      C        C   Handball   Cadetes femenino            100%   \n",
       "11      M        C      Voley   Primera femenino            100%   \n",
       "12      U        F   Handball  Mayores masculino            100%   \n",
       "13     MA        F      Voley    Sub 18 femenino             50%   \n",
       "14      A        G   Handball   Mayores femenino            100%   \n",
       "15      J       G       Voley   Sub 16 masculino             50%   \n",
       "16      B       G       Voley  Primera masculino            100%   \n",
       "17     A       JP    Handball        Menor masc              50%   \n",
       "18      F        M   Handball  Mayores masculino            100%   \n",
       "19      A        M   Handball   Mayores femenino            100%   \n",
       "20      S        M   Handball  Mayores masculino            100%   \n",
       "21      L        M   Handball    Juveniles damas             50%   \n",
       "22      B        M      Voley   Sub 16 masculino             50%   \n",
       "23      V       M    Handball   Mayores femenino             50%   \n",
       "24      O        P   Handball  Cadetes masculino            100%   \n",
       "25      M       P       Voley   Primera femenino            100%   \n",
       "26      E        R      Voley  Primera masculino            100%   \n",
       "27      S        R   Handball  Mayores masculino            100%   \n",
       "28      R        R   Handball   Cadetes femenino             50%   \n",
       "29      F        T   Handball  Mayores masculino            100%   \n",
       "30     P         V   Handball  Mayores masculino            100%   \n",
       "\n",
       "                 MOTIVO  \n",
       "0    Motivos economicos  \n",
       "1       Incentivo viaje  \n",
       "2       Incentivo viaje  \n",
       "3         Profesor club  \n",
       "4         Profesor club  \n",
       "5         Profesor club  \n",
       "6    Motivos economicos  \n",
       "7    Motivos economicos  \n",
       "8   Administracion club  \n",
       "9       Incentivo viaje  \n",
       "10      Incentivo viaje  \n",
       "11   Motivos economicos  \n",
       "12        Profesor club  \n",
       "13   Motivos economicos  \n",
       "14        Profesor club  \n",
       "15   Motivos economicos  \n",
       "16        Profesor club  \n",
       "17   Motivos economicos  \n",
       "18        Profesor club  \n",
       "19        Profesor club  \n",
       "20        Profesor club  \n",
       "21      Incentivo viaje  \n",
       "22   Motivos economicos  \n",
       "23      Incentivo viaje  \n",
       "24     Merito deportivo  \n",
       "25        Profesor club  \n",
       "26        Profesor club  \n",
       "27        Profesor club  \n",
       "28      Incentivo viaje  \n",
       "29        Profesor club  \n",
       "30   Mantenimiento club  "
      ]
     },
     "execution_count": 68,
     "metadata": {},
     "output_type": "execute_result"
    }
   ],
   "source": [
    "becas.sort_values(by=\"APELLIDO\").reset_index(drop=True)"
   ]
  },
  {
   "cell_type": "code",
   "execution_count": 69,
   "metadata": {},
   "outputs": [
    {
     "name": "stdout",
     "output_type": "stream",
     "text": [
      "<class 'pandas.core.frame.DataFrame'>\n",
      "RangeIndex: 31 entries, 0 to 30\n",
      "Data columns (total 6 columns):\n",
      " #   Column           Non-Null Count  Dtype \n",
      "---  ------           --------------  ----- \n",
      " 0   NOMBRE           31 non-null     object\n",
      " 1   APELLIDO         31 non-null     object\n",
      " 2   DISCIPLINA       31 non-null     object\n",
      " 3   CATEGORIA        31 non-null     object\n",
      " 4   PORCENTAJE BECA  31 non-null     object\n",
      " 5   MOTIVO           31 non-null     object\n",
      "dtypes: object(6)\n",
      "memory usage: 1.6+ KB\n"
     ]
    }
   ],
   "source": [
    "# Nos aseguramos que no haya ningun Null\n",
    "becas.info()"
   ]
  },
  {
   "cell_type": "code",
   "execution_count": 70,
   "metadata": {},
   "outputs": [
    {
     "data": {
      "text/html": [
       "<div>\n",
       "<style scoped>\n",
       "    .dataframe tbody tr th:only-of-type {\n",
       "        vertical-align: middle;\n",
       "    }\n",
       "\n",
       "    .dataframe tbody tr th {\n",
       "        vertical-align: top;\n",
       "    }\n",
       "\n",
       "    .dataframe thead th {\n",
       "        text-align: right;\n",
       "    }\n",
       "</style>\n",
       "<table border=\"1\" class=\"dataframe\">\n",
       "  <thead>\n",
       "    <tr style=\"text-align: right;\">\n",
       "      <th></th>\n",
       "      <th>NOMBRE</th>\n",
       "      <th>APELLIDO</th>\n",
       "      <th>DISCIPLINA</th>\n",
       "      <th>CATEGORIA</th>\n",
       "      <th>PORCENTAJE BECA</th>\n",
       "      <th>MOTIVO</th>\n",
       "    </tr>\n",
       "  </thead>\n",
       "  <tbody>\n",
       "    <tr>\n",
       "      <th>0</th>\n",
       "      <td>P</td>\n",
       "      <td>V</td>\n",
       "      <td>Handball</td>\n",
       "      <td>Mayores masculino</td>\n",
       "      <td>100%</td>\n",
       "      <td>Mantenimiento club</td>\n",
       "    </tr>\n",
       "    <tr>\n",
       "      <th>1</th>\n",
       "      <td>N</td>\n",
       "      <td>A</td>\n",
       "      <td>Handball</td>\n",
       "      <td>Cadetes femenino</td>\n",
       "      <td>100%</td>\n",
       "      <td>Incentivo viaje</td>\n",
       "    </tr>\n",
       "    <tr>\n",
       "      <th>2</th>\n",
       "      <td>L</td>\n",
       "      <td>A</td>\n",
       "      <td>Handball</td>\n",
       "      <td>Cadetes femenino</td>\n",
       "      <td>50%</td>\n",
       "      <td>Incentivo viaje</td>\n",
       "    </tr>\n",
       "    <tr>\n",
       "      <th>3</th>\n",
       "      <td>R</td>\n",
       "      <td>R</td>\n",
       "      <td>Handball</td>\n",
       "      <td>Cadetes femenino</td>\n",
       "      <td>50%</td>\n",
       "      <td>Incentivo viaje</td>\n",
       "    </tr>\n",
       "    <tr>\n",
       "      <th>4</th>\n",
       "      <td>Ma</td>\n",
       "      <td>B</td>\n",
       "      <td>Handball</td>\n",
       "      <td>Cadetes femenino</td>\n",
       "      <td>50%</td>\n",
       "      <td>Incentivo viaje</td>\n",
       "    </tr>\n",
       "    <tr>\n",
       "      <th>5</th>\n",
       "      <td>C</td>\n",
       "      <td>C</td>\n",
       "      <td>Handball</td>\n",
       "      <td>Cadetes femenino</td>\n",
       "      <td>100%</td>\n",
       "      <td>Incentivo viaje</td>\n",
       "    </tr>\n",
       "    <tr>\n",
       "      <th>6</th>\n",
       "      <td>F</td>\n",
       "      <td>B</td>\n",
       "      <td>Handball</td>\n",
       "      <td>Mayores femenino</td>\n",
       "      <td>100%</td>\n",
       "      <td>Administracion club</td>\n",
       "    </tr>\n",
       "    <tr>\n",
       "      <th>7</th>\n",
       "      <td>M</td>\n",
       "      <td>C</td>\n",
       "      <td>Voley</td>\n",
       "      <td>Primera femenino</td>\n",
       "      <td>100%</td>\n",
       "      <td>Motivos economicos</td>\n",
       "    </tr>\n",
       "    <tr>\n",
       "      <th>8</th>\n",
       "      <td>M</td>\n",
       "      <td>P</td>\n",
       "      <td>Voley</td>\n",
       "      <td>Primera femenino</td>\n",
       "      <td>100%</td>\n",
       "      <td>Profesor club</td>\n",
       "    </tr>\n",
       "    <tr>\n",
       "      <th>9</th>\n",
       "      <td>I</td>\n",
       "      <td>A</td>\n",
       "      <td>Voley</td>\n",
       "      <td>Primera femenino</td>\n",
       "      <td>100%</td>\n",
       "      <td>Motivos economicos</td>\n",
       "    </tr>\n",
       "    <tr>\n",
       "      <th>10</th>\n",
       "      <td>S</td>\n",
       "      <td>B</td>\n",
       "      <td>Voley</td>\n",
       "      <td>Primera femenino</td>\n",
       "      <td>50%</td>\n",
       "      <td>Motivos economicos</td>\n",
       "    </tr>\n",
       "    <tr>\n",
       "      <th>11</th>\n",
       "      <td>B</td>\n",
       "      <td>M</td>\n",
       "      <td>Voley</td>\n",
       "      <td>Sub 16 masculino</td>\n",
       "      <td>50%</td>\n",
       "      <td>Motivos economicos</td>\n",
       "    </tr>\n",
       "    <tr>\n",
       "      <th>12</th>\n",
       "      <td>J</td>\n",
       "      <td>G</td>\n",
       "      <td>Voley</td>\n",
       "      <td>Sub 16 masculino</td>\n",
       "      <td>50%</td>\n",
       "      <td>Motivos economicos</td>\n",
       "    </tr>\n",
       "    <tr>\n",
       "      <th>13</th>\n",
       "      <td>E</td>\n",
       "      <td>R</td>\n",
       "      <td>Voley</td>\n",
       "      <td>Primera masculino</td>\n",
       "      <td>100%</td>\n",
       "      <td>Profesor club</td>\n",
       "    </tr>\n",
       "    <tr>\n",
       "      <th>14</th>\n",
       "      <td>A</td>\n",
       "      <td>B</td>\n",
       "      <td>Voley</td>\n",
       "      <td>Primera masculino</td>\n",
       "      <td>100%</td>\n",
       "      <td>Profesor club</td>\n",
       "    </tr>\n",
       "    <tr>\n",
       "      <th>15</th>\n",
       "      <td>MA</td>\n",
       "      <td>F</td>\n",
       "      <td>Voley</td>\n",
       "      <td>Sub 18 femenino</td>\n",
       "      <td>50%</td>\n",
       "      <td>Motivos economicos</td>\n",
       "    </tr>\n",
       "    <tr>\n",
       "      <th>16</th>\n",
       "      <td>L</td>\n",
       "      <td>M</td>\n",
       "      <td>Handball</td>\n",
       "      <td>Juveniles damas</td>\n",
       "      <td>50%</td>\n",
       "      <td>Incentivo viaje</td>\n",
       "    </tr>\n",
       "    <tr>\n",
       "      <th>17</th>\n",
       "      <td>V</td>\n",
       "      <td>M</td>\n",
       "      <td>Handball</td>\n",
       "      <td>Mayores femenino</td>\n",
       "      <td>50%</td>\n",
       "      <td>Incentivo viaje</td>\n",
       "    </tr>\n",
       "    <tr>\n",
       "      <th>18</th>\n",
       "      <td>A</td>\n",
       "      <td>JP</td>\n",
       "      <td>Handball</td>\n",
       "      <td>Menor masc</td>\n",
       "      <td>50%</td>\n",
       "      <td>Motivos economicos</td>\n",
       "    </tr>\n",
       "    <tr>\n",
       "      <th>19</th>\n",
       "      <td>N</td>\n",
       "      <td>B</td>\n",
       "      <td>Voley</td>\n",
       "      <td>Sub 16 masc</td>\n",
       "      <td>100%</td>\n",
       "      <td>Motivos economicos</td>\n",
       "    </tr>\n",
       "    <tr>\n",
       "      <th>20</th>\n",
       "      <td>O</td>\n",
       "      <td>P</td>\n",
       "      <td>Handball</td>\n",
       "      <td>Cadetes masculino</td>\n",
       "      <td>100%</td>\n",
       "      <td>Merito deportivo</td>\n",
       "    </tr>\n",
       "    <tr>\n",
       "      <th>21</th>\n",
       "      <td>D</td>\n",
       "      <td>A</td>\n",
       "      <td>Handball</td>\n",
       "      <td>Mayores femenino</td>\n",
       "      <td>100%</td>\n",
       "      <td>Profesor club</td>\n",
       "    </tr>\n",
       "    <tr>\n",
       "      <th>22</th>\n",
       "      <td>A</td>\n",
       "      <td>G</td>\n",
       "      <td>Handball</td>\n",
       "      <td>Mayores femenino</td>\n",
       "      <td>100%</td>\n",
       "      <td>Profesor club</td>\n",
       "    </tr>\n",
       "    <tr>\n",
       "      <th>23</th>\n",
       "      <td>A</td>\n",
       "      <td>M</td>\n",
       "      <td>Handball</td>\n",
       "      <td>Mayores femenino</td>\n",
       "      <td>100%</td>\n",
       "      <td>Profesor club</td>\n",
       "    </tr>\n",
       "    <tr>\n",
       "      <th>24</th>\n",
       "      <td>S</td>\n",
       "      <td>B</td>\n",
       "      <td>Handball</td>\n",
       "      <td>Mayores masculino</td>\n",
       "      <td>100%</td>\n",
       "      <td>Profesor club</td>\n",
       "    </tr>\n",
       "    <tr>\n",
       "      <th>25</th>\n",
       "      <td>U</td>\n",
       "      <td>F</td>\n",
       "      <td>Handball</td>\n",
       "      <td>Mayores masculino</td>\n",
       "      <td>100%</td>\n",
       "      <td>Profesor club</td>\n",
       "    </tr>\n",
       "    <tr>\n",
       "      <th>26</th>\n",
       "      <td>F</td>\n",
       "      <td>M</td>\n",
       "      <td>Handball</td>\n",
       "      <td>Mayores masculino</td>\n",
       "      <td>100%</td>\n",
       "      <td>Profesor club</td>\n",
       "    </tr>\n",
       "    <tr>\n",
       "      <th>27</th>\n",
       "      <td>S</td>\n",
       "      <td>R</td>\n",
       "      <td>Handball</td>\n",
       "      <td>Mayores masculino</td>\n",
       "      <td>100%</td>\n",
       "      <td>Profesor club</td>\n",
       "    </tr>\n",
       "    <tr>\n",
       "      <th>28</th>\n",
       "      <td>B</td>\n",
       "      <td>G</td>\n",
       "      <td>Voley</td>\n",
       "      <td>Primera masculino</td>\n",
       "      <td>100%</td>\n",
       "      <td>Profesor club</td>\n",
       "    </tr>\n",
       "    <tr>\n",
       "      <th>29</th>\n",
       "      <td>F</td>\n",
       "      <td>T</td>\n",
       "      <td>Handball</td>\n",
       "      <td>Mayores masculino</td>\n",
       "      <td>100%</td>\n",
       "      <td>Profesor club</td>\n",
       "    </tr>\n",
       "    <tr>\n",
       "      <th>30</th>\n",
       "      <td>S</td>\n",
       "      <td>M</td>\n",
       "      <td>Handball</td>\n",
       "      <td>Mayores masculino</td>\n",
       "      <td>100%</td>\n",
       "      <td>Profesor club</td>\n",
       "    </tr>\n",
       "  </tbody>\n",
       "</table>\n",
       "</div>"
      ],
      "text/plain": [
       "   NOMBRE APELLIDO DISCIPLINA          CATEGORIA PORCENTAJE BECA  \\\n",
       "0      P         V   Handball  Mayores masculino            100%   \n",
       "1       N        A   Handball   Cadetes femenino            100%   \n",
       "2       L        A   Handball   Cadetes femenino             50%   \n",
       "3       R        R   Handball   Cadetes femenino             50%   \n",
       "4      Ma        B   Handball   Cadetes femenino             50%   \n",
       "5       C        C   Handball   Cadetes femenino            100%   \n",
       "6      F         B   Handball   Mayores femenino            100%   \n",
       "7       M        C      Voley   Primera femenino            100%   \n",
       "8       M       P       Voley   Primera femenino            100%   \n",
       "9      I         A      Voley   Primera femenino            100%   \n",
       "10      S        B      Voley   Primera femenino             50%   \n",
       "11      B        M      Voley   Sub 16 masculino             50%   \n",
       "12      J       G       Voley   Sub 16 masculino             50%   \n",
       "13      E        R      Voley  Primera masculino            100%   \n",
       "14      A        B      Voley  Primera masculino            100%   \n",
       "15     MA        F      Voley    Sub 18 femenino             50%   \n",
       "16      L        M   Handball    Juveniles damas             50%   \n",
       "17      V       M    Handball   Mayores femenino             50%   \n",
       "18     A       JP    Handball        Menor masc              50%   \n",
       "19     N         B      Voley        Sub 16 masc            100%   \n",
       "20      O        P   Handball  Cadetes masculino            100%   \n",
       "21      D        A   Handball   Mayores femenino            100%   \n",
       "22      A        G   Handball   Mayores femenino            100%   \n",
       "23      A        M   Handball   Mayores femenino            100%   \n",
       "24      S        B   Handball  Mayores masculino            100%   \n",
       "25      U        F   Handball  Mayores masculino            100%   \n",
       "26      F        M   Handball  Mayores masculino            100%   \n",
       "27      S        R   Handball  Mayores masculino            100%   \n",
       "28      B       G       Voley  Primera masculino            100%   \n",
       "29      F        T   Handball  Mayores masculino            100%   \n",
       "30      S        M   Handball  Mayores masculino            100%   \n",
       "\n",
       "                 MOTIVO  \n",
       "0    Mantenimiento club  \n",
       "1       Incentivo viaje  \n",
       "2       Incentivo viaje  \n",
       "3       Incentivo viaje  \n",
       "4       Incentivo viaje  \n",
       "5       Incentivo viaje  \n",
       "6   Administracion club  \n",
       "7    Motivos economicos  \n",
       "8         Profesor club  \n",
       "9    Motivos economicos  \n",
       "10   Motivos economicos  \n",
       "11   Motivos economicos  \n",
       "12   Motivos economicos  \n",
       "13        Profesor club  \n",
       "14        Profesor club  \n",
       "15   Motivos economicos  \n",
       "16      Incentivo viaje  \n",
       "17      Incentivo viaje  \n",
       "18   Motivos economicos  \n",
       "19   Motivos economicos  \n",
       "20     Merito deportivo  \n",
       "21        Profesor club  \n",
       "22        Profesor club  \n",
       "23        Profesor club  \n",
       "24        Profesor club  \n",
       "25        Profesor club  \n",
       "26        Profesor club  \n",
       "27        Profesor club  \n",
       "28        Profesor club  \n",
       "29        Profesor club  \n",
       "30        Profesor club  "
      ]
     },
     "execution_count": 70,
     "metadata": {},
     "output_type": "execute_result"
    }
   ],
   "source": [
    "becas"
   ]
  },
  {
   "cell_type": "code",
   "execution_count": 71,
   "metadata": {},
   "outputs": [
    {
     "data": {
      "text/html": [
       "<div>\n",
       "<style scoped>\n",
       "    .dataframe tbody tr th:only-of-type {\n",
       "        vertical-align: middle;\n",
       "    }\n",
       "\n",
       "    .dataframe tbody tr th {\n",
       "        vertical-align: top;\n",
       "    }\n",
       "\n",
       "    .dataframe thead th {\n",
       "        text-align: right;\n",
       "    }\n",
       "</style>\n",
       "<table border=\"1\" class=\"dataframe\">\n",
       "  <thead>\n",
       "    <tr style=\"text-align: right;\">\n",
       "      <th></th>\n",
       "      <th>PORCENTAJE BECA</th>\n",
       "      <th>DISCIPLINA</th>\n",
       "      <th>count</th>\n",
       "    </tr>\n",
       "  </thead>\n",
       "  <tbody>\n",
       "    <tr>\n",
       "      <th>0</th>\n",
       "      <td>1.0</td>\n",
       "      <td>Handball</td>\n",
       "      <td>3</td>\n",
       "    </tr>\n",
       "    <tr>\n",
       "      <th>1</th>\n",
       "      <td>1.0</td>\n",
       "      <td>Voley</td>\n",
       "      <td>3</td>\n",
       "    </tr>\n",
       "    <tr>\n",
       "      <th>2</th>\n",
       "      <td>0.5</td>\n",
       "      <td>Handball</td>\n",
       "      <td>6</td>\n",
       "    </tr>\n",
       "    <tr>\n",
       "      <th>3</th>\n",
       "      <td>0.5</td>\n",
       "      <td>Voley</td>\n",
       "      <td>4</td>\n",
       "    </tr>\n",
       "  </tbody>\n",
       "</table>\n",
       "</div>"
      ],
      "text/plain": [
       "   PORCENTAJE BECA DISCIPLINA  count\n",
       "0              1.0   Handball      3\n",
       "1              1.0      Voley      3\n",
       "2              0.5   Handball      6\n",
       "3              0.5      Voley      4"
      ]
     },
     "execution_count": 71,
     "metadata": {},
     "output_type": "execute_result"
    }
   ],
   "source": [
    "# Los motivos de las becas son principalmente: \n",
    "# si es trabajador del club: Profesor club, Administracion club, Mantenimiento club\n",
    "# u otro: Incentivo viaje, Merito deportivo, Motivos economicos\n",
    "# haremos el analisis sobre estos ultimos 3, ya que los otros motivos son por prestar servicios al club que, de no estar becados, deberian ser pagados un monto mayor. \n",
    "\n",
    "motivo_becas = ['Incentivo viaje', 'Merito deportivo', 'Motivos economicos']\n",
    "filtro= becas['MOTIVO'].isin(motivo_becas)\n",
    "real_becados = becas[filtro].reset_index(drop=True)\n",
    "beca_gb = real_becados.groupby('PORCENTAJE BECA')[['DISCIPLINA']].value_counts().reset_index()\n",
    "beca_gb['PORCENTAJE BECA']= [1, 1, 0.5, 0.5]\n",
    "beca_gb"
   ]
  },
  {
   "cell_type": "code",
   "execution_count": 72,
   "metadata": {},
   "outputs": [
    {
     "data": {
      "text/html": [
       "<div>\n",
       "<style scoped>\n",
       "    .dataframe tbody tr th:only-of-type {\n",
       "        vertical-align: middle;\n",
       "    }\n",
       "\n",
       "    .dataframe tbody tr th {\n",
       "        vertical-align: top;\n",
       "    }\n",
       "\n",
       "    .dataframe thead th {\n",
       "        text-align: right;\n",
       "    }\n",
       "</style>\n",
       "<table border=\"1\" class=\"dataframe\">\n",
       "  <thead>\n",
       "    <tr style=\"text-align: right;\">\n",
       "      <th></th>\n",
       "      <th>NOMBRE</th>\n",
       "      <th>APELLIDO</th>\n",
       "      <th>CATEGORIA</th>\n",
       "      <th>PORCENTAJE BECA</th>\n",
       "      <th>MOTIVO</th>\n",
       "    </tr>\n",
       "  </thead>\n",
       "  <tbody>\n",
       "    <tr>\n",
       "      <th>0</th>\n",
       "      <td>M</td>\n",
       "      <td>C</td>\n",
       "      <td>Primera femenino</td>\n",
       "      <td>100%</td>\n",
       "      <td>Motivos economicos</td>\n",
       "    </tr>\n",
       "    <tr>\n",
       "      <th>1</th>\n",
       "      <td>I</td>\n",
       "      <td>A</td>\n",
       "      <td>Primera femenino</td>\n",
       "      <td>100%</td>\n",
       "      <td>Motivos economicos</td>\n",
       "    </tr>\n",
       "    <tr>\n",
       "      <th>2</th>\n",
       "      <td>S</td>\n",
       "      <td>B</td>\n",
       "      <td>Primera femenino</td>\n",
       "      <td>50%</td>\n",
       "      <td>Motivos economicos</td>\n",
       "    </tr>\n",
       "    <tr>\n",
       "      <th>3</th>\n",
       "      <td>B</td>\n",
       "      <td>M</td>\n",
       "      <td>Sub 16 masculino</td>\n",
       "      <td>50%</td>\n",
       "      <td>Motivos economicos</td>\n",
       "    </tr>\n",
       "    <tr>\n",
       "      <th>4</th>\n",
       "      <td>J</td>\n",
       "      <td>G</td>\n",
       "      <td>Sub 16 masculino</td>\n",
       "      <td>50%</td>\n",
       "      <td>Motivos economicos</td>\n",
       "    </tr>\n",
       "    <tr>\n",
       "      <th>5</th>\n",
       "      <td>MA</td>\n",
       "      <td>F</td>\n",
       "      <td>Sub 18 femenino</td>\n",
       "      <td>50%</td>\n",
       "      <td>Motivos economicos</td>\n",
       "    </tr>\n",
       "    <tr>\n",
       "      <th>6</th>\n",
       "      <td>N</td>\n",
       "      <td>B</td>\n",
       "      <td>Sub 16 masc</td>\n",
       "      <td>100%</td>\n",
       "      <td>Motivos economicos</td>\n",
       "    </tr>\n",
       "  </tbody>\n",
       "</table>\n",
       "</div>"
      ],
      "text/plain": [
       "  NOMBRE APELLIDO         CATEGORIA PORCENTAJE BECA              MOTIVO\n",
       "0      M        C  Primera femenino            100%  Motivos economicos\n",
       "1     I         A  Primera femenino            100%  Motivos economicos\n",
       "2      S        B  Primera femenino             50%  Motivos economicos\n",
       "3      B        M  Sub 16 masculino             50%  Motivos economicos\n",
       "4      J       G   Sub 16 masculino             50%  Motivos economicos\n",
       "5     MA        F   Sub 18 femenino             50%  Motivos economicos\n",
       "6     N         B       Sub 16 masc            100%  Motivos economicos"
      ]
     },
     "execution_count": 72,
     "metadata": {},
     "output_type": "execute_result"
    }
   ],
   "source": [
    "beca_voley = real_becados['DISCIPLINA']=='Voley'\n",
    "becados_voley = real_becados[beca_voley].reset_index(drop=True).drop(columns='DISCIPLINA')\n",
    "becados_voley"
   ]
  },
  {
   "cell_type": "code",
   "execution_count": 73,
   "metadata": {},
   "outputs": [
    {
     "data": {
      "text/html": [
       "<div>\n",
       "<style scoped>\n",
       "    .dataframe tbody tr th:only-of-type {\n",
       "        vertical-align: middle;\n",
       "    }\n",
       "\n",
       "    .dataframe tbody tr th {\n",
       "        vertical-align: top;\n",
       "    }\n",
       "\n",
       "    .dataframe thead th {\n",
       "        text-align: right;\n",
       "    }\n",
       "</style>\n",
       "<table border=\"1\" class=\"dataframe\">\n",
       "  <thead>\n",
       "    <tr style=\"text-align: right;\">\n",
       "      <th></th>\n",
       "      <th>NOMBRE</th>\n",
       "      <th>APELLIDO</th>\n",
       "      <th>CATEGORIA</th>\n",
       "      <th>PORCENTAJE BECA</th>\n",
       "      <th>MOTIVO</th>\n",
       "    </tr>\n",
       "  </thead>\n",
       "  <tbody>\n",
       "    <tr>\n",
       "      <th>0</th>\n",
       "      <td>N</td>\n",
       "      <td>A</td>\n",
       "      <td>Cadetes femenino</td>\n",
       "      <td>100%</td>\n",
       "      <td>Incentivo viaje</td>\n",
       "    </tr>\n",
       "    <tr>\n",
       "      <th>1</th>\n",
       "      <td>L</td>\n",
       "      <td>A</td>\n",
       "      <td>Cadetes femenino</td>\n",
       "      <td>50%</td>\n",
       "      <td>Incentivo viaje</td>\n",
       "    </tr>\n",
       "    <tr>\n",
       "      <th>2</th>\n",
       "      <td>R</td>\n",
       "      <td>R</td>\n",
       "      <td>Cadetes femenino</td>\n",
       "      <td>50%</td>\n",
       "      <td>Incentivo viaje</td>\n",
       "    </tr>\n",
       "    <tr>\n",
       "      <th>3</th>\n",
       "      <td>Ma</td>\n",
       "      <td>B</td>\n",
       "      <td>Cadetes femenino</td>\n",
       "      <td>50%</td>\n",
       "      <td>Incentivo viaje</td>\n",
       "    </tr>\n",
       "    <tr>\n",
       "      <th>4</th>\n",
       "      <td>C</td>\n",
       "      <td>C</td>\n",
       "      <td>Cadetes femenino</td>\n",
       "      <td>100%</td>\n",
       "      <td>Incentivo viaje</td>\n",
       "    </tr>\n",
       "    <tr>\n",
       "      <th>5</th>\n",
       "      <td>L</td>\n",
       "      <td>M</td>\n",
       "      <td>Juveniles damas</td>\n",
       "      <td>50%</td>\n",
       "      <td>Incentivo viaje</td>\n",
       "    </tr>\n",
       "    <tr>\n",
       "      <th>6</th>\n",
       "      <td>V</td>\n",
       "      <td>M</td>\n",
       "      <td>Mayores femenino</td>\n",
       "      <td>50%</td>\n",
       "      <td>Incentivo viaje</td>\n",
       "    </tr>\n",
       "    <tr>\n",
       "      <th>7</th>\n",
       "      <td>A</td>\n",
       "      <td>JP</td>\n",
       "      <td>Menor masc</td>\n",
       "      <td>50%</td>\n",
       "      <td>Motivos economicos</td>\n",
       "    </tr>\n",
       "    <tr>\n",
       "      <th>8</th>\n",
       "      <td>O</td>\n",
       "      <td>P</td>\n",
       "      <td>Cadetes masculino</td>\n",
       "      <td>100%</td>\n",
       "      <td>Merito deportivo</td>\n",
       "    </tr>\n",
       "  </tbody>\n",
       "</table>\n",
       "</div>"
      ],
      "text/plain": [
       "  NOMBRE APELLIDO          CATEGORIA PORCENTAJE BECA              MOTIVO\n",
       "0      N        A   Cadetes femenino            100%     Incentivo viaje\n",
       "1      L        A   Cadetes femenino             50%     Incentivo viaje\n",
       "2      R        R   Cadetes femenino             50%     Incentivo viaje\n",
       "3     Ma        B   Cadetes femenino             50%     Incentivo viaje\n",
       "4      C        C   Cadetes femenino            100%     Incentivo viaje\n",
       "5      L        M    Juveniles damas             50%     Incentivo viaje\n",
       "6      V       M    Mayores femenino             50%     Incentivo viaje\n",
       "7     A       JP         Menor masc              50%  Motivos economicos\n",
       "8      O        P  Cadetes masculino            100%    Merito deportivo"
      ]
     },
     "execution_count": 73,
     "metadata": {},
     "output_type": "execute_result"
    }
   ],
   "source": [
    "beca_hand = real_becados['DISCIPLINA']=='Handball'\n",
    "becados_hand = real_becados[beca_hand].reset_index(drop=True).drop(columns='DISCIPLINA')\n",
    "becados_hand"
   ]
  },
  {
   "cell_type": "code",
   "execution_count": 74,
   "metadata": {},
   "outputs": [],
   "source": [
    "# En total hay 16 becados, haremos el calculo de cuanto dinero representa al club no cobrar la cuota a estos becados:\n",
    "\n",
    "# Valor de la cuota\n",
    "valor_cuota = 13500\n",
    "\n",
    "# Calcular el costo total por alumno becado\n",
    "beca_gb['COSTO BECA'] = beca_gb['count'] * valor_cuota * beca_gb['PORCENTAJE BECA']\n",
    "\n",
    "# Calcular el costo total de becas por disciplina\n",
    "costo_total_becas = beca_gb.groupby('DISCIPLINA')['COSTO BECA'].sum().reset_index()"
   ]
  },
  {
   "cell_type": "markdown",
   "metadata": {},
   "source": [
    "## Egresos Voley"
   ]
  },
  {
   "cell_type": "code",
   "execution_count": 75,
   "metadata": {},
   "outputs": [],
   "source": [
    "gastos_v = r\"C:\\Users\\emita\\Bootcamp\\EDA\\data\\Ingresos_Egr_Voley\\EGRESOS_V.csv\"\n",
    "egresos_v = pd.read_csv(gastos_v, header=4)"
   ]
  },
  {
   "cell_type": "code",
   "execution_count": 76,
   "metadata": {},
   "outputs": [],
   "source": [
    "egresos_v = egresos_v.iloc[:85, :4]"
   ]
  },
  {
   "cell_type": "code",
   "execution_count": 77,
   "metadata": {},
   "outputs": [
    {
     "data": {
      "text/plain": [
       "Index(['FECHA', 'DESCRIPCION', 'MONTO', 'M. DE PAGO'], dtype='object')"
      ]
     },
     "execution_count": 77,
     "metadata": {},
     "output_type": "execute_result"
    }
   ],
   "source": [
    "egresos_v.columns"
   ]
  },
  {
   "cell_type": "code",
   "execution_count": 78,
   "metadata": {},
   "outputs": [],
   "source": [
    "# Modifico la columna de monto, quitandole el simbolo \"$\" y ajustando los separadres de decimales\n",
    "egresos_v['MONTO'] = egresos_v['MONTO'].str.replace('$', '').str.replace(',', '')\n",
    "\n",
    "egresos_v['MONTO'] = egresos_v['MONTO'].astype(float) "
   ]
  },
  {
   "cell_type": "code",
   "execution_count": 79,
   "metadata": {},
   "outputs": [],
   "source": [
    "# Aplicamos funcion de conevrtir tipo de fecha\n",
    "egresos_v['FECHA'] = egresos_v['FECHA'].apply(convertir_fecha)\n",
    "egresos_v['FECHA'] = pd.to_datetime(egresos_v['FECHA'])"
   ]
  },
  {
   "cell_type": "code",
   "execution_count": 80,
   "metadata": {},
   "outputs": [
    {
     "name": "stdout",
     "output_type": "stream",
     "text": [
      "<class 'pandas.core.frame.DataFrame'>\n",
      "RangeIndex: 85 entries, 0 to 84\n",
      "Data columns (total 4 columns):\n",
      " #   Column       Non-Null Count  Dtype         \n",
      "---  ------       --------------  -----         \n",
      " 0   FECHA        85 non-null     datetime64[ns]\n",
      " 1   DESCRIPCION  85 non-null     object        \n",
      " 2   MONTO        85 non-null     float64       \n",
      " 3   M. DE PAGO   85 non-null     object        \n",
      "dtypes: datetime64[ns](1), float64(1), object(2)\n",
      "memory usage: 2.8+ KB\n"
     ]
    }
   ],
   "source": [
    "# Nos aseguramos que no haya ningun Null\n",
    "egresos_v.info()"
   ]
  },
  {
   "cell_type": "code",
   "execution_count": 81,
   "metadata": {},
   "outputs": [],
   "source": [
    "egresos_v.columns=['FECHA', 'DESCRIPCION', 'MONTO', 'MEDIO DE PAGO']"
   ]
  },
  {
   "cell_type": "code",
   "execution_count": 82,
   "metadata": {},
   "outputs": [
    {
     "data": {
      "text/plain": [
       "array(['Gastos Locacion', 'Salarios', 'Seguro', 'Materiales',\n",
       "       'Devolucion prestamo'], dtype=object)"
      ]
     },
     "execution_count": 82,
     "metadata": {},
     "output_type": "execute_result"
    }
   ],
   "source": [
    "egresos_v['DESCRIPCION'] = egresos_v['DESCRIPCION'].replace({\n",
    "    'AMPAT': 'Seguro',\n",
    "    'Seguro AP': 'Seguro',\n",
    "    'Seguro RC': 'Seguro'}) \n",
    "egresos_v['DESCRIPCION'].unique()"
   ]
  },
  {
   "cell_type": "code",
   "execution_count": 83,
   "metadata": {},
   "outputs": [],
   "source": [
    "# Eliminamos el siguiente items, ya que no se considera gasto propios de la act del dia a dia del club: 'Devolucion prestamo' ()\n",
    "gastos_reales_v =  ['Gastos Locacion', 'Salarios', 'Seguro', 'Materiales']\n",
    "filtro_v= egresos_v.loc[:, 'DESCRIPCION'].isin(gastos_reales_v)\n",
    "egresos_reales_v=egresos_v[filtro_v]"
   ]
  },
  {
   "cell_type": "code",
   "execution_count": 84,
   "metadata": {},
   "outputs": [
    {
     "data": {
      "text/plain": [
       "array(['Gastos Locacion', 'Salarios', 'Seguro', 'Materiales'],\n",
       "      dtype=object)"
      ]
     },
     "execution_count": 84,
     "metadata": {},
     "output_type": "execute_result"
    }
   ],
   "source": [
    "egresos_reales_v['DESCRIPCION'].unique()"
   ]
  },
  {
   "cell_type": "markdown",
   "metadata": {},
   "source": [
    "### Egresos totales por mes"
   ]
  },
  {
   "cell_type": "code",
   "execution_count": 85,
   "metadata": {},
   "outputs": [
    {
     "data": {
      "text/html": [
       "<div>\n",
       "<style scoped>\n",
       "    .dataframe tbody tr th:only-of-type {\n",
       "        vertical-align: middle;\n",
       "    }\n",
       "\n",
       "    .dataframe tbody tr th {\n",
       "        vertical-align: top;\n",
       "    }\n",
       "\n",
       "    .dataframe thead th {\n",
       "        text-align: right;\n",
       "    }\n",
       "</style>\n",
       "<table border=\"1\" class=\"dataframe\">\n",
       "  <thead>\n",
       "    <tr style=\"text-align: right;\">\n",
       "      <th></th>\n",
       "      <th>FECHA</th>\n",
       "      <th>MONTO TOTAL</th>\n",
       "    </tr>\n",
       "  </thead>\n",
       "  <tbody>\n",
       "    <tr>\n",
       "      <th>0</th>\n",
       "      <td>2024-02-01</td>\n",
       "      <td>538700.0</td>\n",
       "    </tr>\n",
       "    <tr>\n",
       "      <th>1</th>\n",
       "      <td>2024-03-01</td>\n",
       "      <td>658900.0</td>\n",
       "    </tr>\n",
       "    <tr>\n",
       "      <th>2</th>\n",
       "      <td>2024-04-01</td>\n",
       "      <td>816070.0</td>\n",
       "    </tr>\n",
       "    <tr>\n",
       "      <th>3</th>\n",
       "      <td>2024-05-01</td>\n",
       "      <td>845340.0</td>\n",
       "    </tr>\n",
       "    <tr>\n",
       "      <th>4</th>\n",
       "      <td>2024-06-01</td>\n",
       "      <td>804700.0</td>\n",
       "    </tr>\n",
       "    <tr>\n",
       "      <th>5</th>\n",
       "      <td>2024-07-01</td>\n",
       "      <td>441097.0</td>\n",
       "    </tr>\n",
       "    <tr>\n",
       "      <th>6</th>\n",
       "      <td>2024-08-01</td>\n",
       "      <td>1131217.0</td>\n",
       "    </tr>\n",
       "    <tr>\n",
       "      <th>7</th>\n",
       "      <td>2024-09-01</td>\n",
       "      <td>833882.0</td>\n",
       "    </tr>\n",
       "    <tr>\n",
       "      <th>8</th>\n",
       "      <td>2024-10-01</td>\n",
       "      <td>1182500.0</td>\n",
       "    </tr>\n",
       "  </tbody>\n",
       "</table>\n",
       "</div>"
      ],
      "text/plain": [
       "       FECHA  MONTO TOTAL\n",
       "0 2024-02-01     538700.0\n",
       "1 2024-03-01     658900.0\n",
       "2 2024-04-01     816070.0\n",
       "3 2024-05-01     845340.0\n",
       "4 2024-06-01     804700.0\n",
       "5 2024-07-01     441097.0\n",
       "6 2024-08-01    1131217.0\n",
       "7 2024-09-01     833882.0\n",
       "8 2024-10-01    1182500.0"
      ]
     },
     "execution_count": 85,
     "metadata": {},
     "output_type": "execute_result"
    }
   ],
   "source": [
    "# Agrupar por año y mes, y por categoría, y sumar los montos\n",
    "eg_totales_por_mes = egresos_v.groupby(egresos_v['FECHA'].dt.to_period('M'))[['MONTO']].sum().reset_index()\n",
    "\n",
    "# Cambiar el formato del periodo a un tipo de fecha\n",
    "eg_totales_por_mes['FECHA'] = eg_totales_por_mes['FECHA'].dt.to_timestamp()\n",
    "\n",
    "# Renombrar la columna de montos\n",
    "eg_totales_por_mes.rename(columns={'MONTO': 'MONTO TOTAL'}, inplace=True)\n",
    "\n",
    "# Mostrar el DataFrame resultante\n",
    "eg_totales_por_mes"
   ]
  },
  {
   "cell_type": "markdown",
   "metadata": {},
   "source": [
    "#### Gastos por mes por categoria"
   ]
  },
  {
   "cell_type": "code",
   "execution_count": 86,
   "metadata": {},
   "outputs": [
    {
     "data": {
      "text/html": [
       "<div>\n",
       "<style scoped>\n",
       "    .dataframe tbody tr th:only-of-type {\n",
       "        vertical-align: middle;\n",
       "    }\n",
       "\n",
       "    .dataframe tbody tr th {\n",
       "        vertical-align: top;\n",
       "    }\n",
       "\n",
       "    .dataframe thead th {\n",
       "        text-align: right;\n",
       "    }\n",
       "</style>\n",
       "<table border=\"1\" class=\"dataframe\">\n",
       "  <thead>\n",
       "    <tr style=\"text-align: right;\">\n",
       "      <th></th>\n",
       "      <th>FECHA</th>\n",
       "      <th>DESCRIPCION</th>\n",
       "      <th>MONTO TOTAL</th>\n",
       "    </tr>\n",
       "  </thead>\n",
       "  <tbody>\n",
       "    <tr>\n",
       "      <th>0</th>\n",
       "      <td>2024-02-01</td>\n",
       "      <td>Gastos Locacion</td>\n",
       "      <td>79200.0</td>\n",
       "    </tr>\n",
       "    <tr>\n",
       "      <th>1</th>\n",
       "      <td>2024-02-01</td>\n",
       "      <td>Materiales</td>\n",
       "      <td>34000.0</td>\n",
       "    </tr>\n",
       "    <tr>\n",
       "      <th>2</th>\n",
       "      <td>2024-02-01</td>\n",
       "      <td>Salarios</td>\n",
       "      <td>415500.0</td>\n",
       "    </tr>\n",
       "    <tr>\n",
       "      <th>3</th>\n",
       "      <td>2024-02-01</td>\n",
       "      <td>Seguro</td>\n",
       "      <td>10000.0</td>\n",
       "    </tr>\n",
       "    <tr>\n",
       "      <th>4</th>\n",
       "      <td>2024-03-01</td>\n",
       "      <td>Gastos Locacion</td>\n",
       "      <td>66500.0</td>\n",
       "    </tr>\n",
       "    <tr>\n",
       "      <th>5</th>\n",
       "      <td>2024-03-01</td>\n",
       "      <td>Materiales</td>\n",
       "      <td>63400.0</td>\n",
       "    </tr>\n",
       "    <tr>\n",
       "      <th>6</th>\n",
       "      <td>2024-03-01</td>\n",
       "      <td>Salarios</td>\n",
       "      <td>529000.0</td>\n",
       "    </tr>\n",
       "    <tr>\n",
       "      <th>7</th>\n",
       "      <td>2024-04-01</td>\n",
       "      <td>Gastos Locacion</td>\n",
       "      <td>136200.0</td>\n",
       "    </tr>\n",
       "    <tr>\n",
       "      <th>8</th>\n",
       "      <td>2024-04-01</td>\n",
       "      <td>Salarios</td>\n",
       "      <td>560000.0</td>\n",
       "    </tr>\n",
       "    <tr>\n",
       "      <th>9</th>\n",
       "      <td>2024-04-01</td>\n",
       "      <td>Seguro</td>\n",
       "      <td>119870.0</td>\n",
       "    </tr>\n",
       "    <tr>\n",
       "      <th>10</th>\n",
       "      <td>2024-05-01</td>\n",
       "      <td>Gastos Locacion</td>\n",
       "      <td>155000.0</td>\n",
       "    </tr>\n",
       "    <tr>\n",
       "      <th>11</th>\n",
       "      <td>2024-05-01</td>\n",
       "      <td>Salarios</td>\n",
       "      <td>590000.0</td>\n",
       "    </tr>\n",
       "    <tr>\n",
       "      <th>12</th>\n",
       "      <td>2024-05-01</td>\n",
       "      <td>Seguro</td>\n",
       "      <td>100340.0</td>\n",
       "    </tr>\n",
       "    <tr>\n",
       "      <th>13</th>\n",
       "      <td>2024-06-01</td>\n",
       "      <td>Gastos Locacion</td>\n",
       "      <td>50000.0</td>\n",
       "    </tr>\n",
       "    <tr>\n",
       "      <th>14</th>\n",
       "      <td>2024-06-01</td>\n",
       "      <td>Materiales</td>\n",
       "      <td>26000.0</td>\n",
       "    </tr>\n",
       "    <tr>\n",
       "      <th>15</th>\n",
       "      <td>2024-06-01</td>\n",
       "      <td>Salarios</td>\n",
       "      <td>640000.0</td>\n",
       "    </tr>\n",
       "    <tr>\n",
       "      <th>16</th>\n",
       "      <td>2024-06-01</td>\n",
       "      <td>Seguro</td>\n",
       "      <td>88700.0</td>\n",
       "    </tr>\n",
       "    <tr>\n",
       "      <th>17</th>\n",
       "      <td>2024-07-01</td>\n",
       "      <td>Salarios</td>\n",
       "      <td>350000.0</td>\n",
       "    </tr>\n",
       "    <tr>\n",
       "      <th>18</th>\n",
       "      <td>2024-07-01</td>\n",
       "      <td>Seguro</td>\n",
       "      <td>91097.0</td>\n",
       "    </tr>\n",
       "    <tr>\n",
       "      <th>19</th>\n",
       "      <td>2024-08-01</td>\n",
       "      <td>Devolucion prestamo</td>\n",
       "      <td>84000.0</td>\n",
       "    </tr>\n",
       "    <tr>\n",
       "      <th>20</th>\n",
       "      <td>2024-08-01</td>\n",
       "      <td>Gastos Locacion</td>\n",
       "      <td>147000.0</td>\n",
       "    </tr>\n",
       "    <tr>\n",
       "      <th>21</th>\n",
       "      <td>2024-08-01</td>\n",
       "      <td>Salarios</td>\n",
       "      <td>810500.0</td>\n",
       "    </tr>\n",
       "    <tr>\n",
       "      <th>22</th>\n",
       "      <td>2024-08-01</td>\n",
       "      <td>Seguro</td>\n",
       "      <td>89717.0</td>\n",
       "    </tr>\n",
       "    <tr>\n",
       "      <th>23</th>\n",
       "      <td>2024-09-01</td>\n",
       "      <td>Salarios</td>\n",
       "      <td>725000.0</td>\n",
       "    </tr>\n",
       "    <tr>\n",
       "      <th>24</th>\n",
       "      <td>2024-09-01</td>\n",
       "      <td>Seguro</td>\n",
       "      <td>108882.0</td>\n",
       "    </tr>\n",
       "    <tr>\n",
       "      <th>25</th>\n",
       "      <td>2024-10-01</td>\n",
       "      <td>Gastos Locacion</td>\n",
       "      <td>17500.0</td>\n",
       "    </tr>\n",
       "    <tr>\n",
       "      <th>26</th>\n",
       "      <td>2024-10-01</td>\n",
       "      <td>Salarios</td>\n",
       "      <td>1165000.0</td>\n",
       "    </tr>\n",
       "  </tbody>\n",
       "</table>\n",
       "</div>"
      ],
      "text/plain": [
       "        FECHA          DESCRIPCION  MONTO TOTAL\n",
       "0  2024-02-01      Gastos Locacion      79200.0\n",
       "1  2024-02-01           Materiales      34000.0\n",
       "2  2024-02-01             Salarios     415500.0\n",
       "3  2024-02-01               Seguro      10000.0\n",
       "4  2024-03-01      Gastos Locacion      66500.0\n",
       "5  2024-03-01           Materiales      63400.0\n",
       "6  2024-03-01             Salarios     529000.0\n",
       "7  2024-04-01      Gastos Locacion     136200.0\n",
       "8  2024-04-01             Salarios     560000.0\n",
       "9  2024-04-01               Seguro     119870.0\n",
       "10 2024-05-01      Gastos Locacion     155000.0\n",
       "11 2024-05-01             Salarios     590000.0\n",
       "12 2024-05-01               Seguro     100340.0\n",
       "13 2024-06-01      Gastos Locacion      50000.0\n",
       "14 2024-06-01           Materiales      26000.0\n",
       "15 2024-06-01             Salarios     640000.0\n",
       "16 2024-06-01               Seguro      88700.0\n",
       "17 2024-07-01             Salarios     350000.0\n",
       "18 2024-07-01               Seguro      91097.0\n",
       "19 2024-08-01  Devolucion prestamo      84000.0\n",
       "20 2024-08-01      Gastos Locacion     147000.0\n",
       "21 2024-08-01             Salarios     810500.0\n",
       "22 2024-08-01               Seguro      89717.0\n",
       "23 2024-09-01             Salarios     725000.0\n",
       "24 2024-09-01               Seguro     108882.0\n",
       "25 2024-10-01      Gastos Locacion      17500.0\n",
       "26 2024-10-01             Salarios    1165000.0"
      ]
     },
     "execution_count": 86,
     "metadata": {},
     "output_type": "execute_result"
    }
   ],
   "source": [
    "# Agrupar por año y mes, y por categoría, y sumar los montos\n",
    "eg_totales_por_mes_categoria_v = egresos_v.groupby([egresos_v['FECHA'].dt.to_period('M'), 'DESCRIPCION'])[['MONTO']].sum().reset_index()\n",
    "\n",
    "# Cambiar el formato del periodo a un tipo de fecha\n",
    "eg_totales_por_mes_categoria_v['FECHA'] = eg_totales_por_mes_categoria_v['FECHA'].dt.to_timestamp()\n",
    "\n",
    "# Renombrar la columna de montos\n",
    "eg_totales_por_mes_categoria_v.rename(columns={'MONTO': 'MONTO TOTAL'}, inplace=True)\n",
    "\n",
    "# Mostrar el DataFrame resultante\n",
    "eg_totales_por_mes_categoria_v"
   ]
  },
  {
   "cell_type": "markdown",
   "metadata": {},
   "source": [
    "#### Gastos por categoria"
   ]
  },
  {
   "cell_type": "code",
   "execution_count": 87,
   "metadata": {},
   "outputs": [
    {
     "data": {
      "text/html": [
       "<div>\n",
       "<style scoped>\n",
       "    .dataframe tbody tr th:only-of-type {\n",
       "        vertical-align: middle;\n",
       "    }\n",
       "\n",
       "    .dataframe tbody tr th {\n",
       "        vertical-align: top;\n",
       "    }\n",
       "\n",
       "    .dataframe thead th {\n",
       "        text-align: right;\n",
       "    }\n",
       "</style>\n",
       "<table border=\"1\" class=\"dataframe\">\n",
       "  <thead>\n",
       "    <tr style=\"text-align: right;\">\n",
       "      <th></th>\n",
       "      <th>DESCRIPCION</th>\n",
       "      <th>MONTO TOTAL</th>\n",
       "    </tr>\n",
       "  </thead>\n",
       "  <tbody>\n",
       "    <tr>\n",
       "      <th>0</th>\n",
       "      <td>Devolucion prestamo</td>\n",
       "      <td>84000.0</td>\n",
       "    </tr>\n",
       "    <tr>\n",
       "      <th>1</th>\n",
       "      <td>Gastos Locacion</td>\n",
       "      <td>651400.0</td>\n",
       "    </tr>\n",
       "    <tr>\n",
       "      <th>2</th>\n",
       "      <td>Materiales</td>\n",
       "      <td>123400.0</td>\n",
       "    </tr>\n",
       "    <tr>\n",
       "      <th>3</th>\n",
       "      <td>Salarios</td>\n",
       "      <td>5785000.0</td>\n",
       "    </tr>\n",
       "    <tr>\n",
       "      <th>4</th>\n",
       "      <td>Seguro</td>\n",
       "      <td>608606.0</td>\n",
       "    </tr>\n",
       "  </tbody>\n",
       "</table>\n",
       "</div>"
      ],
      "text/plain": [
       "           DESCRIPCION  MONTO TOTAL\n",
       "0  Devolucion prestamo      84000.0\n",
       "1      Gastos Locacion     651400.0\n",
       "2           Materiales     123400.0\n",
       "3             Salarios    5785000.0\n",
       "4               Seguro     608606.0"
      ]
     },
     "execution_count": 87,
     "metadata": {},
     "output_type": "execute_result"
    }
   ],
   "source": [
    "egresos_por_cat_v = eg_totales_por_mes_categoria_v.groupby('DESCRIPCION')[['MONTO TOTAL']].sum().reset_index()\n",
    "egresos_por_cat_v"
   ]
  },
  {
   "cell_type": "markdown",
   "metadata": {},
   "source": [
    "#### Coste del seguro por jugador"
   ]
  },
  {
   "cell_type": "code",
   "execution_count": 88,
   "metadata": {},
   "outputs": [
    {
     "data": {
      "text/html": [
       "<div>\n",
       "<style scoped>\n",
       "    .dataframe tbody tr th:only-of-type {\n",
       "        vertical-align: middle;\n",
       "    }\n",
       "\n",
       "    .dataframe tbody tr th {\n",
       "        vertical-align: top;\n",
       "    }\n",
       "\n",
       "    .dataframe thead th {\n",
       "        text-align: right;\n",
       "    }\n",
       "</style>\n",
       "<table border=\"1\" class=\"dataframe\">\n",
       "  <thead>\n",
       "    <tr style=\"text-align: right;\">\n",
       "      <th></th>\n",
       "      <th>FECHA</th>\n",
       "      <th>DESCRIPCION</th>\n",
       "      <th>MONTO TOTAL</th>\n",
       "    </tr>\n",
       "  </thead>\n",
       "  <tbody>\n",
       "    <tr>\n",
       "      <th>0</th>\n",
       "      <td>2024-02-01</td>\n",
       "      <td>Seguro</td>\n",
       "      <td>10000.0</td>\n",
       "    </tr>\n",
       "    <tr>\n",
       "      <th>1</th>\n",
       "      <td>2024-04-01</td>\n",
       "      <td>Seguro</td>\n",
       "      <td>119870.0</td>\n",
       "    </tr>\n",
       "    <tr>\n",
       "      <th>2</th>\n",
       "      <td>2024-05-01</td>\n",
       "      <td>Seguro</td>\n",
       "      <td>100340.0</td>\n",
       "    </tr>\n",
       "    <tr>\n",
       "      <th>3</th>\n",
       "      <td>2024-06-01</td>\n",
       "      <td>Seguro</td>\n",
       "      <td>88700.0</td>\n",
       "    </tr>\n",
       "    <tr>\n",
       "      <th>4</th>\n",
       "      <td>2024-07-01</td>\n",
       "      <td>Seguro</td>\n",
       "      <td>91097.0</td>\n",
       "    </tr>\n",
       "    <tr>\n",
       "      <th>5</th>\n",
       "      <td>2024-08-01</td>\n",
       "      <td>Seguro</td>\n",
       "      <td>89717.0</td>\n",
       "    </tr>\n",
       "    <tr>\n",
       "      <th>6</th>\n",
       "      <td>2024-09-01</td>\n",
       "      <td>Seguro</td>\n",
       "      <td>108882.0</td>\n",
       "    </tr>\n",
       "  </tbody>\n",
       "</table>\n",
       "</div>"
      ],
      "text/plain": [
       "       FECHA DESCRIPCION  MONTO TOTAL\n",
       "0 2024-02-01      Seguro      10000.0\n",
       "1 2024-04-01      Seguro     119870.0\n",
       "2 2024-05-01      Seguro     100340.0\n",
       "3 2024-06-01      Seguro      88700.0\n",
       "4 2024-07-01      Seguro      91097.0\n",
       "5 2024-08-01      Seguro      89717.0\n",
       "6 2024-09-01      Seguro     108882.0"
      ]
     },
     "execution_count": 88,
     "metadata": {},
     "output_type": "execute_result"
    }
   ],
   "source": [
    "eg_totales_por_mes_categoria_v['DESCRIPCION'].unique()\n",
    "\n",
    "filtro4 = eg_totales_por_mes_categoria_v.loc[:, 'DESCRIPCION'] == 'Seguro'\n",
    "mask_seguros = eg_totales_por_mes_categoria_v[filtro4].reset_index(drop=True)\n",
    "mask_seguros"
   ]
  },
  {
   "cell_type": "code",
   "execution_count": 89,
   "metadata": {},
   "outputs": [
    {
     "data": {
      "text/html": [
       "<div>\n",
       "<style scoped>\n",
       "    .dataframe tbody tr th:only-of-type {\n",
       "        vertical-align: middle;\n",
       "    }\n",
       "\n",
       "    .dataframe tbody tr th {\n",
       "        vertical-align: top;\n",
       "    }\n",
       "\n",
       "    .dataframe thead th {\n",
       "        text-align: right;\n",
       "    }\n",
       "</style>\n",
       "<table border=\"1\" class=\"dataframe\">\n",
       "  <thead>\n",
       "    <tr style=\"text-align: right;\">\n",
       "      <th></th>\n",
       "      <th>FECHA</th>\n",
       "      <th>MONTO TOTAL</th>\n",
       "    </tr>\n",
       "  </thead>\n",
       "  <tbody>\n",
       "    <tr>\n",
       "      <th>0</th>\n",
       "      <td>2024-02</td>\n",
       "      <td>10000.0</td>\n",
       "    </tr>\n",
       "    <tr>\n",
       "      <th>1</th>\n",
       "      <td>2024-04</td>\n",
       "      <td>119870.0</td>\n",
       "    </tr>\n",
       "    <tr>\n",
       "      <th>2</th>\n",
       "      <td>2024-05</td>\n",
       "      <td>100340.0</td>\n",
       "    </tr>\n",
       "    <tr>\n",
       "      <th>3</th>\n",
       "      <td>2024-06</td>\n",
       "      <td>88700.0</td>\n",
       "    </tr>\n",
       "    <tr>\n",
       "      <th>4</th>\n",
       "      <td>2024-07</td>\n",
       "      <td>91097.0</td>\n",
       "    </tr>\n",
       "    <tr>\n",
       "      <th>5</th>\n",
       "      <td>2024-08</td>\n",
       "      <td>89717.0</td>\n",
       "    </tr>\n",
       "    <tr>\n",
       "      <th>6</th>\n",
       "      <td>2024-09</td>\n",
       "      <td>108882.0</td>\n",
       "    </tr>\n",
       "  </tbody>\n",
       "</table>\n",
       "</div>"
      ],
      "text/plain": [
       "     FECHA  MONTO TOTAL\n",
       "0  2024-02      10000.0\n",
       "1  2024-04     119870.0\n",
       "2  2024-05     100340.0\n",
       "3  2024-06      88700.0\n",
       "4  2024-07      91097.0\n",
       "5  2024-08      89717.0\n",
       "6  2024-09     108882.0"
      ]
     },
     "execution_count": 89,
     "metadata": {},
     "output_type": "execute_result"
    }
   ],
   "source": [
    "mask_seguros=mask_seguros.groupby(mask_seguros['FECHA'].dt.to_period('M'))[['MONTO TOTAL']].sum().reset_index()\n",
    "mask_seguros"
   ]
  },
  {
   "cell_type": "code",
   "execution_count": 90,
   "metadata": {},
   "outputs": [],
   "source": [
    "# Contamos desde abril hasta octubre, ya que en feb se pago solo 1 seguro, y en marzo nada. \n",
    "media_seg_por_mes = mask_seguros['MONTO TOTAL'][1:].mean()"
   ]
  },
  {
   "cell_type": "code",
   "execution_count": 91,
   "metadata": {},
   "outputs": [],
   "source": [
    "media_soc_por_mes_v = socios_por_mes_tot['SOCIOS_VOL'].mean()"
   ]
  },
  {
   "cell_type": "code",
   "execution_count": 92,
   "metadata": {},
   "outputs": [
    {
     "data": {
      "text/plain": [
       "np.float64(776.74)"
      ]
     },
     "execution_count": 92,
     "metadata": {},
     "output_type": "execute_result"
    }
   ],
   "source": [
    "# Coste promedio de los 3 seguros por jugador.\n",
    "media_seguro_v_jugador = round(media_seg_por_mes/media_soc_por_mes_v, 2)\n",
    "\n",
    "media_seguro_v_jugador"
   ]
  },
  {
   "cell_type": "markdown",
   "metadata": {},
   "source": [
    "#### Coste del salario por jugador"
   ]
  },
  {
   "cell_type": "code",
   "execution_count": 93,
   "metadata": {},
   "outputs": [],
   "source": [
    "filtro_salarios=eg_totales_por_mes_categoria_v.loc[:, 'DESCRIPCION'] == 'Salarios'\n",
    "mask_salarios = eg_totales_por_mes_categoria_v[filtro_salarios]\n",
    "salarios_por_mes = mask_salarios.reset_index(drop=True)"
   ]
  },
  {
   "cell_type": "code",
   "execution_count": 94,
   "metadata": {},
   "outputs": [
    {
     "data": {
      "text/plain": [
       "np.float64(4899.466666666666)"
      ]
     },
     "execution_count": 94,
     "metadata": {},
     "output_type": "execute_result"
    }
   ],
   "source": [
    "coste_salario_mes_por_jug = round(salarios_por_mes['MONTO TOTAL']/socios_por_mes_tot['SOCIOS_VOL'], 2)\n",
    "coste_salario_mes_por_jug.mean()"
   ]
  },
  {
   "cell_type": "markdown",
   "metadata": {},
   "source": [
    "## Ingresos Voley"
   ]
  },
  {
   "cell_type": "code",
   "execution_count": 95,
   "metadata": {},
   "outputs": [],
   "source": [
    "ingresos24_v = r\"C:\\Users\\emita\\Bootcamp\\EDA\\data\\Ingresos_Egr_Voley\\INGRESOS_V.csv\"\n",
    "ingresos_v = pd.read_csv(ingresos24_v, header=4)"
   ]
  },
  {
   "cell_type": "code",
   "execution_count": 96,
   "metadata": {},
   "outputs": [],
   "source": [
    "ingresos_v = ingresos_v.iloc[:1077, :6]"
   ]
  },
  {
   "cell_type": "code",
   "execution_count": 97,
   "metadata": {},
   "outputs": [],
   "source": [
    "ingresos_v=ingresos_v.drop(columns=\"MES\")"
   ]
  },
  {
   "cell_type": "code",
   "execution_count": 98,
   "metadata": {},
   "outputs": [],
   "source": [
    "ingresos_v.columns=['FECHA', 'DESCRIPCION', 'MONTO', 'CATEGORIA', 'MEDIO DE PAGO']"
   ]
  },
  {
   "cell_type": "code",
   "execution_count": 99,
   "metadata": {},
   "outputs": [],
   "source": [
    "# Modifico la columna de monto, quitandole el simbolo \"$\" y ajustando los separadres de decimales\n",
    "ingresos_v['MONTO'] = ingresos_v['MONTO'].str.replace('$', '').str.replace(',', '')\n",
    "\n",
    "ingresos_v['MONTO'] = ingresos_v['MONTO'].astype(float) "
   ]
  },
  {
   "cell_type": "code",
   "execution_count": 100,
   "metadata": {},
   "outputs": [],
   "source": [
    "# Aplicamos funcion de conevrtir tipo de fecha\n",
    "ingresos_v['FECHA'] = ingresos_v['FECHA'].apply(convertir_fecha)\n",
    "ingresos_v['FECHA'] = pd.to_datetime(ingresos_v['FECHA'])"
   ]
  },
  {
   "cell_type": "code",
   "execution_count": 101,
   "metadata": {},
   "outputs": [],
   "source": [
    "ingresos_v['CATEGORIA'] = ingresos_v.loc[:, 'CATEGORIA'].str.capitalize()"
   ]
  },
  {
   "cell_type": "code",
   "execution_count": 102,
   "metadata": {},
   "outputs": [
    {
     "name": "stdout",
     "output_type": "stream",
     "text": [
      "<class 'pandas.core.frame.DataFrame'>\n",
      "RangeIndex: 1077 entries, 0 to 1076\n",
      "Data columns (total 5 columns):\n",
      " #   Column         Non-Null Count  Dtype         \n",
      "---  ------         --------------  -----         \n",
      " 0   FECHA          1077 non-null   datetime64[ns]\n",
      " 1   DESCRIPCION    1077 non-null   object        \n",
      " 2   MONTO          1077 non-null   float64       \n",
      " 3   CATEGORIA      1077 non-null   object        \n",
      " 4   MEDIO DE PAGO  1077 non-null   object        \n",
      "dtypes: datetime64[ns](1), float64(1), object(3)\n",
      "memory usage: 42.2+ KB\n"
     ]
    }
   ],
   "source": [
    "# Nos aseguramos que no haya ningun Null\n",
    "ingresos_v.info()"
   ]
  },
  {
   "cell_type": "code",
   "execution_count": 103,
   "metadata": {},
   "outputs": [
    {
     "data": {
      "text/plain": [
       "array(['Cuota', 'Cuota adeudada', 'Cuota medio mes', 'Seguro',\n",
       "       'Devolucion'], dtype=object)"
      ]
     },
     "execution_count": 103,
     "metadata": {},
     "output_type": "execute_result"
    }
   ],
   "source": [
    "ingresos_v['DESCRIPCION'].unique()"
   ]
  },
  {
   "cell_type": "code",
   "execution_count": 104,
   "metadata": {},
   "outputs": [
    {
     "data": {
      "text/html": [
       "<div>\n",
       "<style scoped>\n",
       "    .dataframe tbody tr th:only-of-type {\n",
       "        vertical-align: middle;\n",
       "    }\n",
       "\n",
       "    .dataframe tbody tr th {\n",
       "        vertical-align: top;\n",
       "    }\n",
       "\n",
       "    .dataframe thead th {\n",
       "        text-align: right;\n",
       "    }\n",
       "</style>\n",
       "<table border=\"1\" class=\"dataframe\">\n",
       "  <thead>\n",
       "    <tr style=\"text-align: right;\">\n",
       "      <th></th>\n",
       "      <th>FECHA</th>\n",
       "      <th>DESCRIPCION</th>\n",
       "      <th>MONTO</th>\n",
       "      <th>CATEGORIA</th>\n",
       "      <th>MEDIO DE PAGO</th>\n",
       "    </tr>\n",
       "  </thead>\n",
       "  <tbody>\n",
       "    <tr>\n",
       "      <th>0</th>\n",
       "      <td>2024-02-05</td>\n",
       "      <td>Cuota</td>\n",
       "      <td>6200.0</td>\n",
       "      <td>Sub16</td>\n",
       "      <td>Transferencia</td>\n",
       "    </tr>\n",
       "    <tr>\n",
       "      <th>1</th>\n",
       "      <td>2024-02-05</td>\n",
       "      <td>Cuota</td>\n",
       "      <td>6200.0</td>\n",
       "      <td>Sub18</td>\n",
       "      <td>Transferencia</td>\n",
       "    </tr>\n",
       "    <tr>\n",
       "      <th>2</th>\n",
       "      <td>2024-02-05</td>\n",
       "      <td>Cuota</td>\n",
       "      <td>6200.0</td>\n",
       "      <td>Sub16</td>\n",
       "      <td>Transferencia</td>\n",
       "    </tr>\n",
       "    <tr>\n",
       "      <th>3</th>\n",
       "      <td>2024-02-05</td>\n",
       "      <td>Cuota</td>\n",
       "      <td>6200.0</td>\n",
       "      <td>Sub18</td>\n",
       "      <td>Transferencia</td>\n",
       "    </tr>\n",
       "    <tr>\n",
       "      <th>4</th>\n",
       "      <td>2024-02-05</td>\n",
       "      <td>Cuota</td>\n",
       "      <td>6200.0</td>\n",
       "      <td>Sub14</td>\n",
       "      <td>Transferencia</td>\n",
       "    </tr>\n",
       "    <tr>\n",
       "      <th>...</th>\n",
       "      <td>...</td>\n",
       "      <td>...</td>\n",
       "      <td>...</td>\n",
       "      <td>...</td>\n",
       "      <td>...</td>\n",
       "    </tr>\n",
       "    <tr>\n",
       "      <th>1072</th>\n",
       "      <td>2024-10-25</td>\n",
       "      <td>Cuota</td>\n",
       "      <td>11250.0</td>\n",
       "      <td>Mini</td>\n",
       "      <td>Transferencia</td>\n",
       "    </tr>\n",
       "    <tr>\n",
       "      <th>1073</th>\n",
       "      <td>2024-10-25</td>\n",
       "      <td>Cuota</td>\n",
       "      <td>11250.0</td>\n",
       "      <td>Sub14</td>\n",
       "      <td>Transferencia</td>\n",
       "    </tr>\n",
       "    <tr>\n",
       "      <th>1074</th>\n",
       "      <td>2024-10-15</td>\n",
       "      <td>Cuota</td>\n",
       "      <td>10500.0</td>\n",
       "      <td>Sub16</td>\n",
       "      <td>Transferencia</td>\n",
       "    </tr>\n",
       "    <tr>\n",
       "      <th>1075</th>\n",
       "      <td>2024-10-28</td>\n",
       "      <td>Cuota</td>\n",
       "      <td>12500.0</td>\n",
       "      <td>Primera</td>\n",
       "      <td>Transferencia</td>\n",
       "    </tr>\n",
       "    <tr>\n",
       "      <th>1076</th>\n",
       "      <td>2024-10-28</td>\n",
       "      <td>Cuota</td>\n",
       "      <td>5500.0</td>\n",
       "      <td>Primera</td>\n",
       "      <td>Transferencia</td>\n",
       "    </tr>\n",
       "  </tbody>\n",
       "</table>\n",
       "<p>1076 rows × 5 columns</p>\n",
       "</div>"
      ],
      "text/plain": [
       "          FECHA DESCRIPCION    MONTO CATEGORIA  MEDIO DE PAGO\n",
       "0    2024-02-05       Cuota   6200.0     Sub16  Transferencia\n",
       "1    2024-02-05       Cuota   6200.0     Sub18  Transferencia\n",
       "2    2024-02-05       Cuota   6200.0     Sub16  Transferencia\n",
       "3    2024-02-05       Cuota   6200.0     Sub18  Transferencia\n",
       "4    2024-02-05       Cuota   6200.0     Sub14  Transferencia\n",
       "...         ...         ...      ...       ...            ...\n",
       "1072 2024-10-25       Cuota  11250.0      Mini  Transferencia\n",
       "1073 2024-10-25       Cuota  11250.0     Sub14  Transferencia\n",
       "1074 2024-10-15       Cuota  10500.0     Sub16  Transferencia\n",
       "1075 2024-10-28       Cuota  12500.0   Primera  Transferencia\n",
       "1076 2024-10-28       Cuota   5500.0   Primera  Transferencia\n",
       "\n",
       "[1076 rows x 5 columns]"
      ]
     },
     "execution_count": 104,
     "metadata": {},
     "output_type": "execute_result"
    }
   ],
   "source": [
    "# Eliminamos el siguiente items, ya que no se considera gasto propios de la act del dia a dia del club: 'Devolucion'\n",
    "ingresos_reales_v =  ['Cuota', 'Cuota adeudada', 'Cuota medio mes', 'Seguro']\n",
    "filtro_i_v= ingresos_v.loc[:, 'DESCRIPCION'].isin(ingresos_reales_v)\n",
    "ingresos_reales_v=ingresos_v[filtro_i_v]\n",
    "ingresos_reales_v"
   ]
  },
  {
   "cell_type": "code",
   "execution_count": 105,
   "metadata": {},
   "outputs": [
    {
     "data": {
      "text/html": [
       "<div>\n",
       "<style scoped>\n",
       "    .dataframe tbody tr th:only-of-type {\n",
       "        vertical-align: middle;\n",
       "    }\n",
       "\n",
       "    .dataframe tbody tr th {\n",
       "        vertical-align: top;\n",
       "    }\n",
       "\n",
       "    .dataframe thead th {\n",
       "        text-align: right;\n",
       "    }\n",
       "</style>\n",
       "<table border=\"1\" class=\"dataframe\">\n",
       "  <thead>\n",
       "    <tr style=\"text-align: right;\">\n",
       "      <th></th>\n",
       "      <th>FECHA</th>\n",
       "      <th>DESCRIPCION</th>\n",
       "      <th>MONTO</th>\n",
       "      <th>CATEGORIA</th>\n",
       "      <th>MEDIO DE PAGO</th>\n",
       "    </tr>\n",
       "  </thead>\n",
       "  <tbody>\n",
       "    <tr>\n",
       "      <th>0</th>\n",
       "      <td>2024-02-05</td>\n",
       "      <td>Cuota</td>\n",
       "      <td>6200.0</td>\n",
       "      <td>Sub16</td>\n",
       "      <td>Transferencia</td>\n",
       "    </tr>\n",
       "    <tr>\n",
       "      <th>1</th>\n",
       "      <td>2024-02-05</td>\n",
       "      <td>Cuota</td>\n",
       "      <td>6200.0</td>\n",
       "      <td>Sub18</td>\n",
       "      <td>Transferencia</td>\n",
       "    </tr>\n",
       "    <tr>\n",
       "      <th>2</th>\n",
       "      <td>2024-02-05</td>\n",
       "      <td>Cuota</td>\n",
       "      <td>6200.0</td>\n",
       "      <td>Sub16</td>\n",
       "      <td>Transferencia</td>\n",
       "    </tr>\n",
       "    <tr>\n",
       "      <th>3</th>\n",
       "      <td>2024-02-05</td>\n",
       "      <td>Cuota</td>\n",
       "      <td>6200.0</td>\n",
       "      <td>Sub18</td>\n",
       "      <td>Transferencia</td>\n",
       "    </tr>\n",
       "    <tr>\n",
       "      <th>4</th>\n",
       "      <td>2024-02-05</td>\n",
       "      <td>Cuota</td>\n",
       "      <td>6200.0</td>\n",
       "      <td>Sub14</td>\n",
       "      <td>Transferencia</td>\n",
       "    </tr>\n",
       "    <tr>\n",
       "      <th>...</th>\n",
       "      <td>...</td>\n",
       "      <td>...</td>\n",
       "      <td>...</td>\n",
       "      <td>...</td>\n",
       "      <td>...</td>\n",
       "    </tr>\n",
       "    <tr>\n",
       "      <th>1072</th>\n",
       "      <td>2024-10-25</td>\n",
       "      <td>Cuota</td>\n",
       "      <td>11250.0</td>\n",
       "      <td>Mini</td>\n",
       "      <td>Transferencia</td>\n",
       "    </tr>\n",
       "    <tr>\n",
       "      <th>1073</th>\n",
       "      <td>2024-10-25</td>\n",
       "      <td>Cuota</td>\n",
       "      <td>11250.0</td>\n",
       "      <td>Sub14</td>\n",
       "      <td>Transferencia</td>\n",
       "    </tr>\n",
       "    <tr>\n",
       "      <th>1074</th>\n",
       "      <td>2024-10-15</td>\n",
       "      <td>Cuota</td>\n",
       "      <td>10500.0</td>\n",
       "      <td>Sub16</td>\n",
       "      <td>Transferencia</td>\n",
       "    </tr>\n",
       "    <tr>\n",
       "      <th>1075</th>\n",
       "      <td>2024-10-28</td>\n",
       "      <td>Cuota</td>\n",
       "      <td>12500.0</td>\n",
       "      <td>Primera</td>\n",
       "      <td>Transferencia</td>\n",
       "    </tr>\n",
       "    <tr>\n",
       "      <th>1076</th>\n",
       "      <td>2024-10-28</td>\n",
       "      <td>Cuota</td>\n",
       "      <td>5500.0</td>\n",
       "      <td>Primera</td>\n",
       "      <td>Transferencia</td>\n",
       "    </tr>\n",
       "  </tbody>\n",
       "</table>\n",
       "<p>1077 rows × 5 columns</p>\n",
       "</div>"
      ],
      "text/plain": [
       "          FECHA DESCRIPCION    MONTO CATEGORIA  MEDIO DE PAGO\n",
       "0    2024-02-05       Cuota   6200.0     Sub16  Transferencia\n",
       "1    2024-02-05       Cuota   6200.0     Sub18  Transferencia\n",
       "2    2024-02-05       Cuota   6200.0     Sub16  Transferencia\n",
       "3    2024-02-05       Cuota   6200.0     Sub18  Transferencia\n",
       "4    2024-02-05       Cuota   6200.0     Sub14  Transferencia\n",
       "...         ...         ...      ...       ...            ...\n",
       "1072 2024-10-25       Cuota  11250.0      Mini  Transferencia\n",
       "1073 2024-10-25       Cuota  11250.0     Sub14  Transferencia\n",
       "1074 2024-10-15       Cuota  10500.0     Sub16  Transferencia\n",
       "1075 2024-10-28       Cuota  12500.0   Primera  Transferencia\n",
       "1076 2024-10-28       Cuota   5500.0   Primera  Transferencia\n",
       "\n",
       "[1077 rows x 5 columns]"
      ]
     },
     "execution_count": 105,
     "metadata": {},
     "output_type": "execute_result"
    }
   ],
   "source": [
    "ingresos_v['DESCRIPCION'].unique()\n",
    "ingresos_v"
   ]
  },
  {
   "cell_type": "code",
   "execution_count": 106,
   "metadata": {},
   "outputs": [
    {
     "data": {
      "text/html": [
       "<div>\n",
       "<style scoped>\n",
       "    .dataframe tbody tr th:only-of-type {\n",
       "        vertical-align: middle;\n",
       "    }\n",
       "\n",
       "    .dataframe tbody tr th {\n",
       "        vertical-align: top;\n",
       "    }\n",
       "\n",
       "    .dataframe thead th {\n",
       "        text-align: right;\n",
       "    }\n",
       "</style>\n",
       "<table border=\"1\" class=\"dataframe\">\n",
       "  <thead>\n",
       "    <tr style=\"text-align: right;\">\n",
       "      <th></th>\n",
       "      <th>FECHA</th>\n",
       "      <th>DESCRIPCION</th>\n",
       "      <th>MONTO</th>\n",
       "      <th>CATEGORIA</th>\n",
       "      <th>MEDIO DE PAGO</th>\n",
       "    </tr>\n",
       "  </thead>\n",
       "  <tbody>\n",
       "    <tr>\n",
       "      <th>0</th>\n",
       "      <td>2024-02-05</td>\n",
       "      <td>Cuota</td>\n",
       "      <td>6200.0</td>\n",
       "      <td>Sub16</td>\n",
       "      <td>Transferencia</td>\n",
       "    </tr>\n",
       "    <tr>\n",
       "      <th>1</th>\n",
       "      <td>2024-02-05</td>\n",
       "      <td>Cuota</td>\n",
       "      <td>6200.0</td>\n",
       "      <td>Sub18</td>\n",
       "      <td>Transferencia</td>\n",
       "    </tr>\n",
       "    <tr>\n",
       "      <th>2</th>\n",
       "      <td>2024-02-05</td>\n",
       "      <td>Cuota</td>\n",
       "      <td>6200.0</td>\n",
       "      <td>Sub16</td>\n",
       "      <td>Transferencia</td>\n",
       "    </tr>\n",
       "    <tr>\n",
       "      <th>3</th>\n",
       "      <td>2024-02-05</td>\n",
       "      <td>Cuota</td>\n",
       "      <td>6200.0</td>\n",
       "      <td>Sub18</td>\n",
       "      <td>Transferencia</td>\n",
       "    </tr>\n",
       "    <tr>\n",
       "      <th>4</th>\n",
       "      <td>2024-02-05</td>\n",
       "      <td>Cuota</td>\n",
       "      <td>6200.0</td>\n",
       "      <td>Sub14</td>\n",
       "      <td>Transferencia</td>\n",
       "    </tr>\n",
       "    <tr>\n",
       "      <th>...</th>\n",
       "      <td>...</td>\n",
       "      <td>...</td>\n",
       "      <td>...</td>\n",
       "      <td>...</td>\n",
       "      <td>...</td>\n",
       "    </tr>\n",
       "    <tr>\n",
       "      <th>1072</th>\n",
       "      <td>2024-10-25</td>\n",
       "      <td>Cuota</td>\n",
       "      <td>11250.0</td>\n",
       "      <td>Mini</td>\n",
       "      <td>Transferencia</td>\n",
       "    </tr>\n",
       "    <tr>\n",
       "      <th>1073</th>\n",
       "      <td>2024-10-25</td>\n",
       "      <td>Cuota</td>\n",
       "      <td>11250.0</td>\n",
       "      <td>Sub14</td>\n",
       "      <td>Transferencia</td>\n",
       "    </tr>\n",
       "    <tr>\n",
       "      <th>1074</th>\n",
       "      <td>2024-10-15</td>\n",
       "      <td>Cuota</td>\n",
       "      <td>10500.0</td>\n",
       "      <td>Sub16</td>\n",
       "      <td>Transferencia</td>\n",
       "    </tr>\n",
       "    <tr>\n",
       "      <th>1075</th>\n",
       "      <td>2024-10-28</td>\n",
       "      <td>Cuota</td>\n",
       "      <td>12500.0</td>\n",
       "      <td>Primera</td>\n",
       "      <td>Transferencia</td>\n",
       "    </tr>\n",
       "    <tr>\n",
       "      <th>1076</th>\n",
       "      <td>2024-10-28</td>\n",
       "      <td>Cuota</td>\n",
       "      <td>5500.0</td>\n",
       "      <td>Primera</td>\n",
       "      <td>Transferencia</td>\n",
       "    </tr>\n",
       "  </tbody>\n",
       "</table>\n",
       "<p>1077 rows × 5 columns</p>\n",
       "</div>"
      ],
      "text/plain": [
       "          FECHA DESCRIPCION    MONTO CATEGORIA  MEDIO DE PAGO\n",
       "0    2024-02-05       Cuota   6200.0     Sub16  Transferencia\n",
       "1    2024-02-05       Cuota   6200.0     Sub18  Transferencia\n",
       "2    2024-02-05       Cuota   6200.0     Sub16  Transferencia\n",
       "3    2024-02-05       Cuota   6200.0     Sub18  Transferencia\n",
       "4    2024-02-05       Cuota   6200.0     Sub14  Transferencia\n",
       "...         ...         ...      ...       ...            ...\n",
       "1072 2024-10-25       Cuota  11250.0      Mini  Transferencia\n",
       "1073 2024-10-25       Cuota  11250.0     Sub14  Transferencia\n",
       "1074 2024-10-15       Cuota  10500.0     Sub16  Transferencia\n",
       "1075 2024-10-28       Cuota  12500.0   Primera  Transferencia\n",
       "1076 2024-10-28       Cuota   5500.0   Primera  Transferencia\n",
       "\n",
       "[1077 rows x 5 columns]"
      ]
     },
     "execution_count": 106,
     "metadata": {},
     "output_type": "execute_result"
    }
   ],
   "source": [
    "lista_ingresos_reales_v = ['Cuota', 'Cuota adeudada', 'Cuota medio mes']\n",
    "ingresos_reales_v =ingresos_v.loc[:, 'DESCRIPCION'].isin(lista_ingresos_reales_v)\n",
    "ingresos_v[ingresos_reales_v]\n",
    "ingresos_v=ingresos_v.reset_index(drop=True)\n",
    "ingresos_v"
   ]
  },
  {
   "cell_type": "markdown",
   "metadata": {},
   "source": [
    "#### Ingresos por categoria"
   ]
  },
  {
   "cell_type": "code",
   "execution_count": 107,
   "metadata": {},
   "outputs": [
    {
     "data": {
      "text/html": [
       "<div>\n",
       "<style scoped>\n",
       "    .dataframe tbody tr th:only-of-type {\n",
       "        vertical-align: middle;\n",
       "    }\n",
       "\n",
       "    .dataframe tbody tr th {\n",
       "        vertical-align: top;\n",
       "    }\n",
       "\n",
       "    .dataframe thead th {\n",
       "        text-align: right;\n",
       "    }\n",
       "</style>\n",
       "<table border=\"1\" class=\"dataframe\">\n",
       "  <thead>\n",
       "    <tr style=\"text-align: right;\">\n",
       "      <th></th>\n",
       "      <th>CATEGORIA</th>\n",
       "      <th>MONTO</th>\n",
       "    </tr>\n",
       "  </thead>\n",
       "  <tbody>\n",
       "    <tr>\n",
       "      <th>0</th>\n",
       "      <td>Devolucion</td>\n",
       "      <td>20000.0</td>\n",
       "    </tr>\n",
       "    <tr>\n",
       "      <th>1</th>\n",
       "      <td>Mini</td>\n",
       "      <td>501900.0</td>\n",
       "    </tr>\n",
       "    <tr>\n",
       "      <th>2</th>\n",
       "      <td>Primera</td>\n",
       "      <td>1599950.0</td>\n",
       "    </tr>\n",
       "    <tr>\n",
       "      <th>3</th>\n",
       "      <td>Recreativo</td>\n",
       "      <td>112000.0</td>\n",
       "    </tr>\n",
       "    <tr>\n",
       "      <th>4</th>\n",
       "      <td>Su14</td>\n",
       "      <td>10500.0</td>\n",
       "    </tr>\n",
       "    <tr>\n",
       "      <th>5</th>\n",
       "      <td>Sub12</td>\n",
       "      <td>961100.0</td>\n",
       "    </tr>\n",
       "    <tr>\n",
       "      <th>6</th>\n",
       "      <td>Sub14</td>\n",
       "      <td>1019550.0</td>\n",
       "    </tr>\n",
       "    <tr>\n",
       "      <th>7</th>\n",
       "      <td>Sub16</td>\n",
       "      <td>1599550.0</td>\n",
       "    </tr>\n",
       "    <tr>\n",
       "      <th>8</th>\n",
       "      <td>Sub18</td>\n",
       "      <td>2000650.0</td>\n",
       "    </tr>\n",
       "    <tr>\n",
       "      <th>9</th>\n",
       "      <td>Sub19</td>\n",
       "      <td>741850.0</td>\n",
       "    </tr>\n",
       "  </tbody>\n",
       "</table>\n",
       "</div>"
      ],
      "text/plain": [
       "    CATEGORIA      MONTO\n",
       "0  Devolucion    20000.0\n",
       "1        Mini   501900.0\n",
       "2     Primera  1599950.0\n",
       "3  Recreativo   112000.0\n",
       "4        Su14    10500.0\n",
       "5       Sub12   961100.0\n",
       "6       Sub14  1019550.0\n",
       "7       Sub16  1599550.0\n",
       "8       Sub18  2000650.0\n",
       "9       Sub19   741850.0"
      ]
     },
     "execution_count": 107,
     "metadata": {},
     "output_type": "execute_result"
    }
   ],
   "source": [
    "ingresos_por_cat_v = ingresos_v.groupby('CATEGORIA')[['MONTO']].sum().reset_index()\n",
    "ingresos_por_cat_v"
   ]
  },
  {
   "cell_type": "markdown",
   "metadata": {},
   "source": [
    "#### Ingresos totales por mes"
   ]
  },
  {
   "cell_type": "code",
   "execution_count": 108,
   "metadata": {},
   "outputs": [
    {
     "data": {
      "text/html": [
       "<div>\n",
       "<style scoped>\n",
       "    .dataframe tbody tr th:only-of-type {\n",
       "        vertical-align: middle;\n",
       "    }\n",
       "\n",
       "    .dataframe tbody tr th {\n",
       "        vertical-align: top;\n",
       "    }\n",
       "\n",
       "    .dataframe thead th {\n",
       "        text-align: right;\n",
       "    }\n",
       "</style>\n",
       "<table border=\"1\" class=\"dataframe\">\n",
       "  <thead>\n",
       "    <tr style=\"text-align: right;\">\n",
       "      <th></th>\n",
       "      <th>FECHA</th>\n",
       "      <th>MONTO TOTAL</th>\n",
       "    </tr>\n",
       "  </thead>\n",
       "  <tbody>\n",
       "    <tr>\n",
       "      <th>0</th>\n",
       "      <td>2024-02-01</td>\n",
       "      <td>572400.0</td>\n",
       "    </tr>\n",
       "    <tr>\n",
       "      <th>1</th>\n",
       "      <td>2024-03-01</td>\n",
       "      <td>704000.0</td>\n",
       "    </tr>\n",
       "    <tr>\n",
       "      <th>2</th>\n",
       "      <td>2024-04-01</td>\n",
       "      <td>900900.0</td>\n",
       "    </tr>\n",
       "    <tr>\n",
       "      <th>3</th>\n",
       "      <td>2024-05-01</td>\n",
       "      <td>947300.0</td>\n",
       "    </tr>\n",
       "    <tr>\n",
       "      <th>4</th>\n",
       "      <td>2024-06-01</td>\n",
       "      <td>864650.0</td>\n",
       "    </tr>\n",
       "    <tr>\n",
       "      <th>5</th>\n",
       "      <td>2024-07-01</td>\n",
       "      <td>921200.0</td>\n",
       "    </tr>\n",
       "    <tr>\n",
       "      <th>6</th>\n",
       "      <td>2024-08-01</td>\n",
       "      <td>1049950.0</td>\n",
       "    </tr>\n",
       "    <tr>\n",
       "      <th>7</th>\n",
       "      <td>2024-09-01</td>\n",
       "      <td>1279200.0</td>\n",
       "    </tr>\n",
       "    <tr>\n",
       "      <th>8</th>\n",
       "      <td>2024-10-01</td>\n",
       "      <td>1327450.0</td>\n",
       "    </tr>\n",
       "  </tbody>\n",
       "</table>\n",
       "</div>"
      ],
      "text/plain": [
       "       FECHA  MONTO TOTAL\n",
       "0 2024-02-01     572400.0\n",
       "1 2024-03-01     704000.0\n",
       "2 2024-04-01     900900.0\n",
       "3 2024-05-01     947300.0\n",
       "4 2024-06-01     864650.0\n",
       "5 2024-07-01     921200.0\n",
       "6 2024-08-01    1049950.0\n",
       "7 2024-09-01    1279200.0\n",
       "8 2024-10-01    1327450.0"
      ]
     },
     "execution_count": 108,
     "metadata": {},
     "output_type": "execute_result"
    }
   ],
   "source": [
    "# Calculo ingresos totales por mes:\n",
    "\n",
    "ingresos_totales_por_mes_v = ingresos_v.groupby(ingresos_v['FECHA'].dt.to_period('M'))['MONTO'].sum().reset_index()\n",
    "\n",
    "# Cambiar el formato del periodo a un tipo de fecha\n",
    "ingresos_totales_por_mes_v['FECHA'] = ingresos_totales_por_mes_v['FECHA'].dt.to_timestamp()\n",
    "\n",
    "# Renombrar la columna de montos\n",
    "ingresos_totales_por_mes_v.rename(columns={'MONTO': 'MONTO TOTAL'}, inplace=True)\n",
    "\n",
    "# Mostrar el DataFrame resultante\n",
    "ingresos_totales_por_mes_v"
   ]
  },
  {
   "cell_type": "markdown",
   "metadata": {},
   "source": [
    "### Ingresos vs egresos"
   ]
  },
  {
   "cell_type": "code",
   "execution_count": 109,
   "metadata": {},
   "outputs": [
    {
     "data": {
      "text/html": [
       "<div>\n",
       "<style scoped>\n",
       "    .dataframe tbody tr th:only-of-type {\n",
       "        vertical-align: middle;\n",
       "    }\n",
       "\n",
       "    .dataframe tbody tr th {\n",
       "        vertical-align: top;\n",
       "    }\n",
       "\n",
       "    .dataframe thead th {\n",
       "        text-align: right;\n",
       "    }\n",
       "</style>\n",
       "<table border=\"1\" class=\"dataframe\">\n",
       "  <thead>\n",
       "    <tr style=\"text-align: right;\">\n",
       "      <th></th>\n",
       "      <th>FECHA</th>\n",
       "      <th>INGRESOS</th>\n",
       "      <th>EGRESOS</th>\n",
       "    </tr>\n",
       "  </thead>\n",
       "  <tbody>\n",
       "    <tr>\n",
       "      <th>0</th>\n",
       "      <td>2024-02-01</td>\n",
       "      <td>572400.0</td>\n",
       "      <td>538700.0</td>\n",
       "    </tr>\n",
       "    <tr>\n",
       "      <th>1</th>\n",
       "      <td>2024-03-01</td>\n",
       "      <td>704000.0</td>\n",
       "      <td>658900.0</td>\n",
       "    </tr>\n",
       "    <tr>\n",
       "      <th>2</th>\n",
       "      <td>2024-04-01</td>\n",
       "      <td>900900.0</td>\n",
       "      <td>816070.0</td>\n",
       "    </tr>\n",
       "    <tr>\n",
       "      <th>3</th>\n",
       "      <td>2024-05-01</td>\n",
       "      <td>947300.0</td>\n",
       "      <td>845340.0</td>\n",
       "    </tr>\n",
       "    <tr>\n",
       "      <th>4</th>\n",
       "      <td>2024-06-01</td>\n",
       "      <td>864650.0</td>\n",
       "      <td>804700.0</td>\n",
       "    </tr>\n",
       "    <tr>\n",
       "      <th>5</th>\n",
       "      <td>2024-07-01</td>\n",
       "      <td>921200.0</td>\n",
       "      <td>441097.0</td>\n",
       "    </tr>\n",
       "    <tr>\n",
       "      <th>6</th>\n",
       "      <td>2024-08-01</td>\n",
       "      <td>1049950.0</td>\n",
       "      <td>1131217.0</td>\n",
       "    </tr>\n",
       "    <tr>\n",
       "      <th>7</th>\n",
       "      <td>2024-09-01</td>\n",
       "      <td>1279200.0</td>\n",
       "      <td>833882.0</td>\n",
       "    </tr>\n",
       "    <tr>\n",
       "      <th>8</th>\n",
       "      <td>2024-10-01</td>\n",
       "      <td>1327450.0</td>\n",
       "      <td>1182500.0</td>\n",
       "    </tr>\n",
       "  </tbody>\n",
       "</table>\n",
       "</div>"
      ],
      "text/plain": [
       "       FECHA   INGRESOS    EGRESOS\n",
       "0 2024-02-01   572400.0   538700.0\n",
       "1 2024-03-01   704000.0   658900.0\n",
       "2 2024-04-01   900900.0   816070.0\n",
       "3 2024-05-01   947300.0   845340.0\n",
       "4 2024-06-01   864650.0   804700.0\n",
       "5 2024-07-01   921200.0   441097.0\n",
       "6 2024-08-01  1049950.0  1131217.0\n",
       "7 2024-09-01  1279200.0   833882.0\n",
       "8 2024-10-01  1327450.0  1182500.0"
      ]
     },
     "execution_count": 109,
     "metadata": {},
     "output_type": "execute_result"
    }
   ],
   "source": [
    "ingresos_egresos_v = pd.merge(ingresos_totales_por_mes_v, eg_totales_por_mes, on='FECHA')\n",
    "ingresos_egresos_v.columns=['FECHA', 'INGRESOS', 'EGRESOS']\n",
    "ingresos_egresos_v"
   ]
  },
  {
   "cell_type": "code",
   "execution_count": 110,
   "metadata": {},
   "outputs": [
    {
     "data": {
      "text/html": [
       "<div>\n",
       "<style scoped>\n",
       "    .dataframe tbody tr th:only-of-type {\n",
       "        vertical-align: middle;\n",
       "    }\n",
       "\n",
       "    .dataframe tbody tr th {\n",
       "        vertical-align: top;\n",
       "    }\n",
       "\n",
       "    .dataframe thead th {\n",
       "        text-align: right;\n",
       "    }\n",
       "</style>\n",
       "<table border=\"1\" class=\"dataframe\">\n",
       "  <thead>\n",
       "    <tr style=\"text-align: right;\">\n",
       "      <th></th>\n",
       "      <th>FECHA</th>\n",
       "      <th>INGRESOS</th>\n",
       "      <th>EGRESOS</th>\n",
       "      <th>SALDO</th>\n",
       "    </tr>\n",
       "  </thead>\n",
       "  <tbody>\n",
       "    <tr>\n",
       "      <th>0</th>\n",
       "      <td>FEB</td>\n",
       "      <td>572400.0</td>\n",
       "      <td>538700.0</td>\n",
       "      <td>33700.0</td>\n",
       "    </tr>\n",
       "    <tr>\n",
       "      <th>1</th>\n",
       "      <td>MAR</td>\n",
       "      <td>704000.0</td>\n",
       "      <td>658900.0</td>\n",
       "      <td>45100.0</td>\n",
       "    </tr>\n",
       "    <tr>\n",
       "      <th>2</th>\n",
       "      <td>ABR</td>\n",
       "      <td>900900.0</td>\n",
       "      <td>816070.0</td>\n",
       "      <td>84830.0</td>\n",
       "    </tr>\n",
       "    <tr>\n",
       "      <th>3</th>\n",
       "      <td>MAY</td>\n",
       "      <td>947300.0</td>\n",
       "      <td>845340.0</td>\n",
       "      <td>101960.0</td>\n",
       "    </tr>\n",
       "    <tr>\n",
       "      <th>4</th>\n",
       "      <td>JUN</td>\n",
       "      <td>864650.0</td>\n",
       "      <td>804700.0</td>\n",
       "      <td>59950.0</td>\n",
       "    </tr>\n",
       "    <tr>\n",
       "      <th>5</th>\n",
       "      <td>JUL</td>\n",
       "      <td>921200.0</td>\n",
       "      <td>441097.0</td>\n",
       "      <td>480103.0</td>\n",
       "    </tr>\n",
       "    <tr>\n",
       "      <th>6</th>\n",
       "      <td>AGO</td>\n",
       "      <td>1049950.0</td>\n",
       "      <td>1131217.0</td>\n",
       "      <td>-81267.0</td>\n",
       "    </tr>\n",
       "    <tr>\n",
       "      <th>7</th>\n",
       "      <td>SEPT</td>\n",
       "      <td>1279200.0</td>\n",
       "      <td>833882.0</td>\n",
       "      <td>445318.0</td>\n",
       "    </tr>\n",
       "    <tr>\n",
       "      <th>8</th>\n",
       "      <td>OCT</td>\n",
       "      <td>1327450.0</td>\n",
       "      <td>1182500.0</td>\n",
       "      <td>144950.0</td>\n",
       "    </tr>\n",
       "  </tbody>\n",
       "</table>\n",
       "</div>"
      ],
      "text/plain": [
       "  FECHA   INGRESOS    EGRESOS     SALDO\n",
       "0   FEB   572400.0   538700.0   33700.0\n",
       "1   MAR   704000.0   658900.0   45100.0\n",
       "2   ABR   900900.0   816070.0   84830.0\n",
       "3   MAY   947300.0   845340.0  101960.0\n",
       "4   JUN   864650.0   804700.0   59950.0\n",
       "5   JUL   921200.0   441097.0  480103.0\n",
       "6   AGO  1049950.0  1131217.0  -81267.0\n",
       "7  SEPT  1279200.0   833882.0  445318.0\n",
       "8   OCT  1327450.0  1182500.0  144950.0"
      ]
     },
     "execution_count": 110,
     "metadata": {},
     "output_type": "execute_result"
    }
   ],
   "source": [
    "ingresos_egresos_v['SALDO'] = ingresos_egresos_v['INGRESOS'] - ingresos_egresos_v['EGRESOS']\n",
    "ingresos_egresos_v['FECHA'] = ['FEB', 'MAR', 'ABR', 'MAY', 'JUN', 'JUL', 'AGO', 'SEPT', 'OCT']\n",
    "ingresos_egresos_v"
   ]
  },
  {
   "cell_type": "markdown",
   "metadata": {},
   "source": [
    "Gastos por socio"
   ]
  },
  {
   "cell_type": "code",
   "execution_count": 111,
   "metadata": {},
   "outputs": [
    {
     "data": {
      "text/html": [
       "<div>\n",
       "<style scoped>\n",
       "    .dataframe tbody tr th:only-of-type {\n",
       "        vertical-align: middle;\n",
       "    }\n",
       "\n",
       "    .dataframe tbody tr th {\n",
       "        vertical-align: top;\n",
       "    }\n",
       "\n",
       "    .dataframe thead th {\n",
       "        text-align: right;\n",
       "    }\n",
       "</style>\n",
       "<table border=\"1\" class=\"dataframe\">\n",
       "  <thead>\n",
       "    <tr style=\"text-align: right;\">\n",
       "      <th></th>\n",
       "      <th>FECHA</th>\n",
       "      <th>INGRESOS</th>\n",
       "      <th>EGRESOS</th>\n",
       "      <th>SALDO</th>\n",
       "      <th>INGRESOS POR SOCIO</th>\n",
       "      <th>EGRESOS POR SOCIO</th>\n",
       "      <th>SALDO POR SOCIO</th>\n",
       "    </tr>\n",
       "  </thead>\n",
       "  <tbody>\n",
       "    <tr>\n",
       "      <th>0</th>\n",
       "      <td>FEB</td>\n",
       "      <td>572400.0</td>\n",
       "      <td>538700.0</td>\n",
       "      <td>33700.0</td>\n",
       "      <td>5557.28</td>\n",
       "      <td>5230.10</td>\n",
       "      <td>327.18</td>\n",
       "    </tr>\n",
       "    <tr>\n",
       "      <th>1</th>\n",
       "      <td>MAR</td>\n",
       "      <td>704000.0</td>\n",
       "      <td>658900.0</td>\n",
       "      <td>45100.0</td>\n",
       "      <td>5818.18</td>\n",
       "      <td>5445.45</td>\n",
       "      <td>372.73</td>\n",
       "    </tr>\n",
       "    <tr>\n",
       "      <th>2</th>\n",
       "      <td>ABR</td>\n",
       "      <td>900900.0</td>\n",
       "      <td>816070.0</td>\n",
       "      <td>84830.0</td>\n",
       "      <td>6575.91</td>\n",
       "      <td>5956.72</td>\n",
       "      <td>619.20</td>\n",
       "    </tr>\n",
       "    <tr>\n",
       "      <th>3</th>\n",
       "      <td>MAY</td>\n",
       "      <td>947300.0</td>\n",
       "      <td>845340.0</td>\n",
       "      <td>101960.0</td>\n",
       "      <td>7639.52</td>\n",
       "      <td>6817.26</td>\n",
       "      <td>822.26</td>\n",
       "    </tr>\n",
       "    <tr>\n",
       "      <th>4</th>\n",
       "      <td>JUN</td>\n",
       "      <td>864650.0</td>\n",
       "      <td>804700.0</td>\n",
       "      <td>59950.0</td>\n",
       "      <td>6404.81</td>\n",
       "      <td>5960.74</td>\n",
       "      <td>444.07</td>\n",
       "    </tr>\n",
       "    <tr>\n",
       "      <th>5</th>\n",
       "      <td>JUL</td>\n",
       "      <td>921200.0</td>\n",
       "      <td>441097.0</td>\n",
       "      <td>480103.0</td>\n",
       "      <td>8152.21</td>\n",
       "      <td>3903.51</td>\n",
       "      <td>4248.70</td>\n",
       "    </tr>\n",
       "    <tr>\n",
       "      <th>6</th>\n",
       "      <td>AGO</td>\n",
       "      <td>1049950.0</td>\n",
       "      <td>1131217.0</td>\n",
       "      <td>-81267.0</td>\n",
       "      <td>8014.89</td>\n",
       "      <td>8635.24</td>\n",
       "      <td>-620.36</td>\n",
       "    </tr>\n",
       "    <tr>\n",
       "      <th>7</th>\n",
       "      <td>SEPT</td>\n",
       "      <td>1279200.0</td>\n",
       "      <td>833882.0</td>\n",
       "      <td>445318.0</td>\n",
       "      <td>9269.57</td>\n",
       "      <td>6042.62</td>\n",
       "      <td>3226.94</td>\n",
       "    </tr>\n",
       "    <tr>\n",
       "      <th>8</th>\n",
       "      <td>OCT</td>\n",
       "      <td>1327450.0</td>\n",
       "      <td>1182500.0</td>\n",
       "      <td>144950.0</td>\n",
       "      <td>8619.81</td>\n",
       "      <td>7678.57</td>\n",
       "      <td>941.23</td>\n",
       "    </tr>\n",
       "  </tbody>\n",
       "</table>\n",
       "</div>"
      ],
      "text/plain": [
       "  FECHA   INGRESOS    EGRESOS     SALDO  INGRESOS POR SOCIO  \\\n",
       "0   FEB   572400.0   538700.0   33700.0             5557.28   \n",
       "1   MAR   704000.0   658900.0   45100.0             5818.18   \n",
       "2   ABR   900900.0   816070.0   84830.0             6575.91   \n",
       "3   MAY   947300.0   845340.0  101960.0             7639.52   \n",
       "4   JUN   864650.0   804700.0   59950.0             6404.81   \n",
       "5   JUL   921200.0   441097.0  480103.0             8152.21   \n",
       "6   AGO  1049950.0  1131217.0  -81267.0             8014.89   \n",
       "7  SEPT  1279200.0   833882.0  445318.0             9269.57   \n",
       "8   OCT  1327450.0  1182500.0  144950.0             8619.81   \n",
       "\n",
       "   EGRESOS POR SOCIO  SALDO POR SOCIO  \n",
       "0            5230.10           327.18  \n",
       "1            5445.45           372.73  \n",
       "2            5956.72           619.20  \n",
       "3            6817.26           822.26  \n",
       "4            5960.74           444.07  \n",
       "5            3903.51          4248.70  \n",
       "6            8635.24          -620.36  \n",
       "7            6042.62          3226.94  \n",
       "8            7678.57           941.23  "
      ]
     },
     "execution_count": 111,
     "metadata": {},
     "output_type": "execute_result"
    }
   ],
   "source": [
    "ingresos_egresos_v['INGRESOS POR SOCIO'] = round(ingresos_egresos_v['INGRESOS']/socios_por_mes_tot['SOCIOS_VOL'], 2)\n",
    "ingresos_egresos_v['EGRESOS POR SOCIO'] = round(ingresos_egresos_v['EGRESOS']/socios_por_mes_tot['SOCIOS_VOL'], 2)\n",
    "ingresos_egresos_v['SALDO POR SOCIO'] = round(ingresos_egresos_v['SALDO']/socios_por_mes_tot['SOCIOS_VOL'], 2)\n",
    "ingresos_egresos_v"
   ]
  },
  {
   "cell_type": "markdown",
   "metadata": {},
   "source": [
    "Conclusion: \n",
    "\n",
    "Solo en el mes de agosto hubo un saldo negativo por socio de $ 620, el resto de los meses hubo un saldo positivo. \n",
    "\n",
    "- El saldo anual total es de: 1413644.0\n",
    "\n",
    "- El saldo anual por socio es de: 11290.12"
   ]
  },
  {
   "cell_type": "markdown",
   "metadata": {},
   "source": [
    "# Pickle"
   ]
  },
  {
   "cell_type": "code",
   "execution_count": 113,
   "metadata": {},
   "outputs": [],
   "source": [
    "# Ruta a la carpeta PICKLES (ajusta la ruta si es necesario)\n",
    "ruta_pickles = os.path.join(\"..\", \"PICKLES\")\n",
    "\n",
    "# Asegurarse de que la carpeta PICKLES existe\n",
    "if not os.path.exists(ruta_pickles):\n",
    "    os.makedirs(ruta_pickles)"
   ]
  },
  {
   "cell_type": "code",
   "execution_count": null,
   "metadata": {},
   "outputs": [],
   "source": [
    "# Ruta completa al archivo pickle\n",
    "ruta_completa = os.path.join(ruta_pickles, \"ingresos_egresos_h.pkl\")\n",
    "ingresos_egresos_h.to_pickle(ruta_completa)\n",
    "ruta_completa = os.path.join(ruta_pickles, \"ingresos_egresos_v.pkl\")\n",
    "ingresos_egresos_v.to_pickle(ruta_completa)"
   ]
  },
  {
   "cell_type": "code",
   "execution_count": 114,
   "metadata": {},
   "outputs": [],
   "source": [
    "# Ruta completa al archivo pickle\n",
    "ruta_completa = os.path.join(ruta_pickles, \"ingresos_reales.pkl\")\n",
    "ingresos_reales.to_pickle(ruta_completa)"
   ]
  },
  {
   "cell_type": "code",
   "execution_count": 115,
   "metadata": {},
   "outputs": [],
   "source": [
    "# Ruta completa al archivo pickle\n",
    "ruta_completa = os.path.join(ruta_pickles, \"egresos_h.pkl\")\n",
    "egresos_reales.to_pickle(ruta_completa)"
   ]
  },
  {
   "cell_type": "code",
   "execution_count": 116,
   "metadata": {},
   "outputs": [],
   "source": [
    "# Ruta completa al archivo pickle\n",
    "ruta_completa = os.path.join(ruta_pickles, \"becas.pkl\")\n",
    "becas.to_pickle(ruta_completa)"
   ]
  },
  {
   "cell_type": "code",
   "execution_count": 117,
   "metadata": {},
   "outputs": [],
   "source": [
    "# Ruta completa al archivo pickle\n",
    "ruta_completa = os.path.join(ruta_pickles, \"egresos_v.pkl\")\n",
    "egresos_reales_v.to_pickle(ruta_completa)"
   ]
  },
  {
   "cell_type": "code",
   "execution_count": 118,
   "metadata": {},
   "outputs": [],
   "source": [
    "# Ruta completa al archivo pickle\n",
    "ruta_completa = os.path.join(ruta_pickles, \"ingresos_v.pkl\")\n",
    "ingresos_v.to_pickle(ruta_completa) "
   ]
  },
  {
   "cell_type": "code",
   "execution_count": null,
   "metadata": {},
   "outputs": [],
   "source": [
    "# Ruta completa al archivo pickle\n",
    "ruta_completa = os.path.join(ruta_pickles, \"becados_hand.pkl\")\n",
    "becados_hand.to_pickle(ruta_completa)"
   ]
  },
  {
   "cell_type": "code",
   "execution_count": 131,
   "metadata": {},
   "outputs": [],
   "source": [
    "ruta_completa = os.path.join(ruta_pickles, \"becados_voley.pkl\")\n",
    "becados_voley.to_pickle(ruta_completa) "
   ]
  },
  {
   "cell_type": "code",
   "execution_count": 132,
   "metadata": {},
   "outputs": [],
   "source": [
    "ruta_completa = os.path.join(ruta_pickles, \"costo_total_becas.pkl\")\n",
    "costo_total_becas.to_pickle(ruta_completa) "
   ]
  }
 ],
 "metadata": {
  "kernelspec": {
   "display_name": "data_analisis_env",
   "language": "python",
   "name": "python3"
  },
  "language_info": {
   "codemirror_mode": {
    "name": "ipython",
    "version": 3
   },
   "file_extension": ".py",
   "mimetype": "text/x-python",
   "name": "python",
   "nbconvert_exporter": "python",
   "pygments_lexer": "ipython3",
   "version": "3.10.15"
  }
 },
 "nbformat": 4,
 "nbformat_minor": 2
}
