{
 "cells": [
  {
   "cell_type": "markdown",
   "metadata": {},
   "source": [
    "# <p style=\"text-align: center\"> 📊 Análisis Exploratorio de Datos Financieros y de Membresía del Club de Handball Rio Negro 🏐 </p>"
   ]
  },
  {
   "cell_type": "markdown",
   "metadata": {},
   "source": [
    "<p style=\"text-align: right\">Maria Emilia Tartaglia - Nov. 2024.</p>"
   ]
  },
  {
   "cell_type": "markdown",
   "metadata": {},
   "source": [
    "-----------\n",
    "## 🎯 **Objetivo del Proyecto**\n",
    "En este proyecto se me encomendó realizar un análisis exhaustivo sobre el Club de Handball Rio Negro.\n",
    "El Club de Handball Rio Negro, fundado en 2023, es una organización deportiva amateur autogestionada que enfrenta desafíos financieros debido a su corta trayectoria y su modelo de ingresos limitado. Este análisis busca evaluar su situación financiera y proponer estrategias para garantizar su sostenibilidad a largo plazo.\n",
    "\n",
    "--------------\n",
    "\n",
    "## 💡 **Hipótesis del Proyecto**\n",
    "### 🔹Hipótesis Principal: \n",
    "- **Sostenibilidad financiera**: Debido a la dependencia casi exclusiva de las cuotas de los socios, se plantea que la actual estructura de ingresos y egresos no es suficiente para garantizar la viabilidad financiera del club a largo plazo. Sin una optimización de los gastos o nuevas fuentes de ingresos, el club podría enfrentar graves dificultades económicas.\n",
    "\n",
    "### 🔹Hipótesis Secundarias:\n",
    "\n",
    "- **Estacionalidad en la Rotación de Socios**: Se anticipa que las tasas de inscripción y baja de socios fluctúan a lo largo del año, especialmente en relación con las vacaciones y el cierre de temporada.\n",
    "- **Compromiso Financiero por Segmento**: Evaluar la tasa de pagos completos y deudas por categoría. \n",
    "- **Distribución de Gastos y Oportunidades de Optimización**: Los salarios representan la mayor parte de los gastos totales, y la optimización en otras categorías, como materiales y locación, podría mejorar la salud financiera del club.\n",
    "\n",
    "-----------\n",
    "\n",
    "## 📊 **Obtención de Datos y Preparación**\n",
    "Se emplearon cuatro datasets internos del club que cubren aspectos financieros y de membresía:\n",
    "- **Listado de Afiliados**: Información básica de miembros activos como edad, género y categoría.\n",
    "- **Listado de Jugadores Becados**: Detalles sobre becas parciales o totales otorgadas.\n",
    "- **Registro de Pagos de Cuotas**: Datos sobre pagos mensuales y saldos pendientes por categoría.\n",
    "- **Planilla de Ingresos y Egresos Diarios**: Información sobre las transacciones del club desde febrero hasta octubre.\n",
    "\n",
    "Estos datasets fueron limpiados y transformados utilizando bibliotecas en Python como Pandas, y se realizaron visualizaciones con Matplotlib, Plotly y Seaborn para facilitar el análisis.\n",
    "\n",
    "----------\n",
    "\n",
    "## 🏛️ Estructura del Club\n",
    "**En el club se practican dos disciplinas**:\n",
    "\n",
    "🏆 **Handball**\n",
    "La sección de Handball cuenta con 10 categorías:\n",
    "- **Mini**: categoría mixta con niños de 7 a 10 años de edad.\n",
    "- **Infantiles**: categoría mixta con niños de 11 y 12 años de edad.\n",
    "- **Menores damas y menores caballeros**: de 13 y 14 años de edad.\n",
    "- **Cadetes damas y cadetes caballeros**: de 15 y 16 años de edad.\n",
    "- **Juveniles damas y juveniles caballeros**: de 17 y 18 años de edad.\n",
    "- **Mayores damas y mayores caballeros**: de 19 años en adelante.\n",
    " \n",
    "🏐 **Vóley**\n",
    "La sección de Vóley consta de 13 categorías:\n",
    "- **Recreativo**: categoría mixta no competitiva, con niños de 6 a 9 años.\n",
    "- **Mini**: categoría mixta con niños de 8 a 11 años.\n",
    "- **Sub12**: categoría mixta con niños de hasta 12 años.\n",
    "- **Sub14 damas y Sub14 caballeros**.\n",
    "- **Sub16 damas y Sub16 caballeros**.\n",
    "- **Sub18 damas y Sub18 caballeros**.\n",
    "- **Sub19 damas y Sub19 caballeros**.\n",
    "- **Primera damas y Primera caballeros**.\n",
    "\n",
    "-----------\n",
    "\n",
    "## 📉 **Análisis Financiero**\n",
    "#### 📊 *Ajustes por Inflación*\n",
    "Antes de comenzar, es dable acalrar que para analizar la sostenibilidad de los ingresos, se incorporaron ajustes a las cuotas debido a la inflación del país. La cuota mensual tuvo tres valores durante el año:\n",
    "- **Febrero**: $7200 (Handball), $6200 (Vóley)\n",
    "- **Mayo**: $8700 (Handball, incremento de 20.83%) y $7500 (Vóley, incremento de 20.97%)\n",
    "- **Septiembre**: $11500 (Handball, incremento de 32.18%) y $10500 (Vóley, incremento de 40%)\n",
    "Estos valores se aplicaron para calcular el monto ajustado de ingresos y egresos netos, y evitar conclusiones erróneas.\n",
    "\n",
    "#### 📊*Ingresos y Egresos Mensuales*\n",
    "Se comienza con el análisis de ingresos y egresos mensuales. Para ello, he utilizado diversos CSV con los detalles de las transacciones del club desde febrero hasta octubre. Una vez limpios los datos, preparo el DataFrame a utilizar para las visualizacion. Asi, se realizan algunos calculos para obtener columnas de 'Ingresos', 'Egresos', 'Saldo', 'Saldo acumulado'. Con los ceoficientes de inflación mencionados, se agregan las mismas columnas, pero con los datos ajustados. \n",
    "\n",
    "- **Scatter de Ingresos vs. Egresos y Saldo acumulado**: \n",
    "    - *Handball*: En general los ingresos superan a los egresos en la mayor parte de los meses, y son muy parejos, con algunas diferencias en los meses de abril en donde los ingresos superan en un 18.5%. En febrero y en junio donde los egresos superan muy ligeramente (5%), y es exactamente a la inversa en julio. En septiembre y octubre hay una diferencia un poco mayor, lo que hace que el saldo acumulado hacia fin de año sea mayor.\n",
    "    - *Vóley*: Los ingresos aumentan de a poco en el primer trimestre, comienzan a bajar un poco en mayo y junio para volver a subir de cara a fin de año. Los egresos siguen en general la misma linea que los ingresos, salvo en julio que han tenido un pico pronunciado de baja en julio, y han superado ligeramente en el mes de agosto (7.18%), que luego es revertido en octubre donde los ingresos superan a los gastos (11%)."
   ]
  },
  {
   "cell_type": "markdown",
   "metadata": {},
   "source": [
    "![Grafica de Ingresos, Egresos y Saldo real Handball](../results/2H.png)"
   ]
  },
  {
   "cell_type": "markdown",
   "metadata": {},
   "source": [
    "![DataFrame de Ingresos, Egresos y Saldo real Voley](../.results/2V.png)"
   ]
  },
  {
   "cell_type": "markdown",
   "metadata": {},
   "source": [
    "- **Scatter de Ingresos y Egresos Ajustados**: \n",
    "    - *Handball*: \n",
    "        - Comparamos los ingresos y egresos netos con los valores reales. En lineas generales, ambos crecen muy paulatinamente y a la par, con algunas diferencias en meses particulares, que luego vuelven a acomodarse hacia fin del año\n",
    "        - Cerramos el año con un aumento del 40.36% para los ingresos y de 23.85% para los egresos. \n",
    "        \n",
    "![Grafica de Ingresos, Egresos y Saldo real Vóley](../.results/3H.png) \n"
   ]
  },
  {
   "cell_type": "markdown",
   "metadata": {},
   "source": [
    "![Grafica de Ingresos, Egresos y Saldo real Vóley](../.img/Ingr_Egr_Sal_h.png)"
   ]
  },
  {
   "cell_type": "markdown",
   "metadata": {},
   "source": [
    "- *Vóley*: \n",
    "    - Al graficar con y sin inflación, se observa que los ingresos netos tuvieron un pico en abril, tienden a bajar en la el segundo tercio del año y vuelven a subir en el tercer tramo. \n",
    "    - Los egresos siguen esta misma linea, aunque en el mes de julio tienen una baja significativa (un 52% menos), que luego hace \"efecto rebote\" en agosto (superando a los ingresos en un 10%, probablemente debido a la acumulación de pagos o un aumento inesperado en los costos). En septiembre vuelven a ser un 35% menos que los ingresos y en octubre vuelven a acercarse a los ingresos, sin superarlos.  \n",
    "    - Sin perjuicio de ello, a diferencia entre ingresos y egresos acumulados proporciona un saldo que se incrementa hacia finales de año, ofreciendo un margen de seguridad.\n",
    "    - Como resumen del balance anual, podemos decir que los ingresos netos han aumentado de febrero a octubre en un 28% aproximadamente, y los gastos un 31.7%.\n",
    "\n",
    "![Grafica de Ingresos, Egresos y Saldo real Vóley](../.results/3V.png) "
   ]
  },
  {
   "cell_type": "markdown",
   "metadata": {},
   "source": [
    "![Grafica de Ingresos, Egresos y Saldo real Vóley](../.img/Ingr_Egr_Sal_v.png)"
   ]
  },
  {
   "cell_type": "markdown",
   "metadata": {},
   "source": [
    "#### 📊*Análisis de Gastos*\n",
    "Se utilizó un mapa de calor para identificar los patrones de gasto mensual, divididos en cuatro rubros:\n",
    "1.\t**Locación**: El gasto es bajo debido a los acuerdos para el uso de canchas.\n",
    "2.\t**Materiales**: En Handball, los gastos en materiales fueron significativos al inicio de año, con otra compra importante en junio.\n",
    "3.\t**Seguros**: se pagan 3 seguros, uno de socorro ambulatorio (AMPAT), otro para accidentes personales (AP) y otro de responsabilidad civil contra terceros (RC). Se recogen todos bajo el mismo rubro para una mayor simplificación.\n",
    "4.\t**Salarios**: Representan el mayor gasto, alrededor de un 80%. El pago de salarios es a profesores (la mayor parte), coordinación y administración y contaduría.\n",
    "\n",
    "- *Handball*: \n",
    "    - Locación: son gastos de poco importe, mas que nada de operativa, ya que no paga alquiler de canchas, sino que los espacios son cedidos por escuelas publicas de la ciudad. \n",
    "    - Materiales: se han hecho dos gastos extraordinarios, en febrero y junio, lo cual tiene sentido por ser inicio y mitad de año. De un modo comparativo, se puede ver que en febrero se ha gastado casi lo mismo en materiales que en salarios, que es el gasto mayor que hay por mes. El resto de los meses casi no hubo gastos significativos en este rubro, excepto en junio que se volvió a hacer una gran compra.\n",
    "    - Seguros: los gastos en este rubro son casi nulos, con algún que otro gasto a inicio de año y otro a mitad de año.\n",
    "    - Salarios: es donde más dinero de gasta, y se puede ver una ligera tendencia de aumento hacia fin de año, lo cual tiene mucho sentido, ya que este mapa refleja valores reales, no ajustados a la inflación.  \n",
    "    \n",
    "![Mapa de calor analizando gastos para Handball](../.results/4H_Calor_gastos.png)\n"
   ]
  },
  {
   "cell_type": "markdown",
   "metadata": {},
   "source": [
    "- *Vóley*: \n",
    "     - Locación: Se paga una pequeña cuota de alquiler, aunque no todos los meses. En general se mantiene durante todo el año en los gastos más bajos.\n",
    "    - Materiales: No han habido gastos significativos. \n",
    "     - Seguros: No son gastos significativos, pero se paga casi todos los meses. \n",
    "    - Salarios: es donde mayor dinero se gasta. Sin perjuicio de ello, se advierte una gran inconsistencia en los montos: algunos meses se gasta mucho dinero, y al mes siguiente una cantidad significativamente menor. Se debe investigar un poco más los motivos de ello para sacar conclusiones al respecto.  \n",
    "\n",
    "![Mapa de calor analizando gastos para voley](../.results/4V_Calor_gastos.png)\n",
    "\n",
    "\n",
    "El análisis general indica que los gastos en materiales y salarios varían, lo cual plantea la necesidad de una evaluación más detallada en conjunto con las autoridades del club y la administración, para entender las razones detrás de estas variaciones y buscar estrategias para que haya consistencia y previsibilidad. "
   ]
  },
  {
   "cell_type": "markdown",
   "metadata": {},
   "source": [
    "#### 💰 *Análisis de Ingresos*\n",
    "Se utilizó un mapa de calor para identificar los patrones de ingresos mensuales, divididos por categoría (sin distinción entre femenino y masculino, si lo hubiera).:\n",
    "- *Handball*: \n",
    "    - En el mes de febrero fueron pocos, a comparación al resto de los meses. \n",
    "    - Los ingresos en general van aumentando paulatinamente a medida que avanzamos en el año. \n",
    "    - Claramente Mayores y Menores son los que hacen mayores aportes, y se ve una tendencia de aumento de ingresos hacia fin de año.\n",
    "\n",
    "![Mapa de calor analizando ingresos para Handball](../.results/6H_Calor_ingresos.png)"
   ]
  },
  {
   "cell_type": "markdown",
   "metadata": {},
   "source": [
    "- *Vóley*: \n",
    "    - Se puede observar claramente que las categorías con más ingresos son Sub16, Sub18 y Primera. \n",
    "    - Recreativo tiene ingresos casi nulos, pero hay que tener en cuenta que, al entrenar con la categoría mini, no tiene gastos de profesores. \n",
    "    - No se ve una tendencia tan clara por periodos, sino más bien por categorías (a medida que aumenta la edad, más ingresos hay).\n",
    "\n",
    "![Mapa de calor analizando ingresos para Handball](../.results/6V_Calor_ingresos.png)"
   ]
  },
  {
   "cell_type": "markdown",
   "metadata": {},
   "source": [
    "#### 📅 *Distribución de Jugadores por Categoría a lo Largo del Año*:\n",
    "Para visualizar la distribución de jugadores por categoría a lo largo del año, se ha utilizado un gráfico de tipo 'donut'. En este gráfico, el 100% representa el total de jugadores de todas las categorías del club. A partir de ahí, se ha calculado la proporción de jugadores de cada categoría en relación con el total, lo que permite observar la participación de cada categoría dentro del conjunto total del club.\n",
    "\n",
    "Es importante tener en cuenta la distribución de los jugadores en las categorías, a la hora de comparar los gastos por cada una de ellas.\n",
    "\n",
    "Handball:\n",
    "\n",
    "![Donut con media de jugadores por categoria anual](../.results\\Jugadores_por_cat_media.png)\n",
    "\n",
    "Voley: \n",
    "\n",
    "![Donut con media de jugadores por categoria anual](../.results\\Jugadores_por_cat_media_v.png)\n",
    "\n",
    "-------------------"
   ]
  },
  {
   "cell_type": "markdown",
   "metadata": {},
   "source": [
    "#### 💰 *Análisis de Costos por Socio*\n",
    "Se calculó la media anual del gasto por socio en cada rubro para ambos deportes. \n",
    "\n",
    "A partir de los datos del CSV de gastos, se realizó un cálculo aproximado de los gastos mensuales, descontando previamente los coeficientes de inflación mencionados anteriormente. Con la nueva columna de 'egresos sin inflación', agrupé los gastos por categoría. Luego, se dividió el total obtenido entre el número de socios de cada mes para calcular la media anual del gasto por socio.\n",
    "\n",
    "Una vez calculada la media de gasto por socio en salarios, localización, seguros y materiales, se graficaron los porcentajes de cada uno de estos rubros dentro de la cuota social. En el gráfico donut, el 100% corresponde al monto total de la cuota. Se advierte a primera vista que el mayor gasto es en Salarios (aproximadamente un 62% de la cuota social). Los cuatro rubros mencionados son los componentes de la cuota, mientras que el resto representa la ganancia para el club, la cual se refleja en el saldo acumulado mes a mes, que ya se había analizado previamente.\n",
    "\n",
    "Los resultados revelan que el porcentaje de ganancia oscila entre el 9% y el 11% del valor total de la cuota.\n",
    "\n",
    "Handball:\n",
    "\n",
    "![Donut con coste de cuota Handball](../.results\\Coste_cuota_h.png)\n",
    "\n",
    "Voley: \n",
    "\n",
    "![Donut con coste de cuota Voley](../.results\\Coste_cuota_v.png)"
   ]
  },
  {
   "cell_type": "markdown",
   "metadata": {},
   "source": [
    "#### 💰 *Análisis de Ingresos por rubro*\n",
    "Se calculan a partir del CSV de ingresos mensuales, evaluando el total de ingresos por categoría. Se grafican los resultados en un donut, que permite identificar rápidamente cuál es la categoría que aporta más al total. Aunque ya habíamos observado las categorías con mayores aportes en el heatmap, este gráfico permite un análisis más detallado sobre la contribución de cada categoría al total de la recaudación. Dado que los ingresos del club provienen casi en su totalidad de las cuotas sociales, el gráfico donut refleja este comportamiento.\n",
    "\n",
    "- *Handball*: Los ingresos provienen principalmente de las cuotas sociales, representando el 95.83% de los ingresos anuales. Sin embargo, hay un   4.17% de ingresos extra que no provienen de las cuotas sociales, sino de otras fuentes como patrocinadores, dinero recaudado de eventos organizados por el club y ahorros. \n",
    "\n",
    "![Donut con ingresos 2024 Handball](../.results\\9H.png)\n",
    "\n",
    "- Al analizar estos ingresos, se observó que la mitad de ellos provienen de \"Eventos\". \n",
    "\n",
    "![Donut con ingresos 2024 Handball](../.results\\Otros_ingresos.png)\n",
    "    \n",
    "🎉En particular, se destaca un evento realizado en octubre, del cual se recaudaron $209000. Este monto es significativo, ya que es casi equivalente a los ingresos de las categorías de Mini, Mayores y Cadetes. Gracias a esta recaudación, la brecha entre ingresos y egresos en octubre fue considerable. Se puede hacer un cálculo estimado para determinar cuántos eventos similares serían necesarios al año para evaluar si el esfuerzo vale la pena. De antemano, podemos decir que sí.\n",
    "- El club se esfuerza por permitir que jugadores con dificultades económicas sigan participando en el equipo, incluso si no pueden cubrir el costo de la cuota social. Por ello, se realizó el siguiente análisis para calcular cuántos jugadores podrían ser becados con los fondos generados por un evento de este tipo. \n",
    "\n",
    "🏅 El análisis muestra que, con los 209000 recaudados, se podrían becar 9 jugadores al 100% durante un mes, o bien 1 jugador al 100% durante todo el año.\n",
    "Este análisis está representado en un gráfico donut, que representa un monto de 209000 como total, que hoy podria costear el 38.8% de jugadores becados actualmente, mas un 58.1% de nuevos jugadores, con un leve sobrante de un 3%. O lo que es lo mismo: \n",
    "\n",
    "- 6 jugadores becados al 100% representan 81000 (13500 cada uno).   \n",
    "    \n",
    "- Restando esos 81000 de los 209000, obtenemos el valor restante para calcular cuántos jugadores más podrían ser becados hasta cubrir el total.\n",
    "     \n",
    "![Donut con ingresos 2024 Handball](../.results\\11H.png)"
   ]
  },
  {
   "cell_type": "markdown",
   "metadata": {},
   "source": [
    "- *Vóley*: se puede observar que los ingresos por categoría son bastante equilibrados, a diferencia de lo que ocurre en Handball, donde existe una gran disparidad en los ingresos, y la mayoría provienen de la categoría de Primera (Mayores). Como se había mencionado en el heatmap, los ingresos de la categoría Recreativo son prácticamente nulos. Además, se detecta un porcentaje mínimo (0.2%) bajo el concepto \"Devolución\", que resulta ser insignificante, por lo que se descarta el análisis de este rubro. En conclusión, los ingresos de Vóley provienen casi en su totalidad de las cuotas sociales.\n",
    "\n",
    "![Donut con ingresos 2024 Handball](../.results\\9V.png)\n",
    "\n",
    "---------------\n",
    "\n",
    "\n",
    "#### **Conclusión del Análisis Financiero**:\n",
    "En resumen, aunque el club ha experimentado una tendencia creciente en los ingresos, los gastos continúan siendo elevados, especialmente en salarios. La variabilidad en los egresos y los ingresos mensuales, especialmente en las categorías de Vóley, sugiere que existe una falta de previsibilidad en los gastos operativos. Además, los ingresos no crecen al mismo ritmo que los gastos, lo que pone en evidencia la necesidad urgente de optimizar recursos y explorar nuevas fuentes de financiamiento, como la búsqueda de patrocinadores o la organización de eventos. \n",
    "\n",
    "-------------"
   ]
  },
  {
   "cell_type": "markdown",
   "metadata": {},
   "source": [
    "## 📅 *Análisis de Rotación de Socios y Estacionalidad*\n",
    "En este análisis se asume que existe una estacionalidad en la incorporación y deserción de socios, lo que significa que ciertos meses del año (por ejemplo, después de períodos vacacionales) pueden mostrar un aumento en las inscripciones, mientras que otros (fin de temporada o año) pueden reflejar un incremento en las bajas. Identificar estos períodos es clave para anticipar fluctuaciones en los ingresos y planificar estratégicamente la captación y retención de socios.\n",
    "\n",
    "A través del análisis de los registros de pago, se observó una baja general de socios en junio, julio y/o agosto, coincidiendo con el receso vacacional. Sin embargo, el índice de retención se mantuvo alto. \n",
    "- Para realizar este análisis, se utilizaron los registros de pago de las categorías de Vóley y Handball, los cuales incluyen información detallada sobre el mes de ingreso de los jugadores (primer mes de pago), si algún jugador se ausenta por lesión, deja de entrenar, se da de baja, o si no paga debido a que está becado.\n",
    "- Con esta información, se creó un DataFrame que incluye columnas de ingresos, egresos, permanencias, y los porcentajes correspondientes de cada uno de estos aspectos mes a mes. Además, se calculó el total de socios por mes y por categoría.\n",
    "- Para visualizar estos datos, se optó por un gráfico de barras apiladas, que muestra los valores nominales de ingresos, egresos y permanencias, acompañado de un scatter plot con línea para observar la tendencia total mes a mes por categoría.\n",
    "- *Handball*: \n",
    "    - El patrón observado tiene con una tendencia clara de alza en el número de socios desde febrero hasta junio (o julio, en el caso de infantiles), seguido de una leve caída, y un nuevo ascenso hacia fin de año.\n",
    "    - Egros en julio: En la mayoría de las categorías, los egresos alcanzan su pico en julio, coincidiendo con las vacaciones, pero en agosto los ingresos vuelven a aumentar.\n",
    "    - Permanencia: El color predominante en el gráfico es el amarillo claro, que representa la permanencia, lo que indica que la rotación es bastante baja. Se observa que el mes con menor permanencia es julio, pero rápidamente se recupera hacia casi el 100% en el mes siguiente, lo que refleja una sólida retención de socios.\n",
    "\n",
    "![Barras apiladas](../.results\\15H.png)\n",
    "\n",
    "- *Vóley*:\n",
    "    - Recreativo: Esta categoría muestra un patrón de ingresos nulo hasta el mes de julio, con una rotación importante de jugadores en septiembre. Debido a que los ingresos solo se registran en el 45% de los meses, su contribución a los ingresos anuales del club es limitada.\n",
    "    - Mini: Presenta una alta tasa de permanencia. En los meses con egresos, generalmente los nuevos ingresos igualan o superan las bajas, lo que demuestra una rotación positiva.- Sub12: La permanencia en esta categoría se mantiene bastante estable a lo largo del año, con pocos egresos importantes. A fin de año, se observan aumentos significativos en los ingresos, lo que es un indicio positivo.\n",
    "    - Sub14: A pesar de una buena permanencia general, se observan altos niveles de egresos en 2/3 de los meses. En particular, en el mes de octubre hay una gran cantidad de egresos sin nuevos ingresos, lo que provoca una caída en el total de socios.\n",
    "    - Otras categorías: Aunque presentan egresos en todos los meses, el patrón es similar al de Sub14, pero con un aumento hacia fin de año, principalmente en los meses de junio, julio y agosto.\n",
    "    - Permanencia: predomina el color amarillo claro, que representa este rubro, por lo que se advierte una gran capacidad de retención de socios.\n",
    "    \n",
    "\n",
    "![Barras apiladas](../.results\\15V.png)\n",
    "\n",
    "-------------------"
   ]
  },
  {
   "cell_type": "markdown",
   "metadata": {},
   "source": [
    "#### 💳 *Análisis de Compromiso Financiero*: Comportamiento de Pago por Categoría y Segmento\n",
    "El análisis de los pagos y el comportamiento financiero de los socios es fundamental para entender cómo se distribuyen los ingresos y cómo los diferentes segmentos responden al cumplimiento de sus obligaciones económicas. Para ello, se evaluó la tasa de pagos completos y los saldos pendientes por categoría, lo que permite realizar una comparativa del compromiso financiero de cada grupo de socios. Se grafica primero con gráfico de barras las deudas por categoría, y luego con la misma herramienta el Compromiso Financiero (a través de la media anual) de cata categoría. \n",
    "- *Handball*: \n",
    "    - En primer lugar, se graficaron las deudas por categoría, observándose que la mayoría de los segmentos presentan un porcentaje bajo de deuda. Sin embargo, la categoría Mayores destaca con una deuda considerable al finalizar el año. Este hallazgo sugiere la necesidad de revisar las estrategias actuales para regularizar estos pagos y encontrar métodos efectivos para reducir y controlar el porcentaje de deuda, evitando su acumulación en el futuro.\n",
    "\n",
    "![Donut con ingresos 2024 Handball](../.results\\16H.png)\n",
    "\n",
    "- A pesar de la deuda presente en algunas categorías, al analizar los pagos a lo largo del año, se observa un comportamiento positivo en términos de compromiso financiero. \n",
    "- A través de un gráfico de barras se visualiza que la tasa de compromiso supera el 85% en todas las categorías. Este indicador se calculó utilizando valores enteros (1 para pago completo, 0 para no pago, y decimales para pagos parciales), los cuales luego fueron promediados mes a mes y agrupados por categoría, obteniendo así una tasa promedio de cumplimiento de pagos.\n",
    "\n",
    "![Donut con ingresos 2024 Handball](../.results\\17H.png)\n",
    "\n",
    "- *Vóley*:\n",
    "    - Se identificó que, al igual que en Handball, la categoría Primera (Mayores) presenta la mayor deuda. \n",
    "    - La categoría Sub12 muestra una deuda medianamente significativa. Este patrón puede analizarse más a fondo mediante el cálculo del compromiso financiero, lo que permitirá encontrar formas de mejorar el cumplimiento de pago en estas categorías con deudas más altas.\n",
    "\n",
    "![Donut con ingresos 2024 Handball](../.results\\16V.png)\n",
    "\n",
    "- Ahora bien, al observar el gráfico de barras de Compromiso Financiero, se destaca que la mayoría de las categorías presentan un alto compromiso. La categoría Mini muestra un compromiso del 100%, correlacionándose con la ausencia de deuda. Por otro lado, la Sub14 presenta un compromiso cercano al 98%, lo que refleja un comportamiento financiero saludable y un control adecuado de los pagos. La categoría Recreativo, aunque muestra un compromiso considerable del 75%, aún requiere atención para mejorar su cumplimiento de pagos.\n",
    "\n",
    "![Donut con ingresos 2024 Handball](../.results\\17V.png)"
   ]
  },
  {
   "cell_type": "markdown",
   "metadata": {},
   "source": [
    "--------\n",
    "\n",
    "## ✅ **Conclusiones y Recomendaciones**\n",
    "\n",
    "🔹 *Dependencia de Cuotas*: Este análisis revela que, aunque el Club de Handball Rio Negro ha mostrado un crecimiento en sus ingresos, la dependencia casi exclusiva de las cuotas de los socios, combinada con una estructura de gastos elevada y poco optimizada, pone en riesgo su sostenibilidad financiera. Se recomienda explorar nuevas fuentes de ingresos, como patrocinadores o la diversificación de actividades, y optimizar los gastos, especialmente en el rubro de salarios y materiales. Además, se debe implementar una mejor planificación financiera para evitar las fluctuaciones de ingresos y gastos a lo largo del año. \n",
    "\n",
    "🔹 *Estabilidad de Ingresos y Gastos*: Aunque los ingresos superaron a los egresos en la mayoría de los meses, un análisis a largo plazo sugeriría que las finanzas del club no son sostenibles únicamente con el modelo de cuotas.\n",
    "\n",
    "🔹 *Optimización de Gastos*: Los gastos en salarios representan una parte significativa de los egresos. Evaluar los montos y consistencia de los pagos podría ayudar a reducir costos y mejorar la eficiencia operativa.\n",
    "\n",
    "🔹 *Política de Becas*: Aunque el club fomenta la inclusión, las becas representan un impacto negativo en los ingresos. Se sugiere establecer un límite en la cantidad de becas o gestionar eventos para financiar a los jugadores becados.\n",
    "\n",
    "\n",
    "### 🌱 Futuras Líneas de Acción\n",
    "📈 *Monitoreo Continuo del Compromiso Financiero*: Evaluar la tasa de pagos en intervalos más cortos permitirá realizar ajustes inmediatos en la política de cobros y becas.\n",
    "\n",
    "💡 *Análisis de Nuevas Fuentes de Ingreso*: La realización de eventos ha demostrado ser efectiva; replicar esta estrategia en ambas disciplinas podría incrementar los ingresos.\n",
    "\n",
    "* Este informe concluye que, si bien el club ha logrado mantener un saldo positivo en la mayoría de los meses, la dependencia única en las cuotas de socios podría no ser sostenible a largo plazo sin la incorporación de nuevos ingresos y una optimización en los gastos.*"
   ]
  }
 ],
 "metadata": {
  "kernelspec": {
   "display_name": "data_analisis_env",
   "language": "python",
   "name": "python3"
  },
  "language_info": {
   "codemirror_mode": {
    "name": "ipython",
    "version": 3
   },
   "file_extension": ".py",
   "mimetype": "text/x-python",
   "name": "python",
   "nbconvert_exporter": "python",
   "pygments_lexer": "ipython3",
   "version": "3.10.15"
  }
 },
 "nbformat": 4,
 "nbformat_minor": 2
}
